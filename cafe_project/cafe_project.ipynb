{
 "cells": [
  {
   "cell_type": "markdown",
   "metadata": {},
   "source": [
    "1. [**Введение**](#start)\n",
    "  * [Обзор данных](#review)\n",
    "2. [**Предобработка данных**](#preclean)\n",
    "  * [Дубликаты и пропуски](#duplicated)\n",
    "  * [Аномальные значения](#what)\n",
    "3. [**Анализ рынка заведений общественного питания**](#restaurant)\n",
    "  * [Количество заведений по категориям](#category)\n",
    "  * [Количество посадочных мест по категориям](#seats)\n",
    "  * [Количество сетевых заведений](#chain)\n",
    "  * [Соотношение сетевых и несетевых заведений](#chain_perc)\n",
    "  * [Сети с самым большим количеством точек](#biggest_net)\n",
    "  * [Категории заведений по районам](#district)\n",
    "  * [Средние рейтинги у разных категорий общепита](#rating\") \n",
    "  * [Распределение стреднего рейтинга по районам](#meanrating)\n",
    "  * [Распределение заведений](#cafecluster)\n",
    "  * [Топ-15 улиц по количеству заведений](#top) \n",
    "  * [Распределение среднего чека по районам](#avg) \n",
    "  * [Зависимость среднего чека](#avgcorr) \n",
    "  * [Ценовая категория заведений](#price) \n",
    "  * [Вывод](#so) \n",
    "4. [**Анализ кофейного рынка**](#coffee)\n",
    "  * [Количество круглосуточных кофеен](#24/7) \n",
    "  * [Распределения рейтинга кофеен по районам](#cof_rat) \n",
    "  * [Средняя стоимость чашки кофе и средний чек по районам](#avgcup) \n",
    "  * [Количество сетевых кофеен](#coffeenet) \n",
    "  * [Средняя стоимость чашки кофе и средний чек в сетевых и несетевых кофейнях](#netavg) \n",
    "  * [Распределение среднего чека кофеен по районам](#coffeedistrict) \n",
    "  * [Кофейни с самым высоким средним чеком](#coffeetop) \n",
    "  * [Соотношение посадочных мест](#coffeeseats) \n",
    "  * [Вывод](#soo) \n",
    "5. [**Общий вывод**](#conclution)\n",
    "6. [**Рекомендации**](#recommendations)"
   ]
  },
  {
   "cell_type": "markdown",
   "metadata": {},
   "source": [
    "**1.Введение** <a id=\"start\"></a> "
   ]
  },
  {
   "cell_type": "markdown",
   "metadata": {},
   "source": [
    "Исходные данные: датасет, основанный на данных Яндекс.Карт и Яндекс.Бизнеса.\n",
    "\n",
    "Задачи исследования: проанализировать рынок заведений общественного питания в целом и кофеен в частности, выявить особенности и рекомендации."
   ]
  },
  {
   "cell_type": "markdown",
   "metadata": {},
   "source": [
    "**1.1.Обзор данных** <a id=\"review\"></a> "
   ]
  },
  {
   "cell_type": "code",
   "execution_count": 1,
   "metadata": {},
   "outputs": [],
   "source": [
    "#импортируем все необходимые для работы библиотеки\n",
    "import pandas as pd\n",
    "import seaborn as sns\n",
    "sns.set_style('whitegrid') #задаем стиль для графиков\n",
    "import matplotlib.pyplot as plt\n",
    "plt.style.use('fivethirtyeight') #задаем стиль для графиков\n",
    "plt.rcParams['figure.figsize'] = [15, 10] #и их размер\n",
    "import plotly.express as px\n",
    "from plotly import graph_objects as go\n",
    "import warnings\n",
    "import json\n",
    "import folium\n",
    "\n",
    "\n",
    "warnings.filterwarnings('ignore') #игнорируем ошибки\n",
    "pd.set_option('display.float_format', '{:.2f}'.format) #формат числел с плавающей точкой с двумя знаками после знака"
   ]
  },
  {
   "cell_type": "code",
   "execution_count": 5,
   "metadata": {},
   "outputs": [
    {
     "ename": "FileNotFoundError",
     "evalue": "[Errno 2] No such file or directory: '//datasets//moscow_places.csv'",
     "output_type": "error",
     "traceback": [
      "\u001b[1;31m---------------------------------------------------------------------------\u001b[0m",
      "\u001b[1;31mFileNotFoundError\u001b[0m                         Traceback (most recent call last)",
      "\u001b[1;32m~\\AppData\\Local\\Temp\\ipykernel_18280\\2309535774.py\u001b[0m in \u001b[0;36m<module>\u001b[1;34m\u001b[0m\n\u001b[0;32m      1\u001b[0m \u001b[0mpath\u001b[0m \u001b[1;33m=\u001b[0m \u001b[1;34m'//datasets//'\u001b[0m\u001b[1;33m\u001b[0m\u001b[1;33m\u001b[0m\u001b[0m\n\u001b[1;32m----> 2\u001b[1;33m \u001b[0mdata\u001b[0m \u001b[1;33m=\u001b[0m \u001b[0mpd\u001b[0m\u001b[1;33m.\u001b[0m\u001b[0mread_csv\u001b[0m\u001b[1;33m(\u001b[0m\u001b[0mpath\u001b[0m \u001b[1;33m+\u001b[0m \u001b[1;34m'moscow_places.csv'\u001b[0m\u001b[1;33m)\u001b[0m\u001b[1;33m\u001b[0m\u001b[1;33m\u001b[0m\u001b[0m\n\u001b[0m\u001b[0;32m      3\u001b[0m \u001b[1;33m\u001b[0m\u001b[0m\n\u001b[0;32m      4\u001b[0m \u001b[0mdata\u001b[0m\u001b[1;33m.\u001b[0m\u001b[0minfo\u001b[0m\u001b[1;33m(\u001b[0m\u001b[1;33m)\u001b[0m\u001b[1;33m\u001b[0m\u001b[1;33m\u001b[0m\u001b[0m\n",
      "\u001b[1;32m~\\anaconda3\\lib\\site-packages\\pandas\\util\\_decorators.py\u001b[0m in \u001b[0;36mwrapper\u001b[1;34m(*args, **kwargs)\u001b[0m\n\u001b[0;32m    309\u001b[0m                     \u001b[0mstacklevel\u001b[0m\u001b[1;33m=\u001b[0m\u001b[0mstacklevel\u001b[0m\u001b[1;33m,\u001b[0m\u001b[1;33m\u001b[0m\u001b[1;33m\u001b[0m\u001b[0m\n\u001b[0;32m    310\u001b[0m                 )\n\u001b[1;32m--> 311\u001b[1;33m             \u001b[1;32mreturn\u001b[0m \u001b[0mfunc\u001b[0m\u001b[1;33m(\u001b[0m\u001b[1;33m*\u001b[0m\u001b[0margs\u001b[0m\u001b[1;33m,\u001b[0m \u001b[1;33m**\u001b[0m\u001b[0mkwargs\u001b[0m\u001b[1;33m)\u001b[0m\u001b[1;33m\u001b[0m\u001b[1;33m\u001b[0m\u001b[0m\n\u001b[0m\u001b[0;32m    312\u001b[0m \u001b[1;33m\u001b[0m\u001b[0m\n\u001b[0;32m    313\u001b[0m         \u001b[1;32mreturn\u001b[0m \u001b[0mwrapper\u001b[0m\u001b[1;33m\u001b[0m\u001b[1;33m\u001b[0m\u001b[0m\n",
      "\u001b[1;32m~\\anaconda3\\lib\\site-packages\\pandas\\io\\parsers\\readers.py\u001b[0m in \u001b[0;36mread_csv\u001b[1;34m(filepath_or_buffer, sep, delimiter, header, names, index_col, usecols, squeeze, prefix, mangle_dupe_cols, dtype, engine, converters, true_values, false_values, skipinitialspace, skiprows, skipfooter, nrows, na_values, keep_default_na, na_filter, verbose, skip_blank_lines, parse_dates, infer_datetime_format, keep_date_col, date_parser, dayfirst, cache_dates, iterator, chunksize, compression, thousands, decimal, lineterminator, quotechar, quoting, doublequote, escapechar, comment, encoding, encoding_errors, dialect, error_bad_lines, warn_bad_lines, on_bad_lines, delim_whitespace, low_memory, memory_map, float_precision, storage_options)\u001b[0m\n\u001b[0;32m    676\u001b[0m     \u001b[0mkwds\u001b[0m\u001b[1;33m.\u001b[0m\u001b[0mupdate\u001b[0m\u001b[1;33m(\u001b[0m\u001b[0mkwds_defaults\u001b[0m\u001b[1;33m)\u001b[0m\u001b[1;33m\u001b[0m\u001b[1;33m\u001b[0m\u001b[0m\n\u001b[0;32m    677\u001b[0m \u001b[1;33m\u001b[0m\u001b[0m\n\u001b[1;32m--> 678\u001b[1;33m     \u001b[1;32mreturn\u001b[0m \u001b[0m_read\u001b[0m\u001b[1;33m(\u001b[0m\u001b[0mfilepath_or_buffer\u001b[0m\u001b[1;33m,\u001b[0m \u001b[0mkwds\u001b[0m\u001b[1;33m)\u001b[0m\u001b[1;33m\u001b[0m\u001b[1;33m\u001b[0m\u001b[0m\n\u001b[0m\u001b[0;32m    679\u001b[0m \u001b[1;33m\u001b[0m\u001b[0m\n\u001b[0;32m    680\u001b[0m \u001b[1;33m\u001b[0m\u001b[0m\n",
      "\u001b[1;32m~\\anaconda3\\lib\\site-packages\\pandas\\io\\parsers\\readers.py\u001b[0m in \u001b[0;36m_read\u001b[1;34m(filepath_or_buffer, kwds)\u001b[0m\n\u001b[0;32m    573\u001b[0m \u001b[1;33m\u001b[0m\u001b[0m\n\u001b[0;32m    574\u001b[0m     \u001b[1;31m# Create the parser.\u001b[0m\u001b[1;33m\u001b[0m\u001b[1;33m\u001b[0m\u001b[0m\n\u001b[1;32m--> 575\u001b[1;33m     \u001b[0mparser\u001b[0m \u001b[1;33m=\u001b[0m \u001b[0mTextFileReader\u001b[0m\u001b[1;33m(\u001b[0m\u001b[0mfilepath_or_buffer\u001b[0m\u001b[1;33m,\u001b[0m \u001b[1;33m**\u001b[0m\u001b[0mkwds\u001b[0m\u001b[1;33m)\u001b[0m\u001b[1;33m\u001b[0m\u001b[1;33m\u001b[0m\u001b[0m\n\u001b[0m\u001b[0;32m    576\u001b[0m \u001b[1;33m\u001b[0m\u001b[0m\n\u001b[0;32m    577\u001b[0m     \u001b[1;32mif\u001b[0m \u001b[0mchunksize\u001b[0m \u001b[1;32mor\u001b[0m \u001b[0miterator\u001b[0m\u001b[1;33m:\u001b[0m\u001b[1;33m\u001b[0m\u001b[1;33m\u001b[0m\u001b[0m\n",
      "\u001b[1;32m~\\anaconda3\\lib\\site-packages\\pandas\\io\\parsers\\readers.py\u001b[0m in \u001b[0;36m__init__\u001b[1;34m(self, f, engine, **kwds)\u001b[0m\n\u001b[0;32m    930\u001b[0m \u001b[1;33m\u001b[0m\u001b[0m\n\u001b[0;32m    931\u001b[0m         \u001b[0mself\u001b[0m\u001b[1;33m.\u001b[0m\u001b[0mhandles\u001b[0m\u001b[1;33m:\u001b[0m \u001b[0mIOHandles\u001b[0m \u001b[1;33m|\u001b[0m \u001b[1;32mNone\u001b[0m \u001b[1;33m=\u001b[0m \u001b[1;32mNone\u001b[0m\u001b[1;33m\u001b[0m\u001b[1;33m\u001b[0m\u001b[0m\n\u001b[1;32m--> 932\u001b[1;33m         \u001b[0mself\u001b[0m\u001b[1;33m.\u001b[0m\u001b[0m_engine\u001b[0m \u001b[1;33m=\u001b[0m \u001b[0mself\u001b[0m\u001b[1;33m.\u001b[0m\u001b[0m_make_engine\u001b[0m\u001b[1;33m(\u001b[0m\u001b[0mf\u001b[0m\u001b[1;33m,\u001b[0m \u001b[0mself\u001b[0m\u001b[1;33m.\u001b[0m\u001b[0mengine\u001b[0m\u001b[1;33m)\u001b[0m\u001b[1;33m\u001b[0m\u001b[1;33m\u001b[0m\u001b[0m\n\u001b[0m\u001b[0;32m    933\u001b[0m \u001b[1;33m\u001b[0m\u001b[0m\n\u001b[0;32m    934\u001b[0m     \u001b[1;32mdef\u001b[0m \u001b[0mclose\u001b[0m\u001b[1;33m(\u001b[0m\u001b[0mself\u001b[0m\u001b[1;33m)\u001b[0m\u001b[1;33m:\u001b[0m\u001b[1;33m\u001b[0m\u001b[1;33m\u001b[0m\u001b[0m\n",
      "\u001b[1;32m~\\anaconda3\\lib\\site-packages\\pandas\\io\\parsers\\readers.py\u001b[0m in \u001b[0;36m_make_engine\u001b[1;34m(self, f, engine)\u001b[0m\n\u001b[0;32m   1214\u001b[0m             \u001b[1;31m# \"Union[str, PathLike[str], ReadCsvBuffer[bytes], ReadCsvBuffer[str]]\"\u001b[0m\u001b[1;33m\u001b[0m\u001b[1;33m\u001b[0m\u001b[0m\n\u001b[0;32m   1215\u001b[0m             \u001b[1;31m# , \"str\", \"bool\", \"Any\", \"Any\", \"Any\", \"Any\", \"Any\"\u001b[0m\u001b[1;33m\u001b[0m\u001b[1;33m\u001b[0m\u001b[0m\n\u001b[1;32m-> 1216\u001b[1;33m             self.handles = get_handle(  # type: ignore[call-overload]\n\u001b[0m\u001b[0;32m   1217\u001b[0m                 \u001b[0mf\u001b[0m\u001b[1;33m,\u001b[0m\u001b[1;33m\u001b[0m\u001b[1;33m\u001b[0m\u001b[0m\n\u001b[0;32m   1218\u001b[0m                 \u001b[0mmode\u001b[0m\u001b[1;33m,\u001b[0m\u001b[1;33m\u001b[0m\u001b[1;33m\u001b[0m\u001b[0m\n",
      "\u001b[1;32m~\\anaconda3\\lib\\site-packages\\pandas\\io\\common.py\u001b[0m in \u001b[0;36mget_handle\u001b[1;34m(path_or_buf, mode, encoding, compression, memory_map, is_text, errors, storage_options)\u001b[0m\n\u001b[0;32m    784\u001b[0m         \u001b[1;32mif\u001b[0m \u001b[0mioargs\u001b[0m\u001b[1;33m.\u001b[0m\u001b[0mencoding\u001b[0m \u001b[1;32mand\u001b[0m \u001b[1;34m\"b\"\u001b[0m \u001b[1;32mnot\u001b[0m \u001b[1;32min\u001b[0m \u001b[0mioargs\u001b[0m\u001b[1;33m.\u001b[0m\u001b[0mmode\u001b[0m\u001b[1;33m:\u001b[0m\u001b[1;33m\u001b[0m\u001b[1;33m\u001b[0m\u001b[0m\n\u001b[0;32m    785\u001b[0m             \u001b[1;31m# Encoding\u001b[0m\u001b[1;33m\u001b[0m\u001b[1;33m\u001b[0m\u001b[0m\n\u001b[1;32m--> 786\u001b[1;33m             handle = open(\n\u001b[0m\u001b[0;32m    787\u001b[0m                 \u001b[0mhandle\u001b[0m\u001b[1;33m,\u001b[0m\u001b[1;33m\u001b[0m\u001b[1;33m\u001b[0m\u001b[0m\n\u001b[0;32m    788\u001b[0m                 \u001b[0mioargs\u001b[0m\u001b[1;33m.\u001b[0m\u001b[0mmode\u001b[0m\u001b[1;33m,\u001b[0m\u001b[1;33m\u001b[0m\u001b[1;33m\u001b[0m\u001b[0m\n",
      "\u001b[1;31mFileNotFoundError\u001b[0m: [Errno 2] No such file or directory: '//datasets//moscow_places.csv'"
     ]
    }
   ],
   "source": [
    "path = '//datasets//'\n",
    "data = pd.read_csv(path + 'moscow_places.csv')\n",
    "\n",
    "data.info()"
   ]
  },
  {
   "cell_type": "markdown",
   "metadata": {},
   "source": [
    "В таблице представлены данные о названиях заведений, их категориях, адресах (включая районы), часы работы, географические координаты, рейтинг, средний чек, является ли заведение сетевым и количество посадочных мест."
   ]
  },
  {
   "cell_type": "markdown",
   "metadata": {},
   "source": [
    "**2.Предобработка данных** <a id=\"preclean\"></a> "
   ]
  },
  {
   "cell_type": "markdown",
   "metadata": {},
   "source": [
    "***2.1.Дубликаты и пропуски*** <a id=\"duplicated\"></a> "
   ]
  },
  {
   "cell_type": "code",
   "execution_count": null,
   "metadata": {
    "scrolled": true
   },
   "outputs": [],
   "source": [
    "#начнем с пропусков\n",
    "def nan_barh(data):\n",
    "        (\n",
    "            (data.isna().mean()*100)\n",
    "            .to_frame()\n",
    "            .rename(columns = {0:'null'})\n",
    "            .query('null > 0')\n",
    "            .sort_values(by = 'null', ascending = True)\n",
    "            .plot(kind = 'barh', figsize = (19,6))   \n",
    "        );\n",
    "        \n",
    "nan_barh(data)"
   ]
  },
  {
   "cell_type": "markdown",
   "metadata": {},
   "source": [
    "Больше всего пропусков в столбце со средней стоимостью чашки кофе, что можно объяснить тем, что далеко не во всех заведениях есть кофейные напитки. Пропуски в остальных полях можно объяснить тем, что данные в дадасете из открытых источников или заполняются пользователем, соответственно их могли просто не указать.\n",
    "\n",
    "Пропуски заполнять не будем, оставим как есть."
   ]
  },
  {
   "cell_type": "code",
   "execution_count": null,
   "metadata": {},
   "outputs": [],
   "source": [
    "#проверяем наличие двух одинаковых заведений\n",
    "data.duplicated(['name', 'address']).sum()"
   ]
  },
  {
   "cell_type": "code",
   "execution_count": null,
   "metadata": {
    "scrolled": true
   },
   "outputs": [],
   "source": [
    "#проверяем категории\n",
    "data['category'].unique()"
   ]
  },
  {
   "cell_type": "code",
   "execution_count": null,
   "metadata": {},
   "outputs": [],
   "source": [
    "#проверяем названия округов\n",
    "data['district'].unique()"
   ]
  },
  {
   "cell_type": "code",
   "execution_count": null,
   "metadata": {},
   "outputs": [],
   "source": [
    "#приведем все к нижнему регистру\n",
    "data['name'] = data['name'].str.lower()\n",
    "data['address'] = data['address'].str.lower()"
   ]
  },
  {
   "cell_type": "code",
   "execution_count": null,
   "metadata": {},
   "outputs": [],
   "source": [
    "data[data.duplicated(subset=['name', 'address'])]"
   ]
  },
  {
   "cell_type": "markdown",
   "metadata": {},
   "source": [
    "В данных эти строки помечаются как дубликаты, хотя названия и адреса разные."
   ]
  },
  {
   "cell_type": "code",
   "execution_count": null,
   "metadata": {},
   "outputs": [],
   "source": [
    "data['name']=data['name'].replace({'9 bar coffe':'9 bar coffee', 'arzon':'arzon food','bổ': 'bổ',\n",
    "                                'cafe 13':'cafe13','caffeterria':'caffetteria','cantina city free flow cafe':'cantina city',\n",
    "                                 'cofe fest':'cofefest','coffee in':'coffee inn','corner cafe & kitchen':'corner cafe&kitchen',\n",
    "                                  'dormouse coffee shop':'dormouse', 'drive café':'drive cafe',\n",
    "                                  'fast шашлык':'fastshashlik','festa & тесто':'festa&тесто',\n",
    "                                  'free & со':'free&co','hanoi food&drinks':'hanoi',\n",
    "                                  'i-chef бистро':'i-chef','iq кофе':'iq coffee',\n",
    "                                  \"it's сот - кофейня\":\"it's сот-кофейня\",\n",
    "                                  'jeffrey’s coffeeshop':\"jeffrey's coffeeshop\",'k-town korean bbq':'k-town',\n",
    "                                  'lavaш':'lavash', 'lucky eye. ближневосточной lounge bar':'lucky eye',\n",
    "                                  'main food':'mainfood', 'meat лав':'meatлав', 'яндекс лавка':'яндекс.лавка',\n",
    "                                  'шашлычный двор № 1':'шашлычный дворик № 1','шашлычный двор':'шашлычный дворик',\n",
    "                                  'шашлычный дворик':'шашлычный дворик № 1','шашлыкоff':'шашлыкофф','шашлык house':'шашлык хаус',\n",
    "                                  'чудо печка':'чудо печка','чайхона № 1':'чайхона №1','чайхана-халва':'чайхона халва',\n",
    "                                  'чайхона':'чайхана','хлебо mania':'хлебомания','хлеба&зрелищ пиццерия':'хлеба&зрелищ',\n",
    "                                  'хинкали-gали!':'хинкали-gали','хинкали gали!':'хинкали gали','хинкали - gали!':'хинкали-gали',\n",
    "                                  'хинкали-gали':'хинкали gали','топ chick':'топ чик', 'тбилисо, трактир':'тбилисо'})\n",
    "data['name'] = data['name'].replace('ё', 'е')"
   ]
  },
  {
   "cell_type": "code",
   "execution_count": null,
   "metadata": {},
   "outputs": [],
   "source": [
    "data.name.nunique()"
   ]
  },
  {
   "cell_type": "markdown",
   "metadata": {},
   "source": [
    "В данных огромное количество неявных дубликатов в столбце с названиями, что можно объяснить ручным вводом данных."
   ]
  },
  {
   "cell_type": "markdown",
   "metadata": {},
   "source": [
    "***2.2.Аномальные значения*** <a id=\"what\"></a> "
   ]
  },
  {
   "cell_type": "code",
   "execution_count": 3,
   "metadata": {},
   "outputs": [
    {
     "ename": "NameError",
     "evalue": "name 'data' is not defined",
     "output_type": "error",
     "traceback": [
      "\u001b[1;31m---------------------------------------------------------------------------\u001b[0m",
      "\u001b[1;31mNameError\u001b[0m                                 Traceback (most recent call last)",
      "\u001b[1;32m~\\AppData\\Local\\Temp\\ipykernel_18280\\1963949215.py\u001b[0m in \u001b[0;36m<module>\u001b[1;34m\u001b[0m\n\u001b[0;32m      1\u001b[0m \u001b[1;31m#смотрим есть ли аномалии в рейтингах\u001b[0m\u001b[1;33m\u001b[0m\u001b[1;33m\u001b[0m\u001b[0m\n\u001b[1;32m----> 2\u001b[1;33m \u001b[0mdata\u001b[0m\u001b[1;33m[\u001b[0m\u001b[1;34m'rating'\u001b[0m\u001b[1;33m]\u001b[0m\u001b[1;33m.\u001b[0m\u001b[0mdescribe\u001b[0m\u001b[1;33m(\u001b[0m\u001b[1;33m)\u001b[0m\u001b[1;33m\u001b[0m\u001b[1;33m\u001b[0m\u001b[0m\n\u001b[0m\u001b[0;32m      3\u001b[0m \u001b[1;33m\u001b[0m\u001b[0m\n\u001b[0;32m      4\u001b[0m \u001b[0msns\u001b[0m\u001b[1;33m.\u001b[0m\u001b[0mboxplot\u001b[0m\u001b[1;33m(\u001b[0m\u001b[0mdata\u001b[0m\u001b[1;33m[\u001b[0m\u001b[1;34m'rating'\u001b[0m\u001b[1;33m]\u001b[0m\u001b[1;33m)\u001b[0m\u001b[1;33m;\u001b[0m\u001b[1;33m\u001b[0m\u001b[1;33m\u001b[0m\u001b[0m\n",
      "\u001b[1;31mNameError\u001b[0m: name 'data' is not defined"
     ]
    }
   ],
   "source": [
    "#смотрим есть ли аномалии в рейтингах\n",
    "data['rating'].describe()\n",
    "\n",
    "sns.boxplot(data['rating']);"
   ]
  },
  {
   "cell_type": "markdown",
   "metadata": {},
   "source": [
    "Редкими значениями можно назвать все, что ниже рейтинга в 3.7 и выше 4.7, однако это все еще реалистичные цифры. Основные оценки сосредоточены между 4 и 4,5"
   ]
  },
  {
   "cell_type": "code",
   "execution_count": null,
   "metadata": {},
   "outputs": [],
   "source": [
    "data[['seats', 'middle_avg_bill']].apply(['count', 'median', 'mean', 'min', 'max'])"
   ]
  },
  {
   "cell_type": "code",
   "execution_count": null,
   "metadata": {},
   "outputs": [],
   "source": [
    "sns.violinplot(data['seats']);\n",
    "plt.show()\n",
    "\n",
    "data[data['seats'] > 600].count()"
   ]
  },
  {
   "cell_type": "markdown",
   "metadata": {},
   "source": [
    "Есть заведения с нереалистично большим количеством посадочных мест, которые выглядят как ошибки в данных. Оставим только заведения, в которых посадочных мест меньше 400 (включая максимальную границу)"
   ]
  },
  {
   "cell_type": "code",
   "execution_count": null,
   "metadata": {},
   "outputs": [],
   "source": [
    "data[data['seats']>600]"
   ]
  },
  {
   "cell_type": "code",
   "execution_count": null,
   "metadata": {},
   "outputs": [],
   "source": [
    "df = data.query('seats.isna() | seats<=600')\n",
    "df.info()"
   ]
  },
  {
   "cell_type": "code",
   "execution_count": null,
   "metadata": {
    "scrolled": true
   },
   "outputs": [],
   "source": [
    "df[df['middle_avg_bill'] == 35000]"
   ]
  },
  {
   "cell_type": "markdown",
   "metadata": {},
   "source": [
    "Это заведение выглядит странно. Данные на Яндекс.Картах такие же, значит ошибки при выгрузке не было, однако на других сайтах указано, что в этом здании находится онкологический научный центр. Не понятно..."
   ]
  },
  {
   "cell_type": "markdown",
   "metadata": {},
   "source": [
    "*Вывод*\n",
    "\n",
    "В данных обнаружились аномалии в количестве посадочных мест, и среднем чеке (в одном очень странном заведении).\n",
    "Есть большое количество пропусков, но они объясняются ручным заполнением информации об организациях."
   ]
  },
  {
   "cell_type": "markdown",
   "metadata": {},
   "source": [
    "*Пополнение таблицы*\n",
    "\n",
    "Пополним датасет столбцами с названием улиц и является ли заведение круглосуточным."
   ]
  },
  {
   "cell_type": "code",
   "execution_count": null,
   "metadata": {},
   "outputs": [],
   "source": [
    "#приводим к строковому формату и разбиваем по запятой\n",
    "df['address'] = df['address'].astype('str')\n",
    "df['address'] = df['address'].str.split(', ')"
   ]
  },
  {
   "cell_type": "code",
   "execution_count": null,
   "metadata": {},
   "outputs": [],
   "source": [
    "#добавление колонки с улицей\n",
    "def address(row):\n",
    "    street = row['address']\n",
    "    return street[1]\n",
    "    \n",
    "df['street'] = df.apply(address, axis=1)\n",
    "\n",
    "df['street'] = df['street'].str.strip()"
   ]
  },
  {
   "cell_type": "code",
   "execution_count": null,
   "metadata": {},
   "outputs": [],
   "source": [
    "#приводим к строковому формату и разбиваем по запятой\n",
    "df['hours'] = df['hours'].astype('str')\n",
    "df['hours'] = df['hours'].str.split(', ')"
   ]
  },
  {
   "cell_type": "code",
   "execution_count": null,
   "metadata": {},
   "outputs": [],
   "source": [
    "#добавление колонки с круглосуточными заведениями\n",
    "def daybyday(row):\n",
    "    time = row['hours']\n",
    "    if ('круглосуточно' in time)&('ежедневно' in time):\n",
    "        return True\n",
    "    else:\n",
    "        return False\n",
    "        \n",
    "df['is_24/7'] = df.apply(daybyday, axis = 1)\n",
    "df.head(20)"
   ]
  },
  {
   "cell_type": "markdown",
   "metadata": {},
   "source": [
    "**3.Анализ рынка заведений общественного питания** <a id=\"restaurant\"></a> "
   ]
  },
  {
   "cell_type": "markdown",
   "metadata": {},
   "source": [
    "***3.1.Количество заведений по категориям*** <a id=\"category\"></a> "
   ]
  },
  {
   "cell_type": "code",
   "execution_count": null,
   "metadata": {},
   "outputs": [],
   "source": [
    "df.pivot_table(index='category', values='name', aggfunc='count').sort_values(by='name',ascending=False).plot(kind='bar', \n",
    "                                                                    title='Распределение количества заведений по категориям',\n",
    "                                                                    xlabel='Категория заведений',\n",
    "                                                                    ylabel='Количество');"
   ]
  },
  {
   "cell_type": "markdown",
   "metadata": {},
   "source": [
    "Больше всего заведений в категориях рестораны и кафе, на третьем месте расположились кофейни, меньше всего столовых и булочных."
   ]
  },
  {
   "cell_type": "markdown",
   "metadata": {},
   "source": [
    "***3.2.Количество посадочных мест по категориям*** <a id=\"seats\"></a> "
   ]
  },
  {
   "cell_type": "code",
   "execution_count": null,
   "metadata": {},
   "outputs": [],
   "source": [
    "sns.boxplot(data=df, x='seats', y='category');\n",
    "plt.title('Количество посадочных мест по категориям');\n",
    "plt.xlabel('Посадочные места');\n",
    "plt.ylabel('Категория заведения');\n",
    "plt.show()\n",
    "\n",
    "df.groupby('category')['seats'].agg(['median', 'mean']).sort_values(by='mean', ascending=False)"
   ]
  },
  {
   "cell_type": "markdown",
   "metadata": {},
   "source": [
    "В среднем, больше всего посадочных мест в ресторанах, барах и кофейнях, меньше всего в булочных."
   ]
  },
  {
   "cell_type": "markdown",
   "metadata": {},
   "source": [
    "***3.3.Количество сетевых заведений*** <a id=\"chain\"></a> "
   ]
  },
  {
   "cell_type": "code",
   "execution_count": null,
   "metadata": {},
   "outputs": [],
   "source": [
    "net = df.groupby('chain')['category'].agg('count')\n",
    "\n",
    "fig = go.Figure(data=[go.Pie(labels=['Не сеть', 'Сеть'], values=net)])\n",
    "fig.update_layout(title='Количество сетевых заведений')\n",
    "fig.show()"
   ]
  },
  {
   "cell_type": "markdown",
   "metadata": {},
   "source": [
    "Сетевых заведений из общего количества всего 38%"
   ]
  },
  {
   "cell_type": "markdown",
   "metadata": {},
   "source": [
    "***3.4.Соотношение сетевых и несетевых заведений*** <a id=\"chain_perc\"></a> "
   ]
  },
  {
   "cell_type": "code",
   "execution_count": null,
   "metadata": {},
   "outputs": [],
   "source": [
    "chain = df.groupby('category')[['name', 'chain']].agg({'chain':'sum',\n",
    "                                                        'name':'count'})\n",
    "chain.columns=['chain', 'total']\n",
    "chain['perc'] = chain['chain']/chain['total']\n",
    "chain = chain.sort_values(by='perc')\n",
    "fig = px.bar(chain, y='perc', title='Соотношение сетевых заведений')\n",
    "fig.show()"
   ]
  },
  {
   "cell_type": "markdown",
   "metadata": {},
   "source": [
    "Самый большой процент сетевых  булочных, пиццерий и кофеен, меньше всего баров, заведения быстрого питания только на 4 месте!"
   ]
  },
  {
   "cell_type": "markdown",
   "metadata": {},
   "source": [
    "***3.5.Сети с самым большим количеством точек*** <a id=\"biggest_net\"></a> "
   ]
  },
  {
   "cell_type": "code",
   "execution_count": null,
   "metadata": {},
   "outputs": [],
   "source": [
    "top_net = df.query('chain == 1')\n",
    "top_net.pivot_table(index='name', values='address', aggfunc='count').sort_values(by='address',\n",
    "                                                                                 ascending=False).head(15).plot(kind='barh');"
   ]
  },
  {
   "cell_type": "markdown",
   "metadata": {},
   "source": [
    "Почти все эти заведения являются франшизой и имеет распространение по всей России или просто большое количество точек по всей Москве (тоже франшизных)"
   ]
  },
  {
   "cell_type": "markdown",
   "metadata": {},
   "source": [
    "***3.6.Категории заведений по районам*** <a id=\"district\"></a> "
   ]
  },
  {
   "cell_type": "code",
   "execution_count": null,
   "metadata": {},
   "outputs": [],
   "source": [
    "district = df.pivot_table(index=('district'), \n",
    "                            values='name', columns='category', aggfunc='count')\n",
    "px.bar(district, title='Распределение категорий заведений по районам').update_layout(width=1000,height=800,\n",
    "                                                                                    xaxis_title='Район',\n",
    "                                                                                    yaxis_title='Количество заведений')"
   ]
  },
  {
   "cell_type": "markdown",
   "metadata": {},
   "source": [
    "Самое большое количество заведений расположено в Центральном автономном округе, меньше всего заведений находятся в Северо-Западном автономном округе."
   ]
  },
  {
   "cell_type": "markdown",
   "metadata": {},
   "source": [
    "***3.7.Средние рейтинги у разных категорий общепита*** <a id=\"rating\"></a> "
   ]
  },
  {
   "cell_type": "code",
   "execution_count": null,
   "metadata": {},
   "outputs": [],
   "source": [
    "plt.figure(figsize=(15, 5))\n",
    "plt.title('Рейтинг по категориям');\n",
    "sns.barplot(data=df, x='category', y='rating');"
   ]
  },
  {
   "cell_type": "markdown",
   "metadata": {},
   "source": [
    "В среднем рейтинги у разных категорий заведений отличается не сильно, однако можно заметить, что самый низкий средний рейтинг у заведений фастфуда. Это может быть связано с тем, что скорость обслуживания достаточно быстрая, а вот качество не всегда отвечает потребностям потребителей."
   ]
  },
  {
   "cell_type": "markdown",
   "metadata": {},
   "source": [
    "***3.8.Распределение стреднего рейтинга по районам*** <a id=\"meanrating\"></a> "
   ]
  },
  {
   "cell_type": "code",
   "execution_count": null,
   "metadata": {},
   "outputs": [],
   "source": [
    "rating_df = df.groupby('district', as_index=False)['rating'].agg('mean')\n",
    "rating_df"
   ]
  },
  {
   "cell_type": "code",
   "execution_count": null,
   "metadata": {},
   "outputs": [],
   "source": [
    "from folium import Map, Choropleth\n",
    "\n",
    "state_geo = '/datasets/admin_level_geomap.geojson'\n",
    "moscow_lat, moscow_lng = 55.751244, 37.618423\n",
    "\n",
    "rating_map = Map(location=[moscow_lat, moscow_lng], zoom_start=10)\n",
    "\n",
    "Choropleth(\n",
    "    geo_data=state_geo,\n",
    "    data=rating_df,\n",
    "    columns=['district', 'rating'],\n",
    "    key_on='feature.name',\n",
    "    fill_color='OrRd',\n",
    "    fill_opacity=0.7,\n",
    "    legend_name='Средний рейтинг заведений по районам',\n",
    ").add_to(rating_map)\n",
    "\n",
    "rating_map"
   ]
  },
  {
   "cell_type": "markdown",
   "metadata": {},
   "source": [
    "***3.9.Распределение заведений*** <a id=\"cafecluster\"></a> "
   ]
  },
  {
   "cell_type": "code",
   "execution_count": null,
   "metadata": {},
   "outputs": [],
   "source": [
    "from folium import Marker, Map\n",
    "from folium.plugins import MarkerCluster\n",
    "\n",
    "moscow_lat, moscow_lng = 55.751244, 37.618423\n",
    "m = Map(location=[moscow_lat, moscow_lng], zoom_start=10)\n",
    "marker_cluster = MarkerCluster().add_to(m)\n",
    "\n",
    "def create_clusters(row):\n",
    "    Marker(\n",
    "        [row['lat'], row['lng']],\n",
    "        popup=f\"{row['name']} {row['rating']}\",\n",
    "    ).add_to(marker_cluster)\n",
    "    \n",
    "df.apply(create_clusters, axis=1)\n",
    "\n",
    "m"
   ]
  },
  {
   "cell_type": "markdown",
   "metadata": {},
   "source": [
    "Одинокое заведение в торговом центре \"Мирус авто\""
   ]
  },
  {
   "cell_type": "markdown",
   "metadata": {},
   "source": [
    "***3.10.Топ-15 улиц по количеству заведений*** <a id=\"top\"></a> "
   ]
  },
  {
   "cell_type": "code",
   "execution_count": null,
   "metadata": {
    "scrolled": false
   },
   "outputs": [],
   "source": [
    "street = df.pivot_table(index='street', values='name', columns='category', aggfunc='count')\n",
    "\n",
    "#сделаем отдельный столбец тотал, чтобы сортировать по нему\n",
    "street.columns=['bar', 'bread', 'fastfood', 'cafe', 'coffeeshop', 'pizza', 'restaurant', 'eatery']\n",
    "street['total'] = street['bar']+street['bread']+ \\\n",
    "street['fastfood']+street['cafe']+street['coffeeshop']+ \\\n",
    "street['pizza']+street['restaurant']+street['eatery']\n",
    "top_street = street.sort_values(by='total', ascending=False).head(15)\n",
    "\n",
    "px.bar(top_street, title='Топ улиц по количеству заведений').update_layout(xaxis_title='Улица',\n",
    "                                                                          yaxis_title='Количество заведений')"
   ]
  },
  {
   "cell_type": "markdown",
   "metadata": {},
   "source": [
    "Больше всего заведений находится на Проспекте Мира, там преимущественно расположены кафе, рестораны и кофейни. Большое количество заведений может быть обосновано тем, что эта улица находится в Центральном автономном округе, в котором самое большое количество заведений по Москве в принципе. \n",
    "\n",
    "На этих улицах находится около 12,5% всех заведений Москвы."
   ]
  },
  {
   "cell_type": "code",
   "execution_count": null,
   "metadata": {},
   "outputs": [],
   "source": [
    "street[street['cafe']==1].head(20)"
   ]
  },
  {
   "cell_type": "markdown",
   "metadata": {},
   "source": [
    "Можно предположить, что на этих улицах такое маленькое количество заведений из-за:\n",
    "    \n",
    "    1. Большой удаленности от станции метро \n",
    "    2. Удаленности от центра\n",
    "    3. Расположение в жилых районах\n",
    "    4. Отсутствие спроса на заведения общественного питания в данных районах"
   ]
  },
  {
   "cell_type": "markdown",
   "metadata": {},
   "source": [
    "***3.11.Распределение среднего чека по районам*** <a id=\"avg\"></a> "
   ]
  },
  {
   "cell_type": "code",
   "execution_count": null,
   "metadata": {},
   "outputs": [],
   "source": [
    "avg_bill_data = df.groupby('district', as_index=False)['middle_avg_bill'].agg('mean')\n",
    "avg_bill_data\n",
    "\n",
    "avg_bill_data_plot = df.groupby('district')['middle_avg_bill'].agg('mean').sort_values()\n",
    "px.bar(avg_bill_data_plot, title='Средний чек по районам').update_layout(xaxis_title='Район',\n",
    "                                                                        yaxis_title='Средний чек')"
   ]
  },
  {
   "cell_type": "code",
   "execution_count": null,
   "metadata": {},
   "outputs": [],
   "source": [
    "from folium import Map, Choropleth\n",
    "\n",
    "state_geo = '/datasets/admin_level_geomap.geojson'\n",
    "moscow_lat, moscow_lng = 55.751244, 37.618423\n",
    "\n",
    "avg_map = Map(location=[moscow_lat, moscow_lng], zoom_start=10)\n",
    "\n",
    "Choropleth(\n",
    "    geo_data=state_geo,\n",
    "    data=avg_bill_data,\n",
    "    columns=['district', 'middle_avg_bill'],\n",
    "    key_on='feature.name',\n",
    "    fill_color='OrRd',\n",
    "    fill_opacity=0.7,\n",
    "    legend_name='Средний чек по районам',\n",
    ").add_to(avg_map)\n",
    "\n",
    "avg_map"
   ]
  },
  {
   "cell_type": "markdown",
   "metadata": {},
   "source": [
    "На средний чек влияет не только удаленность от центра, но и общий престиж округа, его инфраструктура и расположение известных объектов(парки, институты и университеты).\n",
    "Чем более туристически привлекательный район, тем выше средний чек."
   ]
  },
  {
   "cell_type": "markdown",
   "metadata": {},
   "source": [
    "***3.12 Зависимость среднего чека*** <a id=\"avgcorr\"></a> "
   ]
  },
  {
   "cell_type": "code",
   "execution_count": null,
   "metadata": {},
   "outputs": [],
   "source": [
    "sns.scatterplot(data = df, x='seats', y='middle_avg_bill', hue='chain');\n",
    "plt.title('Зависимость среднего чека от количества посадочных мест')\n",
    "plt.xlabel('Количество посадочных мест')\n",
    "plt.ylabel('Средний чек')\n",
    "df['seats'].corr(df['middle_avg_bill'])"
   ]
  },
  {
   "cell_type": "markdown",
   "metadata": {},
   "source": [
    "От количества посадочных мест средний чек не изменяется, основная часть колеблется в пределах 5000 рублей."
   ]
  },
  {
   "cell_type": "code",
   "execution_count": null,
   "metadata": {},
   "outputs": [],
   "source": [
    "sns.scatterplot(data=df, x='middle_avg_bill', y='rating', hue='chain');\n",
    "plt.title('Зависимость среднего чека от рейтинга')\n",
    "plt.xlabel('Средний чек')\n",
    "plt.ylabel('Рейтинг')\n",
    "data['rating'].corr(data['middle_avg_bill'])"
   ]
  },
  {
   "cell_type": "markdown",
   "metadata": {},
   "source": [
    "Можно заметить, что средний чек у заведений с рейтингом ниже 3.5 в основном ниже, чем у заведений с рейтингом выше 4, однако корреляция не такая существенная."
   ]
  },
  {
   "cell_type": "code",
   "execution_count": null,
   "metadata": {},
   "outputs": [],
   "source": [
    "sns.boxplot(data=data, x='middle_avg_bill', y='category');\n",
    "plt.title('Средний чек по категориям заведений')\n",
    "plt.xlabel('Категория');\n",
    "plt.ylabel('Средний чек');\n",
    "\n",
    "data.pivot_table(index='category', values='middle_avg_bill', aggfunc=('mean', 'median')).sort_values(by='median',\n",
    "                                                                                                     ascending=False)"
   ]
  },
  {
   "cell_type": "markdown",
   "metadata": {},
   "source": [
    "Самый большой средний чек у ресторанов, после них идут бары (что ожидаемо, поскольку средний чек в барах в основном идет не только от цены позиции, но и от количества позиций в чеке). Самый низкий средний чек у столовых, что тоже объяснимо их ценовой политикой."
   ]
  },
  {
   "cell_type": "markdown",
   "metadata": {},
   "source": [
    "***3.13 Ценовая категория заведений*** <a id=\"price\"></a> "
   ]
  },
  {
   "cell_type": "code",
   "execution_count": null,
   "metadata": {},
   "outputs": [],
   "source": [
    "price = data.pivot_table(index='price', values='name', columns='category', aggfunc='count')\n",
    "px.bar(price, title='Ценовая категория заведений').update_layout(xaxis_title=('Ценовая категория'),\n",
    "                                                                yaxis_title=('Количество заведений'))"
   ]
  },
  {
   "cell_type": "markdown",
   "metadata": {},
   "source": [
    "Можно отметить, что больше всего кафе, ресторанов и кофеен средней ценовой категории, и в целом заведений средней ценовой категории больше, чем всех остальных вместе взятых. Основную часть заведений с низкой ценовой категорией занимают кофейни (скорее всего это сети типа Cofix и One Price Coffee, которые поддерживают достаточно низкую ценовую политику).\n",
    "\n",
    "Основную часть заведений с высокими ценами занимают рестораны и бары. В целом, этот параметр тоже может объяснить их самый высокий средний чек."
   ]
  },
  {
   "cell_type": "markdown",
   "metadata": {},
   "source": [
    "***Вывод*** <a id=\"so\"></a> "
   ]
  },
  {
   "cell_type": "markdown",
   "metadata": {},
   "source": [
    "Всего в Москве представлено больше 8000 заведений общественного питания, большую часть из которых составляют кафе, рестораны и кофейни. Из общего количества заведений 38,1% составляют сетевые. Самое большое количество посадочных мест в ресторанах и барах, самое низкое в булочных, по большей части потому, что они рассчитаны на быструю покупку с собой.\n",
    "\n",
    "У сетевых заведений самое большое количество точек у тех, кто открывается по франшизе(или имеет франшизу), сильно распространен по Москве или по всей России. Больше всего соотношение сетевых заведений у булочных, пиццерий и кофеен.\n",
    "\n",
    "Самое большое количество заведений находится в Центральном автономном округе, самое низкое в Северо-Западном автономном округе. На средний чек влияет не только расположение районов, но и его туристическая привлекательность, наличие известных локаций(университетов, парков и т.д), достопримечательностей. По категориям средний чек самый большой у ресторанов и баров, так как большая часть этих заведений находится в высокой ценовой категории, а также в округе с самым высоким средним чеком (ЦАО).\n",
    "\n",
    "Средний рейтинг колеблется в пределах от 3.9 до 4.5, ниже этих значений показатель встречаются достаточно редко. Самый высокий средний рейтинг так же у Центрального автономного округа.\n",
    "\n",
    "12,5% всех заведений находятся всего на 15 улицах, самое маленькое количество заведений находится на улицах с большой удаленностью от метро и от центра города в не самых туристических местах.\n",
    "\n",
    "Можно сказать, что рынок общепита в Москве достаточно развит."
   ]
  },
  {
   "cell_type": "markdown",
   "metadata": {},
   "source": [
    "**Анализ кофейного рынка** <a id=\"coffee\"></a> "
   ]
  },
  {
   "cell_type": "code",
   "execution_count": null,
   "metadata": {},
   "outputs": [],
   "source": [
    "#отдельная таблица для того, чтобы отделить кофейни\n",
    "coffeeshop = df[df['category']=='кофейня']\n",
    "print('Всего кофеен в датасете:', len(coffeeshop))"
   ]
  },
  {
   "cell_type": "markdown",
   "metadata": {},
   "source": [
    "***4.1 Количество круглосуточных кофеен*** <a id=\"24/7\"></a> "
   ]
  },
  {
   "cell_type": "code",
   "execution_count": null,
   "metadata": {},
   "outputs": [],
   "source": [
    "is24 = coffeeshop.groupby('is_24/7')['name'].agg('count')\n",
    "is24\n",
    "go.Figure(data=[go.Pie(labels=['не круглосуточно', 'круглосуточно'], values=is24)]) \\\n",
    ".update_layout(title='Количество круглосуточных кофеен')"
   ]
  },
  {
   "cell_type": "markdown",
   "metadata": {},
   "source": [
    "Количество круглосуточных кофеен совсем небольшое."
   ]
  },
  {
   "cell_type": "markdown",
   "metadata": {},
   "source": [
    "***4.2. Распределения рейтинга кофеен по районам*** <a id=\"cof_rat\"></a> "
   ]
  },
  {
   "cell_type": "code",
   "execution_count": null,
   "metadata": {},
   "outputs": [],
   "source": [
    "coffee_rating = coffeeshop.groupby('district', as_index=False)['rating'].agg('mean')\n",
    "coffee_rating"
   ]
  },
  {
   "cell_type": "code",
   "execution_count": null,
   "metadata": {},
   "outputs": [],
   "source": [
    "rating = Map(location=[moscow_lat, moscow_lng], zoom_start=10)\n",
    "\n",
    "Choropleth(\n",
    "    geo_data=state_geo,\n",
    "    data=coffee_rating,\n",
    "    columns=['district', 'rating'],\n",
    "    key_on='feature.name',\n",
    "    fill_color='OrRd',\n",
    "    fill_opacity=0.7,\n",
    "    legend_name='Средний рейтинг кофеен по районам',\n",
    ").add_to(rating)\n",
    "\n",
    "rating"
   ]
  },
  {
   "cell_type": "markdown",
   "metadata": {},
   "source": [
    "В среднем кофейни во всех районах имеют примерно одинаковый рейтинг."
   ]
  },
  {
   "cell_type": "markdown",
   "metadata": {},
   "source": [
    "***4.3.Средняя стоимость чашки кофе и средний чек по районам*** <a id=\"avgcup\"></a> "
   ]
  },
  {
   "cell_type": "code",
   "execution_count": null,
   "metadata": {},
   "outputs": [],
   "source": [
    "sns.boxplot(x='middle_coffee_cup', y='district', data=coffeeshop);\n",
    "plt.title('Средняя стоимость чашки кофе по районам');\n",
    "plt.xlabel('Средняя стоимость чашки кофе');\n",
    "plt.ylabel('Район');\n",
    "\n",
    "coffeeshop.groupby('district')['middle_coffee_cup'].agg(['mean', 'median']).sort_values(by='mean')"
   ]
  },
  {
   "cell_type": "markdown",
   "metadata": {},
   "source": [
    "Средняя стоимость чашки кофе самая высокая в Центральном административном округе и в Западном административном округе, самая низкая в Юго-Восточном административном округе."
   ]
  },
  {
   "cell_type": "code",
   "execution_count": null,
   "metadata": {
    "scrolled": false
   },
   "outputs": [],
   "source": [
    "sns.boxplot(x='middle_avg_bill', y='district', data=coffeeshop);\n",
    "plt.title('Средний чек кофеен по районам');\n",
    "plt.xlabel('Средний чек');\n",
    "plt.ylabel('Район');\n",
    "\n",
    "coffeeshop.groupby('district')['middle_avg_bill'].agg(['mean', 'median']).sort_values(by='mean')"
   ]
  },
  {
   "cell_type": "markdown",
   "metadata": {},
   "source": [
    "Здесь ситуация такая же, как со средней стоимостью чашки кофе, самый большой средний цек в ЦАО и ЗАО, самый низкий в ЮВАО."
   ]
  },
  {
   "cell_type": "markdown",
   "metadata": {},
   "source": [
    "***4.4.Количество сетевых кофеен*** <a id=\"coffeenet\"></a> "
   ]
  },
  {
   "cell_type": "code",
   "execution_count": null,
   "metadata": {},
   "outputs": [],
   "source": [
    "isnet = coffeeshop.groupby('chain')['name'].agg('count')\n",
    "\n",
    "go.Figure(data=[go.Pie(labels=['сеть', 'не сеть'], values=isnet)]).update_layout(title='Количество сетевых кофеен')"
   ]
  },
  {
   "cell_type": "markdown",
   "metadata": {},
   "source": [
    "Распределение идет примерно 50/50. Посмотрим на другие параметры сетевых и не сетевых заведений."
   ]
  },
  {
   "cell_type": "markdown",
   "metadata": {},
   "source": [
    "***4.5.Средняя стоимость чашки кофе и средний чек в сетевых и несетевых кофейнях*** <a id=\"netavg\"></a> "
   ]
  },
  {
   "cell_type": "code",
   "execution_count": null,
   "metadata": {},
   "outputs": [],
   "source": [
    "coffee_avg_cup = coffeeshop.pivot_table(index='chain', values=('middle_coffee_cup'), aggfunc='mean')\n",
    "px.bar(coffee_avg_cup, title='Средняя стоимость чашки кофе').update_layout(xaxis_title='Является ли сетевым',\n",
    "                                                          yaxis_title='Стоимость чашки кофе')"
   ]
  },
  {
   "cell_type": "code",
   "execution_count": null,
   "metadata": {},
   "outputs": [],
   "source": [
    "coffee_avg_bill = coffeeshop.pivot_table(index='chain', values=('middle_avg_bill'), aggfunc='mean')\n",
    "px.bar(coffee_avg_bill, title='Средний чек').update_layout(xaxis_title='Является ли сетевым',\n",
    "                                                          yaxis_title='Средний чек')"
   ]
  },
  {
   "cell_type": "markdown",
   "metadata": {},
   "source": [
    "Средняя стоимость чашки кофе выше в несетевых заведениях, но разница совсем несущественная, а вот средний чек выше в сетевых заведениях примерно на 60%."
   ]
  },
  {
   "cell_type": "markdown",
   "metadata": {},
   "source": [
    "***4.6.Распределение среднего чека кофеен по районам*** <a id=\"coffeedistrict\"></a> "
   ]
  },
  {
   "cell_type": "code",
   "execution_count": null,
   "metadata": {},
   "outputs": [],
   "source": [
    "district_avg = coffeeshop.groupby('district')['middle_avg_bill'].agg('mean')\n",
    "district_avg"
   ]
  },
  {
   "cell_type": "code",
   "execution_count": null,
   "metadata": {},
   "outputs": [],
   "source": [
    "district = Map(location=[moscow_lat, moscow_lng], zoom_start=10)\n",
    "\n",
    "Choropleth(\n",
    "    geo_data=state_geo,\n",
    "    data=district_avg,\n",
    "    columns=['district', 'rating'],\n",
    "    key_on='feature.name',\n",
    "    fill_color='OrRd',\n",
    "    fill_opacity=0.7,\n",
    "    legend_name='Средний рейтинг кофеен по районам',\n",
    ").add_to(district)\n",
    "\n",
    "district"
   ]
  },
  {
   "cell_type": "markdown",
   "metadata": {},
   "source": [
    "В целом, распределение среднего чека такое же как у общепита в общем, самый высокий средний чек в Центральном автономном округе и Западном автономном округе."
   ]
  },
  {
   "cell_type": "markdown",
   "metadata": {},
   "source": [
    "***4.7. Кофейни с самым высоким средним чеком*** <a id=\"coffeetop\"></a> "
   ]
  },
  {
   "cell_type": "code",
   "execution_count": null,
   "metadata": {},
   "outputs": [],
   "source": [
    "top_avg = coffeeshop.pivot_table(index='name', values='middle_avg_bill', aggfunc='mean') \\\n",
    ".sort_values('middle_avg_bill', ascending=False).head(10)\n",
    "px.bar(top_avg).update_layout(title='Кофейни с самым высоким средним чеком',\n",
    "                             xaxis_title=('Название'),\n",
    "                             yaxis_title=('Средний чек'))"
   ]
  },
  {
   "cell_type": "code",
   "execution_count": null,
   "metadata": {},
   "outputs": [],
   "source": [
    "coffeeshop[coffeeshop['name']=='кофемания']"
   ]
  },
  {
   "cell_type": "markdown",
   "metadata": {},
   "source": [
    "Кофейня с самым высоким средним чеком сетевая, с высокой ценовой категорией, с достаточно хорошим рейтингом и средним счетом 1500-2000, с достаточно большим количеством посадочных мест. Также в этой кофейне представлены десерты и легкая кухня."
   ]
  },
  {
   "cell_type": "markdown",
   "metadata": {},
   "source": [
    "***4.8.Соотношение посадочных мест*** <a id=\"coffeeseats\"></a> "
   ]
  },
  {
   "cell_type": "code",
   "execution_count": null,
   "metadata": {},
   "outputs": [],
   "source": [
    "sns.boxplot(data = coffeeshop, x='seats', y='district');\n",
    "plt.title('Распределение количества посадочных мест по районам');\n",
    "plt.xlabel('Количество посадочных мест')\n",
    "plt.ylabel('Район');"
   ]
  },
  {
   "cell_type": "code",
   "execution_count": null,
   "metadata": {},
   "outputs": [],
   "source": [
    "sns.boxplot(data=coffeeshop, x='chain', y='seats');\n",
    "plt.title('Посадочные места у сетевых и несетевых заведений');\n",
    "plt.xlabel('Является ли сетевой');\n",
    "plt.ylabel('Количество посадочных мест');"
   ]
  },
  {
   "cell_type": "markdown",
   "metadata": {},
   "source": [
    "Среднее количество посадочных мест составляет примерно от 50 до 100, в среднем у несетевых заведений количество посадочных мест меньше, чем у сетевых."
   ]
  },
  {
   "cell_type": "markdown",
   "metadata": {},
   "source": [
    "***Вывод*** <a id=\"soo\"></a> "
   ]
  },
  {
   "cell_type": "markdown",
   "metadata": {},
   "source": [
    "В датасете представлены данные о более чем 1300 кофейнях. Почти 50% из них являются сетевыми заведениями, меньше 5% из них являются круглосуточными.\n",
    "\n",
    "Средний рейтинг колеблется в районе 4.3, в зависимости от района меняется не сильно.\n",
    "\n",
    "Средняя стоимость чашки кофе выше в несетевых заведениях, хотя разница не очень большая, а вот средний чек намного выше в сетевых заведениях.\n",
    "\n",
    "Распределение среднего чека такое же, как у заведений общепита в принципе, самый большой средний чек в Центральном административном округе, самый низкий в Юго-Восточном автономном округе.\n",
    "\n",
    "Самый большой средний чек у кофеен составляет 1860 рублей.\n",
    "\n",
    "Количество посадочных мест в среднем составляет от 50 до 100, у сетевых заведений в среднем количество посадочных мест больше."
   ]
  },
  {
   "cell_type": "markdown",
   "metadata": {},
   "source": [
    "**Общий вывод** <a id=\"conclution\"></a> "
   ]
  },
  {
   "cell_type": "markdown",
   "metadata": {},
   "source": [
    "  Было проведено исследование рынка общественного питание в Москве. Исходный датасет основан на данных из Яндекс.Карт и Яндекс.Бизнеса за 2022 год. Представлены такие данные как: название заведения, его адрес и географическое расположение, время работы, средний чек, ценовая категория заведения, категория заведения, данные о том, является ли заведение сетевым или нет.\n",
    "\n",
    "  В данных обнаружились пропуски в столбцах со средней стоимостью чашки кофе, средним чеком, ценовой категорией и количеством посадочных мест. Это можно объяснить тем, что данные о заведениях заполняются польхователями или из открытых источников, а пропуске в столбце со средней стоимостью кофе может объясняться просто отсутствием кофе в заведении.\n",
    "  Также были обнаружены аномалии в столбце с количеством посадочных мест. В исследовании использовались только данные о тех заведениях, в которых количество посадочных мест было меньше 400 включая эту цифру.\n",
    "  Помимо этого, в данных очень большое количество неявных дубликатов в столбце с названием заведение, что также объясняется ручным вводом данных.\n",
    "\n",
    "Всего в Москве представлено больше 8000 заведений общественного питания, большую часть из которых составляют кафе, рестораны и кофейни. Из общего количества заведений 38,1% составляют сетевые. Самое большое количество посадочных мест в ресторанах и барах, самое низкое в булочных, по большей части потому, что они рассчитаны на быструю покупку с собой.\n",
    "\n",
    "У сетевых заведений самое большое количество точек у тех, кто открывается по франшизе(или имеет франшизу), сильно распространен по Москве или по всей России. Больше всего соотношение сетевых заведений у булочных, пиццерий и кофеен.\n",
    "\n",
    "Самое большое количество заведений находится в Центральном автономном округе, самое низкое в Северо-Западном автономном округе. На средний чек влияет не только расположение районов, но и его туристическая привлекательность, наличие известных локаций(университетов, парков и т.д), достопримечательностей. По категориям средний чек самый большой у ресторанов и баров, так как большая часть этих заведений находится в высокой ценовой категории, а также в округе с самым высоким средним чеком (ЦАО).\n",
    "\n",
    "Средний рейтинг колеблется в пределах от 3.9 до 4.5, ниже этих значений показатель встречаются достаточно редко. Самый высокий средний рейтинг так же у Центрального автономного округа.\n",
    "\n",
    "12,5% всех заведений находятся всего на 15 улицах, самое маленькое количество заведений находится на улицах с большой удаленностью от метро и от центра города в не самых туристических местах."
   ]
  },
  {
   "cell_type": "markdown",
   "metadata": {},
   "source": [
    "**Рекомендации** <a id=\"recommendations\"></a> "
   ]
  },
  {
   "cell_type": "markdown",
   "metadata": {},
   "source": [
    "Основываясь на референсе, данном заказчиком (кофейня \"Central Park\" из сериала \"Друзья\"), можно предположить, что видение кофейни является примерно таким: полноформатная кофейня с домашней, уютной, дружеской(семейной) атмосферой, с целевой аудиторией людей 20-35 лет, с достатком на уровне среднего класса.\n",
    "\n",
    "Для того чтобы дать конкретные рекомендации для открытия кофейни не хватает некоторой информации, например среднего трафика по районам, сегментации кофеен(точки формата с собой/полноформатные кофейни, кофейный сегмент(спешелти/премиум), наличие кухни или своей выпечки и т.д.), для того чтобы рассмотреть их основные характеристики, позитивные и негативные аспекты.\n",
    "\n",
    "По данным которые были рассмотрены выше и исходя из идеи заказчика пока можно выделить следующие рекомендации:\n",
    "\n",
    "    1. Локация в шаговой доступности от метро или в месте с высоким трафиком. Возможно стоит рассмотреть как возможную локацию спальные районы, из-за более низкой конкуренции.\n",
    "    2. Полноформатная кофейня с количеством посадочных мест в помещении должно быть среднее по заведениям (от 50 до 100), с возможностью разместить столы с 5-6 посадочными местами за одним столом (для компаний и семей).\n",
    "    3. Наличие минимальной легкой кухни (завтраки, салаты, выпечка), что ведет к увеличению среднего чека и возможности набрать аудиторию не только за счет кофе и атмосферы, но и благодаря возможности вкусно поесть (пример Кофемании).\n",
    "    4. Потенциальная возможность расширения с одной точки до небольшой сети кофеен."
   ]
  },
  {
   "cell_type": "markdown",
   "metadata": {},
   "source": [
    "**Презентация:** <https://disk.yandex.ru/i/4GtnyzDmFkhn0g>"
   ]
  }
 ],
 "metadata": {
  "ExecuteTimeLog": [
   {
    "duration": 52,
    "start_time": "2023-03-01T11:26:02.564Z"
   },
   {
    "duration": 1594,
    "start_time": "2023-03-01T11:38:31.122Z"
   },
   {
    "duration": 5,
    "start_time": "2023-03-01T11:39:47.136Z"
   },
   {
    "duration": 125,
    "start_time": "2023-03-01T11:40:26.506Z"
   },
   {
    "duration": 80,
    "start_time": "2023-03-01T11:40:32.283Z"
   },
   {
    "duration": 67,
    "start_time": "2023-03-01T11:40:45.024Z"
   },
   {
    "duration": 224,
    "start_time": "2023-03-01T11:42:57.010Z"
   },
   {
    "duration": 8,
    "start_time": "2023-03-01T12:30:41.094Z"
   },
   {
    "duration": 193,
    "start_time": "2023-03-01T12:31:11.859Z"
   },
   {
    "duration": 198,
    "start_time": "2023-03-01T12:31:17.130Z"
   },
   {
    "duration": 4,
    "start_time": "2023-03-01T12:32:54.936Z"
   },
   {
    "duration": 10,
    "start_time": "2023-03-01T12:32:58.931Z"
   },
   {
    "duration": 184,
    "start_time": "2023-03-01T12:33:09.631Z"
   },
   {
    "duration": 13,
    "start_time": "2023-03-01T12:34:39.586Z"
   },
   {
    "duration": 179,
    "start_time": "2023-03-01T12:35:35.929Z"
   },
   {
    "duration": 230,
    "start_time": "2023-03-01T12:35:43.570Z"
   },
   {
    "duration": 174,
    "start_time": "2023-03-01T12:36:00.707Z"
   },
   {
    "duration": 46,
    "start_time": "2023-03-01T12:36:27.502Z"
   },
   {
    "duration": 215,
    "start_time": "2023-03-01T12:36:33.227Z"
   },
   {
    "duration": 222,
    "start_time": "2023-03-01T12:36:46.212Z"
   },
   {
    "duration": 219,
    "start_time": "2023-03-01T12:37:32.052Z"
   },
   {
    "duration": 7,
    "start_time": "2023-03-01T12:38:46.450Z"
   },
   {
    "duration": 16,
    "start_time": "2023-03-01T12:39:13.948Z"
   },
   {
    "duration": 8,
    "start_time": "2023-03-01T12:44:51.888Z"
   },
   {
    "duration": 7,
    "start_time": "2023-03-01T12:45:04.774Z"
   },
   {
    "duration": 868,
    "start_time": "2023-03-01T12:46:00.058Z"
   },
   {
    "duration": 10,
    "start_time": "2023-03-01T12:46:44.013Z"
   },
   {
    "duration": 4,
    "start_time": "2023-03-01T12:47:36.995Z"
   },
   {
    "duration": 727,
    "start_time": "2023-03-01T12:47:51.734Z"
   },
   {
    "duration": 5,
    "start_time": "2023-03-01T12:47:59.986Z"
   },
   {
    "duration": 5,
    "start_time": "2023-03-01T12:48:22.746Z"
   },
   {
    "duration": 15,
    "start_time": "2023-03-01T12:48:56.002Z"
   },
   {
    "duration": 13,
    "start_time": "2023-03-01T14:10:58.590Z"
   },
   {
    "duration": 33,
    "start_time": "2023-03-01T14:11:12.102Z"
   },
   {
    "duration": 9,
    "start_time": "2023-03-01T14:11:36.898Z"
   },
   {
    "duration": 39,
    "start_time": "2023-03-01T14:11:55.025Z"
   },
   {
    "duration": 13,
    "start_time": "2023-03-01T14:12:28.801Z"
   },
   {
    "duration": 12,
    "start_time": "2023-03-01T14:12:37.645Z"
   },
   {
    "duration": 258,
    "start_time": "2023-03-01T14:16:40.732Z"
   },
   {
    "duration": 48,
    "start_time": "2023-03-01T14:17:35.427Z"
   },
   {
    "duration": 20,
    "start_time": "2023-03-01T14:17:39.697Z"
   },
   {
    "duration": 22,
    "start_time": "2023-03-01T14:17:52.125Z"
   },
   {
    "duration": 45,
    "start_time": "2023-03-01T14:18:00.689Z"
   },
   {
    "duration": 46,
    "start_time": "2023-03-01T14:18:04.305Z"
   },
   {
    "duration": 253,
    "start_time": "2023-03-01T14:18:08.588Z"
   },
   {
    "duration": 308,
    "start_time": "2023-03-01T14:21:17.807Z"
   },
   {
    "duration": 406,
    "start_time": "2023-03-01T14:21:36.449Z"
   },
   {
    "duration": 334,
    "start_time": "2023-03-01T14:21:57.932Z"
   },
   {
    "duration": 322,
    "start_time": "2023-03-01T14:22:13.418Z"
   },
   {
    "duration": 326,
    "start_time": "2023-03-01T14:22:21.688Z"
   },
   {
    "duration": 313,
    "start_time": "2023-03-01T14:23:14.578Z"
   },
   {
    "duration": 323,
    "start_time": "2023-03-01T14:24:04.451Z"
   },
   {
    "duration": 320,
    "start_time": "2023-03-01T14:25:08.188Z"
   },
   {
    "duration": 417,
    "start_time": "2023-03-01T14:25:37.752Z"
   },
   {
    "duration": 11,
    "start_time": "2023-03-01T14:30:23.976Z"
   },
   {
    "duration": 17,
    "start_time": "2023-03-01T14:30:31.892Z"
   },
   {
    "duration": 388,
    "start_time": "2023-03-01T14:30:38.194Z"
   },
   {
    "duration": 15,
    "start_time": "2023-03-01T14:30:56.751Z"
   },
   {
    "duration": 15,
    "start_time": "2023-03-01T14:31:00.153Z"
   },
   {
    "duration": 65,
    "start_time": "2023-03-01T14:34:59.248Z"
   },
   {
    "duration": 7,
    "start_time": "2023-03-01T14:37:26.226Z"
   },
   {
    "duration": 53,
    "start_time": "2023-03-01T14:37:35.620Z"
   },
   {
    "duration": 59,
    "start_time": "2023-03-01T14:45:41.647Z"
   },
   {
    "duration": 55,
    "start_time": "2023-03-01T14:45:53.347Z"
   },
   {
    "duration": 240,
    "start_time": "2023-03-01T14:46:14.560Z"
   },
   {
    "duration": 231,
    "start_time": "2023-03-01T14:46:28.618Z"
   },
   {
    "duration": 58,
    "start_time": "2023-03-01T14:46:32.624Z"
   },
   {
    "duration": 58,
    "start_time": "2023-03-01T14:46:47.251Z"
   },
   {
    "duration": 17,
    "start_time": "2023-03-01T14:47:09.309Z"
   },
   {
    "duration": 174,
    "start_time": "2023-03-01T14:47:13.882Z"
   },
   {
    "duration": 18,
    "start_time": "2023-03-01T14:47:45.682Z"
   },
   {
    "duration": 16,
    "start_time": "2023-03-01T14:47:50.126Z"
   },
   {
    "duration": 18,
    "start_time": "2023-03-01T14:47:55.501Z"
   },
   {
    "duration": 19,
    "start_time": "2023-03-01T14:48:50.340Z"
   },
   {
    "duration": 21,
    "start_time": "2023-03-01T14:49:00.948Z"
   },
   {
    "duration": 57,
    "start_time": "2023-03-01T14:49:35.228Z"
   },
   {
    "duration": 60,
    "start_time": "2023-03-01T14:49:51.066Z"
   },
   {
    "duration": 81,
    "start_time": "2023-03-01T14:50:04.176Z"
   },
   {
    "duration": 248,
    "start_time": "2023-03-01T14:51:18.586Z"
   },
   {
    "duration": 61,
    "start_time": "2023-03-01T14:51:47.660Z"
   },
   {
    "duration": 46,
    "start_time": "2023-03-01T14:53:12.699Z"
   },
   {
    "duration": 45,
    "start_time": "2023-03-01T14:53:21.996Z"
   },
   {
    "duration": 4,
    "start_time": "2023-03-01T14:53:27.933Z"
   },
   {
    "duration": 44,
    "start_time": "2023-03-01T14:53:38.026Z"
   },
   {
    "duration": 71,
    "start_time": "2023-03-01T14:54:13.636Z"
   },
   {
    "duration": 65,
    "start_time": "2023-03-01T14:54:35.443Z"
   },
   {
    "duration": 4,
    "start_time": "2023-03-01T14:54:59.246Z"
   },
   {
    "duration": 42,
    "start_time": "2023-03-01T14:55:09.356Z"
   },
   {
    "duration": 73,
    "start_time": "2023-03-01T14:55:13.939Z"
   },
   {
    "duration": 231,
    "start_time": "2023-03-01T14:55:53.984Z"
   },
   {
    "duration": 69,
    "start_time": "2023-03-01T14:56:11.345Z"
   },
   {
    "duration": 62,
    "start_time": "2023-03-01T14:56:16.977Z"
   },
   {
    "duration": 65,
    "start_time": "2023-03-01T14:56:23.010Z"
   },
   {
    "duration": 251,
    "start_time": "2023-03-01T14:57:26.156Z"
   },
   {
    "duration": 256,
    "start_time": "2023-03-01T14:57:37.629Z"
   },
   {
    "duration": 210,
    "start_time": "2023-03-01T14:57:43.531Z"
   },
   {
    "duration": 67,
    "start_time": "2023-03-01T14:59:06.036Z"
   },
   {
    "duration": 169,
    "start_time": "2023-03-01T14:59:30.488Z"
   },
   {
    "duration": 163,
    "start_time": "2023-03-01T14:59:38.406Z"
   },
   {
    "duration": 437,
    "start_time": "2023-03-01T15:00:45.843Z"
   },
   {
    "duration": 448,
    "start_time": "2023-03-01T15:00:53.537Z"
   },
   {
    "duration": 372,
    "start_time": "2023-03-01T15:03:33.301Z"
   },
   {
    "duration": 11,
    "start_time": "2023-03-01T15:03:52.288Z"
   },
   {
    "duration": 9,
    "start_time": "2023-03-01T15:04:13.724Z"
   },
   {
    "duration": 10,
    "start_time": "2023-03-01T15:04:46.152Z"
   },
   {
    "duration": 13,
    "start_time": "2023-03-01T15:04:50.576Z"
   },
   {
    "duration": 15,
    "start_time": "2023-03-01T15:04:59.838Z"
   },
   {
    "duration": 10,
    "start_time": "2023-03-01T15:05:21.930Z"
   },
   {
    "duration": 61,
    "start_time": "2023-03-01T15:05:26.460Z"
   },
   {
    "duration": 51,
    "start_time": "2023-03-01T15:05:55.866Z"
   },
   {
    "duration": 427,
    "start_time": "2023-03-01T15:06:07.611Z"
   },
   {
    "duration": 51,
    "start_time": "2023-03-01T15:07:58.712Z"
   },
   {
    "duration": 52,
    "start_time": "2023-03-01T15:09:03.366Z"
   },
   {
    "duration": 10,
    "start_time": "2023-03-01T15:10:00.195Z"
   },
   {
    "duration": 14,
    "start_time": "2023-03-01T15:10:05.350Z"
   },
   {
    "duration": 540,
    "start_time": "2023-03-01T15:10:33.302Z"
   },
   {
    "duration": 53,
    "start_time": "2023-03-01T15:11:23.948Z"
   },
   {
    "duration": 19,
    "start_time": "2023-03-01T15:11:57.550Z"
   },
   {
    "duration": 19,
    "start_time": "2023-03-01T15:14:36.513Z"
   },
   {
    "duration": 49,
    "start_time": "2023-03-01T15:14:42.167Z"
   },
   {
    "duration": 12,
    "start_time": "2023-03-01T15:17:40.113Z"
   },
   {
    "duration": 6,
    "start_time": "2023-03-01T15:18:06.683Z"
   },
   {
    "duration": 12,
    "start_time": "2023-03-01T15:18:27.294Z"
   },
   {
    "duration": 15,
    "start_time": "2023-03-01T15:19:34.384Z"
   },
   {
    "duration": 7,
    "start_time": "2023-03-01T15:19:45.481Z"
   },
   {
    "duration": 14,
    "start_time": "2023-03-01T15:19:48.413Z"
   },
   {
    "duration": 10,
    "start_time": "2023-03-01T15:20:32.722Z"
   },
   {
    "duration": 5,
    "start_time": "2023-03-01T15:20:46.894Z"
   },
   {
    "duration": 7,
    "start_time": "2023-03-01T15:20:49.657Z"
   },
   {
    "duration": 15,
    "start_time": "2023-03-01T15:21:03.897Z"
   },
   {
    "duration": 4,
    "start_time": "2023-03-01T15:21:12.613Z"
   },
   {
    "duration": 5,
    "start_time": "2023-03-01T15:23:55.498Z"
   },
   {
    "duration": 16,
    "start_time": "2023-03-01T15:23:58.003Z"
   },
   {
    "duration": 251,
    "start_time": "2023-03-01T15:24:03.056Z"
   },
   {
    "duration": 315,
    "start_time": "2023-03-01T15:24:07.649Z"
   },
   {
    "duration": 4,
    "start_time": "2023-03-01T15:24:18.840Z"
   },
   {
    "duration": 14,
    "start_time": "2023-03-01T15:24:23.432Z"
   },
   {
    "duration": 6,
    "start_time": "2023-03-01T15:24:51.492Z"
   },
   {
    "duration": 4,
    "start_time": "2023-03-01T15:25:13.266Z"
   },
   {
    "duration": 10,
    "start_time": "2023-03-01T15:25:15.615Z"
   },
   {
    "duration": 6,
    "start_time": "2023-03-01T15:29:56.881Z"
   },
   {
    "duration": 16,
    "start_time": "2023-03-01T15:30:05.059Z"
   },
   {
    "duration": 13,
    "start_time": "2023-03-01T15:30:54.063Z"
   },
   {
    "duration": 14,
    "start_time": "2023-03-01T15:30:58.653Z"
   },
   {
    "duration": 1483,
    "start_time": "2023-03-01T15:31:03.873Z"
   },
   {
    "duration": 70,
    "start_time": "2023-03-01T15:31:05.359Z"
   },
   {
    "duration": 209,
    "start_time": "2023-03-01T15:31:05.431Z"
   },
   {
    "duration": 10,
    "start_time": "2023-03-01T15:31:05.642Z"
   },
   {
    "duration": 12,
    "start_time": "2023-03-01T15:31:05.654Z"
   },
   {
    "duration": 6,
    "start_time": "2023-03-01T15:31:05.667Z"
   },
   {
    "duration": 25,
    "start_time": "2023-03-01T15:31:05.675Z"
   },
   {
    "duration": 208,
    "start_time": "2023-03-01T15:31:05.701Z"
   },
   {
    "duration": 14,
    "start_time": "2023-03-01T15:31:05.911Z"
   },
   {
    "duration": 214,
    "start_time": "2023-03-01T15:31:05.934Z"
   },
   {
    "duration": 22,
    "start_time": "2023-03-01T15:31:06.150Z"
   },
   {
    "duration": 13,
    "start_time": "2023-03-01T15:31:06.174Z"
   },
   {
    "duration": 20,
    "start_time": "2023-03-01T15:31:06.189Z"
   },
   {
    "duration": 60,
    "start_time": "2023-03-01T15:31:06.237Z"
   },
   {
    "duration": 11,
    "start_time": "2023-03-01T15:31:06.299Z"
   },
   {
    "duration": 72,
    "start_time": "2023-03-01T15:31:06.312Z"
   },
   {
    "duration": 342,
    "start_time": "2023-03-01T15:31:06.386Z"
   },
   {
    "duration": 352,
    "start_time": "2023-03-01T15:31:06.729Z"
   },
   {
    "duration": 21,
    "start_time": "2023-03-01T15:31:07.083Z"
   },
   {
    "duration": 392,
    "start_time": "2023-03-01T15:31:07.105Z"
   },
   {
    "duration": 20,
    "start_time": "2023-03-01T15:31:53.377Z"
   },
   {
    "duration": 17,
    "start_time": "2023-03-01T15:32:05.833Z"
   },
   {
    "duration": 21,
    "start_time": "2023-03-01T15:32:23.225Z"
   },
   {
    "duration": 60,
    "start_time": "2023-03-01T15:32:54.848Z"
   },
   {
    "duration": 17,
    "start_time": "2023-03-01T15:33:03.485Z"
   },
   {
    "duration": 59,
    "start_time": "2023-03-01T15:33:10.728Z"
   },
   {
    "duration": 331,
    "start_time": "2023-03-01T15:33:14.563Z"
   },
   {
    "duration": 322,
    "start_time": "2023-03-01T15:33:22.513Z"
   },
   {
    "duration": 331,
    "start_time": "2023-03-01T15:33:27.271Z"
   },
   {
    "duration": 15,
    "start_time": "2023-03-01T15:33:37.585Z"
   },
   {
    "duration": 14,
    "start_time": "2023-03-01T15:33:48.779Z"
   },
   {
    "duration": 49,
    "start_time": "2023-03-01T15:34:04.976Z"
   },
   {
    "duration": 7,
    "start_time": "2023-03-01T15:40:19.665Z"
   },
   {
    "duration": 10,
    "start_time": "2023-03-01T15:40:54.567Z"
   },
   {
    "duration": 21,
    "start_time": "2023-03-01T15:41:07.254Z"
   },
   {
    "duration": 178,
    "start_time": "2023-03-01T15:41:32.301Z"
   },
   {
    "duration": 20,
    "start_time": "2023-03-01T15:41:38.611Z"
   },
   {
    "duration": 18,
    "start_time": "2023-03-01T15:42:28.753Z"
   },
   {
    "duration": 21,
    "start_time": "2023-03-01T15:42:41.747Z"
   },
   {
    "duration": 18,
    "start_time": "2023-03-01T15:42:51.721Z"
   },
   {
    "duration": 16,
    "start_time": "2023-03-01T15:43:01.016Z"
   },
   {
    "duration": 228,
    "start_time": "2023-03-01T15:47:37.995Z"
   },
   {
    "duration": 222,
    "start_time": "2023-03-01T15:47:52.003Z"
   },
   {
    "duration": 309,
    "start_time": "2023-03-01T15:48:02.025Z"
   },
   {
    "duration": 288,
    "start_time": "2023-03-01T15:48:11.521Z"
   },
   {
    "duration": 86,
    "start_time": "2023-03-01T15:55:15.346Z"
   },
   {
    "duration": 91,
    "start_time": "2023-03-01T15:55:52.913Z"
   },
   {
    "duration": 513,
    "start_time": "2023-03-01T15:59:23.830Z"
   },
   {
    "duration": 395,
    "start_time": "2023-03-01T16:00:01.691Z"
   },
   {
    "duration": 15,
    "start_time": "2023-03-01T16:03:30.708Z"
   },
   {
    "duration": 13,
    "start_time": "2023-03-01T16:03:34.317Z"
   },
   {
    "duration": 263,
    "start_time": "2023-03-01T16:03:38.512Z"
   },
   {
    "duration": 170,
    "start_time": "2023-03-01T16:03:54.438Z"
   },
   {
    "duration": 118,
    "start_time": "2023-03-01T16:04:02.265Z"
   },
   {
    "duration": 892,
    "start_time": "2023-03-01T16:05:09.557Z"
   },
   {
    "duration": 113,
    "start_time": "2023-03-01T16:06:26.614Z"
   },
   {
    "duration": 223,
    "start_time": "2023-03-01T16:07:57.176Z"
   },
   {
    "duration": 1350,
    "start_time": "2023-03-01T16:08:06.284Z"
   },
   {
    "duration": 72,
    "start_time": "2023-03-01T16:08:07.636Z"
   },
   {
    "duration": 215,
    "start_time": "2023-03-01T16:08:07.710Z"
   },
   {
    "duration": 10,
    "start_time": "2023-03-01T16:08:07.934Z"
   },
   {
    "duration": 4,
    "start_time": "2023-03-01T16:08:07.947Z"
   },
   {
    "duration": 10,
    "start_time": "2023-03-01T16:08:07.953Z"
   },
   {
    "duration": 19,
    "start_time": "2023-03-01T16:08:07.965Z"
   },
   {
    "duration": 213,
    "start_time": "2023-03-01T16:08:07.986Z"
   },
   {
    "duration": 13,
    "start_time": "2023-03-01T16:08:08.201Z"
   },
   {
    "duration": 214,
    "start_time": "2023-03-01T16:08:08.215Z"
   },
   {
    "duration": 18,
    "start_time": "2023-03-01T16:08:08.435Z"
   },
   {
    "duration": 12,
    "start_time": "2023-03-01T16:08:08.455Z"
   },
   {
    "duration": 16,
    "start_time": "2023-03-01T16:08:08.469Z"
   },
   {
    "duration": 82,
    "start_time": "2023-03-01T16:08:08.488Z"
   },
   {
    "duration": 12,
    "start_time": "2023-03-01T16:08:08.572Z"
   },
   {
    "duration": 68,
    "start_time": "2023-03-01T16:08:08.586Z"
   },
   {
    "duration": 338,
    "start_time": "2023-03-01T16:08:08.655Z"
   },
   {
    "duration": 343,
    "start_time": "2023-03-01T16:08:08.995Z"
   },
   {
    "duration": 138,
    "start_time": "2023-03-01T16:08:09.339Z"
   },
   {
    "duration": 322,
    "start_time": "2023-03-01T16:08:09.478Z"
   },
   {
    "duration": 336,
    "start_time": "2023-03-01T16:08:09.801Z"
   },
   {
    "duration": 112,
    "start_time": "2023-03-01T16:08:10.139Z"
   },
   {
    "duration": 496,
    "start_time": "2023-03-01T16:08:10.253Z"
   },
   {
    "duration": 11,
    "start_time": "2023-03-01T16:08:10.751Z"
   },
   {
    "duration": 120,
    "start_time": "2023-03-01T16:08:10.764Z"
   },
   {
    "duration": 187,
    "start_time": "2023-03-01T16:08:56.438Z"
   },
   {
    "duration": 105,
    "start_time": "2023-03-01T16:09:31.023Z"
   },
   {
    "duration": 65,
    "start_time": "2023-03-02T08:19:37.955Z"
   },
   {
    "duration": 1813,
    "start_time": "2023-03-02T08:19:50.656Z"
   },
   {
    "duration": 569,
    "start_time": "2023-03-02T08:19:52.472Z"
   },
   {
    "duration": 230,
    "start_time": "2023-03-02T08:19:53.043Z"
   },
   {
    "duration": 12,
    "start_time": "2023-03-02T08:19:53.276Z"
   },
   {
    "duration": 20,
    "start_time": "2023-03-02T08:19:53.290Z"
   },
   {
    "duration": 25,
    "start_time": "2023-03-02T08:19:53.312Z"
   },
   {
    "duration": 30,
    "start_time": "2023-03-02T08:19:53.339Z"
   },
   {
    "duration": 220,
    "start_time": "2023-03-02T08:19:53.371Z"
   },
   {
    "duration": 14,
    "start_time": "2023-03-02T08:19:53.593Z"
   },
   {
    "duration": 252,
    "start_time": "2023-03-02T08:19:53.609Z"
   },
   {
    "duration": 29,
    "start_time": "2023-03-02T08:19:53.863Z"
   },
   {
    "duration": 15,
    "start_time": "2023-03-02T08:19:53.893Z"
   },
   {
    "duration": 24,
    "start_time": "2023-03-02T08:19:53.910Z"
   },
   {
    "duration": 98,
    "start_time": "2023-03-02T08:19:53.937Z"
   },
   {
    "duration": 12,
    "start_time": "2023-03-02T08:19:54.037Z"
   },
   {
    "duration": 82,
    "start_time": "2023-03-02T08:19:54.051Z"
   },
   {
    "duration": 374,
    "start_time": "2023-03-02T08:19:54.135Z"
   },
   {
    "duration": 380,
    "start_time": "2023-03-02T08:19:54.511Z"
   },
   {
    "duration": 187,
    "start_time": "2023-03-02T08:19:54.893Z"
   },
   {
    "duration": 385,
    "start_time": "2023-03-02T08:19:55.082Z"
   },
   {
    "duration": 383,
    "start_time": "2023-03-02T08:19:55.470Z"
   },
   {
    "duration": 138,
    "start_time": "2023-03-02T08:19:55.858Z"
   },
   {
    "duration": 562,
    "start_time": "2023-03-02T08:19:55.999Z"
   },
   {
    "duration": 21,
    "start_time": "2023-03-02T08:19:56.564Z"
   },
   {
    "duration": 320,
    "start_time": "2023-03-02T08:19:56.587Z"
   },
   {
    "duration": 150,
    "start_time": "2023-03-02T08:19:56.909Z"
   },
   {
    "duration": 12,
    "start_time": "2023-03-02T08:26:49.379Z"
   },
   {
    "duration": 125,
    "start_time": "2023-03-02T08:26:53.612Z"
   },
   {
    "duration": 148,
    "start_time": "2023-03-02T08:26:56.193Z"
   },
   {
    "duration": 131,
    "start_time": "2023-03-02T08:29:55.123Z"
   },
   {
    "duration": 130,
    "start_time": "2023-03-02T08:30:36.488Z"
   },
   {
    "duration": 143,
    "start_time": "2023-03-02T08:30:45.591Z"
   },
   {
    "duration": 131,
    "start_time": "2023-03-02T08:31:27.998Z"
   },
   {
    "duration": 34,
    "start_time": "2023-03-02T08:31:59.707Z"
   },
   {
    "duration": 118,
    "start_time": "2023-03-02T08:32:01.192Z"
   },
   {
    "duration": 11,
    "start_time": "2023-03-02T08:34:43.348Z"
   },
   {
    "duration": 138,
    "start_time": "2023-03-02T08:34:52.816Z"
   },
   {
    "duration": 130,
    "start_time": "2023-03-02T08:35:28.307Z"
   },
   {
    "duration": 3,
    "start_time": "2023-03-02T08:36:39.039Z"
   },
   {
    "duration": 144,
    "start_time": "2023-03-02T08:36:40.880Z"
   },
   {
    "duration": 241,
    "start_time": "2023-03-02T08:37:30.266Z"
   },
   {
    "duration": 22,
    "start_time": "2023-03-02T08:37:48.683Z"
   },
   {
    "duration": 11,
    "start_time": "2023-03-02T08:37:56.852Z"
   },
   {
    "duration": 14,
    "start_time": "2023-03-02T08:38:22.507Z"
   },
   {
    "duration": 10602,
    "start_time": "2023-03-02T08:48:24.019Z"
   },
   {
    "duration": 144,
    "start_time": "2023-03-02T09:03:29.536Z"
   },
   {
    "duration": 142,
    "start_time": "2023-03-02T09:09:22.474Z"
   },
   {
    "duration": 97,
    "start_time": "2023-03-02T09:09:45.291Z"
   },
   {
    "duration": 36,
    "start_time": "2023-03-02T09:11:08.081Z"
   },
   {
    "duration": 36,
    "start_time": "2023-03-02T09:11:14.225Z"
   },
   {
    "duration": 62,
    "start_time": "2023-03-02T09:11:28.126Z"
   },
   {
    "duration": 95,
    "start_time": "2023-03-02T09:11:39.655Z"
   },
   {
    "duration": 30,
    "start_time": "2023-03-02T09:22:37.902Z"
   },
   {
    "duration": 29,
    "start_time": "2023-03-02T09:23:36.193Z"
   },
   {
    "duration": 30,
    "start_time": "2023-03-02T09:23:53.949Z"
   },
   {
    "duration": 64,
    "start_time": "2023-03-02T09:24:18.294Z"
   },
   {
    "duration": 28,
    "start_time": "2023-03-02T09:24:23.535Z"
   },
   {
    "duration": 35,
    "start_time": "2023-03-02T09:25:03.056Z"
   },
   {
    "duration": 34,
    "start_time": "2023-03-02T09:25:29.606Z"
   },
   {
    "duration": 39,
    "start_time": "2023-03-02T09:25:52.756Z"
   },
   {
    "duration": 17,
    "start_time": "2023-03-02T09:27:13.448Z"
   },
   {
    "duration": 14,
    "start_time": "2023-03-02T09:32:53.875Z"
   },
   {
    "duration": 21,
    "start_time": "2023-03-02T09:43:07.053Z"
   },
   {
    "duration": 910,
    "start_time": "2023-03-02T09:44:05.332Z"
   },
   {
    "duration": 230,
    "start_time": "2023-03-02T09:44:22.908Z"
   },
   {
    "duration": 525,
    "start_time": "2023-03-02T09:55:27.983Z"
   },
   {
    "duration": 369,
    "start_time": "2023-03-02T09:57:27.510Z"
   },
   {
    "duration": 365,
    "start_time": "2023-03-02T09:57:38.070Z"
   },
   {
    "duration": 543,
    "start_time": "2023-03-02T09:58:09.546Z"
   },
   {
    "duration": 372,
    "start_time": "2023-03-02T09:58:54.791Z"
   },
   {
    "duration": 411,
    "start_time": "2023-03-02T09:59:15.056Z"
   },
   {
    "duration": 460,
    "start_time": "2023-03-02T10:00:12.070Z"
   },
   {
    "duration": 527,
    "start_time": "2023-03-02T10:00:23.077Z"
   },
   {
    "duration": 368,
    "start_time": "2023-03-02T10:01:00.931Z"
   },
   {
    "duration": 384,
    "start_time": "2023-03-02T10:01:48.039Z"
   },
   {
    "duration": 379,
    "start_time": "2023-03-02T10:02:03.937Z"
   },
   {
    "duration": 446,
    "start_time": "2023-03-02T10:02:38.176Z"
   },
   {
    "duration": 17,
    "start_time": "2023-03-02T10:02:46.087Z"
   },
   {
    "duration": 450,
    "start_time": "2023-03-02T10:02:53.360Z"
   },
   {
    "duration": 341,
    "start_time": "2023-03-02T10:05:04.084Z"
   },
   {
    "duration": 369,
    "start_time": "2023-03-02T10:05:47.892Z"
   },
   {
    "duration": 94,
    "start_time": "2023-03-02T10:11:32.764Z"
   },
   {
    "duration": 16,
    "start_time": "2023-03-02T10:37:59.976Z"
   },
   {
    "duration": 6,
    "start_time": "2023-03-02T10:41:29.530Z"
   },
   {
    "duration": 7,
    "start_time": "2023-03-02T10:41:38.435Z"
   },
   {
    "duration": 17,
    "start_time": "2023-03-02T10:43:06.190Z"
   },
   {
    "duration": 8,
    "start_time": "2023-03-02T10:43:16.605Z"
   },
   {
    "duration": 15,
    "start_time": "2023-03-02T10:43:22.036Z"
   },
   {
    "duration": 14,
    "start_time": "2023-03-02T10:45:07.839Z"
   },
   {
    "duration": 133,
    "start_time": "2023-03-02T10:45:48.652Z"
   },
   {
    "duration": 451,
    "start_time": "2023-03-02T10:48:48.667Z"
   },
   {
    "duration": 457,
    "start_time": "2023-03-02T10:53:02.102Z"
   },
   {
    "duration": 500,
    "start_time": "2023-03-02T10:53:08.977Z"
   },
   {
    "duration": 16,
    "start_time": "2023-03-02T10:54:28.965Z"
   },
   {
    "duration": 52,
    "start_time": "2023-03-02T11:00:22.738Z"
   },
   {
    "duration": 25,
    "start_time": "2023-03-02T11:00:34.240Z"
   },
   {
    "duration": 145,
    "start_time": "2023-03-02T11:00:57.030Z"
   },
   {
    "duration": 127,
    "start_time": "2023-03-02T11:01:01.830Z"
   },
   {
    "duration": 2081,
    "start_time": "2023-03-02T11:04:42.037Z"
   },
   {
    "duration": 118,
    "start_time": "2023-03-02T11:04:44.121Z"
   },
   {
    "duration": 386,
    "start_time": "2023-03-02T11:04:44.241Z"
   },
   {
    "duration": 16,
    "start_time": "2023-03-02T11:04:44.629Z"
   },
   {
    "duration": 5,
    "start_time": "2023-03-02T11:04:44.660Z"
   },
   {
    "duration": 9,
    "start_time": "2023-03-02T11:04:44.667Z"
   },
   {
    "duration": 34,
    "start_time": "2023-03-02T11:04:44.678Z"
   },
   {
    "duration": 349,
    "start_time": "2023-03-02T11:04:44.715Z"
   },
   {
    "duration": 19,
    "start_time": "2023-03-02T11:04:45.067Z"
   },
   {
    "duration": 390,
    "start_time": "2023-03-02T11:04:45.089Z"
   },
   {
    "duration": 29,
    "start_time": "2023-03-02T11:04:45.482Z"
   },
   {
    "duration": 18,
    "start_time": "2023-03-02T11:04:45.514Z"
   },
   {
    "duration": 50,
    "start_time": "2023-03-02T11:04:45.534Z"
   },
   {
    "duration": 111,
    "start_time": "2023-03-02T11:04:45.589Z"
   },
   {
    "duration": 117,
    "start_time": "2023-03-02T11:04:45.702Z"
   },
   {
    "duration": 117,
    "start_time": "2023-03-02T11:04:45.821Z"
   },
   {
    "duration": 360,
    "start_time": "2023-03-02T11:04:45.940Z"
   },
   {
    "duration": 555,
    "start_time": "2023-03-02T11:04:46.305Z"
   },
   {
    "duration": 199,
    "start_time": "2023-03-02T11:04:46.862Z"
   },
   {
    "duration": 514,
    "start_time": "2023-03-02T11:04:47.064Z"
   },
   {
    "duration": 478,
    "start_time": "2023-03-02T11:04:47.581Z"
   },
   {
    "duration": 147,
    "start_time": "2023-03-02T11:04:48.061Z"
   },
   {
    "duration": 782,
    "start_time": "2023-03-02T11:04:48.210Z"
   },
   {
    "duration": 16,
    "start_time": "2023-03-02T11:04:48.995Z"
   },
   {
    "duration": 6,
    "start_time": "2023-03-02T11:04:49.013Z"
   },
   {
    "duration": 194,
    "start_time": "2023-03-02T11:04:49.021Z"
   },
   {
    "duration": 14124,
    "start_time": "2023-03-02T11:04:49.217Z"
   },
   {
    "duration": 258,
    "start_time": "2023-03-02T11:05:03.346Z"
   },
   {
    "duration": 12,
    "start_time": "2023-03-02T11:05:03.659Z"
   },
   {
    "duration": 42,
    "start_time": "2023-03-02T11:05:03.673Z"
   },
   {
    "duration": 292,
    "start_time": "2023-03-02T11:05:03.718Z"
   },
   {
    "duration": 638,
    "start_time": "2023-03-02T11:05:04.013Z"
   },
   {
    "duration": 608,
    "start_time": "2023-03-02T11:05:04.653Z"
   },
   {
    "duration": 527,
    "start_time": "2023-03-02T11:05:05.263Z"
   },
   {
    "duration": 155,
    "start_time": "2023-03-02T11:05:05.793Z"
   },
   {
    "duration": 17,
    "start_time": "2023-03-02T11:05:05.950Z"
   },
   {
    "duration": 19,
    "start_time": "2023-03-02T11:05:05.972Z"
   },
   {
    "duration": 14,
    "start_time": "2023-03-02T11:05:05.994Z"
   },
   {
    "duration": 258,
    "start_time": "2023-03-02T11:05:06.012Z"
   },
   {
    "duration": 598,
    "start_time": "2023-03-02T11:05:06.280Z"
   },
   {
    "duration": 419,
    "start_time": "2023-03-02T11:05:06.882Z"
   },
   {
    "duration": 17,
    "start_time": "2023-03-02T11:05:07.303Z"
   },
   {
    "duration": 138,
    "start_time": "2023-03-02T11:06:53.350Z"
   },
   {
    "duration": 180,
    "start_time": "2023-03-02T11:10:30.002Z"
   },
   {
    "duration": 12,
    "start_time": "2023-03-02T11:11:06.276Z"
   },
   {
    "duration": 19,
    "start_time": "2023-03-02T11:11:15.984Z"
   },
   {
    "duration": 96,
    "start_time": "2023-03-02T11:11:26.482Z"
   },
   {
    "duration": 95,
    "start_time": "2023-03-02T11:12:37.176Z"
   },
   {
    "duration": 92,
    "start_time": "2023-03-02T11:12:51.688Z"
   },
   {
    "duration": 84,
    "start_time": "2023-03-02T11:13:00.203Z"
   },
   {
    "duration": 64,
    "start_time": "2023-03-02T11:13:13.806Z"
   },
   {
    "duration": 74,
    "start_time": "2023-03-02T11:13:37.089Z"
   },
   {
    "duration": 82,
    "start_time": "2023-03-02T11:14:01.205Z"
   },
   {
    "duration": 72,
    "start_time": "2023-03-02T11:14:14.466Z"
   },
   {
    "duration": 6,
    "start_time": "2023-03-02T11:18:54.749Z"
   },
   {
    "duration": 8,
    "start_time": "2023-03-02T11:19:02.284Z"
   },
   {
    "duration": 154,
    "start_time": "2023-03-02T11:19:58.553Z"
   },
   {
    "duration": 46,
    "start_time": "2023-03-02T11:27:47.135Z"
   },
   {
    "duration": 11,
    "start_time": "2023-03-02T11:27:58.487Z"
   },
   {
    "duration": 85,
    "start_time": "2023-03-02T11:28:15.173Z"
   },
   {
    "duration": 43,
    "start_time": "2023-03-02T11:33:14.424Z"
   },
   {
    "duration": 49,
    "start_time": "2023-03-02T19:19:33.598Z"
   },
   {
    "duration": 1545,
    "start_time": "2023-03-02T19:19:39.752Z"
   },
   {
    "duration": 126,
    "start_time": "2023-03-02T19:19:41.299Z"
   },
   {
    "duration": 205,
    "start_time": "2023-03-02T19:19:41.427Z"
   },
   {
    "duration": 15,
    "start_time": "2023-03-02T19:19:41.634Z"
   },
   {
    "duration": 4,
    "start_time": "2023-03-02T19:19:41.651Z"
   },
   {
    "duration": 11,
    "start_time": "2023-03-02T19:19:41.657Z"
   },
   {
    "duration": 17,
    "start_time": "2023-03-02T19:19:41.669Z"
   },
   {
    "duration": 190,
    "start_time": "2023-03-02T19:19:41.687Z"
   },
   {
    "duration": 13,
    "start_time": "2023-03-02T19:19:41.879Z"
   },
   {
    "duration": 206,
    "start_time": "2023-03-02T19:19:41.893Z"
   },
   {
    "duration": 19,
    "start_time": "2023-03-02T19:19:42.101Z"
   },
   {
    "duration": 28,
    "start_time": "2023-03-02T19:19:42.121Z"
   },
   {
    "duration": 13,
    "start_time": "2023-03-02T19:19:42.150Z"
   },
   {
    "duration": 67,
    "start_time": "2023-03-02T19:19:42.166Z"
   },
   {
    "duration": 93,
    "start_time": "2023-03-02T19:19:42.235Z"
   },
   {
    "duration": 88,
    "start_time": "2023-03-02T19:19:42.329Z"
   },
   {
    "duration": 255,
    "start_time": "2023-03-02T19:19:42.418Z"
   },
   {
    "duration": 331,
    "start_time": "2023-03-02T19:19:42.675Z"
   },
   {
    "duration": 177,
    "start_time": "2023-03-02T19:19:43.008Z"
   },
   {
    "duration": 314,
    "start_time": "2023-03-02T19:19:43.187Z"
   },
   {
    "duration": 313,
    "start_time": "2023-03-02T19:19:43.502Z"
   },
   {
    "duration": 95,
    "start_time": "2023-03-02T19:19:43.817Z"
   },
   {
    "duration": 472,
    "start_time": "2023-03-02T19:19:43.913Z"
   },
   {
    "duration": 11,
    "start_time": "2023-03-02T19:19:44.387Z"
   },
   {
    "duration": 26,
    "start_time": "2023-03-02T19:19:44.399Z"
   },
   {
    "duration": 205,
    "start_time": "2023-03-02T19:19:44.427Z"
   },
   {
    "duration": 10193,
    "start_time": "2023-03-02T19:19:44.633Z"
   },
   {
    "duration": 164,
    "start_time": "2023-03-02T19:19:54.829Z"
   },
   {
    "duration": 61,
    "start_time": "2023-03-02T19:19:54.995Z"
   },
   {
    "duration": 24,
    "start_time": "2023-03-02T19:19:55.062Z"
   },
   {
    "duration": 172,
    "start_time": "2023-03-02T19:19:55.088Z"
   },
   {
    "duration": 365,
    "start_time": "2023-03-02T19:19:55.261Z"
   },
   {
    "duration": 377,
    "start_time": "2023-03-02T19:19:55.628Z"
   },
   {
    "duration": 363,
    "start_time": "2023-03-02T19:19:56.007Z"
   },
   {
    "duration": 113,
    "start_time": "2023-03-02T19:19:56.372Z"
   },
   {
    "duration": 6,
    "start_time": "2023-03-02T19:19:56.487Z"
   },
   {
    "duration": 25,
    "start_time": "2023-03-02T19:19:56.494Z"
   },
   {
    "duration": 21,
    "start_time": "2023-03-02T19:19:56.521Z"
   },
   {
    "duration": 127,
    "start_time": "2023-03-02T19:19:56.560Z"
   },
   {
    "duration": 400,
    "start_time": "2023-03-02T19:19:56.689Z"
   },
   {
    "duration": 406,
    "start_time": "2023-03-02T19:19:57.092Z"
   },
   {
    "duration": 10,
    "start_time": "2023-03-02T19:19:57.500Z"
   },
   {
    "duration": 73,
    "start_time": "2023-03-02T19:19:57.512Z"
   },
   {
    "duration": 80,
    "start_time": "2023-03-02T19:19:57.588Z"
   },
   {
    "duration": 7,
    "start_time": "2023-03-02T19:19:57.670Z"
   },
   {
    "duration": 127,
    "start_time": "2023-03-02T19:19:57.679Z"
   },
   {
    "duration": 67,
    "start_time": "2023-03-02T19:19:57.807Z"
   },
   {
    "duration": 25,
    "start_time": "2023-03-02T19:19:57.875Z"
   },
   {
    "duration": 76,
    "start_time": "2023-03-02T19:19:57.902Z"
   },
   {
    "duration": 63,
    "start_time": "2023-03-02T19:20:31.297Z"
   },
   {
    "duration": 52,
    "start_time": "2023-03-02T19:20:42.061Z"
   },
   {
    "duration": 728,
    "start_time": "2023-03-03T08:23:44.982Z"
   },
   {
    "duration": 1595,
    "start_time": "2023-03-03T08:23:53.040Z"
   },
   {
    "duration": 128,
    "start_time": "2023-03-03T08:23:54.638Z"
   },
   {
    "duration": 248,
    "start_time": "2023-03-03T08:23:54.768Z"
   },
   {
    "duration": 14,
    "start_time": "2023-03-03T08:23:55.018Z"
   },
   {
    "duration": 39,
    "start_time": "2023-03-03T08:23:55.035Z"
   },
   {
    "duration": 20,
    "start_time": "2023-03-03T08:23:55.075Z"
   },
   {
    "duration": 21,
    "start_time": "2023-03-03T08:23:55.097Z"
   },
   {
    "duration": 238,
    "start_time": "2023-03-03T08:23:55.120Z"
   },
   {
    "duration": 12,
    "start_time": "2023-03-03T08:23:55.360Z"
   },
   {
    "duration": 236,
    "start_time": "2023-03-03T08:23:55.374Z"
   },
   {
    "duration": 22,
    "start_time": "2023-03-03T08:23:55.612Z"
   },
   {
    "duration": 61,
    "start_time": "2023-03-03T08:23:55.636Z"
   },
   {
    "duration": 18,
    "start_time": "2023-03-03T08:23:55.699Z"
   },
   {
    "duration": 60,
    "start_time": "2023-03-03T08:23:55.721Z"
   },
   {
    "duration": 90,
    "start_time": "2023-03-03T08:23:55.783Z"
   },
   {
    "duration": 72,
    "start_time": "2023-03-03T08:23:55.874Z"
   },
   {
    "duration": 291,
    "start_time": "2023-03-03T08:23:55.948Z"
   },
   {
    "duration": 392,
    "start_time": "2023-03-03T08:23:56.241Z"
   },
   {
    "duration": 285,
    "start_time": "2023-03-03T08:23:56.635Z"
   },
   {
    "duration": 321,
    "start_time": "2023-03-03T08:23:56.922Z"
   },
   {
    "duration": 330,
    "start_time": "2023-03-03T08:23:57.244Z"
   },
   {
    "duration": 92,
    "start_time": "2023-03-03T08:23:57.575Z"
   },
   {
    "duration": 520,
    "start_time": "2023-03-03T08:23:57.669Z"
   },
   {
    "duration": 10,
    "start_time": "2023-03-03T08:23:58.191Z"
   },
   {
    "duration": 32,
    "start_time": "2023-03-03T08:23:58.202Z"
   },
   {
    "duration": 194,
    "start_time": "2023-03-03T08:23:58.236Z"
   },
   {
    "duration": 9819,
    "start_time": "2023-03-03T08:23:58.432Z"
   },
   {
    "duration": 261,
    "start_time": "2023-03-03T08:24:08.254Z"
   },
   {
    "duration": 11,
    "start_time": "2023-03-03T08:24:08.517Z"
   },
   {
    "duration": 17,
    "start_time": "2023-03-03T08:24:08.530Z"
   },
   {
    "duration": 122,
    "start_time": "2023-03-03T08:24:08.548Z"
   },
   {
    "duration": 392,
    "start_time": "2023-03-03T08:24:08.672Z"
   },
   {
    "duration": 393,
    "start_time": "2023-03-03T08:24:09.066Z"
   },
   {
    "duration": 337,
    "start_time": "2023-03-03T08:24:09.461Z"
   },
   {
    "duration": 82,
    "start_time": "2023-03-03T08:24:09.799Z"
   },
   {
    "duration": 5,
    "start_time": "2023-03-03T08:24:09.882Z"
   },
   {
    "duration": 37,
    "start_time": "2023-03-03T08:24:09.888Z"
   },
   {
    "duration": 19,
    "start_time": "2023-03-03T08:24:09.927Z"
   },
   {
    "duration": 113,
    "start_time": "2023-03-03T08:24:09.948Z"
   },
   {
    "duration": 388,
    "start_time": "2023-03-03T08:24:10.063Z"
   },
   {
    "duration": 378,
    "start_time": "2023-03-03T08:24:10.455Z"
   },
   {
    "duration": 11,
    "start_time": "2023-03-03T08:24:10.834Z"
   },
   {
    "duration": 77,
    "start_time": "2023-03-03T08:24:10.846Z"
   },
   {
    "duration": 51,
    "start_time": "2023-03-03T08:24:10.925Z"
   },
   {
    "duration": 7,
    "start_time": "2023-03-03T08:24:10.978Z"
   },
   {
    "duration": 125,
    "start_time": "2023-03-03T08:24:10.987Z"
   },
   {
    "duration": 56,
    "start_time": "2023-03-03T08:24:11.114Z"
   },
   {
    "duration": 55,
    "start_time": "2023-03-03T08:24:11.171Z"
   },
   {
    "duration": 10,
    "start_time": "2023-03-03T08:26:39.090Z"
   },
   {
    "duration": 115,
    "start_time": "2023-03-03T08:27:08.272Z"
   },
   {
    "duration": 11,
    "start_time": "2023-03-03T08:28:44.479Z"
   },
   {
    "duration": 69,
    "start_time": "2023-03-03T14:00:37.353Z"
   },
   {
    "duration": 2152,
    "start_time": "2023-03-03T14:00:59.332Z"
   },
   {
    "duration": 260,
    "start_time": "2023-03-03T14:01:01.487Z"
   },
   {
    "duration": 307,
    "start_time": "2023-03-03T14:01:03.012Z"
   },
   {
    "duration": 13,
    "start_time": "2023-03-03T14:01:04.209Z"
   },
   {
    "duration": 5,
    "start_time": "2023-03-03T14:01:04.650Z"
   },
   {
    "duration": 6,
    "start_time": "2023-03-03T14:01:05.076Z"
   },
   {
    "duration": 22,
    "start_time": "2023-03-03T14:01:05.494Z"
   },
   {
    "duration": 286,
    "start_time": "2023-03-03T14:01:06.375Z"
   },
   {
    "duration": 19,
    "start_time": "2023-03-03T14:01:07.259Z"
   },
   {
    "duration": 309,
    "start_time": "2023-03-03T14:01:07.645Z"
   },
   {
    "duration": 26,
    "start_time": "2023-03-03T14:01:08.399Z"
   },
   {
    "duration": 15,
    "start_time": "2023-03-03T14:01:08.747Z"
   },
   {
    "duration": 21,
    "start_time": "2023-03-03T14:01:10.177Z"
   },
   {
    "duration": 97,
    "start_time": "2023-03-03T14:01:10.552Z"
   },
   {
    "duration": 16,
    "start_time": "2023-03-03T14:01:10.888Z"
   },
   {
    "duration": 86,
    "start_time": "2023-03-03T14:01:11.228Z"
   },
   {
    "duration": 438,
    "start_time": "2023-03-03T14:01:12.309Z"
   },
   {
    "duration": 477,
    "start_time": "2023-03-03T14:01:13.443Z"
   },
   {
    "duration": 196,
    "start_time": "2023-03-03T14:01:14.959Z"
   },
   {
    "duration": 347,
    "start_time": "2023-03-03T14:01:16.183Z"
   },
   {
    "duration": 472,
    "start_time": "2023-03-03T14:01:17.325Z"
   },
   {
    "duration": 141,
    "start_time": "2023-03-03T14:01:18.631Z"
   },
   {
    "duration": 646,
    "start_time": "2023-03-03T14:01:20.723Z"
   },
   {
    "duration": 14,
    "start_time": "2023-03-03T14:01:21.895Z"
   },
   {
    "duration": 3,
    "start_time": "2023-03-03T14:01:22.297Z"
   },
   {
    "duration": 270,
    "start_time": "2023-03-03T14:01:22.754Z"
   },
   {
    "duration": 12388,
    "start_time": "2023-03-03T14:01:23.631Z"
   },
   {
    "duration": 262,
    "start_time": "2023-03-03T14:01:36.022Z"
   },
   {
    "duration": 3,
    "start_time": "2023-03-03T14:01:36.286Z"
   },
   {
    "duration": 17,
    "start_time": "2023-03-03T14:01:36.341Z"
   },
   {
    "duration": 273,
    "start_time": "2023-03-03T14:01:36.360Z"
   },
   {
    "duration": 546,
    "start_time": "2023-03-03T14:01:36.635Z"
   },
   {
    "duration": 490,
    "start_time": "2023-03-03T14:01:37.183Z"
   },
   {
    "duration": 521,
    "start_time": "2023-03-03T14:01:37.676Z"
   },
   {
    "duration": 90,
    "start_time": "2023-03-03T14:01:38.199Z"
   },
   {
    "duration": 7,
    "start_time": "2023-03-03T14:01:38.292Z"
   },
   {
    "duration": 17,
    "start_time": "2023-03-03T14:01:42.548Z"
   },
   {
    "duration": 14,
    "start_time": "2023-03-03T14:01:44.048Z"
   },
   {
    "duration": 185,
    "start_time": "2023-03-03T14:01:45.149Z"
   },
   {
    "duration": 574,
    "start_time": "2023-03-03T14:01:47.400Z"
   },
   {
    "duration": 537,
    "start_time": "2023-03-03T14:01:48.840Z"
   },
   {
    "duration": 15,
    "start_time": "2023-03-03T14:01:50.383Z"
   },
   {
    "duration": 78,
    "start_time": "2023-03-03T14:01:52.897Z"
   },
   {
    "duration": 78,
    "start_time": "2023-03-03T14:01:55.684Z"
   },
   {
    "duration": 557,
    "start_time": "2023-03-03T14:02:16.014Z"
   },
   {
    "duration": 458,
    "start_time": "2023-03-03T14:02:34.241Z"
   },
   {
    "duration": 74,
    "start_time": "2023-03-03T14:02:49.350Z"
   },
   {
    "duration": 499,
    "start_time": "2023-03-03T14:03:10.565Z"
   },
   {
    "duration": 538,
    "start_time": "2023-03-03T14:12:00.606Z"
   },
   {
    "duration": 368,
    "start_time": "2023-03-03T14:12:04.634Z"
   },
   {
    "duration": 514,
    "start_time": "2023-03-03T14:12:46.203Z"
   },
   {
    "duration": 7339,
    "start_time": "2023-03-03T14:12:59.240Z"
   },
   {
    "duration": 266,
    "start_time": "2023-03-03T14:13:56.266Z"
   },
   {
    "duration": 10,
    "start_time": "2023-03-03T14:25:24.028Z"
   },
   {
    "duration": 141,
    "start_time": "2023-03-03T14:26:42.289Z"
   },
   {
    "duration": 201,
    "start_time": "2023-03-03T14:27:09.400Z"
   },
   {
    "duration": 19,
    "start_time": "2023-03-03T14:27:15.504Z"
   },
   {
    "duration": 18,
    "start_time": "2023-03-03T14:27:45.420Z"
   },
   {
    "duration": 8,
    "start_time": "2023-03-03T14:28:26.351Z"
   },
   {
    "duration": 14,
    "start_time": "2023-03-03T14:28:43.431Z"
   },
   {
    "duration": 225,
    "start_time": "2023-03-03T14:50:37.744Z"
   },
   {
    "duration": 203,
    "start_time": "2023-03-03T14:50:41.632Z"
   },
   {
    "duration": 202,
    "start_time": "2023-03-03T15:36:28.755Z"
   },
   {
    "duration": 12,
    "start_time": "2023-03-03T15:36:45.469Z"
   },
   {
    "duration": 365,
    "start_time": "2023-03-03T16:13:52.527Z"
   },
   {
    "duration": 21,
    "start_time": "2023-03-03T16:15:25.483Z"
   },
   {
    "duration": 66,
    "start_time": "2023-03-03T16:15:36.417Z"
   },
   {
    "duration": 47,
    "start_time": "2023-03-03T16:15:52.794Z"
   },
   {
    "duration": 1454,
    "start_time": "2023-03-03T16:49:10.795Z"
   },
   {
    "duration": 68,
    "start_time": "2023-03-03T16:49:12.251Z"
   },
   {
    "duration": 224,
    "start_time": "2023-03-03T16:49:12.323Z"
   },
   {
    "duration": 11,
    "start_time": "2023-03-03T16:49:12.550Z"
   },
   {
    "duration": 6,
    "start_time": "2023-03-03T16:49:12.562Z"
   },
   {
    "duration": 12,
    "start_time": "2023-03-03T16:49:12.569Z"
   },
   {
    "duration": 13,
    "start_time": "2023-03-03T16:49:12.583Z"
   },
   {
    "duration": 213,
    "start_time": "2023-03-03T16:49:12.597Z"
   },
   {
    "duration": 22,
    "start_time": "2023-03-03T16:49:12.812Z"
   },
   {
    "duration": 232,
    "start_time": "2023-03-03T16:49:12.837Z"
   },
   {
    "duration": 20,
    "start_time": "2023-03-03T16:49:13.123Z"
   },
   {
    "duration": 13,
    "start_time": "2023-03-03T16:49:13.145Z"
   },
   {
    "duration": 64,
    "start_time": "2023-03-03T16:49:13.159Z"
   },
   {
    "duration": 119,
    "start_time": "2023-03-03T16:49:13.225Z"
   },
   {
    "duration": 11,
    "start_time": "2023-03-03T16:49:13.345Z"
   },
   {
    "duration": 164,
    "start_time": "2023-03-03T16:49:13.358Z"
   },
   {
    "duration": 645,
    "start_time": "2023-03-03T16:49:13.523Z"
   },
   {
    "duration": 721,
    "start_time": "2023-03-03T16:49:14.223Z"
   },
   {
    "duration": 186,
    "start_time": "2023-03-03T16:49:14.945Z"
   },
   {
    "duration": 309,
    "start_time": "2023-03-03T16:49:15.132Z"
   },
   {
    "duration": 317,
    "start_time": "2023-03-03T16:49:15.443Z"
   },
   {
    "duration": 99,
    "start_time": "2023-03-03T16:49:15.761Z"
   },
   {
    "duration": 489,
    "start_time": "2023-03-03T16:49:15.862Z"
   },
   {
    "duration": 10,
    "start_time": "2023-03-03T16:49:16.353Z"
   },
   {
    "duration": 2,
    "start_time": "2023-03-03T16:49:16.365Z"
   },
   {
    "duration": 113,
    "start_time": "2023-03-03T16:49:16.368Z"
   },
   {
    "duration": 11367,
    "start_time": "2023-03-03T16:49:16.483Z"
   },
   {
    "duration": 196,
    "start_time": "2023-03-03T16:49:27.855Z"
   },
   {
    "duration": 13,
    "start_time": "2023-03-03T16:49:28.052Z"
   },
   {
    "duration": 55,
    "start_time": "2023-03-03T16:49:28.120Z"
   },
   {
    "duration": 124,
    "start_time": "2023-03-03T16:49:28.177Z"
   },
   {
    "duration": 407,
    "start_time": "2023-03-03T16:49:28.303Z"
   },
   {
    "duration": 375,
    "start_time": "2023-03-03T16:49:28.711Z"
   },
   {
    "duration": 333,
    "start_time": "2023-03-03T16:49:29.088Z"
   },
   {
    "duration": 83,
    "start_time": "2023-03-03T16:49:29.423Z"
   },
   {
    "duration": 6,
    "start_time": "2023-03-03T16:49:29.520Z"
   },
   {
    "duration": 18,
    "start_time": "2023-03-03T16:49:29.528Z"
   },
   {
    "duration": 9,
    "start_time": "2023-03-03T16:49:29.548Z"
   },
   {
    "duration": 115,
    "start_time": "2023-03-03T16:49:29.559Z"
   },
   {
    "duration": 389,
    "start_time": "2023-03-03T16:49:29.676Z"
   },
   {
    "duration": 411,
    "start_time": "2023-03-03T16:49:30.066Z"
   },
   {
    "duration": 14,
    "start_time": "2023-03-03T16:49:30.479Z"
   },
   {
    "duration": 91,
    "start_time": "2023-03-03T16:49:30.495Z"
   },
   {
    "duration": 66,
    "start_time": "2023-03-03T16:49:30.588Z"
   },
   {
    "duration": 6,
    "start_time": "2023-03-03T16:49:30.656Z"
   },
   {
    "duration": 138,
    "start_time": "2023-03-03T16:49:30.663Z"
   },
   {
    "duration": 61,
    "start_time": "2023-03-03T16:49:30.802Z"
   },
   {
    "duration": 27,
    "start_time": "2023-03-03T16:49:30.865Z"
   },
   {
    "duration": 377,
    "start_time": "2023-03-03T16:49:30.894Z"
   },
   {
    "duration": 200,
    "start_time": "2023-03-03T16:49:31.273Z"
   },
   {
    "duration": 60,
    "start_time": "2023-03-04T14:22:03.989Z"
   },
   {
    "duration": 1609,
    "start_time": "2023-03-04T14:22:11.142Z"
   },
   {
    "duration": 251,
    "start_time": "2023-03-04T14:22:12.754Z"
   },
   {
    "duration": 235,
    "start_time": "2023-03-04T14:22:13.007Z"
   },
   {
    "duration": 10,
    "start_time": "2023-03-04T14:22:13.244Z"
   },
   {
    "duration": 5,
    "start_time": "2023-03-04T14:22:13.256Z"
   },
   {
    "duration": 7,
    "start_time": "2023-03-04T14:22:13.262Z"
   },
   {
    "duration": 15,
    "start_time": "2023-03-04T14:22:13.271Z"
   },
   {
    "duration": 11,
    "start_time": "2023-03-04T14:22:13.312Z"
   },
   {
    "duration": 214,
    "start_time": "2023-03-04T14:22:13.326Z"
   },
   {
    "duration": 16,
    "start_time": "2023-03-04T14:22:13.543Z"
   },
   {
    "duration": 231,
    "start_time": "2023-03-04T14:22:13.561Z"
   },
   {
    "duration": 32,
    "start_time": "2023-03-04T14:22:13.794Z"
   },
   {
    "duration": 19,
    "start_time": "2023-03-04T14:22:13.827Z"
   },
   {
    "duration": 19,
    "start_time": "2023-03-04T14:22:13.849Z"
   },
   {
    "duration": 91,
    "start_time": "2023-03-04T14:22:13.870Z"
   },
   {
    "duration": 11,
    "start_time": "2023-03-04T14:22:13.962Z"
   },
   {
    "duration": 88,
    "start_time": "2023-03-04T14:22:13.975Z"
   },
   {
    "duration": 397,
    "start_time": "2023-03-04T14:22:14.066Z"
   },
   {
    "duration": 340,
    "start_time": "2023-03-04T14:22:14.464Z"
   },
   {
    "duration": 147,
    "start_time": "2023-03-04T14:22:14.811Z"
   },
   {
    "duration": 326,
    "start_time": "2023-03-04T14:22:14.960Z"
   },
   {
    "duration": 361,
    "start_time": "2023-03-04T14:22:15.288Z"
   },
   {
    "duration": 105,
    "start_time": "2023-03-04T14:22:15.651Z"
   },
   {
    "duration": 483,
    "start_time": "2023-03-04T14:22:15.758Z"
   },
   {
    "duration": 11,
    "start_time": "2023-03-04T14:22:16.243Z"
   },
   {
    "duration": 2,
    "start_time": "2023-03-04T14:22:16.256Z"
   },
   {
    "duration": 224,
    "start_time": "2023-03-04T14:22:16.260Z"
   },
   {
    "duration": 10307,
    "start_time": "2023-03-04T14:22:16.486Z"
   },
   {
    "duration": 224,
    "start_time": "2023-03-04T14:22:26.795Z"
   },
   {
    "duration": 18,
    "start_time": "2023-03-04T14:22:27.020Z"
   },
   {
    "duration": 112,
    "start_time": "2023-03-04T14:22:27.040Z"
   },
   {
    "duration": 121,
    "start_time": "2023-03-04T14:22:27.153Z"
   },
   {
    "duration": 409,
    "start_time": "2023-03-04T14:22:27.275Z"
   },
   {
    "duration": 383,
    "start_time": "2023-03-04T14:22:27.686Z"
   },
   {
    "duration": 362,
    "start_time": "2023-03-04T14:22:28.071Z"
   },
   {
    "duration": 107,
    "start_time": "2023-03-04T14:22:28.435Z"
   },
   {
    "duration": 5,
    "start_time": "2023-03-04T14:22:28.544Z"
   },
   {
    "duration": 13,
    "start_time": "2023-03-04T14:22:28.550Z"
   },
   {
    "duration": 13,
    "start_time": "2023-03-04T14:22:28.566Z"
   },
   {
    "duration": 150,
    "start_time": "2023-03-04T14:22:28.581Z"
   },
   {
    "duration": 399,
    "start_time": "2023-03-04T14:22:28.735Z"
   },
   {
    "duration": 390,
    "start_time": "2023-03-04T14:22:29.136Z"
   },
   {
    "duration": 20,
    "start_time": "2023-03-04T14:22:29.529Z"
   },
   {
    "duration": 75,
    "start_time": "2023-03-04T14:22:29.550Z"
   },
   {
    "duration": 59,
    "start_time": "2023-03-04T14:22:29.627Z"
   },
   {
    "duration": 6,
    "start_time": "2023-03-04T14:22:29.688Z"
   },
   {
    "duration": 140,
    "start_time": "2023-03-04T14:22:29.696Z"
   },
   {
    "duration": 87,
    "start_time": "2023-03-04T14:22:29.838Z"
   },
   {
    "duration": 26,
    "start_time": "2023-03-04T14:22:29.927Z"
   },
   {
    "duration": 381,
    "start_time": "2023-03-04T14:22:29.954Z"
   },
   {
    "duration": 210,
    "start_time": "2023-03-04T14:22:30.337Z"
   },
   {
    "duration": 185,
    "start_time": "2023-03-04T14:22:30.843Z"
   },
   {
    "duration": 6,
    "start_time": "2023-03-04T14:22:36.348Z"
   },
   {
    "duration": 55,
    "start_time": "2023-03-04T14:22:50.289Z"
   },
   {
    "duration": 9,
    "start_time": "2023-03-04T14:22:59.842Z"
   },
   {
    "duration": 10,
    "start_time": "2023-03-04T14:23:07.297Z"
   },
   {
    "duration": 18,
    "start_time": "2023-03-04T14:23:18.865Z"
   },
   {
    "duration": 32,
    "start_time": "2023-03-04T14:25:04.054Z"
   },
   {
    "duration": 14,
    "start_time": "2023-03-04T14:26:36.902Z"
   },
   {
    "duration": 12,
    "start_time": "2023-03-04T14:26:40.383Z"
   },
   {
    "duration": 12,
    "start_time": "2023-03-04T14:27:01.271Z"
   },
   {
    "duration": 18,
    "start_time": "2023-03-04T14:27:07.011Z"
   },
   {
    "duration": 9,
    "start_time": "2023-03-04T14:29:05.999Z"
   },
   {
    "duration": 8,
    "start_time": "2023-03-04T14:29:18.461Z"
   },
   {
    "duration": 10,
    "start_time": "2023-03-04T14:31:59.667Z"
   },
   {
    "duration": 19,
    "start_time": "2023-03-04T14:32:02.653Z"
   },
   {
    "duration": 10,
    "start_time": "2023-03-04T15:00:40.123Z"
   },
   {
    "duration": 6,
    "start_time": "2023-03-04T15:05:01.933Z"
   },
   {
    "duration": 52,
    "start_time": "2023-03-04T15:09:42.187Z"
   },
   {
    "duration": 69,
    "start_time": "2023-03-04T15:10:30.608Z"
   },
   {
    "duration": 14,
    "start_time": "2023-03-04T15:10:58.358Z"
   },
   {
    "duration": 77,
    "start_time": "2023-03-04T15:11:05.053Z"
   },
   {
    "duration": 28,
    "start_time": "2023-03-04T15:11:08.127Z"
   },
   {
    "duration": 10,
    "start_time": "2023-03-04T15:11:17.651Z"
   },
   {
    "duration": 12,
    "start_time": "2023-03-04T15:12:26.129Z"
   },
   {
    "duration": 16,
    "start_time": "2023-03-04T15:12:30.579Z"
   },
   {
    "duration": 12,
    "start_time": "2023-03-04T15:13:09.827Z"
   },
   {
    "duration": 15,
    "start_time": "2023-03-04T15:13:11.826Z"
   },
   {
    "duration": 1441,
    "start_time": "2023-03-04T15:13:28.608Z"
   },
   {
    "duration": 78,
    "start_time": "2023-03-04T15:13:30.051Z"
   },
   {
    "duration": 230,
    "start_time": "2023-03-04T15:13:30.130Z"
   },
   {
    "duration": 11,
    "start_time": "2023-03-04T15:13:30.362Z"
   },
   {
    "duration": 13,
    "start_time": "2023-03-04T15:13:30.375Z"
   },
   {
    "duration": 44,
    "start_time": "2023-03-04T15:13:30.389Z"
   },
   {
    "duration": 54,
    "start_time": "2023-03-04T15:13:30.435Z"
   },
   {
    "duration": 78,
    "start_time": "2023-03-04T15:13:30.491Z"
   },
   {
    "duration": 16,
    "start_time": "2023-03-04T15:13:30.571Z"
   },
   {
    "duration": 45,
    "start_time": "2023-03-04T15:13:30.589Z"
   },
   {
    "duration": 59,
    "start_time": "2023-03-04T15:13:30.636Z"
   },
   {
    "duration": 229,
    "start_time": "2023-03-04T15:13:30.696Z"
   },
   {
    "duration": 14,
    "start_time": "2023-03-04T15:13:30.927Z"
   },
   {
    "duration": 246,
    "start_time": "2023-03-04T15:13:30.944Z"
   },
   {
    "duration": 35,
    "start_time": "2023-03-04T15:13:31.191Z"
   },
   {
    "duration": 13,
    "start_time": "2023-03-04T15:13:31.228Z"
   },
   {
    "duration": 37,
    "start_time": "2023-03-04T15:13:31.243Z"
   },
   {
    "duration": 69,
    "start_time": "2023-03-04T15:13:31.281Z"
   },
   {
    "duration": 10,
    "start_time": "2023-03-04T15:13:31.352Z"
   },
   {
    "duration": 94,
    "start_time": "2023-03-04T15:13:31.364Z"
   },
   {
    "duration": 344,
    "start_time": "2023-03-04T15:13:31.460Z"
   },
   {
    "duration": 341,
    "start_time": "2023-03-04T15:13:31.806Z"
   },
   {
    "duration": 158,
    "start_time": "2023-03-04T15:13:32.148Z"
   },
   {
    "duration": 320,
    "start_time": "2023-03-04T15:13:32.307Z"
   },
   {
    "duration": 316,
    "start_time": "2023-03-04T15:13:32.629Z"
   },
   {
    "duration": 96,
    "start_time": "2023-03-04T15:13:32.947Z"
   },
   {
    "duration": 457,
    "start_time": "2023-03-04T15:13:33.044Z"
   },
   {
    "duration": 27,
    "start_time": "2023-03-04T15:13:33.502Z"
   },
   {
    "duration": 2,
    "start_time": "2023-03-04T15:13:33.531Z"
   },
   {
    "duration": 119,
    "start_time": "2023-03-04T15:13:33.535Z"
   },
   {
    "duration": 10466,
    "start_time": "2023-03-04T15:13:33.656Z"
   },
   {
    "duration": 226,
    "start_time": "2023-03-04T15:13:44.124Z"
   },
   {
    "duration": 68,
    "start_time": "2023-03-04T15:13:44.352Z"
   },
   {
    "duration": 114,
    "start_time": "2023-03-04T15:13:44.421Z"
   },
   {
    "duration": 128,
    "start_time": "2023-03-04T15:13:44.538Z"
   },
   {
    "duration": 395,
    "start_time": "2023-03-04T15:13:44.668Z"
   },
   {
    "duration": 400,
    "start_time": "2023-03-04T15:13:45.065Z"
   },
   {
    "duration": 360,
    "start_time": "2023-03-04T15:13:45.466Z"
   },
   {
    "duration": 98,
    "start_time": "2023-03-04T15:13:45.831Z"
   },
   {
    "duration": 5,
    "start_time": "2023-03-04T15:13:45.931Z"
   },
   {
    "duration": 13,
    "start_time": "2023-03-04T15:13:45.940Z"
   },
   {
    "duration": 31,
    "start_time": "2023-03-04T15:13:45.954Z"
   },
   {
    "duration": 144,
    "start_time": "2023-03-04T15:13:45.986Z"
   },
   {
    "duration": 406,
    "start_time": "2023-03-04T15:13:46.132Z"
   },
   {
    "duration": 398,
    "start_time": "2023-03-04T15:13:46.540Z"
   },
   {
    "duration": 12,
    "start_time": "2023-03-04T15:13:46.939Z"
   },
   {
    "duration": 79,
    "start_time": "2023-03-04T15:13:46.952Z"
   },
   {
    "duration": 52,
    "start_time": "2023-03-04T15:13:47.033Z"
   },
   {
    "duration": 7,
    "start_time": "2023-03-04T15:13:47.086Z"
   },
   {
    "duration": 137,
    "start_time": "2023-03-04T15:13:47.094Z"
   },
   {
    "duration": 56,
    "start_time": "2023-03-04T15:13:47.232Z"
   },
   {
    "duration": 34,
    "start_time": "2023-03-04T15:13:47.317Z"
   },
   {
    "duration": 393,
    "start_time": "2023-03-04T15:13:47.353Z"
   },
   {
    "duration": 209,
    "start_time": "2023-03-04T15:13:47.748Z"
   },
   {
    "duration": 25,
    "start_time": "2023-03-04T15:14:44.408Z"
   },
   {
    "duration": 6,
    "start_time": "2023-03-04T15:15:00.177Z"
   },
   {
    "duration": 17,
    "start_time": "2023-03-04T15:18:00.473Z"
   },
   {
    "duration": 58,
    "start_time": "2023-03-04T15:32:33.536Z"
   },
   {
    "duration": 174,
    "start_time": "2023-03-04T15:32:45.634Z"
   },
   {
    "duration": 16,
    "start_time": "2023-03-04T15:32:58.565Z"
   },
   {
    "duration": 16,
    "start_time": "2023-03-04T15:33:29.259Z"
   },
   {
    "duration": 16,
    "start_time": "2023-03-04T15:35:28.366Z"
   },
   {
    "duration": 6,
    "start_time": "2023-03-04T15:35:32.478Z"
   },
   {
    "duration": 2,
    "start_time": "2023-03-04T15:36:28.411Z"
   },
   {
    "duration": 12,
    "start_time": "2023-03-04T15:39:05.926Z"
   },
   {
    "duration": 10,
    "start_time": "2023-03-04T15:39:15.287Z"
   },
   {
    "duration": 9,
    "start_time": "2023-03-04T15:39:20.058Z"
   },
   {
    "duration": 6,
    "start_time": "2023-03-04T15:40:05.056Z"
   },
   {
    "duration": 23,
    "start_time": "2023-03-04T15:40:40.858Z"
   },
   {
    "duration": 16,
    "start_time": "2023-03-04T15:41:06.254Z"
   },
   {
    "duration": 24,
    "start_time": "2023-03-04T15:41:40.761Z"
   },
   {
    "duration": 210,
    "start_time": "2023-03-04T15:42:12.448Z"
   },
   {
    "duration": 20,
    "start_time": "2023-03-04T15:44:14.757Z"
   },
   {
    "duration": 62,
    "start_time": "2023-03-04T15:46:22.917Z"
   },
   {
    "duration": 32,
    "start_time": "2023-03-04T15:47:01.167Z"
   },
   {
    "duration": 23,
    "start_time": "2023-03-04T15:47:13.820Z"
   },
   {
    "duration": 56,
    "start_time": "2023-03-04T15:47:23.982Z"
   },
   {
    "duration": 23,
    "start_time": "2023-03-04T15:47:32.463Z"
   },
   {
    "duration": 27,
    "start_time": "2023-03-04T15:49:00.283Z"
   },
   {
    "duration": 27,
    "start_time": "2023-03-04T15:49:21.802Z"
   },
   {
    "duration": 1361,
    "start_time": "2023-03-04T15:49:30.068Z"
   },
   {
    "duration": 72,
    "start_time": "2023-03-04T15:49:31.431Z"
   },
   {
    "duration": 213,
    "start_time": "2023-03-04T15:49:31.505Z"
   },
   {
    "duration": 9,
    "start_time": "2023-03-04T15:49:31.720Z"
   },
   {
    "duration": 16,
    "start_time": "2023-03-04T15:49:31.730Z"
   },
   {
    "duration": 19,
    "start_time": "2023-03-04T15:49:31.747Z"
   },
   {
    "duration": 14,
    "start_time": "2023-03-04T15:49:31.768Z"
   },
   {
    "duration": 37,
    "start_time": "2023-03-04T15:49:31.784Z"
   },
   {
    "duration": 18,
    "start_time": "2023-03-04T15:49:31.822Z"
   },
   {
    "duration": 6,
    "start_time": "2023-03-04T15:49:31.843Z"
   },
   {
    "duration": 216,
    "start_time": "2023-03-04T15:49:31.850Z"
   },
   {
    "duration": 11,
    "start_time": "2023-03-04T15:49:32.068Z"
   },
   {
    "duration": 210,
    "start_time": "2023-03-04T15:49:32.081Z"
   },
   {
    "duration": 34,
    "start_time": "2023-03-04T15:49:32.293Z"
   },
   {
    "duration": 19,
    "start_time": "2023-03-04T15:49:32.329Z"
   },
   {
    "duration": 15,
    "start_time": "2023-03-04T15:49:32.350Z"
   },
   {
    "duration": 45,
    "start_time": "2023-03-04T15:49:32.367Z"
   },
   {
    "duration": 62,
    "start_time": "2023-03-04T15:49:32.414Z"
   },
   {
    "duration": 101,
    "start_time": "2023-03-04T15:49:32.478Z"
   },
   {
    "duration": 67,
    "start_time": "2023-03-04T15:49:32.581Z"
   },
   {
    "duration": 261,
    "start_time": "2023-03-04T15:49:32.650Z"
   },
   {
    "duration": 331,
    "start_time": "2023-03-04T15:49:32.913Z"
   },
   {
    "duration": 136,
    "start_time": "2023-03-04T15:49:33.246Z"
   },
   {
    "duration": 287,
    "start_time": "2023-03-04T15:49:33.383Z"
   },
   {
    "duration": 316,
    "start_time": "2023-03-04T15:49:33.672Z"
   },
   {
    "duration": 97,
    "start_time": "2023-03-04T15:49:33.990Z"
   },
   {
    "duration": 565,
    "start_time": "2023-03-04T15:49:34.088Z"
   },
   {
    "duration": 11,
    "start_time": "2023-03-04T15:49:34.657Z"
   },
   {
    "duration": 3,
    "start_time": "2023-03-04T15:49:34.669Z"
   },
   {
    "duration": 113,
    "start_time": "2023-03-04T15:49:34.673Z"
   },
   {
    "duration": 9653,
    "start_time": "2023-03-04T15:49:34.788Z"
   },
   {
    "duration": 199,
    "start_time": "2023-03-04T15:49:44.443Z"
   },
   {
    "duration": 15,
    "start_time": "2023-03-04T15:49:44.644Z"
   },
   {
    "duration": 105,
    "start_time": "2023-03-04T15:49:44.713Z"
   },
   {
    "duration": 111,
    "start_time": "2023-03-04T15:49:44.820Z"
   },
   {
    "duration": 361,
    "start_time": "2023-03-04T15:49:44.933Z"
   },
   {
    "duration": 372,
    "start_time": "2023-03-04T15:49:45.296Z"
   },
   {
    "duration": 322,
    "start_time": "2023-03-04T15:49:45.670Z"
   },
   {
    "duration": 89,
    "start_time": "2023-03-04T15:49:45.994Z"
   },
   {
    "duration": 6,
    "start_time": "2023-03-04T15:49:46.085Z"
   },
   {
    "duration": 29,
    "start_time": "2023-03-04T15:49:46.092Z"
   },
   {
    "duration": 10,
    "start_time": "2023-03-04T15:49:46.123Z"
   },
   {
    "duration": 112,
    "start_time": "2023-03-04T15:49:46.135Z"
   },
   {
    "duration": 371,
    "start_time": "2023-03-04T15:49:46.248Z"
   },
   {
    "duration": 342,
    "start_time": "2023-03-04T15:49:46.620Z"
   },
   {
    "duration": 11,
    "start_time": "2023-03-04T15:49:46.964Z"
   },
   {
    "duration": 67,
    "start_time": "2023-03-04T15:49:46.976Z"
   },
   {
    "duration": 51,
    "start_time": "2023-03-04T15:49:47.045Z"
   },
   {
    "duration": 6,
    "start_time": "2023-03-04T15:49:47.112Z"
   },
   {
    "duration": 92,
    "start_time": "2023-03-04T15:49:47.120Z"
   },
   {
    "duration": 53,
    "start_time": "2023-03-04T15:49:47.214Z"
   },
   {
    "duration": 46,
    "start_time": "2023-03-04T15:49:47.269Z"
   },
   {
    "duration": 356,
    "start_time": "2023-03-04T15:49:47.317Z"
   },
   {
    "duration": 179,
    "start_time": "2023-03-04T15:49:47.674Z"
   },
   {
    "duration": 173,
    "start_time": "2023-03-04T15:51:26.395Z"
   },
   {
    "duration": 28,
    "start_time": "2023-03-04T15:51:31.913Z"
   },
   {
    "duration": 24,
    "start_time": "2023-03-04T15:51:41.669Z"
   },
   {
    "duration": 29,
    "start_time": "2023-03-04T15:51:43.858Z"
   },
   {
    "duration": 56,
    "start_time": "2023-03-04T15:52:02.395Z"
   },
   {
    "duration": 61,
    "start_time": "2023-03-04T15:52:04.713Z"
   },
   {
    "duration": 86,
    "start_time": "2023-03-04T15:52:25.281Z"
   },
   {
    "duration": 86,
    "start_time": "2023-03-04T15:52:52.722Z"
   },
   {
    "duration": 20,
    "start_time": "2023-03-04T15:52:55.576Z"
   },
   {
    "duration": 90,
    "start_time": "2023-03-04T15:52:57.755Z"
   },
   {
    "duration": 55,
    "start_time": "2023-03-04T15:53:29.958Z"
   },
   {
    "duration": 54,
    "start_time": "2023-03-04T15:53:32.233Z"
   },
   {
    "duration": 32,
    "start_time": "2023-03-04T15:53:34.104Z"
   },
   {
    "duration": 1429,
    "start_time": "2023-03-04T15:54:19.994Z"
   },
   {
    "duration": 73,
    "start_time": "2023-03-04T15:54:21.425Z"
   },
   {
    "duration": 233,
    "start_time": "2023-03-04T15:54:21.500Z"
   },
   {
    "duration": 9,
    "start_time": "2023-03-04T15:54:21.735Z"
   },
   {
    "duration": 4,
    "start_time": "2023-03-04T15:54:21.746Z"
   },
   {
    "duration": 7,
    "start_time": "2023-03-04T15:54:21.751Z"
   },
   {
    "duration": 14,
    "start_time": "2023-03-04T15:54:21.759Z"
   },
   {
    "duration": 48,
    "start_time": "2023-03-04T15:54:21.774Z"
   },
   {
    "duration": 18,
    "start_time": "2023-03-04T15:54:21.824Z"
   },
   {
    "duration": 6,
    "start_time": "2023-03-04T15:54:21.844Z"
   },
   {
    "duration": 210,
    "start_time": "2023-03-04T15:54:21.851Z"
   },
   {
    "duration": 13,
    "start_time": "2023-03-04T15:54:22.063Z"
   },
   {
    "duration": 225,
    "start_time": "2023-03-04T15:54:22.077Z"
   },
   {
    "duration": 26,
    "start_time": "2023-03-04T15:54:22.303Z"
   },
   {
    "duration": 24,
    "start_time": "2023-03-04T15:54:22.330Z"
   },
   {
    "duration": 13,
    "start_time": "2023-03-04T15:54:22.356Z"
   },
   {
    "duration": 21,
    "start_time": "2023-03-04T15:54:22.370Z"
   },
   {
    "duration": 60,
    "start_time": "2023-03-04T15:54:22.413Z"
   },
   {
    "duration": 104,
    "start_time": "2023-03-04T15:54:22.475Z"
   },
   {
    "duration": 68,
    "start_time": "2023-03-04T15:54:22.580Z"
   },
   {
    "duration": 243,
    "start_time": "2023-03-04T15:54:22.650Z"
   },
   {
    "duration": 317,
    "start_time": "2023-03-04T15:54:22.895Z"
   },
   {
    "duration": 148,
    "start_time": "2023-03-04T15:54:23.213Z"
   },
   {
    "duration": 292,
    "start_time": "2023-03-04T15:54:23.363Z"
   },
   {
    "duration": 338,
    "start_time": "2023-03-04T15:54:23.657Z"
   },
   {
    "duration": 103,
    "start_time": "2023-03-04T15:54:23.996Z"
   },
   {
    "duration": 525,
    "start_time": "2023-03-04T15:54:24.111Z"
   },
   {
    "duration": 10,
    "start_time": "2023-03-04T15:54:24.640Z"
   },
   {
    "duration": 3,
    "start_time": "2023-03-04T15:54:24.652Z"
   },
   {
    "duration": 108,
    "start_time": "2023-03-04T15:54:24.656Z"
   },
   {
    "duration": 9524,
    "start_time": "2023-03-04T15:54:24.765Z"
   },
   {
    "duration": 224,
    "start_time": "2023-03-04T15:54:34.292Z"
   },
   {
    "duration": 12,
    "start_time": "2023-03-04T15:54:34.518Z"
   },
   {
    "duration": 84,
    "start_time": "2023-03-04T15:54:34.532Z"
   },
   {
    "duration": 114,
    "start_time": "2023-03-04T15:54:34.617Z"
   },
   {
    "duration": 377,
    "start_time": "2023-03-04T15:54:34.732Z"
   },
   {
    "duration": 385,
    "start_time": "2023-03-04T15:54:35.111Z"
   },
   {
    "duration": 322,
    "start_time": "2023-03-04T15:54:35.498Z"
   },
   {
    "duration": 94,
    "start_time": "2023-03-04T15:54:35.821Z"
   },
   {
    "duration": 4,
    "start_time": "2023-03-04T15:54:35.917Z"
   },
   {
    "duration": 12,
    "start_time": "2023-03-04T15:54:35.923Z"
   },
   {
    "duration": 10,
    "start_time": "2023-03-04T15:54:35.937Z"
   },
   {
    "duration": 119,
    "start_time": "2023-03-04T15:54:35.949Z"
   },
   {
    "duration": 393,
    "start_time": "2023-03-04T15:54:36.069Z"
   },
   {
    "duration": 356,
    "start_time": "2023-03-04T15:54:36.464Z"
   },
   {
    "duration": 13,
    "start_time": "2023-03-04T15:54:36.822Z"
   },
   {
    "duration": 76,
    "start_time": "2023-03-04T15:54:36.837Z"
   },
   {
    "duration": 55,
    "start_time": "2023-03-04T15:54:36.915Z"
   },
   {
    "duration": 6,
    "start_time": "2023-03-04T15:54:36.971Z"
   },
   {
    "duration": 113,
    "start_time": "2023-03-04T15:54:36.979Z"
   },
   {
    "duration": 64,
    "start_time": "2023-03-04T15:54:37.093Z"
   },
   {
    "duration": 28,
    "start_time": "2023-03-04T15:54:37.158Z"
   },
   {
    "duration": 372,
    "start_time": "2023-03-04T15:54:37.188Z"
   },
   {
    "duration": 196,
    "start_time": "2023-03-04T15:54:37.563Z"
   },
   {
    "duration": 31,
    "start_time": "2023-03-04T15:56:12.794Z"
   },
   {
    "duration": 857,
    "start_time": "2023-03-04T15:56:37.003Z"
   },
   {
    "duration": 38,
    "start_time": "2023-03-04T15:56:44.129Z"
   },
   {
    "duration": 57,
    "start_time": "2023-03-04T15:57:22.113Z"
   },
   {
    "duration": 83,
    "start_time": "2023-03-04T15:57:32.264Z"
   },
   {
    "duration": 1427,
    "start_time": "2023-03-04T15:58:00.798Z"
   },
   {
    "duration": 73,
    "start_time": "2023-03-04T15:58:02.227Z"
   },
   {
    "duration": 225,
    "start_time": "2023-03-04T15:58:02.301Z"
   },
   {
    "duration": 11,
    "start_time": "2023-03-04T15:58:02.528Z"
   },
   {
    "duration": 5,
    "start_time": "2023-03-04T15:58:02.541Z"
   },
   {
    "duration": 6,
    "start_time": "2023-03-04T15:58:02.547Z"
   },
   {
    "duration": 22,
    "start_time": "2023-03-04T15:58:02.555Z"
   },
   {
    "duration": 40,
    "start_time": "2023-03-04T15:58:02.579Z"
   },
   {
    "duration": 18,
    "start_time": "2023-03-04T15:58:02.621Z"
   },
   {
    "duration": 6,
    "start_time": "2023-03-04T15:58:02.642Z"
   },
   {
    "duration": 222,
    "start_time": "2023-03-04T15:58:02.649Z"
   },
   {
    "duration": 12,
    "start_time": "2023-03-04T15:58:02.873Z"
   },
   {
    "duration": 212,
    "start_time": "2023-03-04T15:58:02.887Z"
   },
   {
    "duration": 33,
    "start_time": "2023-03-04T15:58:03.101Z"
   },
   {
    "duration": 16,
    "start_time": "2023-03-04T15:58:03.135Z"
   },
   {
    "duration": 12,
    "start_time": "2023-03-04T15:58:03.153Z"
   },
   {
    "duration": 15,
    "start_time": "2023-03-04T15:58:03.166Z"
   },
   {
    "duration": 84,
    "start_time": "2023-03-04T15:58:03.183Z"
   },
   {
    "duration": 92,
    "start_time": "2023-03-04T15:58:03.269Z"
   },
   {
    "duration": 86,
    "start_time": "2023-03-04T15:58:03.363Z"
   },
   {
    "duration": 241,
    "start_time": "2023-03-04T15:58:03.451Z"
   },
   {
    "duration": 320,
    "start_time": "2023-03-04T15:58:03.693Z"
   },
   {
    "duration": 175,
    "start_time": "2023-03-04T15:58:04.016Z"
   },
   {
    "duration": 356,
    "start_time": "2023-03-04T15:58:04.193Z"
   },
   {
    "duration": 366,
    "start_time": "2023-03-04T15:58:04.552Z"
   },
   {
    "duration": 103,
    "start_time": "2023-03-04T15:58:04.920Z"
   },
   {
    "duration": 538,
    "start_time": "2023-03-04T15:58:05.025Z"
   },
   {
    "duration": 14,
    "start_time": "2023-03-04T15:58:05.568Z"
   },
   {
    "duration": 3,
    "start_time": "2023-03-04T15:58:05.585Z"
   },
   {
    "duration": 137,
    "start_time": "2023-03-04T15:58:05.590Z"
   },
   {
    "duration": 9688,
    "start_time": "2023-03-04T15:58:05.729Z"
   },
   {
    "duration": 203,
    "start_time": "2023-03-04T15:58:15.418Z"
   },
   {
    "duration": 12,
    "start_time": "2023-03-04T15:58:15.623Z"
   },
   {
    "duration": 104,
    "start_time": "2023-03-04T15:58:15.637Z"
   },
   {
    "duration": 109,
    "start_time": "2023-03-04T15:58:15.743Z"
   },
   {
    "duration": 366,
    "start_time": "2023-03-04T15:58:15.853Z"
   },
   {
    "duration": 374,
    "start_time": "2023-03-04T15:58:16.221Z"
   },
   {
    "duration": 326,
    "start_time": "2023-03-04T15:58:16.596Z"
   },
   {
    "duration": 77,
    "start_time": "2023-03-04T15:58:16.924Z"
   },
   {
    "duration": 5,
    "start_time": "2023-03-04T15:58:17.011Z"
   },
   {
    "duration": 12,
    "start_time": "2023-03-04T15:58:17.018Z"
   },
   {
    "duration": 11,
    "start_time": "2023-03-04T15:58:17.031Z"
   },
   {
    "duration": 120,
    "start_time": "2023-03-04T15:58:17.044Z"
   },
   {
    "duration": 415,
    "start_time": "2023-03-04T15:58:17.166Z"
   },
   {
    "duration": 365,
    "start_time": "2023-03-04T15:58:17.583Z"
   },
   {
    "duration": 12,
    "start_time": "2023-03-04T15:58:17.950Z"
   },
   {
    "duration": 75,
    "start_time": "2023-03-04T15:58:17.964Z"
   },
   {
    "duration": 74,
    "start_time": "2023-03-04T15:58:18.041Z"
   },
   {
    "duration": 8,
    "start_time": "2023-03-04T15:58:18.117Z"
   },
   {
    "duration": 116,
    "start_time": "2023-03-04T15:58:18.126Z"
   },
   {
    "duration": 79,
    "start_time": "2023-03-04T15:58:18.244Z"
   },
   {
    "duration": 27,
    "start_time": "2023-03-04T15:58:18.325Z"
   },
   {
    "duration": 386,
    "start_time": "2023-03-04T15:58:18.354Z"
   },
   {
    "duration": 187,
    "start_time": "2023-03-04T15:58:18.742Z"
   },
   {
    "duration": 12,
    "start_time": "2023-03-04T16:00:11.710Z"
   },
   {
    "duration": 97,
    "start_time": "2023-03-04T16:02:08.873Z"
   },
   {
    "duration": 90,
    "start_time": "2023-03-04T16:02:20.142Z"
   },
   {
    "duration": 245,
    "start_time": "2023-03-04T16:03:42.358Z"
   },
   {
    "duration": 282,
    "start_time": "2023-03-04T16:04:09.561Z"
   },
   {
    "duration": 261,
    "start_time": "2023-03-04T16:04:32.293Z"
   },
   {
    "duration": 181,
    "start_time": "2023-03-04T16:05:06.282Z"
   },
   {
    "duration": 7,
    "start_time": "2023-03-04T16:05:30.057Z"
   },
   {
    "duration": 6,
    "start_time": "2023-03-04T16:05:33.957Z"
   },
   {
    "duration": 11,
    "start_time": "2023-03-04T16:05:37.257Z"
   },
   {
    "duration": 7,
    "start_time": "2023-03-04T16:07:26.648Z"
   },
   {
    "duration": 11,
    "start_time": "2023-03-04T16:07:45.535Z"
   },
   {
    "duration": 50,
    "start_time": "2023-03-04T16:08:28.920Z"
   },
   {
    "duration": 52,
    "start_time": "2023-03-04T16:12:59.804Z"
   },
   {
    "duration": 24,
    "start_time": "2023-03-04T16:13:05.549Z"
   },
   {
    "duration": 86,
    "start_time": "2023-03-04T16:13:17.391Z"
   },
   {
    "duration": 92,
    "start_time": "2023-03-04T16:13:54.354Z"
   },
   {
    "duration": 89,
    "start_time": "2023-03-04T16:14:05.321Z"
   },
   {
    "duration": 95,
    "start_time": "2023-03-04T16:14:23.554Z"
   },
   {
    "duration": 83,
    "start_time": "2023-03-04T16:14:42.792Z"
   },
   {
    "duration": 85,
    "start_time": "2023-03-04T16:14:50.157Z"
   },
   {
    "duration": 90,
    "start_time": "2023-03-04T16:15:01.370Z"
   },
   {
    "duration": 85,
    "start_time": "2023-03-04T16:15:08.853Z"
   },
   {
    "duration": 83,
    "start_time": "2023-03-04T16:15:22.037Z"
   },
   {
    "duration": 79,
    "start_time": "2023-03-04T16:16:08.785Z"
   },
   {
    "duration": 77,
    "start_time": "2023-03-04T16:16:38.493Z"
   },
   {
    "duration": 83,
    "start_time": "2023-03-04T16:16:47.456Z"
   },
   {
    "duration": 16,
    "start_time": "2023-03-04T16:17:36.073Z"
   },
   {
    "duration": 14,
    "start_time": "2023-03-04T16:18:12.423Z"
   },
   {
    "duration": 14,
    "start_time": "2023-03-04T16:18:20.583Z"
   },
   {
    "duration": 1413,
    "start_time": "2023-03-04T16:18:31.114Z"
   },
   {
    "duration": 72,
    "start_time": "2023-03-04T16:18:32.529Z"
   },
   {
    "duration": 205,
    "start_time": "2023-03-04T16:18:32.602Z"
   },
   {
    "duration": 10,
    "start_time": "2023-03-04T16:18:32.812Z"
   },
   {
    "duration": 4,
    "start_time": "2023-03-04T16:18:32.824Z"
   },
   {
    "duration": 7,
    "start_time": "2023-03-04T16:18:32.830Z"
   },
   {
    "duration": 15,
    "start_time": "2023-03-04T16:18:32.838Z"
   },
   {
    "duration": 31,
    "start_time": "2023-03-04T16:18:32.854Z"
   },
   {
    "duration": 19,
    "start_time": "2023-03-04T16:18:32.912Z"
   },
   {
    "duration": 5,
    "start_time": "2023-03-04T16:18:32.933Z"
   },
   {
    "duration": 201,
    "start_time": "2023-03-04T16:18:32.940Z"
   },
   {
    "duration": 12,
    "start_time": "2023-03-04T16:18:33.143Z"
   },
   {
    "duration": 215,
    "start_time": "2023-03-04T16:18:33.156Z"
   },
   {
    "duration": 38,
    "start_time": "2023-03-04T16:18:33.374Z"
   },
   {
    "duration": 19,
    "start_time": "2023-03-04T16:18:33.415Z"
   },
   {
    "duration": 13,
    "start_time": "2023-03-04T16:18:33.436Z"
   },
   {
    "duration": 19,
    "start_time": "2023-03-04T16:18:33.450Z"
   },
   {
    "duration": 97,
    "start_time": "2023-03-04T16:18:33.470Z"
   },
   {
    "duration": 87,
    "start_time": "2023-03-04T16:18:33.568Z"
   },
   {
    "duration": 85,
    "start_time": "2023-03-04T16:18:33.656Z"
   },
   {
    "duration": 268,
    "start_time": "2023-03-04T16:18:33.742Z"
   },
   {
    "duration": 406,
    "start_time": "2023-03-04T16:18:34.013Z"
   },
   {
    "duration": 152,
    "start_time": "2023-03-04T16:18:34.421Z"
   },
   {
    "duration": 268,
    "start_time": "2023-03-04T16:18:34.574Z"
   },
   {
    "duration": 339,
    "start_time": "2023-03-04T16:18:34.844Z"
   },
   {
    "duration": 97,
    "start_time": "2023-03-04T16:18:35.185Z"
   },
   {
    "duration": 511,
    "start_time": "2023-03-04T16:18:35.284Z"
   },
   {
    "duration": 18,
    "start_time": "2023-03-04T16:18:35.797Z"
   },
   {
    "duration": 2,
    "start_time": "2023-03-04T16:18:35.817Z"
   },
   {
    "duration": 111,
    "start_time": "2023-03-04T16:18:35.821Z"
   },
   {
    "duration": 10260,
    "start_time": "2023-03-04T16:18:35.934Z"
   },
   {
    "duration": 155,
    "start_time": "2023-03-04T16:18:46.197Z"
   },
   {
    "duration": 62,
    "start_time": "2023-03-04T16:18:46.353Z"
   },
   {
    "duration": 55,
    "start_time": "2023-03-04T16:18:46.417Z"
   },
   {
    "duration": 150,
    "start_time": "2023-03-04T16:18:46.475Z"
   },
   {
    "duration": 394,
    "start_time": "2023-03-04T16:18:46.627Z"
   },
   {
    "duration": 422,
    "start_time": "2023-03-04T16:18:47.023Z"
   },
   {
    "duration": 355,
    "start_time": "2023-03-04T16:18:47.446Z"
   },
   {
    "duration": 91,
    "start_time": "2023-03-04T16:18:47.804Z"
   },
   {
    "duration": 19,
    "start_time": "2023-03-04T16:18:47.897Z"
   },
   {
    "duration": 13,
    "start_time": "2023-03-04T16:18:47.920Z"
   },
   {
    "duration": 12,
    "start_time": "2023-03-04T16:18:47.934Z"
   },
   {
    "duration": 127,
    "start_time": "2023-03-04T16:18:47.948Z"
   },
   {
    "duration": 406,
    "start_time": "2023-03-04T16:18:48.077Z"
   },
   {
    "duration": 374,
    "start_time": "2023-03-04T16:18:48.485Z"
   },
   {
    "duration": 12,
    "start_time": "2023-03-04T16:18:48.861Z"
   },
   {
    "duration": 75,
    "start_time": "2023-03-04T16:18:48.874Z"
   },
   {
    "duration": 69,
    "start_time": "2023-03-04T16:18:48.950Z"
   },
   {
    "duration": 7,
    "start_time": "2023-03-04T16:18:49.020Z"
   },
   {
    "duration": 113,
    "start_time": "2023-03-04T16:18:49.029Z"
   },
   {
    "duration": 79,
    "start_time": "2023-03-04T16:18:49.144Z"
   },
   {
    "duration": 28,
    "start_time": "2023-03-04T16:18:49.225Z"
   },
   {
    "duration": 379,
    "start_time": "2023-03-04T16:18:49.255Z"
   },
   {
    "duration": 193,
    "start_time": "2023-03-04T16:18:49.636Z"
   },
   {
    "duration": 179,
    "start_time": "2023-03-04T16:20:11.409Z"
   },
   {
    "duration": 53,
    "start_time": "2023-03-04T16:20:16.711Z"
   },
   {
    "duration": 27,
    "start_time": "2023-03-04T16:20:43.294Z"
   },
   {
    "duration": 25,
    "start_time": "2023-03-04T16:20:48.202Z"
   },
   {
    "duration": 83,
    "start_time": "2023-03-04T16:20:53.170Z"
   },
   {
    "duration": 6,
    "start_time": "2023-03-04T16:21:55.075Z"
   },
   {
    "duration": 15,
    "start_time": "2023-03-04T16:22:42.009Z"
   },
   {
    "duration": 12,
    "start_time": "2023-03-04T16:23:45.179Z"
   },
   {
    "duration": 44,
    "start_time": "2023-03-04T16:24:06.417Z"
   },
   {
    "duration": 14,
    "start_time": "2023-03-04T16:24:11.463Z"
   },
   {
    "duration": 195,
    "start_time": "2023-03-04T16:25:36.512Z"
   },
   {
    "duration": 371,
    "start_time": "2023-03-04T16:26:12.408Z"
   },
   {
    "duration": 361,
    "start_time": "2023-03-04T16:26:18.602Z"
   },
   {
    "duration": 59,
    "start_time": "2023-03-04T16:27:38.922Z"
   },
   {
    "duration": 59,
    "start_time": "2023-03-04T16:28:34.796Z"
   },
   {
    "duration": 59,
    "start_time": "2023-03-04T16:28:54.512Z"
   },
   {
    "duration": 381,
    "start_time": "2023-03-04T16:29:35.072Z"
   },
   {
    "duration": 697,
    "start_time": "2023-03-04T16:30:05.501Z"
   },
   {
    "duration": 89,
    "start_time": "2023-03-04T16:31:18.324Z"
   },
   {
    "duration": 336,
    "start_time": "2023-03-04T16:31:42.713Z"
   },
   {
    "duration": 55,
    "start_time": "2023-03-04T16:32:37.880Z"
   },
   {
    "duration": 100,
    "start_time": "2023-03-04T16:33:54.793Z"
   },
   {
    "duration": 101,
    "start_time": "2023-03-04T16:34:50.968Z"
   },
   {
    "duration": 390,
    "start_time": "2023-03-04T16:35:37.785Z"
   },
   {
    "duration": 372,
    "start_time": "2023-03-04T16:35:47.383Z"
   },
   {
    "duration": 382,
    "start_time": "2023-03-04T16:35:52.020Z"
   },
   {
    "duration": 84,
    "start_time": "2023-03-04T16:36:38.272Z"
   },
   {
    "duration": 72,
    "start_time": "2023-03-04T16:40:27.763Z"
   },
   {
    "duration": 1514,
    "start_time": "2023-03-04T16:42:56.140Z"
   },
   {
    "duration": 77,
    "start_time": "2023-03-04T16:42:57.656Z"
   },
   {
    "duration": 288,
    "start_time": "2023-03-04T16:42:57.735Z"
   },
   {
    "duration": 13,
    "start_time": "2023-03-04T16:42:58.025Z"
   },
   {
    "duration": 7,
    "start_time": "2023-03-04T16:42:58.041Z"
   },
   {
    "duration": 14,
    "start_time": "2023-03-04T16:42:58.049Z"
   },
   {
    "duration": 19,
    "start_time": "2023-03-04T16:42:58.065Z"
   },
   {
    "duration": 49,
    "start_time": "2023-03-04T16:42:58.086Z"
   },
   {
    "duration": 19,
    "start_time": "2023-03-04T16:42:58.137Z"
   },
   {
    "duration": 6,
    "start_time": "2023-03-04T16:42:58.158Z"
   },
   {
    "duration": 222,
    "start_time": "2023-03-04T16:42:58.166Z"
   },
   {
    "duration": 22,
    "start_time": "2023-03-04T16:42:58.390Z"
   },
   {
    "duration": 209,
    "start_time": "2023-03-04T16:42:58.414Z"
   },
   {
    "duration": 25,
    "start_time": "2023-03-04T16:42:58.627Z"
   },
   {
    "duration": 20,
    "start_time": "2023-03-04T16:42:58.654Z"
   },
   {
    "duration": 39,
    "start_time": "2023-03-04T16:42:58.675Z"
   },
   {
    "duration": 17,
    "start_time": "2023-03-04T16:42:58.715Z"
   },
   {
    "duration": 100,
    "start_time": "2023-03-04T16:42:58.734Z"
   },
   {
    "duration": 91,
    "start_time": "2023-03-04T16:42:58.835Z"
   },
   {
    "duration": 99,
    "start_time": "2023-03-04T16:42:58.927Z"
   },
   {
    "duration": 265,
    "start_time": "2023-03-04T16:42:59.028Z"
   },
   {
    "duration": 352,
    "start_time": "2023-03-04T16:42:59.295Z"
   },
   {
    "duration": 158,
    "start_time": "2023-03-04T16:42:59.649Z"
   },
   {
    "duration": 329,
    "start_time": "2023-03-04T16:42:59.810Z"
   },
   {
    "duration": 337,
    "start_time": "2023-03-04T16:43:00.141Z"
   },
   {
    "duration": 103,
    "start_time": "2023-03-04T16:43:00.479Z"
   },
   {
    "duration": 541,
    "start_time": "2023-03-04T16:43:00.584Z"
   },
   {
    "duration": 15,
    "start_time": "2023-03-04T16:43:01.127Z"
   },
   {
    "duration": 7,
    "start_time": "2023-03-04T16:43:01.143Z"
   },
   {
    "duration": 138,
    "start_time": "2023-03-04T16:43:01.151Z"
   },
   {
    "duration": 10182,
    "start_time": "2023-03-04T16:43:01.291Z"
   },
   {
    "duration": 237,
    "start_time": "2023-03-04T16:43:11.476Z"
   },
   {
    "duration": 21,
    "start_time": "2023-03-04T16:43:11.716Z"
   },
   {
    "duration": 129,
    "start_time": "2023-03-04T16:43:11.740Z"
   },
   {
    "duration": 116,
    "start_time": "2023-03-04T16:43:11.871Z"
   },
   {
    "duration": 377,
    "start_time": "2023-03-04T16:43:11.988Z"
   },
   {
    "duration": 418,
    "start_time": "2023-03-04T16:43:12.367Z"
   },
   {
    "duration": 341,
    "start_time": "2023-03-04T16:43:12.787Z"
   },
   {
    "duration": 99,
    "start_time": "2023-03-04T16:43:13.129Z"
   },
   {
    "duration": 6,
    "start_time": "2023-03-04T16:43:13.230Z"
   },
   {
    "duration": 13,
    "start_time": "2023-03-04T16:43:13.239Z"
   },
   {
    "duration": 10,
    "start_time": "2023-03-04T16:43:13.254Z"
   },
   {
    "duration": 128,
    "start_time": "2023-03-04T16:43:13.266Z"
   },
   {
    "duration": 416,
    "start_time": "2023-03-04T16:43:13.396Z"
   },
   {
    "duration": 431,
    "start_time": "2023-03-04T16:43:13.814Z"
   },
   {
    "duration": 17,
    "start_time": "2023-03-04T16:43:14.247Z"
   },
   {
    "duration": 110,
    "start_time": "2023-03-04T16:43:14.266Z"
   },
   {
    "duration": 92,
    "start_time": "2023-03-04T16:43:14.378Z"
   },
   {
    "duration": 7,
    "start_time": "2023-03-04T16:43:14.472Z"
   },
   {
    "duration": 117,
    "start_time": "2023-03-04T16:43:14.480Z"
   },
   {
    "duration": 67,
    "start_time": "2023-03-04T16:43:14.599Z"
   },
   {
    "duration": 51,
    "start_time": "2023-03-04T16:43:14.668Z"
   },
   {
    "duration": 352,
    "start_time": "2023-03-04T16:43:14.721Z"
   },
   {
    "duration": 205,
    "start_time": "2023-03-04T16:43:15.075Z"
   },
   {
    "duration": 1627,
    "start_time": "2023-03-04T17:13:09.455Z"
   },
   {
    "duration": 248,
    "start_time": "2023-03-04T17:13:11.084Z"
   },
   {
    "duration": 208,
    "start_time": "2023-03-04T17:13:11.334Z"
   },
   {
    "duration": 12,
    "start_time": "2023-03-04T17:13:11.544Z"
   },
   {
    "duration": 5,
    "start_time": "2023-03-04T17:13:11.558Z"
   },
   {
    "duration": 6,
    "start_time": "2023-03-04T17:13:11.565Z"
   },
   {
    "duration": 18,
    "start_time": "2023-03-04T17:13:11.572Z"
   },
   {
    "duration": 35,
    "start_time": "2023-03-04T17:13:11.591Z"
   },
   {
    "duration": 34,
    "start_time": "2023-03-04T17:13:11.628Z"
   },
   {
    "duration": 89,
    "start_time": "2023-03-04T17:13:11.664Z"
   },
   {
    "duration": 228,
    "start_time": "2023-03-04T17:13:11.754Z"
   },
   {
    "duration": 13,
    "start_time": "2023-03-04T17:13:11.983Z"
   },
   {
    "duration": 234,
    "start_time": "2023-03-04T17:13:11.997Z"
   },
   {
    "duration": 33,
    "start_time": "2023-03-04T17:13:12.233Z"
   },
   {
    "duration": 18,
    "start_time": "2023-03-04T17:13:12.268Z"
   },
   {
    "duration": 14,
    "start_time": "2023-03-04T17:13:12.288Z"
   },
   {
    "duration": 16,
    "start_time": "2023-03-04T17:13:12.304Z"
   },
   {
    "duration": 95,
    "start_time": "2023-03-04T17:13:12.322Z"
   },
   {
    "duration": 100,
    "start_time": "2023-03-04T17:13:12.419Z"
   },
   {
    "duration": 93,
    "start_time": "2023-03-04T17:13:12.521Z"
   },
   {
    "duration": 273,
    "start_time": "2023-03-04T17:13:12.616Z"
   },
   {
    "duration": 338,
    "start_time": "2023-03-04T17:13:12.891Z"
   },
   {
    "duration": 252,
    "start_time": "2023-03-04T17:13:13.231Z"
   },
   {
    "duration": 304,
    "start_time": "2023-03-04T17:13:13.485Z"
   },
   {
    "duration": 380,
    "start_time": "2023-03-04T17:13:13.791Z"
   },
   {
    "duration": 100,
    "start_time": "2023-03-04T17:13:14.173Z"
   },
   {
    "duration": 482,
    "start_time": "2023-03-04T17:13:14.276Z"
   },
   {
    "duration": 12,
    "start_time": "2023-03-04T17:13:14.763Z"
   },
   {
    "duration": 3,
    "start_time": "2023-03-04T17:13:14.777Z"
   },
   {
    "duration": 207,
    "start_time": "2023-03-04T17:13:14.782Z"
   },
   {
    "duration": 9967,
    "start_time": "2023-03-04T17:13:14.990Z"
   },
   {
    "duration": 208,
    "start_time": "2023-03-04T17:13:24.959Z"
   },
   {
    "duration": 12,
    "start_time": "2023-03-04T17:13:25.169Z"
   },
   {
    "duration": 97,
    "start_time": "2023-03-04T17:13:25.183Z"
   },
   {
    "duration": 117,
    "start_time": "2023-03-04T17:13:25.282Z"
   },
   {
    "duration": 380,
    "start_time": "2023-03-04T17:13:25.401Z"
   },
   {
    "duration": 380,
    "start_time": "2023-03-04T17:13:25.783Z"
   },
   {
    "duration": 360,
    "start_time": "2023-03-04T17:13:26.165Z"
   },
   {
    "duration": 94,
    "start_time": "2023-03-04T17:13:26.527Z"
   },
   {
    "duration": 6,
    "start_time": "2023-03-04T17:13:26.623Z"
   },
   {
    "duration": 28,
    "start_time": "2023-03-04T17:13:26.630Z"
   },
   {
    "duration": 12,
    "start_time": "2023-03-04T17:13:26.659Z"
   },
   {
    "duration": 113,
    "start_time": "2023-03-04T17:13:26.673Z"
   },
   {
    "duration": 405,
    "start_time": "2023-03-04T17:13:26.788Z"
   },
   {
    "duration": 376,
    "start_time": "2023-03-04T17:13:27.195Z"
   },
   {
    "duration": 12,
    "start_time": "2023-03-04T17:13:27.573Z"
   },
   {
    "duration": 72,
    "start_time": "2023-03-04T17:13:27.586Z"
   },
   {
    "duration": 59,
    "start_time": "2023-03-04T17:13:27.659Z"
   },
   {
    "duration": 5,
    "start_time": "2023-03-04T17:13:27.720Z"
   },
   {
    "duration": 156,
    "start_time": "2023-03-04T17:13:27.727Z"
   },
   {
    "duration": 113,
    "start_time": "2023-03-04T17:13:27.885Z"
   },
   {
    "duration": 27,
    "start_time": "2023-03-04T17:13:27.999Z"
   },
   {
    "duration": 416,
    "start_time": "2023-03-04T17:13:28.028Z"
   },
   {
    "duration": 194,
    "start_time": "2023-03-04T17:13:28.445Z"
   },
   {
    "duration": 53,
    "start_time": "2023-03-08T13:02:02.891Z"
   },
   {
    "duration": 1741,
    "start_time": "2023-03-08T13:02:08.460Z"
   },
   {
    "duration": 247,
    "start_time": "2023-03-08T13:02:10.203Z"
   },
   {
    "duration": 234,
    "start_time": "2023-03-08T13:02:10.452Z"
   },
   {
    "duration": 11,
    "start_time": "2023-03-08T13:02:10.688Z"
   },
   {
    "duration": 29,
    "start_time": "2023-03-08T13:02:10.702Z"
   },
   {
    "duration": 7,
    "start_time": "2023-03-08T13:02:10.733Z"
   },
   {
    "duration": 15,
    "start_time": "2023-03-08T13:02:10.741Z"
   },
   {
    "duration": 23,
    "start_time": "2023-03-08T13:02:10.758Z"
   },
   {
    "duration": 46,
    "start_time": "2023-03-08T13:02:10.783Z"
   },
   {
    "duration": 6,
    "start_time": "2023-03-08T13:02:10.830Z"
   },
   {
    "duration": 217,
    "start_time": "2023-03-08T13:02:10.838Z"
   },
   {
    "duration": 13,
    "start_time": "2023-03-08T13:02:11.056Z"
   },
   {
    "duration": 234,
    "start_time": "2023-03-08T13:02:11.071Z"
   },
   {
    "duration": 43,
    "start_time": "2023-03-08T13:02:11.308Z"
   },
   {
    "duration": 21,
    "start_time": "2023-03-08T13:02:11.352Z"
   },
   {
    "duration": 13,
    "start_time": "2023-03-08T13:02:11.375Z"
   },
   {
    "duration": 36,
    "start_time": "2023-03-08T13:02:11.390Z"
   },
   {
    "duration": 71,
    "start_time": "2023-03-08T13:02:11.428Z"
   },
   {
    "duration": 96,
    "start_time": "2023-03-08T13:02:11.501Z"
   },
   {
    "duration": 98,
    "start_time": "2023-03-08T13:02:11.599Z"
   },
   {
    "duration": 277,
    "start_time": "2023-03-08T13:02:11.699Z"
   },
   {
    "duration": 347,
    "start_time": "2023-03-08T13:02:11.978Z"
   },
   {
    "duration": 166,
    "start_time": "2023-03-08T13:02:12.326Z"
   },
   {
    "duration": 318,
    "start_time": "2023-03-08T13:02:12.494Z"
   },
   {
    "duration": 355,
    "start_time": "2023-03-08T13:02:12.813Z"
   },
   {
    "duration": 117,
    "start_time": "2023-03-08T13:02:13.170Z"
   },
   {
    "duration": 529,
    "start_time": "2023-03-08T13:02:13.289Z"
   },
   {
    "duration": 13,
    "start_time": "2023-03-08T13:02:13.824Z"
   },
   {
    "duration": 4,
    "start_time": "2023-03-08T13:02:13.839Z"
   },
   {
    "duration": 227,
    "start_time": "2023-03-08T13:02:13.844Z"
   },
   {
    "duration": 10602,
    "start_time": "2023-03-08T13:02:14.073Z"
   },
   {
    "duration": 181,
    "start_time": "2023-03-08T13:02:24.678Z"
   },
   {
    "duration": 66,
    "start_time": "2023-03-08T13:02:24.861Z"
   },
   {
    "duration": 107,
    "start_time": "2023-03-08T13:02:24.929Z"
   },
   {
    "duration": 122,
    "start_time": "2023-03-08T13:02:25.038Z"
   },
   {
    "duration": 375,
    "start_time": "2023-03-08T13:02:25.162Z"
   },
   {
    "duration": 396,
    "start_time": "2023-03-08T13:02:25.539Z"
   },
   {
    "duration": 356,
    "start_time": "2023-03-08T13:02:25.937Z"
   },
   {
    "duration": 100,
    "start_time": "2023-03-08T13:02:26.295Z"
   },
   {
    "duration": 7,
    "start_time": "2023-03-08T13:02:26.396Z"
   },
   {
    "duration": 13,
    "start_time": "2023-03-08T13:02:26.423Z"
   },
   {
    "duration": 14,
    "start_time": "2023-03-08T13:02:26.438Z"
   },
   {
    "duration": 137,
    "start_time": "2023-03-08T13:02:26.454Z"
   },
   {
    "duration": 423,
    "start_time": "2023-03-08T13:02:26.593Z"
   },
   {
    "duration": 392,
    "start_time": "2023-03-08T13:02:27.023Z"
   },
   {
    "duration": 17,
    "start_time": "2023-03-08T13:02:27.418Z"
   },
   {
    "duration": 57,
    "start_time": "2023-03-08T13:02:27.437Z"
   },
   {
    "duration": 86,
    "start_time": "2023-03-08T13:02:27.496Z"
   },
   {
    "duration": 9,
    "start_time": "2023-03-08T13:02:27.584Z"
   },
   {
    "duration": 155,
    "start_time": "2023-03-08T13:02:27.595Z"
   },
   {
    "duration": 80,
    "start_time": "2023-03-08T13:02:27.752Z"
   },
   {
    "duration": 28,
    "start_time": "2023-03-08T13:02:27.834Z"
   },
   {
    "duration": 393,
    "start_time": "2023-03-08T13:02:27.864Z"
   },
   {
    "duration": 212,
    "start_time": "2023-03-08T13:02:28.259Z"
   }
  ],
  "kernelspec": {
   "display_name": "Python 3 (ipykernel)",
   "language": "python",
   "name": "python3"
  },
  "language_info": {
   "codemirror_mode": {
    "name": "ipython",
    "version": 3
   },
   "file_extension": ".py",
   "mimetype": "text/x-python",
   "name": "python",
   "nbconvert_exporter": "python",
   "pygments_lexer": "ipython3",
   "version": "3.9.13"
  },
  "toc": {
   "base_numbering": 1,
   "nav_menu": {},
   "number_sections": true,
   "sideBar": true,
   "skip_h1_title": true,
   "title_cell": "Table of Contents",
   "title_sidebar": "Contents",
   "toc_cell": false,
   "toc_position": {},
   "toc_section_display": true,
   "toc_window_display": false
  }
 },
 "nbformat": 4,
 "nbformat_minor": 2
}
