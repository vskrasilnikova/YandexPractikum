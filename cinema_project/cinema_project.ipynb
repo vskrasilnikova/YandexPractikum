{
 "cells": [
  {
   "cell_type": "markdown",
   "metadata": {
    "id": "sIfNaMOxgFyK"
   },
   "source": [
    "## Исследование данных о российском кинопрокате\n",
    "\n"
   ]
  },
  {
   "cell_type": "markdown",
   "metadata": {},
   "source": [
    "Заказчик исследования - Министерство культуры РФ. Необходимо исследовать основные тренды российского кинопроката.\n",
    "\n",
    "Исходные данные с портала Министерства культуры и сайта Кинопоиск.\n",
    "\n",
    "Для проведения исследования необходимо:\n",
    "    \n",
    "    - изучить общую информацию о датафрейме;\n",
    "    - обработать пропущенные или аномальные значения;\n",
    "    - проверить дубликаты;\n",
    "    - добавить новые столбцы с недостающими значениями;\n",
    "    - изучить информацию о прокате;\n",
    "    - изучить информацию о фильмах с государственной поддержкой.\n",
    "    \n",
    "У нас представлены данные из двух датафреймов. В первом сожержатся названия фильмов, прокатное удостоверение, дата примьеры, жанр, тип картины, студия, режиссер, продюссер, возрастное ограничение, рейтинг, сведения о бюджете и поддержки от государства.\n",
    "\n",
    "В втором содерджатся данные о прокатном удостоверении и кассовых сборах в кинотеатрах."
   ]
  },
  {
   "cell_type": "markdown",
   "metadata": {
    "id": "3bSlkCsbgFyL"
   },
   "source": [
    "### Шаг 1. Откройте файлы с данными и объедините их в один датафрейм. \n",
    "\n",
    "Объедините данные таким образом, чтобы все объекты из датасета `mkrf_movies` обязательно вошли в получившийся датафрейм. \n",
    "\n",
    "<div id=\"accordion\">\n",
    "    <div class=\"card\">\n",
    "        <div class=\"card-header\" id=\"headingThree\">\n",
    "            <button class=\"btn btn-link collapsed\" data-toggle=\"collapse\" data-target=\"#collapseHint_0\" aria-expanded=\"false\" aria-controls=\"collapseHint_0\">Подсказка</button>\n",
    "        </div>\n",
    "        <div id=\"collapseHint_0\" class=\"collapse\" aria-labelledby=\"headingThree\" data-parent=\"#accordion\">\n",
    "            <div class=\"card-body\">\n",
    "Обратите внимание на тип данных столбца, по которому будете соединять датафреймы. Тип данных этих столбцов должен быть одинаковым в обоих датафреймах.\n",
    "            </div>\n",
    "        </div>\n",
    "    </div>\n",
    "</div>"
   ]
  },
  {
   "cell_type": "code",
   "execution_count": 73,
   "metadata": {
    "id": "dw87FlzMgFyM"
   },
   "outputs": [],
   "source": [
    "import pandas as pd\n",
    "import matplotlib.pyplot as plt\n",
    "import seaborn as sns\n",
    "import warnings\n",
    "\n",
    "warnings.filterwarnings(\"ignore\")"
   ]
  },
  {
   "cell_type": "code",
   "execution_count": 74,
   "metadata": {},
   "outputs": [],
   "source": [
    "data_movie = pd.read_csv('/datasets/mkrf_movies.csv')\n",
    "data_shows = pd.read_csv('/datasets/mkrf_shows.csv')"
   ]
  },
  {
   "cell_type": "code",
   "execution_count": 3,
   "metadata": {},
   "outputs": [
    {
     "name": "stdout",
     "output_type": "stream",
     "text": [
      "<class 'pandas.core.frame.DataFrame'>\n",
      "RangeIndex: 7486 entries, 0 to 7485\n",
      "Data columns (total 15 columns):\n",
      " #   Column                 Non-Null Count  Dtype  \n",
      "---  ------                 --------------  -----  \n",
      " 0   title                  7486 non-null   object \n",
      " 1   puNumber               7486 non-null   object \n",
      " 2   show_start_date        7486 non-null   object \n",
      " 3   type                   7486 non-null   object \n",
      " 4   film_studio            7468 non-null   object \n",
      " 5   production_country     7484 non-null   object \n",
      " 6   director               7477 non-null   object \n",
      " 7   producer               6918 non-null   object \n",
      " 8   age_restriction        7486 non-null   object \n",
      " 9   refundable_support     332 non-null    float64\n",
      " 10  nonrefundable_support  332 non-null    float64\n",
      " 11  budget                 332 non-null    float64\n",
      " 12  financing_source       332 non-null    object \n",
      " 13  ratings                6519 non-null   object \n",
      " 14  genres                 6510 non-null   object \n",
      "dtypes: float64(3), object(12)\n",
      "memory usage: 877.4+ KB\n"
     ]
    }
   ],
   "source": [
    "data_movie.info()"
   ]
  },
  {
   "cell_type": "code",
   "execution_count": 4,
   "metadata": {},
   "outputs": [
    {
     "name": "stdout",
     "output_type": "stream",
     "text": [
      "<class 'pandas.core.frame.DataFrame'>\n",
      "RangeIndex: 3158 entries, 0 to 3157\n",
      "Data columns (total 2 columns):\n",
      " #   Column      Non-Null Count  Dtype  \n",
      "---  ------      --------------  -----  \n",
      " 0   puNumber    3158 non-null   int64  \n",
      " 1   box_office  3158 non-null   float64\n",
      "dtypes: float64(1), int64(1)\n",
      "memory usage: 49.5 KB\n"
     ]
    }
   ],
   "source": [
    "data_shows.info()"
   ]
  },
  {
   "cell_type": "markdown",
   "metadata": {},
   "source": [
    "Объединять два датафрейма в один будем по номерам прокатного удостоверения (столбцу `puNumber`)"
   ]
  },
  {
   "cell_type": "code",
   "execution_count": 5,
   "metadata": {},
   "outputs": [
    {
     "data": {
      "text/plain": [
       "array([' 111004112', '111000110', '111000111', ..., '231001012',\n",
       "       '231001111', 'нет'], dtype=object)"
      ]
     },
     "execution_count": 5,
     "metadata": {},
     "output_type": "execute_result"
    }
   ],
   "source": [
    "#в датафрейме data_movie тип данных указан object, есть строка со значением \"нет\".\n",
    "#оставим только те строки, в которых есть номер прокатного удостоверения и преобразуем в тип int\n",
    "data_movie['puNumber'].sort_values().unique()"
   ]
  },
  {
   "cell_type": "code",
   "execution_count": 6,
   "metadata": {},
   "outputs": [],
   "source": [
    "data_movie = data_movie[data_movie['puNumber']!='нет']\n",
    "data_movie['puNumber'] = data_movie['puNumber'].astype(int)"
   ]
  },
  {
   "cell_type": "code",
   "execution_count": 7,
   "metadata": {},
   "outputs": [],
   "source": [
    "#объединяем в единый датафрейм\n",
    "#в него вошли все строки из таблицы data_movie\n",
    "data = data_shows.merge(data_movie, on = 'puNumber', how='right')"
   ]
  },
  {
   "cell_type": "code",
   "execution_count": 8,
   "metadata": {},
   "outputs": [
    {
     "name": "stdout",
     "output_type": "stream",
     "text": [
      "<class 'pandas.core.frame.DataFrame'>\n",
      "Int64Index: 7485 entries, 0 to 7484\n",
      "Data columns (total 16 columns):\n",
      " #   Column                 Non-Null Count  Dtype  \n",
      "---  ------                 --------------  -----  \n",
      " 0   puNumber               7485 non-null   int64  \n",
      " 1   box_office             3158 non-null   float64\n",
      " 2   title                  7485 non-null   object \n",
      " 3   show_start_date        7485 non-null   object \n",
      " 4   type                   7485 non-null   object \n",
      " 5   film_studio            7467 non-null   object \n",
      " 6   production_country     7483 non-null   object \n",
      " 7   director               7476 non-null   object \n",
      " 8   producer               6917 non-null   object \n",
      " 9   age_restriction        7485 non-null   object \n",
      " 10  refundable_support     332 non-null    float64\n",
      " 11  nonrefundable_support  332 non-null    float64\n",
      " 12  budget                 332 non-null    float64\n",
      " 13  financing_source       332 non-null    object \n",
      " 14  ratings                6519 non-null   object \n",
      " 15  genres                 6510 non-null   object \n",
      "dtypes: float64(4), int64(1), object(11)\n",
      "memory usage: 994.1+ KB\n"
     ]
    }
   ],
   "source": [
    "data.info()"
   ]
  },
  {
   "cell_type": "markdown",
   "metadata": {
    "id": "KLDGpPG0gFyM"
   },
   "source": [
    "### Шаг 2. Предобработка данных"
   ]
  },
  {
   "cell_type": "markdown",
   "metadata": {
    "id": "ssWwKXsxgFyO"
   },
   "source": [
    "#### Шаг 2.1. Проверьте типы данных\n",
    "\n",
    "- Проверьте типы данных в датафрейме и преобразуйте их там, где это необходимо."
   ]
  },
  {
   "cell_type": "code",
   "execution_count": 9,
   "metadata": {
    "id": "kVGSplJOgFyO"
   },
   "outputs": [],
   "source": [
    "data['show_start_date'] = pd.to_datetime(data['show_start_date'], format= '%Y-%m-%dT%H:%M:%S')\n",
    "data['genres'] = data['genres'].astype(str)\n",
    "data['director'] = data['director'].astype(str)\n",
    "data['ratings'] = data['ratings'].str.replace('%', '').astype(float)"
   ]
  },
  {
   "cell_type": "code",
   "execution_count": 10,
   "metadata": {},
   "outputs": [
    {
     "name": "stdout",
     "output_type": "stream",
     "text": [
      "<class 'pandas.core.frame.DataFrame'>\n",
      "Int64Index: 7485 entries, 0 to 7484\n",
      "Data columns (total 16 columns):\n",
      " #   Column                 Non-Null Count  Dtype              \n",
      "---  ------                 --------------  -----              \n",
      " 0   puNumber               7485 non-null   int64              \n",
      " 1   box_office             3158 non-null   float64            \n",
      " 2   title                  7485 non-null   object             \n",
      " 3   show_start_date        7485 non-null   datetime64[ns, UTC]\n",
      " 4   type                   7485 non-null   object             \n",
      " 5   film_studio            7467 non-null   object             \n",
      " 6   production_country     7483 non-null   object             \n",
      " 7   director               7485 non-null   object             \n",
      " 8   producer               6917 non-null   object             \n",
      " 9   age_restriction        7485 non-null   object             \n",
      " 10  refundable_support     332 non-null    float64            \n",
      " 11  nonrefundable_support  332 non-null    float64            \n",
      " 12  budget                 332 non-null    float64            \n",
      " 13  financing_source       332 non-null    object             \n",
      " 14  ratings                6519 non-null   float64            \n",
      " 15  genres                 7485 non-null   object             \n",
      "dtypes: datetime64[ns, UTC](1), float64(5), int64(1), object(9)\n",
      "memory usage: 994.1+ KB\n"
     ]
    }
   ],
   "source": [
    "data.info()"
   ]
  },
  {
   "cell_type": "markdown",
   "metadata": {},
   "source": [
    "**Вывод**\n",
    "\n",
    "Необходимо было заменить данные в столбцах `show_start_date` (datetime) и `ratings` (float) для более удобной обработки в дальнейшем. В остальном формат данных в порядке."
   ]
  },
  {
   "cell_type": "markdown",
   "metadata": {
    "id": "i0MOLbF-gFyP"
   },
   "source": [
    "#### Шаг 2.2. Изучите пропуски в датафрейме\n",
    "\n",
    "- Объясните, почему заполнили пропуски определённым образом или почему не стали этого делать."
   ]
  },
  {
   "cell_type": "code",
   "execution_count": 11,
   "metadata": {
    "id": "8MJD_lkngFyP"
   },
   "outputs": [
    {
     "data": {
      "image/png": "[encoded data removed]",
      "text/plain": [
       "<Figure size 1368x432 with 1 Axes>"
      ]
     },
     "metadata": {
      "needs_background": "light"
     },
     "output_type": "display_data"
    }
   ],
   "source": [
    "def nan_barh(data):\n",
    "        (\n",
    "            (data.isna().mean()*100)\n",
    "            .to_frame()\n",
    "            .rename(columns = {0:'space'})\n",
    "            .query('space > 0')\n",
    "            .sort_values(by = 'space', ascending = True)\n",
    "            .plot(kind = 'barh', figsize = (19,6))   \n",
    "        );\n",
    "        \n",
    "nan_barh(data)"
   ]
  },
  {
   "cell_type": "markdown",
   "metadata": {},
   "source": [
    "Больше всего пропущенных значение в столбцах, напрямую связанных с государственной поддержкой. Здесь пропуски объясняются тем, что государственной поддержки просто нет. Пропуски в этих столбцах заполним `0`\n",
    "\n",
    "Причина появления пропусков в столбцах `box_office`, `ratings`, `producer` и `film_studio` не понятна. Оставим их как есть."
   ]
  },
  {
   "cell_type": "code",
   "execution_count": 12,
   "metadata": {},
   "outputs": [],
   "source": [
    "data['refundable_support'] = data['refundable_support'].fillna(0)\n",
    "data['nonrefundable_support'] = data['nonrefundable_support'].fillna(0)\n",
    "data['budget'] = data['budget'].fillna(0)"
   ]
  },
  {
   "cell_type": "markdown",
   "metadata": {
    "id": "4c6k1t9ygFyQ"
   },
   "source": [
    "#### Шаг 2.3. Изучите дубликаты в датафрейме\n",
    "- Проверьте, есть ли в данных дубликаты. Опишите причины, которые могли повлиять на появление дублей."
   ]
  },
  {
   "cell_type": "code",
   "execution_count": 13,
   "metadata": {
    "id": "aKck8RIdgFyQ"
   },
   "outputs": [
    {
     "data": {
      "text/plain": [
       "0"
      ]
     },
     "execution_count": 13,
     "metadata": {},
     "output_type": "execute_result"
    }
   ],
   "source": [
    "#проверка на явные дубликаты\n",
    "data.duplicated().sum()"
   ]
  },
  {
   "cell_type": "code",
   "execution_count": 14,
   "metadata": {},
   "outputs": [
    {
     "data": {
      "text/plain": [
       "665"
      ]
     },
     "execution_count": 14,
     "metadata": {},
     "output_type": "execute_result"
    }
   ],
   "source": [
    "#проверка повторяющихся фильмов\n",
    "data.duplicated(['title', 'film_studio', 'director']).sum()"
   ]
  },
  {
   "cell_type": "code",
   "execution_count": 15,
   "metadata": {},
   "outputs": [
    {
     "data": {
      "text/plain": [
       "0"
      ]
     },
     "execution_count": 15,
     "metadata": {},
     "output_type": "execute_result"
    }
   ],
   "source": [
    "#проверила дубликаты по прокатным удостоверениям и тайтлам, повторяющихся нет, получается вывод все же верный\n",
    "#(пускали в прокат несколько раз)\n",
    "data.duplicated(['title', 'puNumber']).sum()"
   ]
  },
  {
   "cell_type": "code",
   "execution_count": 16,
   "metadata": {},
   "outputs": [
    {
     "data": {
      "text/plain": [
       "714"
      ]
     },
     "execution_count": 16,
     "metadata": {},
     "output_type": "execute_result"
    }
   ],
   "source": [
    "data.duplicated(['title']).sum()"
   ]
  },
  {
   "cell_type": "code",
   "execution_count": 17,
   "metadata": {},
   "outputs": [
    {
     "data": {
      "text/plain": [
       "2"
      ]
     },
     "execution_count": 17,
     "metadata": {},
     "output_type": "execute_result"
    }
   ],
   "source": [
    "data.duplicated(['puNumber']).sum()"
   ]
  },
  {
   "cell_type": "code",
   "execution_count": 18,
   "metadata": {},
   "outputs": [
    {
     "data": {
      "text/html": [
       "<div>\n",
       "<style scoped>\n",
       "    .dataframe tbody tr th:only-of-type {\n",
       "        vertical-align: middle;\n",
       "    }\n",
       "\n",
       "    .dataframe tbody tr th {\n",
       "        vertical-align: top;\n",
       "    }\n",
       "\n",
       "    .dataframe thead th {\n",
       "        text-align: right;\n",
       "    }\n",
       "</style>\n",
       "<table border=\"1\" class=\"dataframe\">\n",
       "  <thead>\n",
       "    <tr style=\"text-align: right;\">\n",
       "      <th></th>\n",
       "      <th>puNumber</th>\n",
       "      <th>box_office</th>\n",
       "      <th>title</th>\n",
       "      <th>show_start_date</th>\n",
       "      <th>type</th>\n",
       "      <th>film_studio</th>\n",
       "      <th>production_country</th>\n",
       "      <th>director</th>\n",
       "      <th>producer</th>\n",
       "      <th>age_restriction</th>\n",
       "      <th>refundable_support</th>\n",
       "      <th>nonrefundable_support</th>\n",
       "      <th>budget</th>\n",
       "      <th>financing_source</th>\n",
       "      <th>ratings</th>\n",
       "      <th>genres</th>\n",
       "    </tr>\n",
       "  </thead>\n",
       "  <tbody>\n",
       "    <tr>\n",
       "      <th>4638</th>\n",
       "      <td>221154310</td>\n",
       "      <td>NaN</td>\n",
       "      <td>Иоанна - женщина на папском престоле /По роман...</td>\n",
       "      <td>2010-12-17 12:00:00+00:00</td>\n",
       "      <td>Художественный</td>\n",
       "      <td>Константин Фильм, А Эр Ди Дегето Фильм, Дюне ...</td>\n",
       "      <td>Германия - Великобритания - Италия - Испания</td>\n",
       "      <td>Зенке Вортманн</td>\n",
       "      <td>Оливер Бербен, Дорис Д.Хайнце, Фарук Элтан</td>\n",
       "      <td>«16+» - для детей старше 16 лет</td>\n",
       "      <td>0.0</td>\n",
       "      <td>0.0</td>\n",
       "      <td>0.0</td>\n",
       "      <td>NaN</td>\n",
       "      <td>7.6</td>\n",
       "      <td>драма,мелодрама,история</td>\n",
       "    </tr>\n",
       "    <tr>\n",
       "      <th>5067</th>\n",
       "      <td>221054410</td>\n",
       "      <td>NaN</td>\n",
       "      <td>Анализируй то!</td>\n",
       "      <td>2010-05-25 12:00:00+00:00</td>\n",
       "      <td>Художественный</td>\n",
       "      <td>Уорнер Бразерс, Виллидж Роадшоу Пикчерз, Эн-Пи...</td>\n",
       "      <td>США</td>\n",
       "      <td>Гарольд Реймис</td>\n",
       "      <td>Джейн Розенталь, Паул Уэйнстейн</td>\n",
       "      <td>«12+» - для детей старше 12 лет</td>\n",
       "      <td>0.0</td>\n",
       "      <td>0.0</td>\n",
       "      <td>0.0</td>\n",
       "      <td>NaN</td>\n",
       "      <td>6.8</td>\n",
       "      <td>комедия,криминал</td>\n",
       "    </tr>\n",
       "  </tbody>\n",
       "</table>\n",
       "</div>"
      ],
      "text/plain": [
       "       puNumber  box_office  \\\n",
       "4638  221154310         NaN   \n",
       "5067  221054410         NaN   \n",
       "\n",
       "                                                  title  \\\n",
       "4638  Иоанна - женщина на папском престоле /По роман...   \n",
       "5067                                     Анализируй то!   \n",
       "\n",
       "               show_start_date            type  \\\n",
       "4638 2010-12-17 12:00:00+00:00  Художественный   \n",
       "5067 2010-05-25 12:00:00+00:00  Художественный   \n",
       "\n",
       "                                            film_studio  \\\n",
       "4638   Константин Фильм, А Эр Ди Дегето Фильм, Дюне ...   \n",
       "5067  Уорнер Бразерс, Виллидж Роадшоу Пикчерз, Эн-Пи...   \n",
       "\n",
       "                                production_country        director  \\\n",
       "4638  Германия - Великобритания - Италия - Испания  Зенке Вортманн   \n",
       "5067                                           США  Гарольд Реймис   \n",
       "\n",
       "                                        producer  \\\n",
       "4638  Оливер Бербен, Дорис Д.Хайнце, Фарук Элтан   \n",
       "5067             Джейн Розенталь, Паул Уэйнстейн   \n",
       "\n",
       "                      age_restriction  refundable_support  \\\n",
       "4638  «16+» - для детей старше 16 лет                 0.0   \n",
       "5067  «12+» - для детей старше 12 лет                 0.0   \n",
       "\n",
       "      nonrefundable_support  budget financing_source  ratings  \\\n",
       "4638                    0.0     0.0              NaN      7.6   \n",
       "5067                    0.0     0.0              NaN      6.8   \n",
       "\n",
       "                       genres  \n",
       "4638  драма,мелодрама,история  \n",
       "5067         комедия,криминал  "
      ]
     },
     "execution_count": 18,
     "metadata": {},
     "output_type": "execute_result"
    }
   ],
   "source": [
    "data[data['puNumber'].duplicated()]"
   ]
  },
  {
   "cell_type": "markdown",
   "metadata": {},
   "source": [
    "У нас нет явных дубликатов, однако есть повторяющиеся фильмы. Скорее всего их несколько раз пускали в прокат, поэтому данные повторяются.\n",
    "\n",
    "Есть дубликаты по прокатным удостоверениям, однако номера там разные(?) и фильмы не совпадают. Возможно ошибка."
   ]
  },
  {
   "cell_type": "markdown",
   "metadata": {
    "id": "52fOPrEBgFyQ"
   },
   "source": [
    "#### Шаг 2.4. Изучите категориальные значения\n",
    "\n",
    "- Посмотрите, какая общая проблема встречается почти во всех категориальных столбцах;\n",
    "- Исправьте проблемные значения в поле `type`.\n",
    "\n",
    "<div id=\"accordion\">\n",
    "    <div class=\"card\">\n",
    "        <div class=\"card-header\" id=\"headingThree\">\n",
    "            <button class=\"btn btn-link collapsed\" data-toggle=\"collapse\" data-target=\"#collapseHint_1\" aria-expanded=\"false\" aria-controls=\"collapseHint_1\">Подсказка</button>\n",
    "        </div>\n",
    "        <div id=\"collapseHint_1\" class=\"collapse\" aria-labelledby=\"headingThree\" data-parent=\"#accordion\">\n",
    "            <div class=\"card-body\">\n",
    "В поле <code>type</code> есть несколько значений, у которых появился пробел в начале строки. Самый простой способ их «починить» -- использовать метод <a href=\"https://pandas.pydata.org/docs/reference/api/pandas.Series.str.strip.html#pandas.Series.str.strip\">.str.strip</a>. Этот метод удаляет все пробелы, которые встречаются в начале и в конце строки. Применяют его таким образом:<br>\n",
    "<code>df['type'].str.strip()</code>\n",
    "            </div>\n",
    "        </div>\n",
    "    </div>\n",
    "</div>"
   ]
  },
  {
   "cell_type": "code",
   "execution_count": 19,
   "metadata": {
    "id": "PnXKIVdFgFyR"
   },
   "outputs": [
    {
     "data": {
      "text/plain": [
       "array(['Художественный', 'Анимационный', 'Прочие', 'Документальный',\n",
       "       'Научно-популярный', ' Художественный', ' Анимационный',\n",
       "       'Музыкально-развлекательный'], dtype=object)"
      ]
     },
     "execution_count": 19,
     "metadata": {},
     "output_type": "execute_result"
    }
   ],
   "source": [
    "data['type'].unique()"
   ]
  },
  {
   "cell_type": "code",
   "execution_count": 20,
   "metadata": {},
   "outputs": [
    {
     "data": {
      "text/plain": [
       "array(['Художественный', 'Анимационный', 'Прочие', 'Документальный',\n",
       "       'Научно-популярный', 'Музыкально-развлекательный'], dtype=object)"
      ]
     },
     "execution_count": 20,
     "metadata": {},
     "output_type": "execute_result"
    }
   ],
   "source": [
    "data['type'] = data['type'].str.strip()\n",
    "data['type'].unique()"
   ]
  },
  {
   "cell_type": "code",
   "execution_count": 21,
   "metadata": {
    "scrolled": true
   },
   "outputs": [
    {
     "data": {
      "text/plain": [
       "950"
      ]
     },
     "execution_count": 21,
     "metadata": {},
     "output_type": "execute_result"
    }
   ],
   "source": [
    "data['production_country'].sort_values().unique()\n",
    "data['production_country'].nunique()"
   ]
  },
  {
   "cell_type": "code",
   "execution_count": 22,
   "metadata": {},
   "outputs": [],
   "source": [
    "data['production_country'] = data['production_country'].str.strip()\n",
    "data['production_country'] = data['production_country'].str.replace('К;анада', 'Канада')\n",
    "data['production_country'] = data['production_country'].str.replace('-', ',')"
   ]
  },
  {
   "cell_type": "code",
   "execution_count": 23,
   "metadata": {},
   "outputs": [
    {
     "data": {
      "text/plain": [
       "5490"
      ]
     },
     "execution_count": 23,
     "metadata": {},
     "output_type": "execute_result"
    }
   ],
   "source": [
    "data['film_studio'].nunique()"
   ]
  },
  {
   "cell_type": "code",
   "execution_count": 24,
   "metadata": {},
   "outputs": [
    {
     "data": {
      "text/plain": [
       "5450"
      ]
     },
     "execution_count": 24,
     "metadata": {},
     "output_type": "execute_result"
    }
   ],
   "source": [
    "data['film_studio'] = data['film_studio'].str.lower()\n",
    "data['film_studio'].nunique()"
   ]
  },
  {
   "cell_type": "code",
   "execution_count": 25,
   "metadata": {},
   "outputs": [
    {
     "data": {
      "text/plain": [
       "array(['Кевин Костнер', 'Е.Матвеев', 'Тимур Бекмамбетов', ...,\n",
       "       'Ник Пауэлл', 'А.Беляев', 'И.Трусов'], dtype=object)"
      ]
     },
     "execution_count": 25,
     "metadata": {},
     "output_type": "execute_result"
    }
   ],
   "source": [
    "data['director'].unique()"
   ]
  },
  {
   "cell_type": "markdown",
   "metadata": {},
   "source": [
    "**Вывод**\n",
    "\n",
    "Общая проблема всех категориальных значений - разная запись.\n",
    "\n",
    "В столбце со странами встречаются разные разделители или разный порядок записи, почти везде указано в среднем 2-4 страны, участвующие в создании фильма, в столбце со студией разное написание названия или регистра записи (сократили 40 неявных дубликатов благодаря смене регистра), в столбце с режиссером встречается полное написание имени и фамилии, сокращенное, несколько режиссеров.\n",
    "\n",
    "Также в одном из столбцов указан год, что может быть ошибкой, появившейся из-за человеческого фактора."
   ]
  },
  {
   "cell_type": "markdown",
   "metadata": {
    "id": "XFSN5lrEgFyR"
   },
   "source": [
    "#### Шаг 2.5. Проверьте количественные значения\n",
    "\n",
    "- Проверьте, обнаружились ли в таких столбцах подозрительные данные. Как с такими данными лучше поступить?\n",
    "\n",
    "<div id=\"accordion\">\n",
    "    <div class=\"card\">\n",
    "        <div class=\"card-header\" id=\"headingThree\">\n",
    "            <button class=\"btn btn-link collapsed\" data-toggle=\"collapse\" data-target=\"#collapseHint_budget\" aria-expanded=\"false\" aria-controls=\"collapseHint_budget\">Подсказка</button>\n",
    "        </div>\n",
    "        <div id=\"collapseHint_budget\" class=\"collapse\" aria-labelledby=\"headingThree\" data-parent=\"#accordion\">\n",
    "            <div class=\"card-body\">\n",
    "Обратите внимание на описание столбца <code>budget</code>. Как этот столбец соотносится с двумя другими: <code>refundable_support</code> и <code>nonrefundable_support</code>?\n",
    "            </div>\n",
    "        </div>\n",
    "    </div>\n",
    "</div>"
   ]
  },
  {
   "cell_type": "code",
   "execution_count": 26,
   "metadata": {
    "id": "YbzClBxagFyS"
   },
   "outputs": [
    {
     "data": {
      "text/plain": [
       "array([ 7.2,  6.6,  6.8,  7.7,  8.3,  8. ,  7.8,  8.1,  7.1,  6. ,  7.4,\n",
       "        5.8,  8.7,  6.3,  6.9,  5. ,  4.3,  7.3,  7. ,  6.4,  nan,  8.2,\n",
       "        7.5,  6.7,  7.9,  5.9,  6.2,  5.6,  6.5,  2.4,  7.6,  6.1,  8.6,\n",
       "        8.5,  8.8,  5.5,  5.1,  5.7,  5.4, 99. ,  4.4,  4.5,  5.3,  4.1,\n",
       "        8.4,  2.6,  3.8,  4.6,  4.8,  4. ,  3. ,  1.6,  4.2,  5.2,  4.7,\n",
       "        4.9,  3.9,  2.7,  3.3,  2.9, 28. ,  3.7,  1.4,  3.1, 97. ,  3.5,\n",
       "        3.2,  2.8,  1.5,  2.1,  2.5,  9.2,  3.4,  1.1,  3.6, 83. , 64. ,\n",
       "       91. , 94. , 62. , 79. , 90. , 19. , 88. ,  1. , 89. ,  1.3,  1.9,\n",
       "        1.8,  1.2,  1.7,  9. , 98. ,  8.9,  9.1])"
      ]
     },
     "execution_count": 26,
     "metadata": {},
     "output_type": "execute_result"
    }
   ],
   "source": [
    "data['ratings'].unique()"
   ]
  },
  {
   "cell_type": "markdown",
   "metadata": {},
   "source": [
    "В столбце с рейтингом мы видим отсутствие единой шкалы для его расчета, часть значений идут по 10-ти балльной шкале, часть по 100 бальной."
   ]
  },
  {
   "cell_type": "code",
   "execution_count": 27,
   "metadata": {},
   "outputs": [
    {
     "data": {
      "text/plain": [
       "puNumber                 29\n",
       "box_office               15\n",
       "title                    29\n",
       "show_start_date          29\n",
       "type                     29\n",
       "film_studio              29\n",
       "production_country       29\n",
       "director                 29\n",
       "producer                 29\n",
       "age_restriction          29\n",
       "refundable_support       29\n",
       "nonrefundable_support    29\n",
       "budget                   29\n",
       "financing_source          2\n",
       "ratings                  29\n",
       "genres                   29\n",
       "dtype: int64"
      ]
     },
     "execution_count": 27,
     "metadata": {},
     "output_type": "execute_result"
    }
   ],
   "source": [
    "data[data['ratings']>10].count()"
   ]
  },
  {
   "cell_type": "markdown",
   "metadata": {},
   "source": [
    "Значений с отличной записью (в процентах) не так много, такие значения дропнем."
   ]
  },
  {
   "cell_type": "code",
   "execution_count": 28,
   "metadata": {},
   "outputs": [],
   "source": [
    "#оставим значение, которые рассчитываются по 10-ти балльной шкале и строки с пропусками\n",
    "data = data.query('ratings.isna() | ratings<10')"
   ]
  },
  {
   "cell_type": "code",
   "execution_count": 29,
   "metadata": {},
   "outputs": [
    {
     "data": {
      "text/html": [
       "<style  type=\"text/css\" >\n",
       "</style><table id=\"T_28038_\" ><thead>    <tr>        <th class=\"blank level0\" ></th>        <th class=\"col_heading level0 col0\" >box_office</th>        <th class=\"col_heading level0 col1\" >refundable_support</th>        <th class=\"col_heading level0 col2\" >nonrefundable_support</th>        <th class=\"col_heading level0 col3\" >budget</th>    </tr></thead><tbody>\n",
       "                <tr>\n",
       "                        <th id=\"T_28038_level0_row0\" class=\"row_heading level0 row0\" >count</th>\n",
       "                        <td id=\"T_28038_row0_col0\" class=\"data row0 col0\" >3,143.00</td>\n",
       "                        <td id=\"T_28038_row0_col1\" class=\"data row0 col1\" >7,456.00</td>\n",
       "                        <td id=\"T_28038_row0_col2\" class=\"data row0 col2\" >7,456.00</td>\n",
       "                        <td id=\"T_28038_row0_col3\" class=\"data row0 col3\" >7,456.00</td>\n",
       "            </tr>\n",
       "            <tr>\n",
       "                        <th id=\"T_28038_level0_row1\" class=\"row_heading level0 row1\" >min</th>\n",
       "                        <td id=\"T_28038_row1_col0\" class=\"data row1 col0\" >0.00</td>\n",
       "                        <td id=\"T_28038_row1_col1\" class=\"data row1 col1\" >0.00</td>\n",
       "                        <td id=\"T_28038_row1_col2\" class=\"data row1 col2\" >0.00</td>\n",
       "                        <td id=\"T_28038_row1_col3\" class=\"data row1 col3\" >0.00</td>\n",
       "            </tr>\n",
       "            <tr>\n",
       "                        <th id=\"T_28038_level0_row2\" class=\"row_heading level0 row2\" >max</th>\n",
       "                        <td id=\"T_28038_row2_col0\" class=\"data row2 col0\" >3,073,568,690.79</td>\n",
       "                        <td id=\"T_28038_row2_col1\" class=\"data row2 col1\" >180,000,000.00</td>\n",
       "                        <td id=\"T_28038_row2_col2\" class=\"data row2 col2\" >400,000,000.00</td>\n",
       "                        <td id=\"T_28038_row2_col3\" class=\"data row2 col3\" >2,305,074,303.00</td>\n",
       "            </tr>\n",
       "            <tr>\n",
       "                        <th id=\"T_28038_level0_row3\" class=\"row_heading level0 row3\" >mean</th>\n",
       "                        <td id=\"T_28038_row3_col0\" class=\"data row3 col0\" >76,671,582.27</td>\n",
       "                        <td id=\"T_28038_row3_col1\" class=\"data row3 col1\" >528,299.36</td>\n",
       "                        <td id=\"T_28038_row3_col2\" class=\"data row3 col2\" >2,179,048.86</td>\n",
       "                        <td id=\"T_28038_row3_col3\" class=\"data row3 col3\" >5,657,967.20</td>\n",
       "            </tr>\n",
       "            <tr>\n",
       "                        <th id=\"T_28038_level0_row4\" class=\"row_heading level0 row4\" >median</th>\n",
       "                        <td id=\"T_28038_row4_col0\" class=\"data row4 col0\" >2,351,960.00</td>\n",
       "                        <td id=\"T_28038_row4_col1\" class=\"data row4 col1\" >0.00</td>\n",
       "                        <td id=\"T_28038_row4_col2\" class=\"data row4 col2\" >0.00</td>\n",
       "                        <td id=\"T_28038_row4_col3\" class=\"data row4 col3\" >0.00</td>\n",
       "            </tr>\n",
       "    </tbody></table>"
      ],
      "text/plain": [
       "<pandas.io.formats.style.Styler at 0x7fdec569ea00>"
      ]
     },
     "execution_count": 29,
     "metadata": {},
     "output_type": "execute_result"
    }
   ],
   "source": [
    "data[['box_office', 'refundable_support', 'nonrefundable_support',\n",
    "      'budget']].apply(['count', 'min', 'max', 'mean', 'median']).style.format('{:,.2f}')"
   ]
  },
  {
   "cell_type": "code",
   "execution_count": 30,
   "metadata": {},
   "outputs": [
    {
     "data": {
      "text/html": [
       "<style  type=\"text/css\" >\n",
       "</style><table id=\"T_84ca6_\" ><thead>    <tr>        <th class=\"blank level0\" ></th>        <th class=\"col_heading level0 col0\" >box_office</th>        <th class=\"col_heading level0 col1\" >refundable_support</th>        <th class=\"col_heading level0 col2\" >nonrefundable_support</th>        <th class=\"col_heading level0 col3\" >budget</th>    </tr></thead><tbody>\n",
       "                <tr>\n",
       "                        <th id=\"T_84ca6_level0_row0\" class=\"row_heading level0 row0\" >0.0012</th>\n",
       "                        <td id=\"T_84ca6_row0_col0\" class=\"data row0 col0\" >0.00</td>\n",
       "                        <td id=\"T_84ca6_row0_col1\" class=\"data row0 col1\" >0.00</td>\n",
       "                        <td id=\"T_84ca6_row0_col2\" class=\"data row0 col2\" >0.00</td>\n",
       "                        <td id=\"T_84ca6_row0_col3\" class=\"data row0 col3\" >0.00</td>\n",
       "            </tr>\n",
       "            <tr>\n",
       "                        <th id=\"T_84ca6_level0_row1\" class=\"row_heading level0 row1\" >0.01</th>\n",
       "                        <td id=\"T_84ca6_row1_col0\" class=\"data row1 col0\" >100.00</td>\n",
       "                        <td id=\"T_84ca6_row1_col1\" class=\"data row1 col1\" >0.00</td>\n",
       "                        <td id=\"T_84ca6_row1_col2\" class=\"data row1 col2\" >0.00</td>\n",
       "                        <td id=\"T_84ca6_row1_col3\" class=\"data row1 col3\" >0.00</td>\n",
       "            </tr>\n",
       "            <tr>\n",
       "                        <th id=\"T_84ca6_level0_row2\" class=\"row_heading level0 row2\" >0.5</th>\n",
       "                        <td id=\"T_84ca6_row2_col0\" class=\"data row2 col0\" >2,351,960.00</td>\n",
       "                        <td id=\"T_84ca6_row2_col1\" class=\"data row2 col1\" >0.00</td>\n",
       "                        <td id=\"T_84ca6_row2_col2\" class=\"data row2 col2\" >0.00</td>\n",
       "                        <td id=\"T_84ca6_row2_col3\" class=\"data row2 col3\" >0.00</td>\n",
       "            </tr>\n",
       "            <tr>\n",
       "                        <th id=\"T_84ca6_level0_row3\" class=\"row_heading level0 row3\" >0.99</th>\n",
       "                        <td id=\"T_84ca6_row3_col0\" class=\"data row3 col0\" >1,284,025,459.81</td>\n",
       "                        <td id=\"T_84ca6_row3_col1\" class=\"data row3 col1\" >19,000,000.00</td>\n",
       "                        <td id=\"T_84ca6_row3_col2\" class=\"data row3 col2\" >50,000,000.00</td>\n",
       "                        <td id=\"T_84ca6_row3_col3\" class=\"data row3 col3\" >155,606,634.70</td>\n",
       "            </tr>\n",
       "            <tr>\n",
       "                        <th id=\"T_84ca6_level0_row4\" class=\"row_heading level0 row4\" >0.9988</th>\n",
       "                        <td id=\"T_84ca6_row4_col0\" class=\"data row4 col0\" >2,153,607,089.52</td>\n",
       "                        <td id=\"T_84ca6_row4_col1\" class=\"data row4 col1\" >100,000,000.00</td>\n",
       "                        <td id=\"T_84ca6_row4_col2\" class=\"data row4 col2\" >250,000,000.00</td>\n",
       "                        <td id=\"T_84ca6_row4_col3\" class=\"data row4 col3\" >530,350,484.96</td>\n",
       "            </tr>\n",
       "    </tbody></table>"
      ],
      "text/plain": [
       "<pandas.io.formats.style.Styler at 0x7fdf4c282ac0>"
      ]
     },
     "execution_count": 30,
     "metadata": {},
     "output_type": "execute_result"
    }
   ],
   "source": [
    "data[['box_office', 'refundable_support', 'nonrefundable_support',\n",
    "      'budget']].quantile([0.0012, 0.01, .5, .99, .9988]).style.format('{:,.2f}')"
   ]
  },
  {
   "cell_type": "code",
   "execution_count": 31,
   "metadata": {},
   "outputs": [
    {
     "data": {
      "image/png": "[encoded data removed]",
      "text/plain": [
       "<Figure size 1440x720 with 1 Axes>"
      ]
     },
     "metadata": {
      "needs_background": "light"
     },
     "output_type": "display_data"
    }
   ],
   "source": [
    "data['box_office'].plot(kind='hist', figsize=(20,10));"
   ]
  },
  {
   "cell_type": "code",
   "execution_count": 32,
   "metadata": {},
   "outputs": [
    {
     "data": {
      "image/png": "[encoded data removed]",
      "text/plain": [
       "<Figure size 1440x720 with 1 Axes>"
      ]
     },
     "metadata": {
      "needs_background": "light"
     },
     "output_type": "display_data"
    }
   ],
   "source": [
    "data['box_office'].hist(bins=1000, range=(0, 100000), figsize=(20, 10));"
   ]
  },
  {
   "cell_type": "markdown",
   "metadata": {},
   "source": [
    "У нас есть строки с достаточно низкими сборами (даже меньше 100000), есть с достаточно высокими (более 2000000000).\n",
    "Оставим только строки со значением сборов больше 10000."
   ]
  },
  {
   "cell_type": "code",
   "execution_count": 33,
   "metadata": {},
   "outputs": [
    {
     "name": "stdout",
     "output_type": "stream",
     "text": [
      "<class 'pandas.core.frame.DataFrame'>\n",
      "Int64Index: 6920 entries, 0 to 7484\n",
      "Data columns (total 16 columns):\n",
      " #   Column                 Non-Null Count  Dtype              \n",
      "---  ------                 --------------  -----              \n",
      " 0   puNumber               6920 non-null   int64              \n",
      " 1   box_office             2607 non-null   float64            \n",
      " 2   title                  6920 non-null   object             \n",
      " 3   show_start_date        6920 non-null   datetime64[ns, UTC]\n",
      " 4   type                   6920 non-null   object             \n",
      " 5   film_studio            6902 non-null   object             \n",
      " 6   production_country     6918 non-null   object             \n",
      " 7   director               6920 non-null   object             \n",
      " 8   producer               6425 non-null   object             \n",
      " 9   age_restriction        6920 non-null   object             \n",
      " 10  refundable_support     6920 non-null   float64            \n",
      " 11  nonrefundable_support  6920 non-null   float64            \n",
      " 12  budget                 6920 non-null   float64            \n",
      " 13  financing_source       326 non-null    object             \n",
      " 14  ratings                5979 non-null   float64            \n",
      " 15  genres                 6920 non-null   object             \n",
      "dtypes: datetime64[ns, UTC](1), float64(5), int64(1), object(9)\n",
      "memory usage: 919.1+ KB\n"
     ]
    }
   ],
   "source": [
    "data = data.query('box_office.isna() | box_office>10000')\n",
    "data.info()"
   ]
  },
  {
   "cell_type": "code",
   "execution_count": 34,
   "metadata": {},
   "outputs": [
    {
     "data": {
      "image/png": "[encoded data removed]",
      "text/plain": [
       "<Figure size 1440x720 with 1 Axes>"
      ]
     },
     "metadata": {
      "needs_background": "light"
     },
     "output_type": "display_data"
    }
   ],
   "source": [
    "data['budget'].hist(bins=100, range=(100000, 500000000), figsize=(20, 10));"
   ]
  },
  {
   "cell_type": "markdown",
   "metadata": {},
   "source": [
    "Значения выше 500000000 рублей бюджета выглядят редкими, но не аномальными(бюджет фильма Сталинград составляет почти 2000000000 рублей 30000000 долларов).\n",
    "\n",
    "Столбцы связанные с поддержкой государства напрямую свяязаны с бюджетов (значения указаны только если оба условия правдивы), поэтому значения в них трогать не будем."
   ]
  },
  {
   "cell_type": "markdown",
   "metadata": {},
   "source": [
    "**Вывод**\n",
    "\n",
    "Важный вопрос, в какой единице измерения указаны сборы? Потому что если это значения в рублях, то они выглядят достаточно реалистично, если же нет, то они аномально большие. Поскольку в столбце с бюджетом указаны значения в рублях, предположим, что и все остальные в рублях.\n",
    "\n",
    "Однако, у нас есть аномально низкие значения в столбце со сборами, их будет лучше удалить.\n",
    "Есть очень высокие и редкие значения, но путем быстрого серфинга интернета можно заметить, что миллиардные бюджеты не так уж и редки (обычно, бюджет фильма указывается в долларах, при переводе в рубли цифры просто огромны). Очень большие значения трогать не будем."
   ]
  },
  {
   "cell_type": "markdown",
   "metadata": {
    "id": "Eu6oWp2CgFyS"
   },
   "source": [
    "#### Шаг 2.6. Добавьте новые столбцы\n",
    "\n",
    "\n",
    "\n"
   ]
  },
  {
   "cell_type": "markdown",
   "metadata": {
    "id": "7GgW-UpAgFyS"
   },
   "source": [
    "- Создайте столбец с информацией о годе проката. Выделите год из даты премьеры фильма."
   ]
  },
  {
   "cell_type": "code",
   "execution_count": 35,
   "metadata": {
    "id": "I-yd1DkWgFyT"
   },
   "outputs": [],
   "source": [
    "data['year_exposition'] = data['show_start_date'].dt.year"
   ]
  },
  {
   "cell_type": "markdown",
   "metadata": {
    "id": "nFTDLDYOgFyT"
   },
   "source": [
    "- Создайте два столбца: с именем и фамилией главного режиссёра и основным жанром фильма. В столбцы войдут первые значения из списка режиссёров и жанров соответственно.\n",
    "\n",
    "<div id=\"accordion\">\n",
    "    <div class=\"card\">\n",
    "        <div class=\"card-header\" id=\"headingThree\">\n",
    "            <button class=\"btn btn-link collapsed\" data-toggle=\"collapse\" data-target=\"#collapseHint_2\" aria-expanded=\"false\" aria-controls=\"collapseHint_2\">Подсказка</button>\n",
    "        </div>\n",
    "        <div id=\"collapseHint_2\" class=\"collapse\" aria-labelledby=\"headingThree\" data-parent=\"#accordion\">\n",
    "            <div class=\"card-body\">\n",
    "Чтобы создать такие столбцы, лучше всего использовать собственную функцию. Эту функцию можно применить к двум столбцам сразу. \n",
    "            </div>\n",
    "        </div>\n",
    "    </div>\n",
    "</div>"
   ]
  },
  {
   "cell_type": "code",
   "execution_count": 36,
   "metadata": {
    "id": "LSbRZKbMgFyU"
   },
   "outputs": [],
   "source": [
    "data['director'] = data['director'].str.split(', ')\n",
    "data['genres'] = data['genres'].str.split(',')"
   ]
  },
  {
   "cell_type": "code",
   "execution_count": 37,
   "metadata": {},
   "outputs": [],
   "source": [
    "#жанр\n",
    "def genre(row):\n",
    "    main_genre = row['genres']\n",
    "    return main_genre[0]\n",
    "    \n",
    "data['main_genre'] = data.apply(genre, axis=1)"
   ]
  },
  {
   "cell_type": "code",
   "execution_count": 38,
   "metadata": {},
   "outputs": [],
   "source": [
    "#режиссер\n",
    "def director(row):\n",
    "    main_director = row['director']\n",
    "    return main_director[0]\n",
    "\n",
    "data['main_director'] = data.apply(director, axis=1)"
   ]
  },
  {
   "cell_type": "markdown",
   "metadata": {
    "id": "1FsCXHwdgFyU"
   },
   "source": [
    "- Посчитайте, какую долю от общего бюджета фильма составляет государственная поддержка."
   ]
  },
  {
   "cell_type": "code",
   "execution_count": 39,
   "metadata": {
    "id": "LV6qFuZLgFyV"
   },
   "outputs": [],
   "source": [
    "data['support_percent'] = (data['refundable_support']+data['nonrefundable_support'])/data['budget']"
   ]
  },
  {
   "cell_type": "code",
   "execution_count": 68,
   "metadata": {},
   "outputs": [
    {
     "data": {
      "text/html": [
       "<div>\n",
       "<style scoped>\n",
       "    .dataframe tbody tr th:only-of-type {\n",
       "        vertical-align: middle;\n",
       "    }\n",
       "\n",
       "    .dataframe tbody tr th {\n",
       "        vertical-align: top;\n",
       "    }\n",
       "\n",
       "    .dataframe thead th {\n",
       "        text-align: right;\n",
       "    }\n",
       "</style>\n",
       "<table border=\"1\" class=\"dataframe\">\n",
       "  <thead>\n",
       "    <tr style=\"text-align: right;\">\n",
       "      <th></th>\n",
       "      <th>puNumber</th>\n",
       "      <th>box_office</th>\n",
       "      <th>title</th>\n",
       "      <th>show_start_date</th>\n",
       "      <th>type</th>\n",
       "      <th>film_studio</th>\n",
       "      <th>production_country</th>\n",
       "      <th>director</th>\n",
       "      <th>producer</th>\n",
       "      <th>age_restriction</th>\n",
       "      <th>refundable_support</th>\n",
       "      <th>nonrefundable_support</th>\n",
       "      <th>budget</th>\n",
       "      <th>financing_source</th>\n",
       "      <th>ratings</th>\n",
       "      <th>genres</th>\n",
       "      <th>year_exposition</th>\n",
       "      <th>main_genre</th>\n",
       "      <th>main_director</th>\n",
       "      <th>support_percent</th>\n",
       "    </tr>\n",
       "  </thead>\n",
       "  <tbody>\n",
       "    <tr>\n",
       "      <th>1281</th>\n",
       "      <td>111005313</td>\n",
       "      <td>3.653536e+05</td>\n",
       "      <td>Пока еще жива</td>\n",
       "      <td>2013-10-11 12:00:00+00:00</td>\n",
       "      <td>Художественный</td>\n",
       "      <td>ано содействия развитию кинематографии \"ангел-...</td>\n",
       "      <td>Россия</td>\n",
       "      <td>[А.Атанесян]</td>\n",
       "      <td>А.Атанесян, М.Бабаханов, Р.Бутко</td>\n",
       "      <td>«16+» - для детей старше 16 лет</td>\n",
       "      <td>0.0</td>\n",
       "      <td>26500000.0</td>\n",
       "      <td>79411900.0</td>\n",
       "      <td>Министерство культуры</td>\n",
       "      <td>8.1</td>\n",
       "      <td>[драма, мелодрама]</td>\n",
       "      <td>2013</td>\n",
       "      <td>драма</td>\n",
       "      <td>А.Атанесян</td>\n",
       "      <td>0.333703</td>\n",
       "    </tr>\n",
       "    <tr>\n",
       "      <th>1448</th>\n",
       "      <td>111003314</td>\n",
       "      <td>2.814000e+04</td>\n",
       "      <td>Бесславные придурки</td>\n",
       "      <td>2014-03-28 12:00:00+00:00</td>\n",
       "      <td>Художественный</td>\n",
       "      <td>ооо \"компания \"атк-студио\"</td>\n",
       "      <td>Россия</td>\n",
       "      <td>[А.Якимчук]</td>\n",
       "      <td>А.Тютрюмов</td>\n",
       "      <td>«12+» - для детей старше 12 лет</td>\n",
       "      <td>0.0</td>\n",
       "      <td>26000000.0</td>\n",
       "      <td>37142857.0</td>\n",
       "      <td>Министерство культуры</td>\n",
       "      <td>NaN</td>\n",
       "      <td>[nan]</td>\n",
       "      <td>2014</td>\n",
       "      <td>nan</td>\n",
       "      <td>А.Якимчук</td>\n",
       "      <td>0.700000</td>\n",
       "    </tr>\n",
       "    <tr>\n",
       "      <th>1498</th>\n",
       "      <td>111004213</td>\n",
       "      <td>1.995703e+07</td>\n",
       "      <td>Невидимки</td>\n",
       "      <td>2013-09-10 12:00:00+00:00</td>\n",
       "      <td>Художественный</td>\n",
       "      <td>ооо \"компания \"реал-дакота\"</td>\n",
       "      <td>Россия</td>\n",
       "      <td>[Р.Давлетьяров, С.Комаров]</td>\n",
       "      <td>Р.Давлетьяров, А.Котелевский, А.Олейников</td>\n",
       "      <td>«12+» - для детей старше 12 лет</td>\n",
       "      <td>0.0</td>\n",
       "      <td>107847945.0</td>\n",
       "      <td>176023490.0</td>\n",
       "      <td>Фонд кино</td>\n",
       "      <td>5.3</td>\n",
       "      <td>[комедия, фантастика]</td>\n",
       "      <td>2013</td>\n",
       "      <td>комедия</td>\n",
       "      <td>Р.Давлетьяров</td>\n",
       "      <td>0.612691</td>\n",
       "    </tr>\n",
       "    <tr>\n",
       "      <th>1524</th>\n",
       "      <td>111004314</td>\n",
       "      <td>5.591750e+04</td>\n",
       "      <td>БЕРЦЫ</td>\n",
       "      <td>2014-05-05 12:00:00+00:00</td>\n",
       "      <td>Художественный</td>\n",
       "      <td>ооо \"студия \"пассажир\"</td>\n",
       "      <td>Россия</td>\n",
       "      <td>[Е.Миндадзе (псевдоним Катя Шагалова)]</td>\n",
       "      <td>Л.Антонова</td>\n",
       "      <td>«16+» - для детей старше 16 лет</td>\n",
       "      <td>0.0</td>\n",
       "      <td>28000000.0</td>\n",
       "      <td>40574140.0</td>\n",
       "      <td>Министерство культуры</td>\n",
       "      <td>4.2</td>\n",
       "      <td>[драма]</td>\n",
       "      <td>2014</td>\n",
       "      <td>драма</td>\n",
       "      <td>Е.Миндадзе (псевдоним Катя Шагалова)</td>\n",
       "      <td>0.690095</td>\n",
       "    </tr>\n",
       "    <tr>\n",
       "      <th>1792</th>\n",
       "      <td>111004414</td>\n",
       "      <td>2.321000e+05</td>\n",
       "      <td>Братья Ч</td>\n",
       "      <td>2014-04-23 12:00:00+00:00</td>\n",
       "      <td>Художественный</td>\n",
       "      <td>ооо \"студия \"пассажир\"</td>\n",
       "      <td>Россия</td>\n",
       "      <td>[М.Угаров]</td>\n",
       "      <td>А.Миндадзе, Л.Антонова</td>\n",
       "      <td>«16+» - для детей старше 16 лет</td>\n",
       "      <td>0.0</td>\n",
       "      <td>25000000.0</td>\n",
       "      <td>40015122.0</td>\n",
       "      <td>Министерство культуры</td>\n",
       "      <td>6.4</td>\n",
       "      <td>[драма]</td>\n",
       "      <td>2014</td>\n",
       "      <td>драма</td>\n",
       "      <td>М.Угаров</td>\n",
       "      <td>0.624764</td>\n",
       "    </tr>\n",
       "    <tr>\n",
       "      <th>...</th>\n",
       "      <td>...</td>\n",
       "      <td>...</td>\n",
       "      <td>...</td>\n",
       "      <td>...</td>\n",
       "      <td>...</td>\n",
       "      <td>...</td>\n",
       "      <td>...</td>\n",
       "      <td>...</td>\n",
       "      <td>...</td>\n",
       "      <td>...</td>\n",
       "      <td>...</td>\n",
       "      <td>...</td>\n",
       "      <td>...</td>\n",
       "      <td>...</td>\n",
       "      <td>...</td>\n",
       "      <td>...</td>\n",
       "      <td>...</td>\n",
       "      <td>...</td>\n",
       "      <td>...</td>\n",
       "      <td>...</td>\n",
       "    </tr>\n",
       "    <tr>\n",
       "      <th>7463</th>\n",
       "      <td>111022019</td>\n",
       "      <td>7.177032e+08</td>\n",
       "      <td>Союз спасения</td>\n",
       "      <td>2019-12-26 12:00:00+00:00</td>\n",
       "      <td>Художественный</td>\n",
       "      <td>зао \"дирекция кино\"</td>\n",
       "      <td>Россия</td>\n",
       "      <td>[А.Кравчук]</td>\n",
       "      <td>А.Максимов, К.Эрнст</td>\n",
       "      <td>«12+» - для детей старше 12 лет</td>\n",
       "      <td>100000000.0</td>\n",
       "      <td>400000000.0</td>\n",
       "      <td>980000000.0</td>\n",
       "      <td>Фонд кино</td>\n",
       "      <td>6.0</td>\n",
       "      <td>[история, биография, драма]</td>\n",
       "      <td>2019</td>\n",
       "      <td>история</td>\n",
       "      <td>А.Кравчук</td>\n",
       "      <td>0.510204</td>\n",
       "    </tr>\n",
       "    <tr>\n",
       "      <th>7465</th>\n",
       "      <td>114005019</td>\n",
       "      <td>5.010692e+08</td>\n",
       "      <td>Иван Царевич и Серый Волк 4</td>\n",
       "      <td>2019-12-20 12:00:00+00:00</td>\n",
       "      <td>Анимационный</td>\n",
       "      <td>ооо \"студия анимационного кино \"мельница\"</td>\n",
       "      <td>Россия</td>\n",
       "      <td>[Д.Шмидт, К.Феоктистов]</td>\n",
       "      <td>С.Сельянов, А.Боярский</td>\n",
       "      <td>«6+» - для детей старше 6 лет</td>\n",
       "      <td>100000000.0</td>\n",
       "      <td>0.0</td>\n",
       "      <td>190000000.0</td>\n",
       "      <td>Фонд кино</td>\n",
       "      <td>6.7</td>\n",
       "      <td>[мультфильм, приключения, семейный]</td>\n",
       "      <td>2019</td>\n",
       "      <td>мультфильм</td>\n",
       "      <td>Д.Шмидт</td>\n",
       "      <td>0.526316</td>\n",
       "    </tr>\n",
       "    <tr>\n",
       "      <th>7473</th>\n",
       "      <td>111022519</td>\n",
       "      <td>NaN</td>\n",
       "      <td>Вторжение</td>\n",
       "      <td>2019-12-23 12:00:00+00:00</td>\n",
       "      <td>Художественный</td>\n",
       "      <td>ооо \"арт пикчерс студия\", ооо \"водород 2011\"</td>\n",
       "      <td>Россия</td>\n",
       "      <td>[ Ф.Бондарчук]</td>\n",
       "      <td>Ф.Бондарчук, М.Врубель, А.Андрющенко, Д.Рудовский</td>\n",
       "      <td>«12+» - для детей старше 12 лет</td>\n",
       "      <td>100000000.0</td>\n",
       "      <td>400000000.0</td>\n",
       "      <td>944000000.0</td>\n",
       "      <td>Фонд кино</td>\n",
       "      <td>5.7</td>\n",
       "      <td>[фантастика, боевик]</td>\n",
       "      <td>2019</td>\n",
       "      <td>фантастика</td>\n",
       "      <td>Ф.Бондарчук</td>\n",
       "      <td>0.529661</td>\n",
       "    </tr>\n",
       "    <tr>\n",
       "      <th>7475</th>\n",
       "      <td>111023019</td>\n",
       "      <td>NaN</td>\n",
       "      <td>Я свободен</td>\n",
       "      <td>2019-12-26 12:00:00+00:00</td>\n",
       "      <td>Художественный</td>\n",
       "      <td>ао \"тпо \"киностудия им. м.горького\"</td>\n",
       "      <td>Россия</td>\n",
       "      <td>[И.Северов]</td>\n",
       "      <td>С.Зернов</td>\n",
       "      <td>«12+» - для детей старше 12 лет</td>\n",
       "      <td>0.0</td>\n",
       "      <td>30000000.0</td>\n",
       "      <td>46154000.0</td>\n",
       "      <td>Министерство культуры</td>\n",
       "      <td>5.9</td>\n",
       "      <td>[драма]</td>\n",
       "      <td>2019</td>\n",
       "      <td>драма</td>\n",
       "      <td>И.Северов</td>\n",
       "      <td>0.649998</td>\n",
       "    </tr>\n",
       "    <tr>\n",
       "      <th>7477</th>\n",
       "      <td>111023119</td>\n",
       "      <td>NaN</td>\n",
       "      <td>(Не)идеальный мужчина</td>\n",
       "      <td>2019-12-24 12:00:00+00:00</td>\n",
       "      <td>Художественный</td>\n",
       "      <td>ооо \"нон-стоп продакшн\"</td>\n",
       "      <td>Россия</td>\n",
       "      <td>[М.Бальчюнас (псевдоним М.Вайсберг)]</td>\n",
       "      <td>С.Мелькумов, А.Роднянский, М.Вайсберг, Р.Минас...</td>\n",
       "      <td>«12+» - для детей старше 12 лет</td>\n",
       "      <td>40000000.0</td>\n",
       "      <td>60000000.0</td>\n",
       "      <td>150147502.0</td>\n",
       "      <td>Фонд кино</td>\n",
       "      <td>4.5</td>\n",
       "      <td>[комедия, фантастика, мелодрама]</td>\n",
       "      <td>2019</td>\n",
       "      <td>комедия</td>\n",
       "      <td>М.Бальчюнас (псевдоним М.Вайсберг)</td>\n",
       "      <td>0.666012</td>\n",
       "    </tr>\n",
       "  </tbody>\n",
       "</table>\n",
       "<p>326 rows × 20 columns</p>\n",
       "</div>"
      ],
      "text/plain": [
       "       puNumber    box_office                        title  \\\n",
       "1281  111005313  3.653536e+05                Пока еще жива   \n",
       "1448  111003314  2.814000e+04          Бесславные придурки   \n",
       "1498  111004213  1.995703e+07                    Невидимки   \n",
       "1524  111004314  5.591750e+04                        БЕРЦЫ   \n",
       "1792  111004414  2.321000e+05                     Братья Ч   \n",
       "...         ...           ...                          ...   \n",
       "7463  111022019  7.177032e+08                Союз спасения   \n",
       "7465  114005019  5.010692e+08  Иван Царевич и Серый Волк 4   \n",
       "7473  111022519           NaN                    Вторжение   \n",
       "7475  111023019           NaN                   Я свободен   \n",
       "7477  111023119           NaN        (Не)идеальный мужчина   \n",
       "\n",
       "               show_start_date            type  \\\n",
       "1281 2013-10-11 12:00:00+00:00  Художественный   \n",
       "1448 2014-03-28 12:00:00+00:00  Художественный   \n",
       "1498 2013-09-10 12:00:00+00:00  Художественный   \n",
       "1524 2014-05-05 12:00:00+00:00  Художественный   \n",
       "1792 2014-04-23 12:00:00+00:00  Художественный   \n",
       "...                        ...             ...   \n",
       "7463 2019-12-26 12:00:00+00:00  Художественный   \n",
       "7465 2019-12-20 12:00:00+00:00    Анимационный   \n",
       "7473 2019-12-23 12:00:00+00:00  Художественный   \n",
       "7475 2019-12-26 12:00:00+00:00  Художественный   \n",
       "7477 2019-12-24 12:00:00+00:00  Художественный   \n",
       "\n",
       "                                            film_studio production_country  \\\n",
       "1281  ано содействия развитию кинематографии \"ангел-...             Россия   \n",
       "1448                         ооо \"компания \"атк-студио\"             Россия   \n",
       "1498                        ооо \"компания \"реал-дакота\"             Россия   \n",
       "1524                             ооо \"студия \"пассажир\"             Россия   \n",
       "1792                             ооо \"студия \"пассажир\"             Россия   \n",
       "...                                                 ...                ...   \n",
       "7463                                зао \"дирекция кино\"             Россия   \n",
       "7465          ооо \"студия анимационного кино \"мельница\"             Россия   \n",
       "7473       ооо \"арт пикчерс студия\", ооо \"водород 2011\"             Россия   \n",
       "7475                ао \"тпо \"киностудия им. м.горького\"             Россия   \n",
       "7477                           ооо \"нон-стоп продакшн\"              Россия   \n",
       "\n",
       "                                    director  \\\n",
       "1281                            [А.Атанесян]   \n",
       "1448                             [А.Якимчук]   \n",
       "1498              [Р.Давлетьяров, С.Комаров]   \n",
       "1524  [Е.Миндадзе (псевдоним Катя Шагалова)]   \n",
       "1792                              [М.Угаров]   \n",
       "...                                      ...   \n",
       "7463                             [А.Кравчук]   \n",
       "7465                 [Д.Шмидт, К.Феоктистов]   \n",
       "7473                          [ Ф.Бондарчук]   \n",
       "7475                             [И.Северов]   \n",
       "7477    [М.Бальчюнас (псевдоним М.Вайсберг)]   \n",
       "\n",
       "                                               producer  \\\n",
       "1281                   А.Атанесян, М.Бабаханов, Р.Бутко   \n",
       "1448                                         А.Тютрюмов   \n",
       "1498          Р.Давлетьяров, А.Котелевский, А.Олейников   \n",
       "1524                                         Л.Антонова   \n",
       "1792                             А.Миндадзе, Л.Антонова   \n",
       "...                                                 ...   \n",
       "7463                                А.Максимов, К.Эрнст   \n",
       "7465                             С.Сельянов, А.Боярский   \n",
       "7473  Ф.Бондарчук, М.Врубель, А.Андрющенко, Д.Рудовский   \n",
       "7475                                           С.Зернов   \n",
       "7477  С.Мелькумов, А.Роднянский, М.Вайсберг, Р.Минас...   \n",
       "\n",
       "                      age_restriction  refundable_support  \\\n",
       "1281  «16+» - для детей старше 16 лет                 0.0   \n",
       "1448  «12+» - для детей старше 12 лет                 0.0   \n",
       "1498  «12+» - для детей старше 12 лет                 0.0   \n",
       "1524  «16+» - для детей старше 16 лет                 0.0   \n",
       "1792  «16+» - для детей старше 16 лет                 0.0   \n",
       "...                               ...                 ...   \n",
       "7463  «12+» - для детей старше 12 лет         100000000.0   \n",
       "7465    «6+» - для детей старше 6 лет         100000000.0   \n",
       "7473  «12+» - для детей старше 12 лет         100000000.0   \n",
       "7475  «12+» - для детей старше 12 лет                 0.0   \n",
       "7477  «12+» - для детей старше 12 лет          40000000.0   \n",
       "\n",
       "      nonrefundable_support       budget       financing_source  ratings  \\\n",
       "1281             26500000.0   79411900.0  Министерство культуры      8.1   \n",
       "1448             26000000.0   37142857.0  Министерство культуры      NaN   \n",
       "1498            107847945.0  176023490.0              Фонд кино      5.3   \n",
       "1524             28000000.0   40574140.0  Министерство культуры      4.2   \n",
       "1792             25000000.0   40015122.0  Министерство культуры      6.4   \n",
       "...                     ...          ...                    ...      ...   \n",
       "7463            400000000.0  980000000.0              Фонд кино      6.0   \n",
       "7465                    0.0  190000000.0              Фонд кино      6.7   \n",
       "7473            400000000.0  944000000.0              Фонд кино      5.7   \n",
       "7475             30000000.0   46154000.0  Министерство культуры      5.9   \n",
       "7477             60000000.0  150147502.0              Фонд кино      4.5   \n",
       "\n",
       "                                   genres  year_exposition  main_genre  \\\n",
       "1281                   [драма, мелодрама]             2013       драма   \n",
       "1448                                [nan]             2014         nan   \n",
       "1498                [комедия, фантастика]             2013     комедия   \n",
       "1524                              [драма]             2014       драма   \n",
       "1792                              [драма]             2014       драма   \n",
       "...                                   ...              ...         ...   \n",
       "7463          [история, биография, драма]             2019     история   \n",
       "7465  [мультфильм, приключения, семейный]             2019  мультфильм   \n",
       "7473                 [фантастика, боевик]             2019  фантастика   \n",
       "7475                              [драма]             2019       драма   \n",
       "7477     [комедия, фантастика, мелодрама]             2019     комедия   \n",
       "\n",
       "                             main_director  support_percent  \n",
       "1281                            А.Атанесян         0.333703  \n",
       "1448                             А.Якимчук         0.700000  \n",
       "1498                         Р.Давлетьяров         0.612691  \n",
       "1524  Е.Миндадзе (псевдоним Катя Шагалова)         0.690095  \n",
       "1792                              М.Угаров         0.624764  \n",
       "...                                    ...              ...  \n",
       "7463                             А.Кравчук         0.510204  \n",
       "7465                               Д.Шмидт         0.526316  \n",
       "7473                           Ф.Бондарчук         0.529661  \n",
       "7475                             И.Северов         0.649998  \n",
       "7477    М.Бальчюнас (псевдоним М.Вайсберг)         0.666012  \n",
       "\n",
       "[326 rows x 20 columns]"
      ]
     },
     "execution_count": 68,
     "metadata": {},
     "output_type": "execute_result"
    }
   ],
   "source": [
    "data.query('support_percent>0')"
   ]
  },
  {
   "cell_type": "code",
   "execution_count": 72,
   "metadata": {},
   "outputs": [
    {
     "data": {
      "text/plain": [
       "array([       inf, 0.78474525, 0.70000001, 0.7       , 0.7       ,\n",
       "       0.69999999, 0.69999999, 0.69999998, 0.69998218, 0.69996216,\n",
       "       0.69976421, 0.69910397, 0.69836488, 0.69767442, 0.69714819,\n",
       "       0.69591643, 0.695     , 0.69459069, 0.69444444, 0.69413076,\n",
       "       0.69286755, 0.69009473, 0.69      , 0.68992812, 0.68947448,\n",
       "       0.68717703, 0.68396547, 0.68297529, 0.67999951, 0.67994543,\n",
       "       0.67774533, 0.67662156, 0.67516879, 0.67146749, 0.67122405,\n",
       "       0.66896323, 0.66736217, 0.66666667, 0.66666547, 0.66656877,\n",
       "       0.66634009, 0.66622252, 0.66601175, 0.66599993, 0.66592675,\n",
       "       0.66509779, 0.665     , 0.66489362, 0.66424729, 0.66392217,\n",
       "       0.66292033, 0.66268254, 0.6625    , 0.66235202, 0.66197715,\n",
       "       0.66122309, 0.66051763, 0.66000002, 0.65878099, 0.65810325,\n",
       "       0.65789474, 0.65770191, 0.65702441, 0.65683794, 0.65636079,\n",
       "       0.65625   , 0.65498608, 0.65448889, 0.65331017, 0.65000001,\n",
       "       0.65      , 0.65      , 0.64999944, 0.64999942, 0.64999783,\n",
       "       0.64991334, 0.64991278, 0.64987179, 0.64974102, 0.64965176,\n",
       "       0.64941493, 0.64935065, 0.64831634, 0.64814815, 0.64794816,\n",
       "       0.64516129, 0.64452897, 0.64336386, 0.64298605, 0.64102564,\n",
       "       0.64086389, 0.64      , 0.63933474, 0.63909824, 0.6389076 ,\n",
       "       0.63886919, 0.63812012, 0.63778177, 0.63559322, 0.6351564 ,\n",
       "       0.63387424, 0.63218267, 0.63157895, 0.63012599, 0.62972292,\n",
       "       0.62962963, 0.62848218, 0.62591548, 0.625     , 0.62476381,\n",
       "       0.62459948, 0.62399245, 0.62287229, 0.6224779 , 0.62223587,\n",
       "       0.62036062, 0.62      , 0.61994374, 0.61875041, 0.61735408,\n",
       "       0.61735147, 0.61625865, 0.61584255, 0.61575141, 0.61538462,\n",
       "       0.61269064, 0.6097561 , 0.60474117, 0.6024407 , 0.6       ,\n",
       "       0.59525249, 0.59362535, 0.5931632 , 0.59226455, 0.5912123 ,\n",
       "       0.59020705, 0.58873123, 0.58647079, 0.58323295, 0.57345394,\n",
       "       0.57206227, 0.56450504, 0.56053812, 0.55930264, 0.55645587,\n",
       "       0.55555556, 0.55463674, 0.54545455, 0.54001572, 0.53940683,\n",
       "       0.53743599, 0.52966102, 0.52737763, 0.52715257, 0.5267251 ,\n",
       "       0.52631579, 0.52478014, 0.51932692, 0.51836413, 0.51375687,\n",
       "       0.51020408, 0.51005957, 0.50834641, 0.50121231, 0.50083676,\n",
       "       0.5       , 0.49690613, 0.49386564, 0.49134705, 0.48498854,\n",
       "       0.48486677, 0.48352278, 0.48231756, 0.48216008, 0.48      ,\n",
       "       0.47698976, 0.47619048, 0.47377395, 0.47308884, 0.47122118,\n",
       "       0.46296296, 0.4561668 , 0.45571101, 0.4526359 , 0.44444444,\n",
       "       0.44308185, 0.440373  , 0.43330857, 0.43054823, 0.42855539,\n",
       "       0.42774449, 0.42773575, 0.42671218, 0.42581383, 0.42372881,\n",
       "       0.42307692, 0.41207494, 0.40975944, 0.39422968, 0.38758813,\n",
       "       0.38461538, 0.375     , 0.37378187, 0.37313433, 0.36893796,\n",
       "       0.36842105, 0.36759115, 0.3660633 , 0.36235166, 0.36146563,\n",
       "       0.36097849, 0.35905176, 0.35760299, 0.35555556, 0.35272785,\n",
       "       0.35135388, 0.3422738 , 0.34069436, 0.34059946, 0.3384766 ,\n",
       "       0.33814336, 0.33671433, 0.33655869, 0.33370314, 0.33333333,\n",
       "       0.33048448, 0.32848023, 0.32432432, 0.3192708 , 0.31905415,\n",
       "       0.31872005, 0.31557174, 0.31095768, 0.3074456 , 0.30564934,\n",
       "       0.30434783, 0.29917895, 0.29390556, 0.29354068, 0.29166667,\n",
       "       0.2904427 , 0.28659143, 0.28376435, 0.28370599, 0.27723917,\n",
       "       0.26830659, 0.26572355, 0.26009022, 0.26003387, 0.25808167,\n",
       "       0.25801936, 0.25      , 0.24209718, 0.23634536, 0.23333333,\n",
       "       0.22931373, 0.22526201, 0.22314208, 0.22192632, 0.21745094,\n",
       "       0.21424746, 0.21      , 0.20100503, 0.17783734, 0.16992353,\n",
       "       0.16664128, 0.16393443, 0.15584416, 0.12963849, 0.12161109,\n",
       "       0.12      , 0.1172056 , 0.11713288, 0.1002317 , 0.09090909,\n",
       "       0.0769288 , 0.06646133, 0.04404305,        nan])"
      ]
     },
     "execution_count": 72,
     "metadata": {},
     "output_type": "execute_result"
    }
   ],
   "source": [
    "data['support_percent'].sort_values(ascending=False).unique()"
   ]
  },
  {
   "cell_type": "markdown",
   "metadata": {
    "id": "6t4EukPLgFyV"
   },
   "source": [
    "### Шаг 3. Проведите исследовательский анализ данных\n"
   ]
  },
  {
   "cell_type": "markdown",
   "metadata": {
    "id": "vAH8WCzugFyV"
   },
   "source": [
    "- Посмотрите, сколько фильмов выходило в прокат каждый год. Обратите внимание, что данные о прокате в кинотеатрах известны не для всех фильмов. Посчитайте, какую долю составляют фильмы с указанной информацией о прокате в кинотеатрах."
   ]
  },
  {
   "cell_type": "code",
   "execution_count": 42,
   "metadata": {
    "id": "ABeV47y7gFyW"
   },
   "outputs": [
    {
     "data": {
      "text/html": [
       "<div>\n",
       "<style scoped>\n",
       "    .dataframe tbody tr th:only-of-type {\n",
       "        vertical-align: middle;\n",
       "    }\n",
       "\n",
       "    .dataframe tbody tr th {\n",
       "        vertical-align: top;\n",
       "    }\n",
       "\n",
       "    .dataframe thead th {\n",
       "        text-align: right;\n",
       "    }\n",
       "</style>\n",
       "<table border=\"1\" class=\"dataframe\">\n",
       "  <thead>\n",
       "    <tr style=\"text-align: right;\">\n",
       "      <th></th>\n",
       "      <th>box_office</th>\n",
       "      <th>puNumber</th>\n",
       "      <th>show_movie</th>\n",
       "    </tr>\n",
       "    <tr>\n",
       "      <th>year_exposition</th>\n",
       "      <th></th>\n",
       "      <th></th>\n",
       "      <th></th>\n",
       "    </tr>\n",
       "  </thead>\n",
       "  <tbody>\n",
       "    <tr>\n",
       "      <th>2019</th>\n",
       "      <td>525</td>\n",
       "      <td>923</td>\n",
       "      <td>0.568797</td>\n",
       "    </tr>\n",
       "    <tr>\n",
       "      <th>2010</th>\n",
       "      <td>20</td>\n",
       "      <td>899</td>\n",
       "      <td>0.022247</td>\n",
       "    </tr>\n",
       "    <tr>\n",
       "      <th>2018</th>\n",
       "      <td>474</td>\n",
       "      <td>888</td>\n",
       "      <td>0.533784</td>\n",
       "    </tr>\n",
       "    <tr>\n",
       "      <th>2016</th>\n",
       "      <td>500</td>\n",
       "      <td>790</td>\n",
       "      <td>0.632911</td>\n",
       "    </tr>\n",
       "    <tr>\n",
       "      <th>2014</th>\n",
       "      <td>164</td>\n",
       "      <td>691</td>\n",
       "      <td>0.237337</td>\n",
       "    </tr>\n",
       "    <tr>\n",
       "      <th>2015</th>\n",
       "      <td>433</td>\n",
       "      <td>670</td>\n",
       "      <td>0.646269</td>\n",
       "    </tr>\n",
       "    <tr>\n",
       "      <th>2011</th>\n",
       "      <td>27</td>\n",
       "      <td>539</td>\n",
       "      <td>0.050093</td>\n",
       "    </tr>\n",
       "    <tr>\n",
       "      <th>2012</th>\n",
       "      <td>50</td>\n",
       "      <td>514</td>\n",
       "      <td>0.097276</td>\n",
       "    </tr>\n",
       "    <tr>\n",
       "      <th>2013</th>\n",
       "      <td>59</td>\n",
       "      <td>504</td>\n",
       "      <td>0.117063</td>\n",
       "    </tr>\n",
       "    <tr>\n",
       "      <th>2017</th>\n",
       "      <td>355</td>\n",
       "      <td>502</td>\n",
       "      <td>0.707171</td>\n",
       "    </tr>\n",
       "  </tbody>\n",
       "</table>\n",
       "</div>"
      ],
      "text/plain": [
       "                 box_office  puNumber  show_movie\n",
       "year_exposition                                  \n",
       "2019                    525       923    0.568797\n",
       "2010                     20       899    0.022247\n",
       "2018                    474       888    0.533784\n",
       "2016                    500       790    0.632911\n",
       "2014                    164       691    0.237337\n",
       "2015                    433       670    0.646269\n",
       "2011                     27       539    0.050093\n",
       "2012                     50       514    0.097276\n",
       "2013                     59       504    0.117063\n",
       "2017                    355       502    0.707171"
      ]
     },
     "execution_count": 42,
     "metadata": {},
     "output_type": "execute_result"
    }
   ],
   "source": [
    "data_year_movies = data.pivot_table(index='year_exposition', values=('puNumber', 'box_office'), aggfunc=('count'));\n",
    "data_year_movies['show_movie'] = data_year_movies['box_office']/data_year_movies['puNumber']\n",
    "data_year_movies.sort_values('puNumber', ascending=False)"
   ]
  },
  {
   "cell_type": "code",
   "execution_count": 43,
   "metadata": {},
   "outputs": [
    {
     "data": {
      "image/png": "[encoded data removed]",
      "text/plain": [
       "<Figure size 1440x720 with 1 Axes>"
      ]
     },
     "metadata": {
      "needs_background": "light"
     },
     "output_type": "display_data"
    }
   ],
   "source": [
    "data_year_movies.plot(kind='bar', figsize=(20, 10));"
   ]
  },
  {
   "cell_type": "markdown",
   "metadata": {},
   "source": [
    "Больше всего фильмов получили прокатное удостоверение в 2019 году, больше всего информации о сборах у нас так же за 2019 год. Меньше всего прокатных удостоверений было выдано в 2017 году. Можно обратить внимание, что с 2010 по 2013 год у нас очень мало информации о сборах. Возможно, в прокат в кинотеатрах было выпущено намного меньше фильмов, возможно этой информации просто нет"
   ]
  },
  {
   "cell_type": "markdown",
   "metadata": {
    "id": "BEOdcIrIgFyW"
   },
   "source": [
    "- Изучите, как менялась динамика проката по годам. В каком году сумма сборов была минимальной? А максимальной?"
   ]
  },
  {
   "cell_type": "code",
   "execution_count": 44,
   "metadata": {
    "id": "tfEhofYvgFyX"
   },
   "outputs": [
    {
     "data": {
      "image/png": "[encoded data removed]",
      "text/plain": [
       "<Figure size 1440x720 with 1 Axes>"
      ]
     },
     "metadata": {
      "needs_background": "light"
     },
     "output_type": "display_data"
    }
   ],
   "source": [
    "total_box_office = data.pivot_table(index='year_exposition', values='box_office', aggfunc=('sum'))\n",
    "total_box_office.plot(kind='bar', figsize=(20, 10));"
   ]
  },
  {
   "cell_type": "markdown",
   "metadata": {},
   "source": [
    "Самые большие кассовые сборы были в 2018 году, а самые маленькие в 2015. Сборы до 2015 года не учитывались, потому что информации о них очень мало."
   ]
  },
  {
   "cell_type": "markdown",
   "metadata": {
    "id": "G-7qS-N-gFyY"
   },
   "source": [
    "- С помощью сводной таблицы посчитайте среднюю и медианную сумму сборов для каждого года."
   ]
  },
  {
   "cell_type": "code",
   "execution_count": 45,
   "metadata": {
    "id": "jmp-rgg9gFyY"
   },
   "outputs": [
    {
     "data": {
      "image/png": "[encoded data removed]",
      "text/plain": [
       "<Figure size 1440x720 with 1 Axes>"
      ]
     },
     "metadata": {
      "needs_background": "light"
     },
     "output_type": "display_data"
    }
   ],
   "source": [
    "year_box_office = data.pivot_table(index='year_exposition', values='box_office', aggfunc=('mean', 'median'))\n",
    "year_box_office.plot(kind='bar', figsize=(20, 10));"
   ]
  },
  {
   "cell_type": "markdown",
   "metadata": {},
   "source": [
    "Самое большое средние значение по кассоввым сборам было в 2017 году. Это можно объяснить тем, что в этом году в прокат вышли 3 фильма киновселенной MARVEL, фильм вселенной \"Звездные войны\", которые всегда были достаточно кассовыми. Высокие средние сборы вполне объяснимы.\n",
    "\n",
    "Возможно также сказалось меньшее количество фильмов, вышедших в прокат в этом году"
   ]
  },
  {
   "cell_type": "markdown",
   "metadata": {
    "id": "Ok89WFwJgFyZ"
   },
   "source": [
    "- Определите, влияет ли возрастное ограничение аудитории («6+», «12+», «16+», «18+» и т. д.) на сборы фильма в прокате в период с 2015 по 2019 год? Фильмы с каким возрастным ограничением собрали больше всего денег в прокате? Меняется ли картина в зависимости от года? Если да, предположите, с чем это может быть связано."
   ]
  },
  {
   "cell_type": "code",
   "execution_count": 46,
   "metadata": {
    "id": "jsSbEqfjgFya"
   },
   "outputs": [
    {
     "data": {
      "image/png": "[encoded data removed]",
      "text/plain": [
       "<Figure size 1440x720 with 1 Axes>"
      ]
     },
     "metadata": {
      "needs_background": "light"
     },
     "output_type": "display_data"
    }
   ],
   "source": [
    "data_last_years = data.query('year_exposition>2014')\n",
    "data_last_years.pivot_table(index='age_restriction', values='box_office',\n",
    "                                            aggfunc=('sum')).plot(kind = 'bar', figsize=(20, 10));"
   ]
  },
  {
   "cell_type": "code",
   "execution_count": 47,
   "metadata": {},
   "outputs": [
    {
     "data": {
      "image/png": "[encoded data removed]",
      "text/plain": [
       "<Figure size 1440x720 with 1 Axes>"
      ]
     },
     "metadata": {
      "needs_background": "light"
     },
     "output_type": "display_data"
    }
   ],
   "source": [
    "data_last_years.pivot_table(index='age_restriction', values='box_office',\n",
    "                                            aggfunc=('count')).plot(kind = 'bar', figsize=(20, 10));"
   ]
  },
  {
   "cell_type": "markdown",
   "metadata": {},
   "source": [
    "Самые большие сборы с 2015 по 2019 года были у фильмов с возрастным ограничением 16+, однако этих фильмов и вышло больше всех остальных."
   ]
  },
  {
   "cell_type": "code",
   "execution_count": 48,
   "metadata": {},
   "outputs": [
    {
     "data": {
      "text/html": [
       "<style  type=\"text/css\" >\n",
       "</style><table id=\"T_1f4f6_\" ><thead>    <tr>        <th class=\"blank\" ></th>        <th class=\"blank level0\" ></th>        <th class=\"col_heading level0 col0\" >count</th>        <th class=\"col_heading level0 col1\" >mean</th>    </tr>    <tr>        <th class=\"index_name level0\" >age_restriction</th>        <th class=\"index_name level1\" >year_exposition</th>        <th class=\"blank\" ></th>        <th class=\"blank\" ></th>    </tr></thead><tbody>\n",
       "                <tr>\n",
       "                        <th id=\"T_1f4f6_level0_row0\" class=\"row_heading level0 row0\" rowspan=\"4\">«0+» - для любой зрительской аудитории</th>\n",
       "                        <th id=\"T_1f4f6_level1_row0\" class=\"row_heading level1 row0\" >2016</th>\n",
       "                        <td id=\"T_1f4f6_row0_col0\" class=\"data row0 col0\" >37.00</td>\n",
       "                        <td id=\"T_1f4f6_row0_col1\" class=\"data row0 col1\" >4,060,093.48</td>\n",
       "            </tr>\n",
       "            <tr>\n",
       "                                <th id=\"T_1f4f6_level1_row1\" class=\"row_heading level1 row1\" >2019</th>\n",
       "                        <td id=\"T_1f4f6_row1_col0\" class=\"data row1 col0\" >3.00</td>\n",
       "                        <td id=\"T_1f4f6_row1_col1\" class=\"data row1 col1\" >5,915,355.61</td>\n",
       "            </tr>\n",
       "            <tr>\n",
       "                                <th id=\"T_1f4f6_level1_row2\" class=\"row_heading level1 row2\" >2018</th>\n",
       "                        <td id=\"T_1f4f6_row2_col0\" class=\"data row2 col0\" >5.00</td>\n",
       "                        <td id=\"T_1f4f6_row2_col1\" class=\"data row2 col1\" >6,489,800.42</td>\n",
       "            </tr>\n",
       "            <tr>\n",
       "                                <th id=\"T_1f4f6_level1_row3\" class=\"row_heading level1 row3\" >2015</th>\n",
       "                        <td id=\"T_1f4f6_row3_col0\" class=\"data row3 col0\" >34.00</td>\n",
       "                        <td id=\"T_1f4f6_row3_col1\" class=\"data row3 col1\" >11,148,441.13</td>\n",
       "            </tr>\n",
       "            <tr>\n",
       "                        <th id=\"T_1f4f6_level0_row4\" class=\"row_heading level0 row4\" rowspan=\"5\">«18+» - запрещено для детей</th>\n",
       "                        <th id=\"T_1f4f6_level1_row4\" class=\"row_heading level1 row4\" >2015</th>\n",
       "                        <td id=\"T_1f4f6_row4_col0\" class=\"data row4 col0\" >129.00</td>\n",
       "                        <td id=\"T_1f4f6_row4_col1\" class=\"data row4 col1\" >42,099,769.25</td>\n",
       "            </tr>\n",
       "            <tr>\n",
       "                                <th id=\"T_1f4f6_level1_row5\" class=\"row_heading level1 row5\" >2016</th>\n",
       "                        <td id=\"T_1f4f6_row5_col0\" class=\"data row5 col0\" >144.00</td>\n",
       "                        <td id=\"T_1f4f6_row5_col1\" class=\"data row5 col1\" >47,157,093.64</td>\n",
       "            </tr>\n",
       "            <tr>\n",
       "                                <th id=\"T_1f4f6_level1_row6\" class=\"row_heading level1 row6\" >2018</th>\n",
       "                        <td id=\"T_1f4f6_row6_col0\" class=\"data row6 col0\" >178.00</td>\n",
       "                        <td id=\"T_1f4f6_row6_col1\" class=\"data row6 col1\" >49,205,046.51</td>\n",
       "            </tr>\n",
       "            <tr>\n",
       "                                <th id=\"T_1f4f6_level1_row7\" class=\"row_heading level1 row7\" >2019</th>\n",
       "                        <td id=\"T_1f4f6_row7_col0\" class=\"data row7 col0\" >183.00</td>\n",
       "                        <td id=\"T_1f4f6_row7_col1\" class=\"data row7 col1\" >55,310,362.31</td>\n",
       "            </tr>\n",
       "            <tr>\n",
       "                                <th id=\"T_1f4f6_level1_row8\" class=\"row_heading level1 row8\" >2017</th>\n",
       "                        <td id=\"T_1f4f6_row8_col0\" class=\"data row8 col0\" >147.00</td>\n",
       "                        <td id=\"T_1f4f6_row8_col1\" class=\"data row8 col1\" >65,656,432.52</td>\n",
       "            </tr>\n",
       "            <tr>\n",
       "                        <th id=\"T_1f4f6_level0_row9\" class=\"row_heading level0 row9\" rowspan=\"2\">«16+» - для детей старше 16 лет</th>\n",
       "                        <th id=\"T_1f4f6_level1_row9\" class=\"row_heading level1 row9\" >2015</th>\n",
       "                        <td id=\"T_1f4f6_row9_col0\" class=\"data row9 col0\" >158.00</td>\n",
       "                        <td id=\"T_1f4f6_row9_col1\" class=\"data row9 col1\" >71,944,899.54</td>\n",
       "            </tr>\n",
       "            <tr>\n",
       "                                <th id=\"T_1f4f6_level1_row10\" class=\"row_heading level1 row10\" >2019</th>\n",
       "                        <td id=\"T_1f4f6_row10_col0\" class=\"data row10 col0\" >176.00</td>\n",
       "                        <td id=\"T_1f4f6_row10_col1\" class=\"data row10 col1\" >72,436,474.50</td>\n",
       "            </tr>\n",
       "            <tr>\n",
       "                        <th id=\"T_1f4f6_level0_row11\" class=\"row_heading level0 row11\" >«0+» - для любой зрительской аудитории</th>\n",
       "                        <th id=\"T_1f4f6_level1_row11\" class=\"row_heading level1 row11\" >2017</th>\n",
       "                        <td id=\"T_1f4f6_row11_col0\" class=\"data row11 col0\" >3.00</td>\n",
       "                        <td id=\"T_1f4f6_row11_col1\" class=\"data row11 col1\" >76,532,976.67</td>\n",
       "            </tr>\n",
       "            <tr>\n",
       "                        <th id=\"T_1f4f6_level0_row12\" class=\"row_heading level0 row12\" rowspan=\"2\">«16+» - для детей старше 16 лет</th>\n",
       "                        <th id=\"T_1f4f6_level1_row12\" class=\"row_heading level1 row12\" >2016</th>\n",
       "                        <td id=\"T_1f4f6_row12_col0\" class=\"data row12 col0\" >177.00</td>\n",
       "                        <td id=\"T_1f4f6_row12_col1\" class=\"data row12 col1\" >94,149,497.33</td>\n",
       "            </tr>\n",
       "            <tr>\n",
       "                                <th id=\"T_1f4f6_level1_row13\" class=\"row_heading level1 row13\" >2018</th>\n",
       "                        <td id=\"T_1f4f6_row13_col0\" class=\"data row13 col0\" >156.00</td>\n",
       "                        <td id=\"T_1f4f6_row13_col1\" class=\"data row13 col1\" >105,792,322.74</td>\n",
       "            </tr>\n",
       "            <tr>\n",
       "                        <th id=\"T_1f4f6_level0_row14\" class=\"row_heading level0 row14\" >«6+» - для детей старше 6 лет</th>\n",
       "                        <th id=\"T_1f4f6_level1_row14\" class=\"row_heading level1 row14\" >2018</th>\n",
       "                        <td id=\"T_1f4f6_row14_col0\" class=\"data row14 col0\" >68.00</td>\n",
       "                        <td id=\"T_1f4f6_row14_col1\" class=\"data row14 col1\" >148,602,567.99</td>\n",
       "            </tr>\n",
       "            <tr>\n",
       "                        <th id=\"T_1f4f6_level0_row15\" class=\"row_heading level0 row15\" rowspan=\"2\">«12+» - для детей старше 12 лет</th>\n",
       "                        <th id=\"T_1f4f6_level1_row15\" class=\"row_heading level1 row15\" >2019</th>\n",
       "                        <td id=\"T_1f4f6_row15_col0\" class=\"data row15 col0\" >84.00</td>\n",
       "                        <td id=\"T_1f4f6_row15_col1\" class=\"data row15 col1\" >150,954,661.89</td>\n",
       "            </tr>\n",
       "            <tr>\n",
       "                                <th id=\"T_1f4f6_level1_row16\" class=\"row_heading level1 row16\" >2016</th>\n",
       "                        <td id=\"T_1f4f6_row16_col0\" class=\"data row16 col0\" >79.00</td>\n",
       "                        <td id=\"T_1f4f6_row16_col1\" class=\"data row16 col1\" >154,486,474.74</td>\n",
       "            </tr>\n",
       "            <tr>\n",
       "                        <th id=\"T_1f4f6_level0_row17\" class=\"row_heading level0 row17\" >«16+» - для детей старше 16 лет</th>\n",
       "                        <th id=\"T_1f4f6_level1_row17\" class=\"row_heading level1 row17\" >2017</th>\n",
       "                        <td id=\"T_1f4f6_row17_col0\" class=\"data row17 col0\" >121.00</td>\n",
       "                        <td id=\"T_1f4f6_row17_col1\" class=\"data row17 col1\" >154,917,709.92</td>\n",
       "            </tr>\n",
       "            <tr>\n",
       "                        <th id=\"T_1f4f6_level0_row18\" class=\"row_heading level0 row18\" rowspan=\"3\">«6+» - для детей старше 6 лет</th>\n",
       "                        <th id=\"T_1f4f6_level1_row18\" class=\"row_heading level1 row18\" >2019</th>\n",
       "                        <td id=\"T_1f4f6_row18_col0\" class=\"data row18 col0\" >79.00</td>\n",
       "                        <td id=\"T_1f4f6_row18_col1\" class=\"data row18 col1\" >162,689,990.64</td>\n",
       "            </tr>\n",
       "            <tr>\n",
       "                                <th id=\"T_1f4f6_level1_row19\" class=\"row_heading level1 row19\" >2015</th>\n",
       "                        <td id=\"T_1f4f6_row19_col0\" class=\"data row19 col0\" >47.00</td>\n",
       "                        <td id=\"T_1f4f6_row19_col1\" class=\"data row19 col1\" >173,887,771.14</td>\n",
       "            </tr>\n",
       "            <tr>\n",
       "                                <th id=\"T_1f4f6_level1_row20\" class=\"row_heading level1 row20\" >2016</th>\n",
       "                        <td id=\"T_1f4f6_row20_col0\" class=\"data row20 col0\" >63.00</td>\n",
       "                        <td id=\"T_1f4f6_row20_col1\" class=\"data row20 col1\" >191,319,670.29</td>\n",
       "            </tr>\n",
       "            <tr>\n",
       "                        <th id=\"T_1f4f6_level0_row21\" class=\"row_heading level0 row21\" rowspan=\"3\">«12+» - для детей старше 12 лет</th>\n",
       "                        <th id=\"T_1f4f6_level1_row21\" class=\"row_heading level1 row21\" >2017</th>\n",
       "                        <td id=\"T_1f4f6_row21_col0\" class=\"data row21 col0\" >39.00</td>\n",
       "                        <td id=\"T_1f4f6_row21_col1\" class=\"data row21 col1\" >201,317,482.07</td>\n",
       "            </tr>\n",
       "            <tr>\n",
       "                                <th id=\"T_1f4f6_level1_row22\" class=\"row_heading level1 row22\" >2015</th>\n",
       "                        <td id=\"T_1f4f6_row22_col0\" class=\"data row22 col0\" >65.00</td>\n",
       "                        <td id=\"T_1f4f6_row22_col1\" class=\"data row22 col1\" >209,477,767.21</td>\n",
       "            </tr>\n",
       "            <tr>\n",
       "                                <th id=\"T_1f4f6_level1_row23\" class=\"row_heading level1 row23\" >2018</th>\n",
       "                        <td id=\"T_1f4f6_row23_col0\" class=\"data row23 col0\" >67.00</td>\n",
       "                        <td id=\"T_1f4f6_row23_col1\" class=\"data row23 col1\" >212,944,651.65</td>\n",
       "            </tr>\n",
       "            <tr>\n",
       "                        <th id=\"T_1f4f6_level0_row24\" class=\"row_heading level0 row24\" >«6+» - для детей старше 6 лет</th>\n",
       "                        <th id=\"T_1f4f6_level1_row24\" class=\"row_heading level1 row24\" >2017</th>\n",
       "                        <td id=\"T_1f4f6_row24_col0\" class=\"data row24 col0\" >45.00</td>\n",
       "                        <td id=\"T_1f4f6_row24_col1\" class=\"data row24 col1\" >268,580,936.57</td>\n",
       "            </tr>\n",
       "    </tbody></table>"
      ],
      "text/plain": [
       "<pandas.io.formats.style.Styler at 0x7fdec4696b20>"
      ]
     },
     "execution_count": 48,
     "metadata": {},
     "output_type": "execute_result"
    }
   ],
   "source": [
    "data_last_years.pivot_table(index=('age_restriction', 'year_exposition'), values='box_office',\n",
    "                                            aggfunc=('count', 'mean')).sort_values('mean').style.format('{:,.2f}')"
   ]
  },
  {
   "cell_type": "markdown",
   "metadata": {},
   "source": [
    "Можно предположить, что фильмы с ограничение 18+ в целом имеют небольшие кассовые сборы, как и фильмы 0+. Больще всего собирают фильмы с ограничением 12+."
   ]
  },
  {
   "cell_type": "code",
   "execution_count": 49,
   "metadata": {
    "scrolled": true
   },
   "outputs": [
    {
     "data": {
      "image/png": "[encoded data removed]",
      "text/plain": [
       "<Figure size 432x288 with 1 Axes>"
      ]
     },
     "metadata": {
      "needs_background": "light"
     },
     "output_type": "display_data"
    }
   ],
   "source": [
    "sns.scatterplot(data=data_last_years, x='age_restriction', y='box_office');"
   ]
  },
  {
   "cell_type": "markdown",
   "metadata": {
    "id": "l_Kg6Ku4gFya"
   },
   "source": [
    "### Шаг 4. Исследуйте фильмы, которые получили государственную поддержку\n",
    "\n",
    "На этом этапе нет конкретных инструкций и заданий — поищите интересные закономерности в данных. Посмотрите, сколько выделяют средств на поддержку кино. Проверьте, хорошо ли окупаются такие фильмы, какой у них рейтинг."
   ]
  },
  {
   "cell_type": "code",
   "execution_count": 50,
   "metadata": {
    "id": "W9QKpjUdgFyb"
   },
   "outputs": [
    {
     "name": "stdout",
     "output_type": "stream",
     "text": [
      "<class 'pandas.core.frame.DataFrame'>\n",
      "Int64Index: 309 entries, 1281 to 7477\n",
      "Data columns (total 20 columns):\n",
      " #   Column                 Non-Null Count  Dtype              \n",
      "---  ------                 --------------  -----              \n",
      " 0   puNumber               309 non-null    int64              \n",
      " 1   box_office             295 non-null    float64            \n",
      " 2   title                  309 non-null    object             \n",
      " 3   show_start_date        309 non-null    datetime64[ns, UTC]\n",
      " 4   type                   309 non-null    object             \n",
      " 5   film_studio            309 non-null    object             \n",
      " 6   production_country     309 non-null    object             \n",
      " 7   director               309 non-null    object             \n",
      " 8   producer               307 non-null    object             \n",
      " 9   age_restriction        309 non-null    object             \n",
      " 10  refundable_support     309 non-null    float64            \n",
      " 11  nonrefundable_support  309 non-null    float64            \n",
      " 12  budget                 309 non-null    float64            \n",
      " 13  financing_source       309 non-null    object             \n",
      " 14  ratings                294 non-null    float64            \n",
      " 15  genres                 309 non-null    object             \n",
      " 16  year_exposition        309 non-null    int64              \n",
      " 17  main_genre             309 non-null    object             \n",
      " 18  main_director          309 non-null    object             \n",
      " 19  support_percent        309 non-null    float64            \n",
      "dtypes: datetime64[ns, UTC](1), float64(6), int64(2), object(11)\n",
      "memory usage: 50.7+ KB\n"
     ]
    }
   ],
   "source": [
    "data_support = data.query('budget>0')\n",
    "data_support.info()"
   ]
  },
  {
   "cell_type": "code",
   "execution_count": 51,
   "metadata": {},
   "outputs": [
    {
     "data": {
      "image/png": "[encoded data removed]",
      "text/plain": [
       "<Figure size 1080x360 with 9 Axes>"
      ]
     },
     "metadata": {
      "needs_background": "light"
     },
     "output_type": "display_data"
    }
   ],
   "source": [
    "data_support.hist(figsize=(15, 5));"
   ]
  },
  {
   "cell_type": "code",
   "execution_count": 52,
   "metadata": {},
   "outputs": [
    {
     "data": {
      "image/png": "[encoded data removed]",
      "text/plain": [
       "<Figure size 1080x1080 with 64 Axes>"
      ]
     },
     "metadata": {
      "needs_background": "light"
     },
     "output_type": "display_data"
    }
   ],
   "source": [
    "pd.plotting.scatter_matrix(data_support, figsize=(15,15));"
   ]
  },
  {
   "cell_type": "code",
   "execution_count": 53,
   "metadata": {},
   "outputs": [
    {
     "data": {
      "image/png": "[encoded data removed]",
      "text/plain": [
       "<Figure size 1440x720 with 1 Axes>"
      ]
     },
     "metadata": {
      "needs_background": "light"
     },
     "output_type": "display_data"
    }
   ],
   "source": [
    "data_support.pivot_table(index='year_exposition', values=('box_office', 'budget', 'refundable_support',\n",
    "                                                         'nonrefundable_support', 'support_percent'),\n",
    "                        aggfunc=('mean')).plot(kind='bar', figsize=(20, 10));"
   ]
  },
  {
   "cell_type": "markdown",
   "metadata": {},
   "source": [
    "В 2017 году были самые высокие средние сборы и один из самых высоких средних бюджетов фильма, при этом один из самых низкий прокентов государственной поддержки. Печальная ситуация в 2019 году, где средний бюджет превысил средние сборы, то же самое мы видим до 2017 года. Однако, у нас очень мало информации о сборах у фильмов, которые выходили до 2015 года, возможно такие показатели из-за недостатка информации."
   ]
  },
  {
   "cell_type": "code",
   "execution_count": 54,
   "metadata": {},
   "outputs": [
    {
     "data": {
      "text/plain": [
       "array(['Министерство культуры', 'Фонд кино',\n",
       "       'Министерство культуры, Фонд кино'], dtype=object)"
      ]
     },
     "execution_count": 54,
     "metadata": {},
     "output_type": "execute_result"
    }
   ],
   "source": [
    "data_support['financing_source'].unique()"
   ]
  },
  {
   "cell_type": "markdown",
   "metadata": {},
   "source": [
    "Финансы на фильмы выделялись только за счет средств МинКульта и Фонда Кино."
   ]
  },
  {
   "cell_type": "code",
   "execution_count": 55,
   "metadata": {},
   "outputs": [
    {
     "data": {
      "image/png": "[encoded data removed]",
      "text/plain": [
       "<Figure size 1440x1080 with 1 Axes>"
      ]
     },
     "metadata": {
      "needs_background": "light"
     },
     "output_type": "display_data"
    }
   ],
   "source": [
    "data_support.pivot_table(index='financing_source', values=('refundable_support', 'nonrefundable_support'),\n",
    "                        aggfunc=('mean', 'sum')).plot(kind='bar', figsize=(20, 15));"
   ]
  },
  {
   "cell_type": "markdown",
   "metadata": {},
   "source": [
    "Министерство Культуры выдает средства только на безвозвратной основе. Можно предположить, что в случае, когда деньги выделялись из обоих источников, объем возвратных средств принадлежит Фонду Кино. Также Фонд Кино в среднем вкладывает больше средств в российское кинопроизводство, чем МинКульт."
   ]
  },
  {
   "cell_type": "code",
   "execution_count": 56,
   "metadata": {},
   "outputs": [
    {
     "data": {
      "image/png": "[encoded data removed]",
      "text/plain": [
       "<Figure size 432x288 with 1 Axes>"
      ]
     },
     "metadata": {
      "needs_background": "light"
     },
     "output_type": "display_data"
    }
   ],
   "source": [
    "sns.scatterplot(data=data_support, x='ratings', y='support_percent');"
   ]
  },
  {
   "cell_type": "markdown",
   "metadata": {},
   "source": [
    "Большая часть фильмов сосредоточена там, где государственная поддержка находится на уровне 60-70%"
   ]
  },
  {
   "cell_type": "code",
   "execution_count": 75,
   "metadata": {},
   "outputs": [],
   "source": [
    "#разобьем рейтинг по категориям\n",
    "def rating_category(rating):\n",
    "    rating = rating['ratings']\n",
    "    if rating<=5:\n",
    "        return 'низкий'\n",
    "    elif 5<rating<=8:\n",
    "        return 'средний'\n",
    "    elif rating>8:\n",
    "        return 'высокий'\n",
    "    \n",
    "data_support['rating_category'] = data_support.apply(rating_category, axis=1)"
   ]
  },
  {
   "cell_type": "code",
   "execution_count": 58,
   "metadata": {},
   "outputs": [
    {
     "data": {
      "text/html": [
       "<div>\n",
       "<style scoped>\n",
       "    .dataframe tbody tr th:only-of-type {\n",
       "        vertical-align: middle;\n",
       "    }\n",
       "\n",
       "    .dataframe tbody tr th {\n",
       "        vertical-align: top;\n",
       "    }\n",
       "\n",
       "    .dataframe thead th {\n",
       "        text-align: right;\n",
       "    }\n",
       "</style>\n",
       "<table border=\"1\" class=\"dataframe\">\n",
       "  <thead>\n",
       "    <tr style=\"text-align: right;\">\n",
       "      <th></th>\n",
       "      <th>puNumber</th>\n",
       "      <th>box_office</th>\n",
       "      <th>title</th>\n",
       "      <th>show_start_date</th>\n",
       "      <th>type</th>\n",
       "      <th>film_studio</th>\n",
       "      <th>production_country</th>\n",
       "      <th>director</th>\n",
       "      <th>producer</th>\n",
       "      <th>age_restriction</th>\n",
       "      <th>...</th>\n",
       "      <th>nonrefundable_support</th>\n",
       "      <th>budget</th>\n",
       "      <th>financing_source</th>\n",
       "      <th>ratings</th>\n",
       "      <th>genres</th>\n",
       "      <th>year_exposition</th>\n",
       "      <th>main_genre</th>\n",
       "      <th>main_director</th>\n",
       "      <th>support_percent</th>\n",
       "      <th>rating_category</th>\n",
       "    </tr>\n",
       "  </thead>\n",
       "  <tbody>\n",
       "    <tr>\n",
       "      <th>1281</th>\n",
       "      <td>111005313</td>\n",
       "      <td>365353.6</td>\n",
       "      <td>Пока еще жива</td>\n",
       "      <td>2013-10-11 12:00:00+00:00</td>\n",
       "      <td>Художественный</td>\n",
       "      <td>ано содействия развитию кинематографии \"ангел-...</td>\n",
       "      <td>Россия</td>\n",
       "      <td>[А.Атанесян]</td>\n",
       "      <td>А.Атанесян, М.Бабаханов, Р.Бутко</td>\n",
       "      <td>«16+» - для детей старше 16 лет</td>\n",
       "      <td>...</td>\n",
       "      <td>26500000.0</td>\n",
       "      <td>79411900.0</td>\n",
       "      <td>Министерство культуры</td>\n",
       "      <td>8.1</td>\n",
       "      <td>[драма, мелодрама]</td>\n",
       "      <td>2013</td>\n",
       "      <td>драма</td>\n",
       "      <td>А.Атанесян</td>\n",
       "      <td>0.333703</td>\n",
       "      <td>высокий</td>\n",
       "    </tr>\n",
       "    <tr>\n",
       "      <th>1448</th>\n",
       "      <td>111003314</td>\n",
       "      <td>28140.0</td>\n",
       "      <td>Бесславные придурки</td>\n",
       "      <td>2014-03-28 12:00:00+00:00</td>\n",
       "      <td>Художественный</td>\n",
       "      <td>ооо \"компания \"атк-студио\"</td>\n",
       "      <td>Россия</td>\n",
       "      <td>[А.Якимчук]</td>\n",
       "      <td>А.Тютрюмов</td>\n",
       "      <td>«12+» - для детей старше 12 лет</td>\n",
       "      <td>...</td>\n",
       "      <td>26000000.0</td>\n",
       "      <td>37142857.0</td>\n",
       "      <td>Министерство культуры</td>\n",
       "      <td>NaN</td>\n",
       "      <td>[nan]</td>\n",
       "      <td>2014</td>\n",
       "      <td>nan</td>\n",
       "      <td>А.Якимчук</td>\n",
       "      <td>0.700000</td>\n",
       "      <td>None</td>\n",
       "    </tr>\n",
       "    <tr>\n",
       "      <th>1498</th>\n",
       "      <td>111004213</td>\n",
       "      <td>19957031.5</td>\n",
       "      <td>Невидимки</td>\n",
       "      <td>2013-09-10 12:00:00+00:00</td>\n",
       "      <td>Художественный</td>\n",
       "      <td>ооо \"компания \"реал-дакота\"</td>\n",
       "      <td>Россия</td>\n",
       "      <td>[Р.Давлетьяров, С.Комаров]</td>\n",
       "      <td>Р.Давлетьяров, А.Котелевский, А.Олейников</td>\n",
       "      <td>«12+» - для детей старше 12 лет</td>\n",
       "      <td>...</td>\n",
       "      <td>107847945.0</td>\n",
       "      <td>176023490.0</td>\n",
       "      <td>Фонд кино</td>\n",
       "      <td>5.3</td>\n",
       "      <td>[комедия, фантастика]</td>\n",
       "      <td>2013</td>\n",
       "      <td>комедия</td>\n",
       "      <td>Р.Давлетьяров</td>\n",
       "      <td>0.612691</td>\n",
       "      <td>средний</td>\n",
       "    </tr>\n",
       "    <tr>\n",
       "      <th>1524</th>\n",
       "      <td>111004314</td>\n",
       "      <td>55917.5</td>\n",
       "      <td>БЕРЦЫ</td>\n",
       "      <td>2014-05-05 12:00:00+00:00</td>\n",
       "      <td>Художественный</td>\n",
       "      <td>ооо \"студия \"пассажир\"</td>\n",
       "      <td>Россия</td>\n",
       "      <td>[Е.Миндадзе (псевдоним Катя Шагалова)]</td>\n",
       "      <td>Л.Антонова</td>\n",
       "      <td>«16+» - для детей старше 16 лет</td>\n",
       "      <td>...</td>\n",
       "      <td>28000000.0</td>\n",
       "      <td>40574140.0</td>\n",
       "      <td>Министерство культуры</td>\n",
       "      <td>4.2</td>\n",
       "      <td>[драма]</td>\n",
       "      <td>2014</td>\n",
       "      <td>драма</td>\n",
       "      <td>Е.Миндадзе (псевдоним Катя Шагалова)</td>\n",
       "      <td>0.690095</td>\n",
       "      <td>низкий</td>\n",
       "    </tr>\n",
       "    <tr>\n",
       "      <th>1792</th>\n",
       "      <td>111004414</td>\n",
       "      <td>232100.0</td>\n",
       "      <td>Братья Ч</td>\n",
       "      <td>2014-04-23 12:00:00+00:00</td>\n",
       "      <td>Художественный</td>\n",
       "      <td>ооо \"студия \"пассажир\"</td>\n",
       "      <td>Россия</td>\n",
       "      <td>[М.Угаров]</td>\n",
       "      <td>А.Миндадзе, Л.Антонова</td>\n",
       "      <td>«16+» - для детей старше 16 лет</td>\n",
       "      <td>...</td>\n",
       "      <td>25000000.0</td>\n",
       "      <td>40015122.0</td>\n",
       "      <td>Министерство культуры</td>\n",
       "      <td>6.4</td>\n",
       "      <td>[драма]</td>\n",
       "      <td>2014</td>\n",
       "      <td>драма</td>\n",
       "      <td>М.Угаров</td>\n",
       "      <td>0.624764</td>\n",
       "      <td>средний</td>\n",
       "    </tr>\n",
       "  </tbody>\n",
       "</table>\n",
       "<p>5 rows × 21 columns</p>\n",
       "</div>"
      ],
      "text/plain": [
       "       puNumber  box_office                title           show_start_date  \\\n",
       "1281  111005313    365353.6        Пока еще жива 2013-10-11 12:00:00+00:00   \n",
       "1448  111003314     28140.0  Бесславные придурки 2014-03-28 12:00:00+00:00   \n",
       "1498  111004213  19957031.5            Невидимки 2013-09-10 12:00:00+00:00   \n",
       "1524  111004314     55917.5                БЕРЦЫ 2014-05-05 12:00:00+00:00   \n",
       "1792  111004414    232100.0             Братья Ч 2014-04-23 12:00:00+00:00   \n",
       "\n",
       "                type                                        film_studio  \\\n",
       "1281  Художественный  ано содействия развитию кинематографии \"ангел-...   \n",
       "1448  Художественный                         ооо \"компания \"атк-студио\"   \n",
       "1498  Художественный                        ооо \"компания \"реал-дакота\"   \n",
       "1524  Художественный                             ооо \"студия \"пассажир\"   \n",
       "1792  Художественный                             ооо \"студия \"пассажир\"   \n",
       "\n",
       "     production_country                                director  \\\n",
       "1281             Россия                            [А.Атанесян]   \n",
       "1448             Россия                             [А.Якимчук]   \n",
       "1498             Россия              [Р.Давлетьяров, С.Комаров]   \n",
       "1524             Россия  [Е.Миндадзе (псевдоним Катя Шагалова)]   \n",
       "1792             Россия                              [М.Угаров]   \n",
       "\n",
       "                                       producer  \\\n",
       "1281           А.Атанесян, М.Бабаханов, Р.Бутко   \n",
       "1448                                 А.Тютрюмов   \n",
       "1498  Р.Давлетьяров, А.Котелевский, А.Олейников   \n",
       "1524                                 Л.Антонова   \n",
       "1792                     А.Миндадзе, Л.Антонова   \n",
       "\n",
       "                      age_restriction  ...  nonrefundable_support  \\\n",
       "1281  «16+» - для детей старше 16 лет  ...             26500000.0   \n",
       "1448  «12+» - для детей старше 12 лет  ...             26000000.0   \n",
       "1498  «12+» - для детей старше 12 лет  ...            107847945.0   \n",
       "1524  «16+» - для детей старше 16 лет  ...             28000000.0   \n",
       "1792  «16+» - для детей старше 16 лет  ...             25000000.0   \n",
       "\n",
       "           budget       financing_source ratings                 genres  \\\n",
       "1281   79411900.0  Министерство культуры     8.1     [драма, мелодрама]   \n",
       "1448   37142857.0  Министерство культуры     NaN                  [nan]   \n",
       "1498  176023490.0              Фонд кино     5.3  [комедия, фантастика]   \n",
       "1524   40574140.0  Министерство культуры     4.2                [драма]   \n",
       "1792   40015122.0  Министерство культуры     6.4                [драма]   \n",
       "\n",
       "     year_exposition  main_genre                         main_director  \\\n",
       "1281            2013       драма                            А.Атанесян   \n",
       "1448            2014         nan                             А.Якимчук   \n",
       "1498            2013     комедия                         Р.Давлетьяров   \n",
       "1524            2014       драма  Е.Миндадзе (псевдоним Катя Шагалова)   \n",
       "1792            2014       драма                              М.Угаров   \n",
       "\n",
       "     support_percent  rating_category  \n",
       "1281        0.333703          высокий  \n",
       "1448        0.700000             None  \n",
       "1498        0.612691          средний  \n",
       "1524        0.690095           низкий  \n",
       "1792        0.624764          средний  \n",
       "\n",
       "[5 rows x 21 columns]"
      ]
     },
     "execution_count": 58,
     "metadata": {},
     "output_type": "execute_result"
    }
   ],
   "source": [
    "data_support.head()"
   ]
  },
  {
   "cell_type": "code",
   "execution_count": 59,
   "metadata": {},
   "outputs": [
    {
     "data": {
      "text/html": [
       "<style  type=\"text/css\" >\n",
       "</style><table id=\"T_9d723_\" ><thead>    <tr>        <th class=\"blank level0\" ></th>        <th class=\"col_heading level0 col0\" colspan=\"3\">box_office</th>        <th class=\"col_heading level0 col3\" colspan=\"3\">budget</th>        <th class=\"col_heading level0 col6\" colspan=\"3\">nonrefundable_support</th>        <th class=\"col_heading level0 col9\" colspan=\"3\">refundable_support</th>    </tr>    <tr>        <th class=\"blank level1\" ></th>        <th class=\"col_heading level1 col0\" >count</th>        <th class=\"col_heading level1 col1\" >mean</th>        <th class=\"col_heading level1 col2\" >sum</th>        <th class=\"col_heading level1 col3\" >count</th>        <th class=\"col_heading level1 col4\" >mean</th>        <th class=\"col_heading level1 col5\" >sum</th>        <th class=\"col_heading level1 col6\" >count</th>        <th class=\"col_heading level1 col7\" >mean</th>        <th class=\"col_heading level1 col8\" >sum</th>        <th class=\"col_heading level1 col9\" >count</th>        <th class=\"col_heading level1 col10\" >mean</th>        <th class=\"col_heading level1 col11\" >sum</th>    </tr>    <tr>        <th class=\"index_name level0\" >rating_category</th>        <th class=\"blank\" ></th>        <th class=\"blank\" ></th>        <th class=\"blank\" ></th>        <th class=\"blank\" ></th>        <th class=\"blank\" ></th>        <th class=\"blank\" ></th>        <th class=\"blank\" ></th>        <th class=\"blank\" ></th>        <th class=\"blank\" ></th>        <th class=\"blank\" ></th>        <th class=\"blank\" ></th>        <th class=\"blank\" ></th>    </tr></thead><tbody>\n",
       "                <tr>\n",
       "                        <th id=\"T_9d723_level0_row0\" class=\"row_heading level0 row0\" >высокий</th>\n",
       "                        <td id=\"T_9d723_row0_col0\" class=\"data row0 col0\" >4.00</td>\n",
       "                        <td id=\"T_9d723_row0_col1\" class=\"data row0 col1\" >221,689,247.75</td>\n",
       "                        <td id=\"T_9d723_row0_col2\" class=\"data row0 col2\" >886,756,991.00</td>\n",
       "                        <td id=\"T_9d723_row0_col3\" class=\"data row0 col3\" >4.00</td>\n",
       "                        <td id=\"T_9d723_row0_col4\" class=\"data row0 col4\" >215,010,400.25</td>\n",
       "                        <td id=\"T_9d723_row0_col5\" class=\"data row0 col5\" >860,041,601.00</td>\n",
       "                        <td id=\"T_9d723_row0_col6\" class=\"data row0 col6\" >4.00</td>\n",
       "                        <td id=\"T_9d723_row0_col7\" class=\"data row0 col7\" >116,625,000.00</td>\n",
       "                        <td id=\"T_9d723_row0_col8\" class=\"data row0 col8\" >466,500,000.00</td>\n",
       "                        <td id=\"T_9d723_row0_col9\" class=\"data row0 col9\" >4.00</td>\n",
       "                        <td id=\"T_9d723_row0_col10\" class=\"data row0 col10\" >15,000,000.00</td>\n",
       "                        <td id=\"T_9d723_row0_col11\" class=\"data row0 col11\" >60,000,000.00</td>\n",
       "            </tr>\n",
       "            <tr>\n",
       "                        <th id=\"T_9d723_level0_row1\" class=\"row_heading level0 row1\" >низкий</th>\n",
       "                        <td id=\"T_9d723_row1_col0\" class=\"data row1 col0\" >49.00</td>\n",
       "                        <td id=\"T_9d723_row1_col1\" class=\"data row1 col1\" >73,977,970.76</td>\n",
       "                        <td id=\"T_9d723_row1_col2\" class=\"data row1 col2\" >3,624,920,567.30</td>\n",
       "                        <td id=\"T_9d723_row1_col3\" class=\"data row1 col3\" >51.00</td>\n",
       "                        <td id=\"T_9d723_row1_col4\" class=\"data row1 col4\" >105,541,791.90</td>\n",
       "                        <td id=\"T_9d723_row1_col5\" class=\"data row1 col5\" >5,382,631,387.00</td>\n",
       "                        <td id=\"T_9d723_row1_col6\" class=\"data row1 col6\" >51.00</td>\n",
       "                        <td id=\"T_9d723_row1_col7\" class=\"data row1 col7\" >38,306,351.27</td>\n",
       "                        <td id=\"T_9d723_row1_col8\" class=\"data row1 col8\" >1,953,623,915.00</td>\n",
       "                        <td id=\"T_9d723_row1_col9\" class=\"data row1 col9\" >51.00</td>\n",
       "                        <td id=\"T_9d723_row1_col10\" class=\"data row1 col10\" >12,941,176.47</td>\n",
       "                        <td id=\"T_9d723_row1_col11\" class=\"data row1 col11\" >660,000,000.00</td>\n",
       "            </tr>\n",
       "            <tr>\n",
       "                        <th id=\"T_9d723_level0_row2\" class=\"row_heading level0 row2\" >средний</th>\n",
       "                        <td id=\"T_9d723_row2_col0\" class=\"data row2 col0\" >228.00</td>\n",
       "                        <td id=\"T_9d723_row2_col1\" class=\"data row2 col1\" >146,258,451.17</td>\n",
       "                        <td id=\"T_9d723_row2_col2\" class=\"data row2 col2\" >33,346,926,866.01</td>\n",
       "                        <td id=\"T_9d723_row2_col3\" class=\"data row2 col3\" >239.00</td>\n",
       "                        <td id=\"T_9d723_row2_col4\" class=\"data row2 col4\" >145,275,488.99</td>\n",
       "                        <td id=\"T_9d723_row2_col5\" class=\"data row2 col5\" >34,720,841,869.00</td>\n",
       "                        <td id=\"T_9d723_row2_col6\" class=\"data row2 col6\" >239.00</td>\n",
       "                        <td id=\"T_9d723_row2_col7\" class=\"data row2 col7\" >50,738,472.52</td>\n",
       "                        <td id=\"T_9d723_row2_col8\" class=\"data row2 col8\" >12,126,494,932.00</td>\n",
       "                        <td id=\"T_9d723_row2_col9\" class=\"data row2 col9\" >239.00</td>\n",
       "                        <td id=\"T_9d723_row2_col10\" class=\"data row2 col10\" >11,882,845.19</td>\n",
       "                        <td id=\"T_9d723_row2_col11\" class=\"data row2 col11\" >2,840,000,000.00</td>\n",
       "            </tr>\n",
       "    </tbody></table>"
      ],
      "text/plain": [
       "<pandas.io.formats.style.Styler at 0x7fdec47f4d90>"
      ]
     },
     "execution_count": 59,
     "metadata": {},
     "output_type": "execute_result"
    }
   ],
   "source": [
    "data_support.pivot_table(index='rating_category', values=('box_office',\n",
    "                        'budget', 'refundable_support', 'nonrefundable_support'),\n",
    "                         aggfunc=('count', 'mean', 'sum')).style.format('{:,.2f}')"
   ]
  },
  {
   "cell_type": "code",
   "execution_count": 60,
   "metadata": {},
   "outputs": [
    {
     "data": {
      "image/png": "[encoded data removed]",
      "text/plain": [
       "<Figure size 1440x1080 with 1 Axes>"
      ]
     },
     "metadata": {
      "needs_background": "light"
     },
     "output_type": "display_data"
    }
   ],
   "source": [
    "data_support.pivot_table(index='rating_category', values=('box_office',\n",
    "                        'budget', 'refundable_support', 'nonrefundable_support'),\n",
    "                         aggfunc=('count', 'mean', 'sum')).plot(kind='bar', figsize=(20, 15));"
   ]
  },
  {
   "cell_type": "markdown",
   "metadata": {},
   "source": [
    "Всего высокий рейтинг получили всего 4 фильма, больше всего фильмов со средним рейтингом. Это объясняет большие суммы денег, выделенных из бюджета в качестве поддержки. Можно также заметить, что фильмы с низким рейтингом не окупились в прокате, на них в среднем было выделено меньше невозвратных средств, однако не так мало возвратных.\n",
    "\n",
    "Судя по количеству фильмов с разной рейтинговой категорией, можно сделать вывод, что у нас снимают фильмы, которые не получают очень высокой оценки :)"
   ]
  },
  {
   "cell_type": "code",
   "execution_count": 61,
   "metadata": {},
   "outputs": [
    {
     "data": {
      "text/html": [
       "<div>\n",
       "<style scoped>\n",
       "    .dataframe tbody tr th:only-of-type {\n",
       "        vertical-align: middle;\n",
       "    }\n",
       "\n",
       "    .dataframe tbody tr th {\n",
       "        vertical-align: top;\n",
       "    }\n",
       "\n",
       "    .dataframe thead th {\n",
       "        text-align: right;\n",
       "    }\n",
       "</style>\n",
       "<table border=\"1\" class=\"dataframe\">\n",
       "  <thead>\n",
       "    <tr style=\"text-align: right;\">\n",
       "      <th></th>\n",
       "      <th>puNumber</th>\n",
       "      <th>box_office</th>\n",
       "      <th>title</th>\n",
       "      <th>show_start_date</th>\n",
       "      <th>type</th>\n",
       "      <th>film_studio</th>\n",
       "      <th>production_country</th>\n",
       "      <th>director</th>\n",
       "      <th>producer</th>\n",
       "      <th>age_restriction</th>\n",
       "      <th>...</th>\n",
       "      <th>nonrefundable_support</th>\n",
       "      <th>budget</th>\n",
       "      <th>financing_source</th>\n",
       "      <th>ratings</th>\n",
       "      <th>genres</th>\n",
       "      <th>year_exposition</th>\n",
       "      <th>main_genre</th>\n",
       "      <th>main_director</th>\n",
       "      <th>support_percent</th>\n",
       "      <th>rating_category</th>\n",
       "    </tr>\n",
       "  </thead>\n",
       "  <tbody>\n",
       "    <tr>\n",
       "      <th>1281</th>\n",
       "      <td>111005313</td>\n",
       "      <td>365353.6</td>\n",
       "      <td>Пока еще жива</td>\n",
       "      <td>2013-10-11 12:00:00+00:00</td>\n",
       "      <td>Художественный</td>\n",
       "      <td>ано содействия развитию кинематографии \"ангел-...</td>\n",
       "      <td>Россия</td>\n",
       "      <td>[А.Атанесян]</td>\n",
       "      <td>А.Атанесян, М.Бабаханов, Р.Бутко</td>\n",
       "      <td>«16+» - для детей старше 16 лет</td>\n",
       "      <td>...</td>\n",
       "      <td>26500000.0</td>\n",
       "      <td>79411900.0</td>\n",
       "      <td>Министерство культуры</td>\n",
       "      <td>8.1</td>\n",
       "      <td>[драма, мелодрама]</td>\n",
       "      <td>2013</td>\n",
       "      <td>драма</td>\n",
       "      <td>А.Атанесян</td>\n",
       "      <td>0.333703</td>\n",
       "      <td>высокий</td>\n",
       "    </tr>\n",
       "    <tr>\n",
       "      <th>1869</th>\n",
       "      <td>111002915</td>\n",
       "      <td>249166767.7</td>\n",
       "      <td>А зори здесь тихие..._</td>\n",
       "      <td>2015-03-16 12:00:00+00:00</td>\n",
       "      <td>Художественный</td>\n",
       "      <td>ооо \"компания \"реал-дакота\"</td>\n",
       "      <td>Россия</td>\n",
       "      <td>[Р.Давлетьяров]</td>\n",
       "      <td>NaN</td>\n",
       "      <td>«12+» - для детей старше 12 лет</td>\n",
       "      <td>...</td>\n",
       "      <td>100000000.0</td>\n",
       "      <td>220588394.0</td>\n",
       "      <td>Фонд кино</td>\n",
       "      <td>8.5</td>\n",
       "      <td>[драма, военный, история]</td>\n",
       "      <td>2015</td>\n",
       "      <td>драма</td>\n",
       "      <td>Р.Давлетьяров</td>\n",
       "      <td>0.680000</td>\n",
       "      <td>высокий</td>\n",
       "    </tr>\n",
       "    <tr>\n",
       "      <th>3626</th>\n",
       "      <td>111017416</td>\n",
       "      <td>228578204.0</td>\n",
       "      <td>БОЛЬШОЙ</td>\n",
       "      <td>2016-11-22 12:00:00+00:00</td>\n",
       "      <td>Художественный</td>\n",
       "      <td>зао \"продюсерская компания валерия тодоровского\"</td>\n",
       "      <td>Россия</td>\n",
       "      <td>[В.Тодоровский]</td>\n",
       "      <td>В.Тодоровский, А.Златопольский</td>\n",
       "      <td>«12+» - для детей старше 12 лет</td>\n",
       "      <td>...</td>\n",
       "      <td>200000000.0</td>\n",
       "      <td>320000000.0</td>\n",
       "      <td>Фонд кино</td>\n",
       "      <td>8.5</td>\n",
       "      <td>[криминал, комедия, боевик]</td>\n",
       "      <td>2016</td>\n",
       "      <td>криминал</td>\n",
       "      <td>В.Тодоровский</td>\n",
       "      <td>0.656250</td>\n",
       "      <td>высокий</td>\n",
       "    </tr>\n",
       "    <tr>\n",
       "      <th>6854</th>\n",
       "      <td>111006719</td>\n",
       "      <td>408646665.7</td>\n",
       "      <td>Миллиард</td>\n",
       "      <td>2019-04-17 12:00:00+00:00</td>\n",
       "      <td>Художественный</td>\n",
       "      <td>ооо \"медиа юниверсал ивент\"</td>\n",
       "      <td>Россия</td>\n",
       "      <td>[Р.Прыгунов]</td>\n",
       "      <td>В.Маслов, В.Верещагин, Б.Анисимов</td>\n",
       "      <td>«12+» - для детей старше 12 лет</td>\n",
       "      <td>...</td>\n",
       "      <td>140000000.0</td>\n",
       "      <td>240041307.0</td>\n",
       "      <td>Фонд кино</td>\n",
       "      <td>8.2</td>\n",
       "      <td>[драма]</td>\n",
       "      <td>2019</td>\n",
       "      <td>драма</td>\n",
       "      <td>Р.Прыгунов</td>\n",
       "      <td>0.583233</td>\n",
       "      <td>высокий</td>\n",
       "    </tr>\n",
       "  </tbody>\n",
       "</table>\n",
       "<p>4 rows × 21 columns</p>\n",
       "</div>"
      ],
      "text/plain": [
       "       puNumber   box_office                   title  \\\n",
       "1281  111005313     365353.6           Пока еще жива   \n",
       "1869  111002915  249166767.7  А зори здесь тихие..._   \n",
       "3626  111017416  228578204.0                 БОЛЬШОЙ   \n",
       "6854  111006719  408646665.7                Миллиард   \n",
       "\n",
       "               show_start_date            type  \\\n",
       "1281 2013-10-11 12:00:00+00:00  Художественный   \n",
       "1869 2015-03-16 12:00:00+00:00  Художественный   \n",
       "3626 2016-11-22 12:00:00+00:00  Художественный   \n",
       "6854 2019-04-17 12:00:00+00:00  Художественный   \n",
       "\n",
       "                                            film_studio production_country  \\\n",
       "1281  ано содействия развитию кинематографии \"ангел-...             Россия   \n",
       "1869                        ооо \"компания \"реал-дакота\"             Россия   \n",
       "3626   зао \"продюсерская компания валерия тодоровского\"             Россия   \n",
       "6854                        ооо \"медиа юниверсал ивент\"             Россия   \n",
       "\n",
       "             director                           producer  \\\n",
       "1281     [А.Атанесян]   А.Атанесян, М.Бабаханов, Р.Бутко   \n",
       "1869  [Р.Давлетьяров]                                NaN   \n",
       "3626  [В.Тодоровский]     В.Тодоровский, А.Златопольский   \n",
       "6854     [Р.Прыгунов]  В.Маслов, В.Верещагин, Б.Анисимов   \n",
       "\n",
       "                      age_restriction  ...  nonrefundable_support  \\\n",
       "1281  «16+» - для детей старше 16 лет  ...             26500000.0   \n",
       "1869  «12+» - для детей старше 12 лет  ...            100000000.0   \n",
       "3626  «12+» - для детей старше 12 лет  ...            200000000.0   \n",
       "6854  «12+» - для детей старше 12 лет  ...            140000000.0   \n",
       "\n",
       "           budget       financing_source ratings                       genres  \\\n",
       "1281   79411900.0  Министерство культуры     8.1           [драма, мелодрама]   \n",
       "1869  220588394.0              Фонд кино     8.5    [драма, военный, история]   \n",
       "3626  320000000.0              Фонд кино     8.5  [криминал, комедия, боевик]   \n",
       "6854  240041307.0              Фонд кино     8.2                      [драма]   \n",
       "\n",
       "     year_exposition  main_genre  main_director support_percent  \\\n",
       "1281            2013       драма     А.Атанесян        0.333703   \n",
       "1869            2015       драма  Р.Давлетьяров        0.680000   \n",
       "3626            2016    криминал  В.Тодоровский        0.656250   \n",
       "6854            2019       драма     Р.Прыгунов        0.583233   \n",
       "\n",
       "      rating_category  \n",
       "1281          высокий  \n",
       "1869          высокий  \n",
       "3626          высокий  \n",
       "6854          высокий  \n",
       "\n",
       "[4 rows x 21 columns]"
      ]
     },
     "execution_count": 61,
     "metadata": {},
     "output_type": "execute_result"
    }
   ],
   "source": [
    "#фильмы с высоким рейтингом\n",
    "data_support[data_support['rating_category']=='высокий']"
   ]
  },
  {
   "cell_type": "code",
   "execution_count": 62,
   "metadata": {},
   "outputs": [
    {
     "data": {
      "text/html": [
       "<style  type=\"text/css\" >\n",
       "</style><table id=\"T_6d5b0_\" ><thead>    <tr>        <th class=\"blank level0\" ></th>        <th class=\"col_heading level0 col0\" colspan=\"3\">box_office</th>        <th class=\"col_heading level0 col3\" colspan=\"3\">support_percent</th>    </tr>    <tr>        <th class=\"blank level1\" ></th>        <th class=\"col_heading level1 col0\" >count</th>        <th class=\"col_heading level1 col1\" >mean</th>        <th class=\"col_heading level1 col2\" >sum</th>        <th class=\"col_heading level1 col3\" >count</th>        <th class=\"col_heading level1 col4\" >mean</th>        <th class=\"col_heading level1 col5\" >sum</th>    </tr>    <tr>        <th class=\"index_name level0\" >main_genre</th>        <th class=\"blank\" ></th>        <th class=\"blank\" ></th>        <th class=\"blank\" ></th>        <th class=\"blank\" ></th>        <th class=\"blank\" ></th>        <th class=\"blank\" ></th>    </tr></thead><tbody>\n",
       "                <tr>\n",
       "                        <th id=\"T_6d5b0_level0_row0\" class=\"row_heading level0 row0\" >nan</th>\n",
       "                        <td id=\"T_6d5b0_row0_col0\" class=\"data row0 col0\" >14.00</td>\n",
       "                        <td id=\"T_6d5b0_row0_col1\" class=\"data row0 col1\" >105,743,858.95</td>\n",
       "                        <td id=\"T_6d5b0_row0_col2\" class=\"data row0 col2\" >1,480,414,025.24</td>\n",
       "                        <td id=\"T_6d5b0_row0_col3\" class=\"data row0 col3\" >15.00</td>\n",
       "                        <td id=\"T_6d5b0_row0_col4\" class=\"data row0 col4\" >0.62</td>\n",
       "                        <td id=\"T_6d5b0_row0_col5\" class=\"data row0 col5\" >9.33</td>\n",
       "            </tr>\n",
       "            <tr>\n",
       "                        <th id=\"T_6d5b0_level0_row1\" class=\"row_heading level0 row1\" >биография</th>\n",
       "                        <td id=\"T_6d5b0_row1_col0\" class=\"data row1 col0\" >3.00</td>\n",
       "                        <td id=\"T_6d5b0_row1_col1\" class=\"data row1 col1\" >172,294,345.88</td>\n",
       "                        <td id=\"T_6d5b0_row1_col2\" class=\"data row1 col2\" >516,883,037.64</td>\n",
       "                        <td id=\"T_6d5b0_row1_col3\" class=\"data row1 col3\" >3.00</td>\n",
       "                        <td id=\"T_6d5b0_row1_col4\" class=\"data row1 col4\" >0.35</td>\n",
       "                        <td id=\"T_6d5b0_row1_col5\" class=\"data row1 col5\" >1.04</td>\n",
       "            </tr>\n",
       "            <tr>\n",
       "                        <th id=\"T_6d5b0_level0_row2\" class=\"row_heading level0 row2\" >боевик</th>\n",
       "                        <td id=\"T_6d5b0_row2_col0\" class=\"data row2 col0\" >5.00</td>\n",
       "                        <td id=\"T_6d5b0_row2_col1\" class=\"data row2 col1\" >79,871,299.22</td>\n",
       "                        <td id=\"T_6d5b0_row2_col2\" class=\"data row2 col2\" >399,356,496.10</td>\n",
       "                        <td id=\"T_6d5b0_row2_col3\" class=\"data row2 col3\" >5.00</td>\n",
       "                        <td id=\"T_6d5b0_row2_col4\" class=\"data row2 col4\" >0.44</td>\n",
       "                        <td id=\"T_6d5b0_row2_col5\" class=\"data row2 col5\" >2.20</td>\n",
       "            </tr>\n",
       "            <tr>\n",
       "                        <th id=\"T_6d5b0_level0_row3\" class=\"row_heading level0 row3\" >военный</th>\n",
       "                        <td id=\"T_6d5b0_row3_col0\" class=\"data row3 col0\" >9.00</td>\n",
       "                        <td id=\"T_6d5b0_row3_col1\" class=\"data row3 col1\" >113,074,496.87</td>\n",
       "                        <td id=\"T_6d5b0_row3_col2\" class=\"data row3 col2\" >1,017,670,471.80</td>\n",
       "                        <td id=\"T_6d5b0_row3_col3\" class=\"data row3 col3\" >9.00</td>\n",
       "                        <td id=\"T_6d5b0_row3_col4\" class=\"data row3 col4\" >0.42</td>\n",
       "                        <td id=\"T_6d5b0_row3_col5\" class=\"data row3 col5\" >3.74</td>\n",
       "            </tr>\n",
       "            <tr>\n",
       "                        <th id=\"T_6d5b0_level0_row4\" class=\"row_heading level0 row4\" >детектив</th>\n",
       "                        <td id=\"T_6d5b0_row4_col0\" class=\"data row4 col0\" >5.00</td>\n",
       "                        <td id=\"T_6d5b0_row4_col1\" class=\"data row4 col1\" >27,709,502.28</td>\n",
       "                        <td id=\"T_6d5b0_row4_col2\" class=\"data row4 col2\" >138,547,511.40</td>\n",
       "                        <td id=\"T_6d5b0_row4_col3\" class=\"data row4 col3\" >5.00</td>\n",
       "                        <td id=\"T_6d5b0_row4_col4\" class=\"data row4 col4\" >0.49</td>\n",
       "                        <td id=\"T_6d5b0_row4_col5\" class=\"data row4 col5\" >2.46</td>\n",
       "            </tr>\n",
       "            <tr>\n",
       "                        <th id=\"T_6d5b0_level0_row5\" class=\"row_heading level0 row5\" >детский</th>\n",
       "                        <td id=\"T_6d5b0_row5_col0\" class=\"data row5 col0\" >3.00</td>\n",
       "                        <td id=\"T_6d5b0_row5_col1\" class=\"data row5 col1\" >1,004,550.67</td>\n",
       "                        <td id=\"T_6d5b0_row5_col2\" class=\"data row5 col2\" >3,013,652.00</td>\n",
       "                        <td id=\"T_6d5b0_row5_col3\" class=\"data row5 col3\" >4.00</td>\n",
       "                        <td id=\"T_6d5b0_row5_col4\" class=\"data row5 col4\" >0.65</td>\n",
       "                        <td id=\"T_6d5b0_row5_col5\" class=\"data row5 col5\" >2.59</td>\n",
       "            </tr>\n",
       "            <tr>\n",
       "                        <th id=\"T_6d5b0_level0_row6\" class=\"row_heading level0 row6\" >драма</th>\n",
       "                        <td id=\"T_6d5b0_row6_col0\" class=\"data row6 col0\" >84.00</td>\n",
       "                        <td id=\"T_6d5b0_row6_col1\" class=\"data row6 col1\" >107,665,121.67</td>\n",
       "                        <td id=\"T_6d5b0_row6_col2\" class=\"data row6 col2\" >9,043,870,220.04</td>\n",
       "                        <td id=\"T_6d5b0_row6_col3\" class=\"data row6 col3\" >90.00</td>\n",
       "                        <td id=\"T_6d5b0_row6_col4\" class=\"data row6 col4\" >0.55</td>\n",
       "                        <td id=\"T_6d5b0_row6_col5\" class=\"data row6 col5\" >49.17</td>\n",
       "            </tr>\n",
       "            <tr>\n",
       "                        <th id=\"T_6d5b0_level0_row7\" class=\"row_heading level0 row7\" >история</th>\n",
       "                        <td id=\"T_6d5b0_row7_col0\" class=\"data row7 col0\" >4.00</td>\n",
       "                        <td id=\"T_6d5b0_row7_col1\" class=\"data row7 col1\" >363,867,058.64</td>\n",
       "                        <td id=\"T_6d5b0_row7_col2\" class=\"data row7 col2\" >1,455,468,234.57</td>\n",
       "                        <td id=\"T_6d5b0_row7_col3\" class=\"data row7 col3\" >4.00</td>\n",
       "                        <td id=\"T_6d5b0_row7_col4\" class=\"data row7 col4\" >0.43</td>\n",
       "                        <td id=\"T_6d5b0_row7_col5\" class=\"data row7 col5\" >1.71</td>\n",
       "            </tr>\n",
       "            <tr>\n",
       "                        <th id=\"T_6d5b0_level0_row8\" class=\"row_heading level0 row8\" >комедия</th>\n",
       "                        <td id=\"T_6d5b0_row8_col0\" class=\"data row8 col0\" >67.00</td>\n",
       "                        <td id=\"T_6d5b0_row8_col1\" class=\"data row8 col1\" >182,112,672.02</td>\n",
       "                        <td id=\"T_6d5b0_row8_col2\" class=\"data row8 col2\" >12,201,549,025.39</td>\n",
       "                        <td id=\"T_6d5b0_row8_col3\" class=\"data row8 col3\" >68.00</td>\n",
       "                        <td id=\"T_6d5b0_row8_col4\" class=\"data row8 col4\" >0.53</td>\n",
       "                        <td id=\"T_6d5b0_row8_col5\" class=\"data row8 col5\" >36.08</td>\n",
       "            </tr>\n",
       "            <tr>\n",
       "                        <th id=\"T_6d5b0_level0_row9\" class=\"row_heading level0 row9\" >криминал</th>\n",
       "                        <td id=\"T_6d5b0_row9_col0\" class=\"data row9 col0\" >3.00</td>\n",
       "                        <td id=\"T_6d5b0_row9_col1\" class=\"data row9 col1\" >79,931,287.67</td>\n",
       "                        <td id=\"T_6d5b0_row9_col2\" class=\"data row9 col2\" >239,793,863.00</td>\n",
       "                        <td id=\"T_6d5b0_row9_col3\" class=\"data row9 col3\" >3.00</td>\n",
       "                        <td id=\"T_6d5b0_row9_col4\" class=\"data row9 col4\" >0.66</td>\n",
       "                        <td id=\"T_6d5b0_row9_col5\" class=\"data row9 col5\" >1.97</td>\n",
       "            </tr>\n",
       "            <tr>\n",
       "                        <th id=\"T_6d5b0_level0_row10\" class=\"row_heading level0 row10\" >мелодрама</th>\n",
       "                        <td id=\"T_6d5b0_row10_col0\" class=\"data row10 col0\" >11.00</td>\n",
       "                        <td id=\"T_6d5b0_row10_col1\" class=\"data row10 col1\" >4,049,904.56</td>\n",
       "                        <td id=\"T_6d5b0_row10_col2\" class=\"data row10 col2\" >44,548,950.13</td>\n",
       "                        <td id=\"T_6d5b0_row10_col3\" class=\"data row10 col3\" >12.00</td>\n",
       "                        <td id=\"T_6d5b0_row10_col4\" class=\"data row10 col4\" >0.45</td>\n",
       "                        <td id=\"T_6d5b0_row10_col5\" class=\"data row10 col5\" >5.42</td>\n",
       "            </tr>\n",
       "            <tr>\n",
       "                        <th id=\"T_6d5b0_level0_row11\" class=\"row_heading level0 row11\" >мультфильм</th>\n",
       "                        <td id=\"T_6d5b0_row11_col0\" class=\"data row11 col0\" >25.00</td>\n",
       "                        <td id=\"T_6d5b0_row11_col1\" class=\"data row11 col1\" >201,797,244.49</td>\n",
       "                        <td id=\"T_6d5b0_row11_col2\" class=\"data row11 col2\" >5,044,931,112.30</td>\n",
       "                        <td id=\"T_6d5b0_row11_col3\" class=\"data row11 col3\" >26.00</td>\n",
       "                        <td id=\"T_6d5b0_row11_col4\" class=\"data row11 col4\" >0.40</td>\n",
       "                        <td id=\"T_6d5b0_row11_col5\" class=\"data row11 col5\" >10.42</td>\n",
       "            </tr>\n",
       "            <tr>\n",
       "                        <th id=\"T_6d5b0_level0_row12\" class=\"row_heading level0 row12\" >мюзикл</th>\n",
       "                        <td id=\"T_6d5b0_row12_col0\" class=\"data row12 col0\" >4.00</td>\n",
       "                        <td id=\"T_6d5b0_row12_col1\" class=\"data row12 col1\" >25,426,251.24</td>\n",
       "                        <td id=\"T_6d5b0_row12_col2\" class=\"data row12 col2\" >101,705,004.98</td>\n",
       "                        <td id=\"T_6d5b0_row12_col3\" class=\"data row12 col3\" >4.00</td>\n",
       "                        <td id=\"T_6d5b0_row12_col4\" class=\"data row12 col4\" >0.49</td>\n",
       "                        <td id=\"T_6d5b0_row12_col5\" class=\"data row12 col5\" >1.97</td>\n",
       "            </tr>\n",
       "            <tr>\n",
       "                        <th id=\"T_6d5b0_level0_row13\" class=\"row_heading level0 row13\" >приключения</th>\n",
       "                        <td id=\"T_6d5b0_row13_col0\" class=\"data row13 col0\" >6.00</td>\n",
       "                        <td id=\"T_6d5b0_row13_col1\" class=\"data row13 col1\" >200,932,829.44</td>\n",
       "                        <td id=\"T_6d5b0_row13_col2\" class=\"data row13 col2\" >1,205,596,976.62</td>\n",
       "                        <td id=\"T_6d5b0_row13_col3\" class=\"data row13 col3\" >7.00</td>\n",
       "                        <td id=\"T_6d5b0_row13_col4\" class=\"data row13 col4\" >0.37</td>\n",
       "                        <td id=\"T_6d5b0_row13_col5\" class=\"data row13 col5\" >2.60</td>\n",
       "            </tr>\n",
       "            <tr>\n",
       "                        <th id=\"T_6d5b0_level0_row14\" class=\"row_heading level0 row14\" >реальное ТВ</th>\n",
       "                        <td id=\"T_6d5b0_row14_col0\" class=\"data row14 col0\" >1.00</td>\n",
       "                        <td id=\"T_6d5b0_row14_col1\" class=\"data row14 col1\" >32,721,103.43</td>\n",
       "                        <td id=\"T_6d5b0_row14_col2\" class=\"data row14 col2\" >32,721,103.43</td>\n",
       "                        <td id=\"T_6d5b0_row14_col3\" class=\"data row14 col3\" >1.00</td>\n",
       "                        <td id=\"T_6d5b0_row14_col4\" class=\"data row14 col4\" >0.66</td>\n",
       "                        <td id=\"T_6d5b0_row14_col5\" class=\"data row14 col5\" >0.66</td>\n",
       "            </tr>\n",
       "            <tr>\n",
       "                        <th id=\"T_6d5b0_level0_row15\" class=\"row_heading level0 row15\" >семейный</th>\n",
       "                        <td id=\"T_6d5b0_row15_col0\" class=\"data row15 col0\" >6.00</td>\n",
       "                        <td id=\"T_6d5b0_row15_col1\" class=\"data row15 col1\" >97,404,124.94</td>\n",
       "                        <td id=\"T_6d5b0_row15_col2\" class=\"data row15 col2\" >584,424,749.65</td>\n",
       "                        <td id=\"T_6d5b0_row15_col3\" class=\"data row15 col3\" >7.00</td>\n",
       "                        <td id=\"T_6d5b0_row15_col4\" class=\"data row15 col4\" >0.48</td>\n",
       "                        <td id=\"T_6d5b0_row15_col5\" class=\"data row15 col5\" >3.35</td>\n",
       "            </tr>\n",
       "            <tr>\n",
       "                        <th id=\"T_6d5b0_level0_row16\" class=\"row_heading level0 row16\" >спорт</th>\n",
       "                        <td id=\"T_6d5b0_row16_col0\" class=\"data row16 col0\" >3.00</td>\n",
       "                        <td id=\"T_6d5b0_row16_col1\" class=\"data row16 col1\" >989,256,129.15</td>\n",
       "                        <td id=\"T_6d5b0_row16_col2\" class=\"data row16 col2\" >2,967,768,387.44</td>\n",
       "                        <td id=\"T_6d5b0_row16_col3\" class=\"data row16 col3\" >3.00</td>\n",
       "                        <td id=\"T_6d5b0_row16_col4\" class=\"data row16 col4\" >0.54</td>\n",
       "                        <td id=\"T_6d5b0_row16_col5\" class=\"data row16 col5\" >1.62</td>\n",
       "            </tr>\n",
       "            <tr>\n",
       "                        <th id=\"T_6d5b0_level0_row17\" class=\"row_heading level0 row17\" >триллер</th>\n",
       "                        <td id=\"T_6d5b0_row17_col0\" class=\"data row17 col0\" >14.00</td>\n",
       "                        <td id=\"T_6d5b0_row17_col1\" class=\"data row17 col1\" >33,946,699.29</td>\n",
       "                        <td id=\"T_6d5b0_row17_col2\" class=\"data row17 col2\" >475,253,790.11</td>\n",
       "                        <td id=\"T_6d5b0_row17_col3\" class=\"data row17 col3\" >14.00</td>\n",
       "                        <td id=\"T_6d5b0_row17_col4\" class=\"data row17 col4\" >0.56</td>\n",
       "                        <td id=\"T_6d5b0_row17_col5\" class=\"data row17 col5\" >7.82</td>\n",
       "            </tr>\n",
       "            <tr>\n",
       "                        <th id=\"T_6d5b0_level0_row18\" class=\"row_heading level0 row18\" >ужасы</th>\n",
       "                        <td id=\"T_6d5b0_row18_col0\" class=\"data row18 col0\" >10.00</td>\n",
       "                        <td id=\"T_6d5b0_row18_col1\" class=\"data row18 col1\" >71,012,318.93</td>\n",
       "                        <td id=\"T_6d5b0_row18_col2\" class=\"data row18 col2\" >710,123,189.35</td>\n",
       "                        <td id=\"T_6d5b0_row18_col3\" class=\"data row18 col3\" >10.00</td>\n",
       "                        <td id=\"T_6d5b0_row18_col4\" class=\"data row18 col4\" >0.63</td>\n",
       "                        <td id=\"T_6d5b0_row18_col5\" class=\"data row18 col5\" >6.32</td>\n",
       "            </tr>\n",
       "            <tr>\n",
       "                        <th id=\"T_6d5b0_level0_row19\" class=\"row_heading level0 row19\" >фантастика</th>\n",
       "                        <td id=\"T_6d5b0_row19_col0\" class=\"data row19 col0\" >8.00</td>\n",
       "                        <td id=\"T_6d5b0_row19_col1\" class=\"data row19 col1\" >84,943,505.05</td>\n",
       "                        <td id=\"T_6d5b0_row19_col2\" class=\"data row19 col2\" >679,548,040.39</td>\n",
       "                        <td id=\"T_6d5b0_row19_col3\" class=\"data row19 col3\" >9.00</td>\n",
       "                        <td id=\"T_6d5b0_row19_col4\" class=\"data row19 col4\" >0.47</td>\n",
       "                        <td id=\"T_6d5b0_row19_col5\" class=\"data row19 col5\" >4.19</td>\n",
       "            </tr>\n",
       "            <tr>\n",
       "                        <th id=\"T_6d5b0_level0_row20\" class=\"row_heading level0 row20\" >фэнтези</th>\n",
       "                        <td id=\"T_6d5b0_row20_col0\" class=\"data row20 col0\" >10.00</td>\n",
       "                        <td id=\"T_6d5b0_row20_col1\" class=\"data row20 col1\" >99,583,060.80</td>\n",
       "                        <td id=\"T_6d5b0_row20_col2\" class=\"data row20 col2\" >995,830,607.97</td>\n",
       "                        <td id=\"T_6d5b0_row20_col3\" class=\"data row20 col3\" >10.00</td>\n",
       "                        <td id=\"T_6d5b0_row20_col4\" class=\"data row20 col4\" >0.57</td>\n",
       "                        <td id=\"T_6d5b0_row20_col5\" class=\"data row20 col5\" >5.65</td>\n",
       "            </tr>\n",
       "    </tbody></table>"
      ],
      "text/plain": [
       "<pandas.io.formats.style.Styler at 0x7fdec364b100>"
      ]
     },
     "execution_count": 62,
     "metadata": {},
     "output_type": "execute_result"
    }
   ],
   "source": [
    "#топ жанров\n",
    "data_support_genre = data_support.pivot_table(index='main_genre', values=('box_office', 'support_percent'),\n",
    "                         aggfunc=('count', 'sum', 'mean')).style.format('{:,.2f}')\n",
    "data_support_genre"
   ]
  },
  {
   "cell_type": "markdown",
   "metadata": {},
   "source": [
    "Топ-3 жанров российского кинематографа: драма, комедия, мультфильм. Средние сборы больше всего у жанра \"спорт\", минимальные средние сборы у детских фильмов. Минимальную поддержку получают биографии и приключения."
   ]
  },
  {
   "cell_type": "code",
   "execution_count": 63,
   "metadata": {
    "scrolled": true
   },
   "outputs": [
    {
     "data": {
      "text/html": [
       "<div>\n",
       "<style scoped>\n",
       "    .dataframe tbody tr th:only-of-type {\n",
       "        vertical-align: middle;\n",
       "    }\n",
       "\n",
       "    .dataframe tbody tr th {\n",
       "        vertical-align: top;\n",
       "    }\n",
       "\n",
       "    .dataframe thead th {\n",
       "        text-align: right;\n",
       "    }\n",
       "</style>\n",
       "<table border=\"1\" class=\"dataframe\">\n",
       "  <thead>\n",
       "    <tr style=\"text-align: right;\">\n",
       "      <th></th>\n",
       "      <th>puNumber</th>\n",
       "      <th>box_office</th>\n",
       "      <th>title</th>\n",
       "      <th>show_start_date</th>\n",
       "      <th>type</th>\n",
       "      <th>film_studio</th>\n",
       "      <th>production_country</th>\n",
       "      <th>director</th>\n",
       "      <th>producer</th>\n",
       "      <th>age_restriction</th>\n",
       "      <th>...</th>\n",
       "      <th>nonrefundable_support</th>\n",
       "      <th>budget</th>\n",
       "      <th>financing_source</th>\n",
       "      <th>ratings</th>\n",
       "      <th>genres</th>\n",
       "      <th>year_exposition</th>\n",
       "      <th>main_genre</th>\n",
       "      <th>main_director</th>\n",
       "      <th>support_percent</th>\n",
       "      <th>rating_category</th>\n",
       "    </tr>\n",
       "  </thead>\n",
       "  <tbody>\n",
       "    <tr>\n",
       "      <th>3134</th>\n",
       "      <td>111021115</td>\n",
       "      <td>1.686889e+08</td>\n",
       "      <td>Чемпионы: Быстрее. Выше. Сильнее</td>\n",
       "      <td>2015-12-22 12:00:00+00:00</td>\n",
       "      <td>Художественный</td>\n",
       "      <td>ооо \"энджой мувиз\"</td>\n",
       "      <td>Россия</td>\n",
       "      <td>[А.Аксененко]</td>\n",
       "      <td>Г.Малков, В.Поляков</td>\n",
       "      <td>«6+» - для детей старше 6 лет</td>\n",
       "      <td>...</td>\n",
       "      <td>40000000.0</td>\n",
       "      <td>90276774.0</td>\n",
       "      <td>Фонд кино</td>\n",
       "      <td>7.0</td>\n",
       "      <td>[спорт, драма]</td>\n",
       "      <td>2015</td>\n",
       "      <td>спорт</td>\n",
       "      <td>А.Аксененко</td>\n",
       "      <td>0.443082</td>\n",
       "      <td>средний</td>\n",
       "    </tr>\n",
       "    <tr>\n",
       "      <th>3784</th>\n",
       "      <td>111016416</td>\n",
       "      <td>1.939338e+07</td>\n",
       "      <td>Эластико</td>\n",
       "      <td>2016-10-18 12:00:00+00:00</td>\n",
       "      <td>Художественный</td>\n",
       "      <td>ооо \"пятый элемент\", ооо \"реновацио интертейнм...</td>\n",
       "      <td>Россия</td>\n",
       "      <td>[М.Расходников]</td>\n",
       "      <td>Г.Малков, В.Поляков, Е.замалиев, А.Кузьминов, ...</td>\n",
       "      <td>«12+» - для детей старше 12 лет</td>\n",
       "      <td>...</td>\n",
       "      <td>15000000.0</td>\n",
       "      <td>30000000.0</td>\n",
       "      <td>Фонд кино</td>\n",
       "      <td>6.3</td>\n",
       "      <td>[спорт, мелодрама, криминал]</td>\n",
       "      <td>2016</td>\n",
       "      <td>спорт</td>\n",
       "      <td>М.Расходников</td>\n",
       "      <td>0.500000</td>\n",
       "      <td>средний</td>\n",
       "    </tr>\n",
       "    <tr>\n",
       "      <th>5652</th>\n",
       "      <td>111011817</td>\n",
       "      <td>2.779686e+09</td>\n",
       "      <td>Движение вверх</td>\n",
       "      <td>2017-12-21 12:00:00+00:00</td>\n",
       "      <td>Художественный</td>\n",
       "      <td>ооо \"студия \"тритэ\" никиты михалкова\"</td>\n",
       "      <td>Россия</td>\n",
       "      <td>[А.Мегердичев]</td>\n",
       "      <td>Л.Верещагин, А.Златопольский, Н.Михалков, ООО ...</td>\n",
       "      <td>«6+» - для детей старше 6 лет</td>\n",
       "      <td>...</td>\n",
       "      <td>400000000.0</td>\n",
       "      <td>590192191.0</td>\n",
       "      <td>Фонд кино</td>\n",
       "      <td>7.5</td>\n",
       "      <td>[спорт, драма]</td>\n",
       "      <td>2017</td>\n",
       "      <td>спорт</td>\n",
       "      <td>А.Мегердичев</td>\n",
       "      <td>0.677745</td>\n",
       "      <td>средний</td>\n",
       "    </tr>\n",
       "  </tbody>\n",
       "</table>\n",
       "<p>3 rows × 21 columns</p>\n",
       "</div>"
      ],
      "text/plain": [
       "       puNumber    box_office                             title  \\\n",
       "3134  111021115  1.686889e+08  Чемпионы: Быстрее. Выше. Сильнее   \n",
       "3784  111016416  1.939338e+07                          Эластико   \n",
       "5652  111011817  2.779686e+09                    Движение вверх   \n",
       "\n",
       "               show_start_date            type  \\\n",
       "3134 2015-12-22 12:00:00+00:00  Художественный   \n",
       "3784 2016-10-18 12:00:00+00:00  Художественный   \n",
       "5652 2017-12-21 12:00:00+00:00  Художественный   \n",
       "\n",
       "                                            film_studio production_country  \\\n",
       "3134                                 ооо \"энджой мувиз\"             Россия   \n",
       "3784  ооо \"пятый элемент\", ооо \"реновацио интертейнм...             Россия   \n",
       "5652              ооо \"студия \"тритэ\" никиты михалкова\"             Россия   \n",
       "\n",
       "             director                                           producer  \\\n",
       "3134    [А.Аксененко]                                Г.Малков, В.Поляков   \n",
       "3784  [М.Расходников]  Г.Малков, В.Поляков, Е.замалиев, А.Кузьминов, ...   \n",
       "5652   [А.Мегердичев]  Л.Верещагин, А.Златопольский, Н.Михалков, ООО ...   \n",
       "\n",
       "                      age_restriction  ...  nonrefundable_support  \\\n",
       "3134    «6+» - для детей старше 6 лет  ...             40000000.0   \n",
       "3784  «12+» - для детей старше 12 лет  ...             15000000.0   \n",
       "5652    «6+» - для детей старше 6 лет  ...            400000000.0   \n",
       "\n",
       "           budget  financing_source ratings                        genres  \\\n",
       "3134   90276774.0         Фонд кино     7.0                [спорт, драма]   \n",
       "3784   30000000.0         Фонд кино     6.3  [спорт, мелодрама, криминал]   \n",
       "5652  590192191.0         Фонд кино     7.5                [спорт, драма]   \n",
       "\n",
       "     year_exposition  main_genre  main_director support_percent  \\\n",
       "3134            2015       спорт    А.Аксененко        0.443082   \n",
       "3784            2016       спорт  М.Расходников        0.500000   \n",
       "5652            2017       спорт   А.Мегердичев        0.677745   \n",
       "\n",
       "      rating_category  \n",
       "3134          средний  \n",
       "3784          средний  \n",
       "5652          средний  \n",
       "\n",
       "[3 rows x 21 columns]"
      ]
     },
     "execution_count": 63,
     "metadata": {},
     "output_type": "execute_result"
    }
   ],
   "source": [
    "data_support[data_support['main_genre']=='спорт']"
   ]
  },
  {
   "cell_type": "code",
   "execution_count": 64,
   "metadata": {},
   "outputs": [
    {
     "data": {
      "text/html": [
       "<style  type=\"text/css\" >\n",
       "</style><table id=\"T_4a03c_\" ><thead>    <tr>        <th class=\"blank level0\" ></th>        <th class=\"col_heading level0 col0\" colspan=\"2\">box_office</th>        <th class=\"col_heading level0 col2\" colspan=\"2\">budget</th>        <th class=\"col_heading level0 col4\" colspan=\"2\">ratings</th>        <th class=\"col_heading level0 col6\" colspan=\"2\">support_percent</th>    </tr>    <tr>        <th class=\"blank level1\" ></th>        <th class=\"col_heading level1 col0\" >count</th>        <th class=\"col_heading level1 col1\" >mean</th>        <th class=\"col_heading level1 col2\" >count</th>        <th class=\"col_heading level1 col3\" >mean</th>        <th class=\"col_heading level1 col4\" >count</th>        <th class=\"col_heading level1 col5\" >mean</th>        <th class=\"col_heading level1 col6\" >count</th>        <th class=\"col_heading level1 col7\" >mean</th>    </tr>    <tr>        <th class=\"index_name level0\" >year_exposition</th>        <th class=\"blank\" ></th>        <th class=\"blank\" ></th>        <th class=\"blank\" ></th>        <th class=\"blank\" ></th>        <th class=\"blank\" ></th>        <th class=\"blank\" ></th>        <th class=\"blank\" ></th>        <th class=\"blank\" ></th>    </tr></thead><tbody>\n",
       "                <tr>\n",
       "                        <th id=\"T_4a03c_level0_row0\" class=\"row_heading level0 row0\" >2013</th>\n",
       "                        <td id=\"T_4a03c_row0_col0\" class=\"data row0 col0\" >2.00</td>\n",
       "                        <td id=\"T_4a03c_row0_col1\" class=\"data row0 col1\" >10,161,192.55</td>\n",
       "                        <td id=\"T_4a03c_row0_col2\" class=\"data row0 col2\" >2.00</td>\n",
       "                        <td id=\"T_4a03c_row0_col3\" class=\"data row0 col3\" >127,717,695.00</td>\n",
       "                        <td id=\"T_4a03c_row0_col4\" class=\"data row0 col4\" >2.00</td>\n",
       "                        <td id=\"T_4a03c_row0_col5\" class=\"data row0 col5\" >6.70</td>\n",
       "                        <td id=\"T_4a03c_row0_col6\" class=\"data row0 col6\" >2.00</td>\n",
       "                        <td id=\"T_4a03c_row0_col7\" class=\"data row0 col7\" >0.47</td>\n",
       "            </tr>\n",
       "            <tr>\n",
       "                        <th id=\"T_4a03c_level0_row1\" class=\"row_heading level0 row1\" >2014</th>\n",
       "                        <td id=\"T_4a03c_row1_col0\" class=\"data row1 col0\" >15.00</td>\n",
       "                        <td id=\"T_4a03c_row1_col1\" class=\"data row1 col1\" >67,145,876.70</td>\n",
       "                        <td id=\"T_4a03c_row1_col2\" class=\"data row1 col2\" >15.00</td>\n",
       "                        <td id=\"T_4a03c_row1_col3\" class=\"data row1 col3\" >85,298,985.53</td>\n",
       "                        <td id=\"T_4a03c_row1_col4\" class=\"data row1 col4\" >14.00</td>\n",
       "                        <td id=\"T_4a03c_row1_col5\" class=\"data row1 col5\" >5.96</td>\n",
       "                        <td id=\"T_4a03c_row1_col6\" class=\"data row1 col6\" >15.00</td>\n",
       "                        <td id=\"T_4a03c_row1_col7\" class=\"data row1 col7\" >0.52</td>\n",
       "            </tr>\n",
       "            <tr>\n",
       "                        <th id=\"T_4a03c_level0_row2\" class=\"row_heading level0 row2\" >2015</th>\n",
       "                        <td id=\"T_4a03c_row2_col0\" class=\"data row2 col0\" >74.00</td>\n",
       "                        <td id=\"T_4a03c_row2_col1\" class=\"data row2 col1\" >65,062,152.71</td>\n",
       "                        <td id=\"T_4a03c_row2_col2\" class=\"data row2 col2\" >75.00</td>\n",
       "                        <td id=\"T_4a03c_row2_col3\" class=\"data row2 col3\" >94,222,697.93</td>\n",
       "                        <td id=\"T_4a03c_row2_col4\" class=\"data row2 col4\" >72.00</td>\n",
       "                        <td id=\"T_4a03c_row2_col5\" class=\"data row2 col5\" >6.04</td>\n",
       "                        <td id=\"T_4a03c_row2_col6\" class=\"data row2 col6\" >75.00</td>\n",
       "                        <td id=\"T_4a03c_row2_col7\" class=\"data row2 col7\" >0.54</td>\n",
       "            </tr>\n",
       "            <tr>\n",
       "                        <th id=\"T_4a03c_level0_row3\" class=\"row_heading level0 row3\" >2016</th>\n",
       "                        <td id=\"T_4a03c_row3_col0\" class=\"data row3 col0\" >56.00</td>\n",
       "                        <td id=\"T_4a03c_row3_col1\" class=\"data row3 col1\" >88,530,631.55</td>\n",
       "                        <td id=\"T_4a03c_row3_col2\" class=\"data row3 col2\" >57.00</td>\n",
       "                        <td id=\"T_4a03c_row3_col3\" class=\"data row3 col3\" >125,230,175.12</td>\n",
       "                        <td id=\"T_4a03c_row3_col4\" class=\"data row3 col4\" >53.00</td>\n",
       "                        <td id=\"T_4a03c_row3_col5\" class=\"data row3 col5\" >5.71</td>\n",
       "                        <td id=\"T_4a03c_row3_col6\" class=\"data row3 col6\" >57.00</td>\n",
       "                        <td id=\"T_4a03c_row3_col7\" class=\"data row3 col7\" >0.55</td>\n",
       "            </tr>\n",
       "            <tr>\n",
       "                        <th id=\"T_4a03c_level0_row4\" class=\"row_heading level0 row4\" >2017</th>\n",
       "                        <td id=\"T_4a03c_row4_col0\" class=\"data row4 col0\" >37.00</td>\n",
       "                        <td id=\"T_4a03c_row4_col1\" class=\"data row4 col1\" >290,797,711.82</td>\n",
       "                        <td id=\"T_4a03c_row4_col2\" class=\"data row4 col2\" >39.00</td>\n",
       "                        <td id=\"T_4a03c_row4_col3\" class=\"data row4 col3\" >178,773,655.59</td>\n",
       "                        <td id=\"T_4a03c_row4_col4\" class=\"data row4 col4\" >37.00</td>\n",
       "                        <td id=\"T_4a03c_row4_col5\" class=\"data row4 col5\" >6.05</td>\n",
       "                        <td id=\"T_4a03c_row4_col6\" class=\"data row4 col6\" >39.00</td>\n",
       "                        <td id=\"T_4a03c_row4_col7\" class=\"data row4 col7\" >0.48</td>\n",
       "            </tr>\n",
       "            <tr>\n",
       "                        <th id=\"T_4a03c_level0_row5\" class=\"row_heading level0 row5\" >2018</th>\n",
       "                        <td id=\"T_4a03c_row5_col0\" class=\"data row5 col0\" >52.00</td>\n",
       "                        <td id=\"T_4a03c_row5_col1\" class=\"data row5 col1\" >183,031,870.79</td>\n",
       "                        <td id=\"T_4a03c_row5_col2\" class=\"data row5 col2\" >52.00</td>\n",
       "                        <td id=\"T_4a03c_row5_col3\" class=\"data row5 col3\" >127,917,204.50</td>\n",
       "                        <td id=\"T_4a03c_row5_col4\" class=\"data row5 col4\" >50.00</td>\n",
       "                        <td id=\"T_4a03c_row5_col5\" class=\"data row5 col5\" >6.04</td>\n",
       "                        <td id=\"T_4a03c_row5_col6\" class=\"data row5 col6\" >52.00</td>\n",
       "                        <td id=\"T_4a03c_row5_col7\" class=\"data row5 col7\" >0.51</td>\n",
       "            </tr>\n",
       "            <tr>\n",
       "                        <th id=\"T_4a03c_level0_row6\" class=\"row_heading level0 row6\" >2019</th>\n",
       "                        <td id=\"T_4a03c_row6_col0\" class=\"data row6 col0\" >59.00</td>\n",
       "                        <td id=\"T_4a03c_row6_col1\" class=\"data row6 col1\" >140,034,247.93</td>\n",
       "                        <td id=\"T_4a03c_row6_col2\" class=\"data row6 col2\" >69.00</td>\n",
       "                        <td id=\"T_4a03c_row6_col3\" class=\"data row6 col3\" >181,780,675.49</td>\n",
       "                        <td id=\"T_4a03c_row6_col4\" class=\"data row6 col4\" >66.00</td>\n",
       "                        <td id=\"T_4a03c_row6_col5\" class=\"data row6 col5\" >6.18</td>\n",
       "                        <td id=\"T_4a03c_row6_col6\" class=\"data row6 col6\" >69.00</td>\n",
       "                        <td id=\"T_4a03c_row6_col7\" class=\"data row6 col7\" >0.50</td>\n",
       "            </tr>\n",
       "    </tbody></table>"
      ],
      "text/plain": [
       "<pandas.io.formats.style.Styler at 0x7fdec4f06ee0>"
      ]
     },
     "execution_count": 64,
     "metadata": {},
     "output_type": "execute_result"
    }
   ],
   "source": [
    "#сборы по годам у фильмов с гос.подддержкой\n",
    "data_support_year = data_support.pivot_table(index='year_exposition',\n",
    "                                             values=('box_office', 'budget','support_percent','ratings'),\n",
    "                                            aggfunc=('count', 'mean')).style.format('{:,.2f}')\n",
    "data_support_year"
   ]
  },
  {
   "cell_type": "markdown",
   "metadata": {},
   "source": [
    "Самые высокие средние сборы фильмы с государственной поддержкой получили в 2017 году, хотя средний процент гос. поддержки не самый большой. Больше всего фильмов вышло в 2019 году, и в среднем они не окупились в прокате."
   ]
  },
  {
   "cell_type": "code",
   "execution_count": 65,
   "metadata": {},
   "outputs": [
    {
     "data": {
      "text/html": [
       "<style  type=\"text/css\" >\n",
       "</style><table id=\"T_97719_\" ><thead>    <tr>        <th class=\"blank level0\" ></th>        <th class=\"col_heading level0 col0\" colspan=\"3\">box_office</th>        <th class=\"col_heading level0 col3\" colspan=\"3\">budget</th>        <th class=\"col_heading level0 col6\" colspan=\"3\">ratings</th>        <th class=\"col_heading level0 col9\" colspan=\"3\">support_percent</th>    </tr>    <tr>        <th class=\"blank level1\" ></th>        <th class=\"col_heading level1 col0\" >count</th>        <th class=\"col_heading level1 col1\" >mean</th>        <th class=\"col_heading level1 col2\" >sum</th>        <th class=\"col_heading level1 col3\" >count</th>        <th class=\"col_heading level1 col4\" >mean</th>        <th class=\"col_heading level1 col5\" >sum</th>        <th class=\"col_heading level1 col6\" >count</th>        <th class=\"col_heading level1 col7\" >mean</th>        <th class=\"col_heading level1 col8\" >sum</th>        <th class=\"col_heading level1 col9\" >count</th>        <th class=\"col_heading level1 col10\" >mean</th>        <th class=\"col_heading level1 col11\" >sum</th>    </tr>    <tr>        <th class=\"index_name level0\" >type</th>        <th class=\"blank\" ></th>        <th class=\"blank\" ></th>        <th class=\"blank\" ></th>        <th class=\"blank\" ></th>        <th class=\"blank\" ></th>        <th class=\"blank\" ></th>        <th class=\"blank\" ></th>        <th class=\"blank\" ></th>        <th class=\"blank\" ></th>        <th class=\"blank\" ></th>        <th class=\"blank\" ></th>        <th class=\"blank\" ></th>    </tr></thead><tbody>\n",
       "                <tr>\n",
       "                        <th id=\"T_97719_level0_row0\" class=\"row_heading level0 row0\" >Анимационный</th>\n",
       "                        <td id=\"T_97719_row0_col0\" class=\"data row0 col0\" >24.00</td>\n",
       "                        <td id=\"T_97719_row0_col1\" class=\"data row0 col1\" >210,203,142.80</td>\n",
       "                        <td id=\"T_97719_row0_col2\" class=\"data row0 col2\" >5,044,875,427.30</td>\n",
       "                        <td id=\"T_97719_row0_col3\" class=\"data row0 col3\" >25.00</td>\n",
       "                        <td id=\"T_97719_row0_col4\" class=\"data row0 col4\" >209,618,176.68</td>\n",
       "                        <td id=\"T_97719_row0_col5\" class=\"data row0 col5\" >5,240,454,417.00</td>\n",
       "                        <td id=\"T_97719_row0_col6\" class=\"data row0 col6\" >25.00</td>\n",
       "                        <td id=\"T_97719_row0_col7\" class=\"data row0 col7\" >5.85</td>\n",
       "                        <td id=\"T_97719_row0_col8\" class=\"data row0 col8\" >146.30</td>\n",
       "                        <td id=\"T_97719_row0_col9\" class=\"data row0 col9\" >25.00</td>\n",
       "                        <td id=\"T_97719_row0_col10\" class=\"data row0 col10\" >0.39</td>\n",
       "                        <td id=\"T_97719_row0_col11\" class=\"data row0 col11\" >9.76</td>\n",
       "            </tr>\n",
       "            <tr>\n",
       "                        <th id=\"T_97719_level0_row1\" class=\"row_heading level0 row1\" >Документальный</th>\n",
       "                        <td id=\"T_97719_row1_col0\" class=\"data row1 col0\" >0.00</td>\n",
       "                        <td id=\"T_97719_row1_col1\" class=\"data row1 col1\" >nan</td>\n",
       "                        <td id=\"T_97719_row1_col2\" class=\"data row1 col2\" >0.00</td>\n",
       "                        <td id=\"T_97719_row1_col3\" class=\"data row1 col3\" >1.00</td>\n",
       "                        <td id=\"T_97719_row1_col4\" class=\"data row1 col4\" >33,000,000.00</td>\n",
       "                        <td id=\"T_97719_row1_col5\" class=\"data row1 col5\" >33,000,000.00</td>\n",
       "                        <td id=\"T_97719_row1_col6\" class=\"data row1 col6\" >1.00</td>\n",
       "                        <td id=\"T_97719_row1_col7\" class=\"data row1 col7\" >8.00</td>\n",
       "                        <td id=\"T_97719_row1_col8\" class=\"data row1 col8\" >8.00</td>\n",
       "                        <td id=\"T_97719_row1_col9\" class=\"data row1 col9\" >1.00</td>\n",
       "                        <td id=\"T_97719_row1_col10\" class=\"data row1 col10\" >0.09</td>\n",
       "                        <td id=\"T_97719_row1_col11\" class=\"data row1 col11\" >0.09</td>\n",
       "            </tr>\n",
       "            <tr>\n",
       "                        <th id=\"T_97719_level0_row2\" class=\"row_heading level0 row2\" >Художественный</th>\n",
       "                        <td id=\"T_97719_row2_col0\" class=\"data row2 col0\" >271.00</td>\n",
       "                        <td id=\"T_97719_row2_col1\" class=\"data row2 col1\" >126,546,653.22</td>\n",
       "                        <td id=\"T_97719_row2_col2\" class=\"data row2 col2\" >34,294,143,022.25</td>\n",
       "                        <td id=\"T_97719_row2_col3\" class=\"data row2 col3\" >283.00</td>\n",
       "                        <td id=\"T_97719_row2_col4\" class=\"data row2 col4\" >129,445,307.05</td>\n",
       "                        <td id=\"T_97719_row2_col5\" class=\"data row2 col5\" >36,633,021,894.00</td>\n",
       "                        <td id=\"T_97719_row2_col6\" class=\"data row2 col6\" >268.00</td>\n",
       "                        <td id=\"T_97719_row2_col7\" class=\"data row2 col7\" >6.02</td>\n",
       "                        <td id=\"T_97719_row2_col8\" class=\"data row2 col8\" >1,614.10</td>\n",
       "                        <td id=\"T_97719_row2_col9\" class=\"data row2 col9\" >283.00</td>\n",
       "                        <td id=\"T_97719_row2_col10\" class=\"data row2 col10\" >0.53</td>\n",
       "                        <td id=\"T_97719_row2_col11\" class=\"data row2 col11\" >150.49</td>\n",
       "            </tr>\n",
       "    </tbody></table>"
      ],
      "text/plain": [
       "<pandas.io.formats.style.Styler at 0x7fdec4ca5640>"
      ]
     },
     "execution_count": 65,
     "metadata": {},
     "output_type": "execute_result"
    }
   ],
   "source": [
    "#сборы по типам\n",
    "data_support_type = data_support.pivot_table(index='type',\n",
    "                                            values=('box_office', 'budget', 'support_percent', 'ratings'),\n",
    "                                            aggfunc=('count', 'mean','sum')).style.format('{:,.2f}')\n",
    "data_support_type"
   ]
  },
  {
   "cell_type": "markdown",
   "metadata": {},
   "source": [
    "В среднем больше всего поддержки оказывается художественным фильмам, их и выпускают больше всего. ОДнако средний рейтинг выше всего у документальных фильмов (1 фильма). Из-за большой разницы в количестве, сложно судить насколько это реальные цифры."
   ]
  },
  {
   "cell_type": "code",
   "execution_count": 66,
   "metadata": {},
   "outputs": [
    {
     "data": {
      "text/html": [
       "<style  type=\"text/css\" >\n",
       "</style><table id=\"T_a106b_\" ><thead>    <tr>        <th class=\"blank level0\" ></th>        <th class=\"col_heading level0 col0\" colspan=\"2\">box_office</th>        <th class=\"col_heading level0 col2\" colspan=\"2\">budget</th>        <th class=\"col_heading level0 col4\" colspan=\"2\">nonrefundable_support</th>        <th class=\"col_heading level0 col6\" colspan=\"2\">refundable_support</th>    </tr>    <tr>        <th class=\"blank level1\" ></th>        <th class=\"col_heading level1 col0\" >count</th>        <th class=\"col_heading level1 col1\" >sum</th>        <th class=\"col_heading level1 col2\" >count</th>        <th class=\"col_heading level1 col3\" >sum</th>        <th class=\"col_heading level1 col4\" >count</th>        <th class=\"col_heading level1 col5\" >sum</th>        <th class=\"col_heading level1 col6\" >count</th>        <th class=\"col_heading level1 col7\" >sum</th>    </tr>    <tr>        <th class=\"index_name level0\" >age_restriction</th>        <th class=\"blank\" ></th>        <th class=\"blank\" ></th>        <th class=\"blank\" ></th>        <th class=\"blank\" ></th>        <th class=\"blank\" ></th>        <th class=\"blank\" ></th>        <th class=\"blank\" ></th>        <th class=\"blank\" ></th>    </tr></thead><tbody>\n",
       "                <tr>\n",
       "                        <th id=\"T_a106b_level0_row0\" class=\"row_heading level0 row0\" >«0+» - для любой зрительской аудитории</th>\n",
       "                        <td id=\"T_a106b_row0_col0\" class=\"data row0 col0\" >5.00</td>\n",
       "                        <td id=\"T_a106b_row0_col1\" class=\"data row0 col1\" >552,932,752.50</td>\n",
       "                        <td id=\"T_a106b_row0_col2\" class=\"data row0 col2\" >8.00</td>\n",
       "                        <td id=\"T_a106b_row0_col3\" class=\"data row0 col3\" >902,984,585.00</td>\n",
       "                        <td id=\"T_a106b_row0_col4\" class=\"data row0 col4\" >8.00</td>\n",
       "                        <td id=\"T_a106b_row0_col5\" class=\"data row0 col5\" >228,520,000.00</td>\n",
       "                        <td id=\"T_a106b_row0_col6\" class=\"data row0 col6\" >8.00</td>\n",
       "                        <td id=\"T_a106b_row0_col7\" class=\"data row0 col7\" >45,000,000.00</td>\n",
       "            </tr>\n",
       "            <tr>\n",
       "                        <th id=\"T_a106b_level0_row1\" class=\"row_heading level0 row1\" >«12+» - для детей старше 12 лет</th>\n",
       "                        <td id=\"T_a106b_row1_col0\" class=\"data row1 col0\" >94.00</td>\n",
       "                        <td id=\"T_a106b_row1_col1\" class=\"data row1 col1\" >18,707,694,897.11</td>\n",
       "                        <td id=\"T_a106b_row1_col2\" class=\"data row1 col2\" >100.00</td>\n",
       "                        <td id=\"T_a106b_row1_col3\" class=\"data row1 col3\" >15,063,441,611.00</td>\n",
       "                        <td id=\"T_a106b_row1_col4\" class=\"data row1 col4\" >100.00</td>\n",
       "                        <td id=\"T_a106b_row1_col5\" class=\"data row1 col5\" >5,818,494,165.00</td>\n",
       "                        <td id=\"T_a106b_row1_col6\" class=\"data row1 col6\" >100.00</td>\n",
       "                        <td id=\"T_a106b_row1_col7\" class=\"data row1 col7\" >1,557,500,000.00</td>\n",
       "            </tr>\n",
       "            <tr>\n",
       "                        <th id=\"T_a106b_level0_row2\" class=\"row_heading level0 row2\" >«16+» - для детей старше 16 лет</th>\n",
       "                        <td id=\"T_a106b_row2_col0\" class=\"data row2 col0\" >112.00</td>\n",
       "                        <td id=\"T_a106b_row2_col1\" class=\"data row2 col1\" >6,714,959,580.80</td>\n",
       "                        <td id=\"T_a106b_row2_col2\" class=\"data row2 col2\" >117.00</td>\n",
       "                        <td id=\"T_a106b_row2_col3\" class=\"data row2 col3\" >11,499,129,472.00</td>\n",
       "                        <td id=\"T_a106b_row2_col4\" class=\"data row2 col4\" >117.00</td>\n",
       "                        <td id=\"T_a106b_row2_col5\" class=\"data row2 col5\" >4,485,200,200.00</td>\n",
       "                        <td id=\"T_a106b_row2_col6\" class=\"data row2 col6\" >117.00</td>\n",
       "                        <td id=\"T_a106b_row2_col7\" class=\"data row2 col7\" >751,153,119.00</td>\n",
       "            </tr>\n",
       "            <tr>\n",
       "                        <th id=\"T_a106b_level0_row3\" class=\"row_heading level0 row3\" >«18+» - запрещено для детей</th>\n",
       "                        <td id=\"T_a106b_row3_col0\" class=\"data row3 col0\" >26.00</td>\n",
       "                        <td id=\"T_a106b_row3_col1\" class=\"data row3 col1\" >558,191,991.64</td>\n",
       "                        <td id=\"T_a106b_row3_col2\" class=\"data row3 col2\" >26.00</td>\n",
       "                        <td id=\"T_a106b_row3_col3\" class=\"data row3 col3\" >2,160,014,389.00</td>\n",
       "                        <td id=\"T_a106b_row3_col4\" class=\"data row3 col4\" >26.00</td>\n",
       "                        <td id=\"T_a106b_row3_col5\" class=\"data row3 col5\" >896,000,000.00</td>\n",
       "                        <td id=\"T_a106b_row3_col6\" class=\"data row3 col6\" >26.00</td>\n",
       "                        <td id=\"T_a106b_row3_col7\" class=\"data row3 col7\" >7,346,881.00</td>\n",
       "            </tr>\n",
       "            <tr>\n",
       "                        <th id=\"T_a106b_level0_row4\" class=\"row_heading level0 row4\" >«6+» - для детей старше 6 лет</th>\n",
       "                        <td id=\"T_a106b_row4_col0\" class=\"data row4 col0\" >58.00</td>\n",
       "                        <td id=\"T_a106b_row4_col1\" class=\"data row4 col1\" >12,805,239,227.50</td>\n",
       "                        <td id=\"T_a106b_row4_col2\" class=\"data row4 col2\" >58.00</td>\n",
       "                        <td id=\"T_a106b_row4_col3\" class=\"data row4 col3\" >12,280,906,254.00</td>\n",
       "                        <td id=\"T_a106b_row4_col4\" class=\"data row4 col4\" >58.00</td>\n",
       "                        <td id=\"T_a106b_row4_col5\" class=\"data row4 col5\" >3,598,404,482.00</td>\n",
       "                        <td id=\"T_a106b_row4_col6\" class=\"data row4 col6\" >58.00</td>\n",
       "                        <td id=\"T_a106b_row4_col7\" class=\"data row4 col7\" >1,269,000,000.00</td>\n",
       "            </tr>\n",
       "    </tbody></table>"
      ],
      "text/plain": [
       "<pandas.io.formats.style.Styler at 0x7fdec415faf0>"
      ]
     },
     "execution_count": 66,
     "metadata": {},
     "output_type": "execute_result"
    }
   ],
   "source": [
    "#сборы по возрастной аудитории\n",
    "data_support_age = data_support.pivot_table(index='age_restriction',\n",
    "                                           values=('budget', 'box_office', 'refundable_support', 'nonrefundable_support'),\n",
    "                                           aggfunc=('count', 'sum')).style.format('{:,.2f}')\n",
    "data_support_age"
   ]
  },
  {
   "cell_type": "code",
   "execution_count": 67,
   "metadata": {},
   "outputs": [
    {
     "data": {
      "text/plain": [
       "-0.12232325287902085"
      ]
     },
     "execution_count": 67,
     "metadata": {},
     "output_type": "execute_result"
    }
   ],
   "source": [
    "data_support['box_office'].corr(data_support['support_percent'])"
   ]
  },
  {
   "cell_type": "markdown",
   "metadata": {},
   "source": [
    "У нас есть не такая высокая, но все же отрицательная корреляция между сборами и процентом государственной поддержки."
   ]
  },
  {
   "cell_type": "markdown",
   "metadata": {
    "id": "V2gYwMcPgFyd"
   },
   "source": [
    "### Шаг 5. Напишите общий вывод"
   ]
  },
  {
   "cell_type": "markdown",
   "metadata": {},
   "source": [
    "Мы проанализировали два датафрема с информацией о фильмах, имеющих прокатное удостоверение.\n",
    "В процессе работы с данными была выявлена проблема в их формате. Количественные значение в столбце `ratings` была записана по разному (в разных шкалах), однако значчений в процентах было не так много, поэтому решено было от них избавиться. С категориальными значениями та же проблема, различное написание одних и тех же студий, стран-производителей и имен режиссеров. Скорее всего, такие данные заполнялись вручную, исправить эту проблему можно предложив выбор из определенного списка (и внесением новых наименований туда, если они появляются). Помимо этого, указано, что данные в столбце `budget` указываются в рублях, но для других столбцов, связанных с финансами таких данных нет, поэтому сложно понять, аномальные это значения или действительно большие (пусть и редкие) суммы.\n",
    "\n",
    "**Выводы**\n",
    "\n",
    "Больше всего прокатных удостовенений было выдано в 2019 году, меньше всего в 2017. Важно, что до 2015 года у нас очень мало данных о сборах фильмов в кинотеатрах.\n",
    "\n",
    "Самые высокие сборы у фильмов были в 2018 году, однако самые высокие средние сборы были у фильмов в 2017 году. Это можно объяснить большим количеством фильмов из известных франшиз, которые стабильно собирают неплохую кассу.\n",
    "\n",
    "Возрастные ограничения частично влияют на сборы фильма. Можно отметить, что фильмы с возрастным ограничением в 18+ стабильно собирают самую меньшую кассу, однако это не подтверждает того, что сборы зависят только от возрастного ограничения. Самые большие сборы у фильмов 12+ и 16+, но фильмов с рейтингом 16+ в целом больше выходит в прокат. Корреляции с годом нет.\n",
    "Возможно, в момент введения ного закона о возрастных ограничениях (в 2012 году в России), данные бы изменились, но у нас недостаточно данных о кассовых сборах в этот период.\n",
    "\n",
    "**Фильмы с государственной поддержкой**\n",
    "Финансы выделяют всего две организации: Фонд кино и Министерство Культуры. Министерство культуры выделяет деньги только на безвозвратной основе. Фонд кино выделил большее количество финансов в бюджет российского кино. Процент поддержки в среднем варьируется от 30% до 60%. Меньше всего поддерживаются биографические фильмы.\n",
    "\n",
    "Больше всего в России снимают драм, комедий и мультфильмов.\n",
    "\n",
    "Самые высокие средние сборы у фильмов с государственной поддержкой были также в 2017 году, но в 2019 средний бюдждет превысил средние сборы. Возможно, у нас не так много данных о кассовых сборах.\n",
    "\n",
    "В среднем больше всего поддержки оказывается художественным фильмам.\n",
    "\n",
    "Больше всего выпускается фильмов с возрастным ограничением в 16+, сложно судить, насколько они окупаются, потому что количество данных о сборах фильмов меньше, чем количество данных о бюджете.\n",
    "\n",
    "Большая часть фильмов имеют средний рейтинг (ниже 8), всего 4 фильма имеют высокий рейтинг, и "
   ]
  }
 ],
 "metadata": {
  "ExecuteTimeLog": [
   {
    "duration": 537,
    "start_time": "2021-07-07T10:12:08.634Z"
   },
   {
    "duration": 206,
    "start_time": "2021-07-07T10:12:30.191Z"
   },
   {
    "duration": 227,
    "start_time": "2021-07-07T10:12:33.078Z"
   },
   {
    "duration": 153,
    "start_time": "2021-07-07T10:13:42.146Z"
   },
   {
    "duration": 233,
    "start_time": "2021-07-07T10:30:09.252Z"
   },
   {
    "duration": 19,
    "start_time": "2021-07-07T10:30:15.577Z"
   },
   {
    "duration": 18,
    "start_time": "2021-07-07T10:30:57.348Z"
   },
   {
    "duration": 19,
    "start_time": "2021-07-07T10:31:17.452Z"
   },
   {
    "duration": 21,
    "start_time": "2021-07-07T10:31:32.227Z"
   },
   {
    "duration": 27,
    "start_time": "2021-07-07T10:32:06.588Z"
   },
   {
    "duration": 23,
    "start_time": "2021-07-07T10:32:43.645Z"
   },
   {
    "duration": 24,
    "start_time": "2021-07-07T10:33:06.948Z"
   },
   {
    "duration": 7,
    "start_time": "2021-07-07T10:33:28.558Z"
   },
   {
    "duration": 23,
    "start_time": "2021-07-07T10:33:43.761Z"
   },
   {
    "duration": 28,
    "start_time": "2021-07-07T10:34:13.466Z"
   },
   {
    "duration": 23,
    "start_time": "2021-07-07T10:35:56.187Z"
   },
   {
    "duration": 6,
    "start_time": "2021-07-07T10:36:48.182Z"
   },
   {
    "duration": 14,
    "start_time": "2021-07-07T10:37:49.641Z"
   },
   {
    "duration": 6,
    "start_time": "2021-07-07T10:38:06.694Z"
   },
   {
    "duration": 6,
    "start_time": "2021-07-07T10:38:13.493Z"
   },
   {
    "duration": 19,
    "start_time": "2021-07-07T10:38:44.056Z"
   },
   {
    "duration": 186,
    "start_time": "2021-07-07T10:48:35.618Z"
   },
   {
    "duration": 24,
    "start_time": "2021-07-07T10:48:51.498Z"
   },
   {
    "duration": 20,
    "start_time": "2021-07-07T10:48:59.415Z"
   },
   {
    "duration": 20,
    "start_time": "2021-07-07T10:53:02.195Z"
   },
   {
    "duration": 188,
    "start_time": "2021-07-07T10:54:40.486Z"
   },
   {
    "duration": 115,
    "start_time": "2021-07-07T10:54:52.552Z"
   },
   {
    "duration": 214,
    "start_time": "2021-07-07T10:54:56.354Z"
   },
   {
    "duration": 47,
    "start_time": "2021-07-07T10:54:58.282Z"
   },
   {
    "duration": 217,
    "start_time": "2021-07-07T10:59:16.075Z"
   },
   {
    "duration": 51,
    "start_time": "2021-07-07T10:59:16.243Z"
   },
   {
    "duration": 578,
    "start_time": "2021-07-07T10:59:18.774Z"
   },
   {
    "duration": 161,
    "start_time": "2021-07-07T10:59:21.238Z"
   },
   {
    "duration": 59,
    "start_time": "2021-07-07T10:59:21.453Z"
   },
   {
    "duration": 3,
    "start_time": "2021-07-07T11:02:10.786Z"
   },
   {
    "duration": 13,
    "start_time": "2021-07-07T11:07:07.722Z"
   },
   {
    "duration": 26,
    "start_time": "2021-07-07T11:07:17.958Z"
   },
   {
    "duration": 22,
    "start_time": "2021-07-07T11:08:17.939Z"
   },
   {
    "duration": 212,
    "start_time": "2021-07-07T11:08:19.665Z"
   },
   {
    "duration": 21,
    "start_time": "2021-07-07T11:08:29.945Z"
   },
   {
    "duration": 31,
    "start_time": "2021-07-07T11:08:38.899Z"
   },
   {
    "duration": 23,
    "start_time": "2021-07-07T11:08:54.527Z"
   },
   {
    "duration": 8,
    "start_time": "2021-07-07T11:18:55.974Z"
   },
   {
    "duration": 7,
    "start_time": "2021-07-07T11:19:03.639Z"
   },
   {
    "duration": 7,
    "start_time": "2021-07-07T11:19:06.444Z"
   },
   {
    "duration": 578,
    "start_time": "2021-07-07T12:09:59.576Z"
   },
   {
    "duration": 195,
    "start_time": "2021-07-07T12:10:00.156Z"
   },
   {
    "duration": 115,
    "start_time": "2021-07-07T12:10:00.353Z"
   },
   {
    "duration": 3,
    "start_time": "2021-07-07T12:10:00.470Z"
   },
   {
    "duration": 32,
    "start_time": "2021-07-07T12:10:00.474Z"
   },
   {
    "duration": 23,
    "start_time": "2021-07-07T12:10:00.508Z"
   },
   {
    "duration": 19,
    "start_time": "2021-07-07T12:10:00.533Z"
   },
   {
    "duration": 44,
    "start_time": "2021-07-07T12:10:00.553Z"
   },
   {
    "duration": 7,
    "start_time": "2021-07-07T12:10:00.600Z"
   },
   {
    "duration": 7,
    "start_time": "2021-07-07T12:19:45.761Z"
   },
   {
    "duration": 21,
    "start_time": "2021-07-07T12:21:35.482Z"
   },
   {
    "duration": 21,
    "start_time": "2021-07-07T12:29:23.569Z"
   },
   {
    "duration": 525,
    "start_time": "2021-07-07T12:29:44.542Z"
   },
   {
    "duration": 214,
    "start_time": "2021-07-07T12:29:45.069Z"
   },
   {
    "duration": 92,
    "start_time": "2021-07-07T12:29:45.285Z"
   },
   {
    "duration": 3,
    "start_time": "2021-07-07T12:29:45.379Z"
   },
   {
    "duration": 28,
    "start_time": "2021-07-07T12:29:45.384Z"
   },
   {
    "duration": 23,
    "start_time": "2021-07-07T12:29:45.413Z"
   },
   {
    "duration": 21,
    "start_time": "2021-07-07T12:29:45.437Z"
   },
   {
    "duration": 41,
    "start_time": "2021-07-07T12:29:45.460Z"
   },
   {
    "duration": 7,
    "start_time": "2021-07-07T12:29:45.502Z"
   },
   {
    "duration": 20,
    "start_time": "2021-07-07T12:29:45.511Z"
   },
   {
    "duration": 12,
    "start_time": "2021-07-07T12:34:02.800Z"
   },
   {
    "duration": 7,
    "start_time": "2021-07-07T12:35:10.479Z"
   },
   {
    "duration": 8,
    "start_time": "2021-07-07T12:35:22.440Z"
   },
   {
    "duration": 6,
    "start_time": "2021-07-07T12:35:35.649Z"
   },
   {
    "duration": 6,
    "start_time": "2021-07-07T12:35:43.107Z"
   },
   {
    "duration": 22,
    "start_time": "2021-07-07T12:38:03.029Z"
   },
   {
    "duration": 10,
    "start_time": "2021-07-07T12:38:06.592Z"
   },
   {
    "duration": 563,
    "start_time": "2021-07-07T12:38:46.493Z"
   },
   {
    "duration": 265,
    "start_time": "2021-07-07T12:38:47.058Z"
   },
   {
    "duration": 94,
    "start_time": "2021-07-07T12:38:47.325Z"
   },
   {
    "duration": 3,
    "start_time": "2021-07-07T12:38:47.422Z"
   },
   {
    "duration": 30,
    "start_time": "2021-07-07T12:38:47.427Z"
   },
   {
    "duration": 16,
    "start_time": "2021-07-07T12:38:53.305Z"
   },
   {
    "duration": 10,
    "start_time": "2021-07-07T12:38:53.499Z"
   },
   {
    "duration": 8,
    "start_time": "2021-07-07T12:39:48.161Z"
   },
   {
    "duration": 27,
    "start_time": "2021-07-07T12:41:17.629Z"
   },
   {
    "duration": 17,
    "start_time": "2021-07-07T12:41:17.867Z"
   },
   {
    "duration": 21,
    "start_time": "2021-07-07T12:41:19.310Z"
   },
   {
    "duration": 7,
    "start_time": "2021-07-07T12:41:19.544Z"
   },
   {
    "duration": 20,
    "start_time": "2021-07-07T12:41:20.504Z"
   },
   {
    "duration": 554,
    "start_time": "2021-07-07T12:56:23.696Z"
   },
   {
    "duration": 200,
    "start_time": "2021-07-07T12:56:25.234Z"
   },
   {
    "duration": 119,
    "start_time": "2021-07-07T12:56:25.480Z"
   },
   {
    "duration": 4,
    "start_time": "2021-07-07T12:56:25.762Z"
   },
   {
    "duration": 26,
    "start_time": "2021-07-07T12:56:27.172Z"
   },
   {
    "duration": 12,
    "start_time": "2021-07-07T12:56:29.051Z"
   },
   {
    "duration": 10,
    "start_time": "2021-07-07T12:56:29.291Z"
   },
   {
    "duration": 8,
    "start_time": "2021-07-07T12:56:29.623Z"
   },
   {
    "duration": 28,
    "start_time": "2021-07-07T12:56:32.137Z"
   },
   {
    "duration": 19,
    "start_time": "2021-07-07T12:56:39.785Z"
   },
   {
    "duration": 20,
    "start_time": "2021-07-07T12:56:44.297Z"
   },
   {
    "duration": 7,
    "start_time": "2021-07-07T12:56:45.392Z"
   },
   {
    "duration": 23,
    "start_time": "2021-07-07T12:56:46.615Z"
   },
   {
    "duration": 4,
    "start_time": "2021-07-07T12:57:06.625Z"
   },
   {
    "duration": 32,
    "start_time": "2021-07-07T12:57:36.690Z"
   },
   {
    "duration": 18,
    "start_time": "2021-07-07T12:58:00.149Z"
   },
   {
    "duration": 15,
    "start_time": "2021-07-07T12:59:16.793Z"
   },
   {
    "duration": 7,
    "start_time": "2021-07-07T13:19:22.624Z"
   },
   {
    "duration": 6,
    "start_time": "2021-07-07T14:17:33.527Z"
   },
   {
    "duration": 9,
    "start_time": "2021-07-07T14:17:48.409Z"
   },
   {
    "duration": 8,
    "start_time": "2021-07-07T14:20:13.060Z"
   },
   {
    "duration": 8,
    "start_time": "2021-07-07T14:20:37.957Z"
   },
   {
    "duration": 8,
    "start_time": "2021-07-07T14:20:47.470Z"
   },
   {
    "duration": 9,
    "start_time": "2021-07-07T14:20:54.503Z"
   },
   {
    "duration": 10,
    "start_time": "2021-07-07T14:28:57.763Z"
   },
   {
    "duration": 3,
    "start_time": "2021-07-07T14:30:23.377Z"
   },
   {
    "duration": 3,
    "start_time": "2021-07-07T14:30:36.489Z"
   },
   {
    "duration": 103,
    "start_time": "2021-07-07T14:30:52.351Z"
   },
   {
    "duration": 8,
    "start_time": "2021-07-07T14:30:54.763Z"
   },
   {
    "duration": 8,
    "start_time": "2021-07-07T14:31:29.301Z"
   },
   {
    "duration": 13,
    "start_time": "2021-07-07T14:31:44.516Z"
   },
   {
    "duration": 7,
    "start_time": "2021-07-07T14:33:10.972Z"
   },
   {
    "duration": 11,
    "start_time": "2021-07-07T14:33:27.780Z"
   },
   {
    "duration": 8,
    "start_time": "2021-07-07T14:34:44.588Z"
   },
   {
    "duration": 57,
    "start_time": "2021-07-07T14:35:59.042Z"
   },
   {
    "duration": 3,
    "start_time": "2021-07-07T14:36:28.168Z"
   },
   {
    "duration": 5,
    "start_time": "2021-07-07T14:36:46.254Z"
   },
   {
    "duration": 4,
    "start_time": "2021-07-07T14:36:52.714Z"
   },
   {
    "duration": 3,
    "start_time": "2021-07-07T14:36:56.612Z"
   },
   {
    "duration": 4,
    "start_time": "2021-07-07T14:36:57.049Z"
   },
   {
    "duration": 3,
    "start_time": "2021-07-07T14:39:21.214Z"
   },
   {
    "duration": 7,
    "start_time": "2021-07-07T14:39:52.406Z"
   },
   {
    "duration": 11,
    "start_time": "2021-07-07T14:39:58.576Z"
   },
   {
    "duration": 9,
    "start_time": "2021-07-07T14:40:26.301Z"
   },
   {
    "duration": 10,
    "start_time": "2021-07-07T14:40:31.704Z"
   },
   {
    "duration": 11,
    "start_time": "2021-07-07T14:40:36.249Z"
   },
   {
    "duration": 10,
    "start_time": "2021-07-07T14:40:39.783Z"
   },
   {
    "duration": 9,
    "start_time": "2021-07-07T14:40:48.558Z"
   },
   {
    "duration": 10,
    "start_time": "2021-07-07T14:40:57.143Z"
   },
   {
    "duration": 9,
    "start_time": "2021-07-07T14:41:06.074Z"
   },
   {
    "duration": 4324,
    "start_time": "2021-07-07T14:41:22.004Z"
   },
   {
    "duration": 11,
    "start_time": "2021-07-07T14:41:33.392Z"
   },
   {
    "duration": 9,
    "start_time": "2021-07-07T14:41:39.288Z"
   },
   {
    "duration": 569,
    "start_time": "2021-07-07T14:42:14.387Z"
   },
   {
    "duration": 197,
    "start_time": "2021-07-07T14:42:14.959Z"
   },
   {
    "duration": 84,
    "start_time": "2021-07-07T14:42:16.052Z"
   },
   {
    "duration": 4,
    "start_time": "2021-07-07T14:42:16.900Z"
   },
   {
    "duration": 27,
    "start_time": "2021-07-07T14:42:19.898Z"
   },
   {
    "duration": 12,
    "start_time": "2021-07-07T14:42:21.577Z"
   },
   {
    "duration": 9,
    "start_time": "2021-07-07T14:42:21.813Z"
   },
   {
    "duration": 9,
    "start_time": "2021-07-07T14:42:22.569Z"
   },
   {
    "duration": 29,
    "start_time": "2021-07-07T14:42:25.837Z"
   },
   {
    "duration": 20,
    "start_time": "2021-07-07T14:42:27.003Z"
   },
   {
    "duration": 21,
    "start_time": "2021-07-07T14:42:28.767Z"
   },
   {
    "duration": 7,
    "start_time": "2021-07-07T14:42:29.838Z"
   },
   {
    "duration": 4,
    "start_time": "2021-07-07T14:43:25.493Z"
   },
   {
    "duration": 7,
    "start_time": "2021-07-07T14:43:26.573Z"
   },
   {
    "duration": 10,
    "start_time": "2021-07-07T14:43:31.639Z"
   },
   {
    "duration": 9,
    "start_time": "2021-07-07T14:43:32.046Z"
   },
   {
    "duration": 10,
    "start_time": "2021-07-07T14:43:33.301Z"
   },
   {
    "duration": 12,
    "start_time": "2021-07-07T14:43:33.658Z"
   },
   {
    "duration": 8,
    "start_time": "2021-07-07T14:43:34.552Z"
   },
   {
    "duration": 9,
    "start_time": "2021-07-07T14:43:35.058Z"
   },
   {
    "duration": 12,
    "start_time": "2021-07-07T14:43:35.914Z"
   },
   {
    "duration": 17,
    "start_time": "2021-07-07T14:45:34.368Z"
   },
   {
    "duration": 512,
    "start_time": "2021-07-07T14:51:58.236Z"
   },
   {
    "duration": 223,
    "start_time": "2021-07-07T14:51:58.750Z"
   },
   {
    "duration": 93,
    "start_time": "2021-07-07T14:51:58.977Z"
   },
   {
    "duration": 4,
    "start_time": "2021-07-07T14:51:59.071Z"
   },
   {
    "duration": 37,
    "start_time": "2021-07-07T14:51:59.077Z"
   },
   {
    "duration": 18,
    "start_time": "2021-07-07T14:51:59.116Z"
   },
   {
    "duration": 10,
    "start_time": "2021-07-07T14:51:59.137Z"
   },
   {
    "duration": 8,
    "start_time": "2021-07-07T14:51:59.149Z"
   },
   {
    "duration": 54,
    "start_time": "2021-07-07T14:51:59.158Z"
   },
   {
    "duration": 18,
    "start_time": "2021-07-07T14:51:59.213Z"
   },
   {
    "duration": 22,
    "start_time": "2021-07-07T14:51:59.232Z"
   },
   {
    "duration": 36,
    "start_time": "2021-07-07T14:51:59.255Z"
   },
   {
    "duration": 7,
    "start_time": "2021-07-07T14:51:59.293Z"
   },
   {
    "duration": 10,
    "start_time": "2021-07-07T14:51:59.302Z"
   },
   {
    "duration": 9,
    "start_time": "2021-07-07T14:51:59.313Z"
   },
   {
    "duration": 11,
    "start_time": "2021-07-07T14:51:59.324Z"
   },
   {
    "duration": 8,
    "start_time": "2021-07-07T14:51:59.337Z"
   },
   {
    "duration": 46,
    "start_time": "2021-07-07T14:51:59.347Z"
   },
   {
    "duration": 22,
    "start_time": "2021-07-07T14:51:59.395Z"
   },
   {
    "duration": 24,
    "start_time": "2021-07-07T14:57:32.911Z"
   },
   {
    "duration": 7,
    "start_time": "2021-07-07T14:58:22.070Z"
   },
   {
    "duration": 4,
    "start_time": "2021-07-07T14:59:11.239Z"
   },
   {
    "duration": 25,
    "start_time": "2021-07-07T15:07:22.208Z"
   },
   {
    "duration": 16,
    "start_time": "2021-07-07T15:08:25.560Z"
   },
   {
    "duration": 15,
    "start_time": "2021-07-07T15:08:40.647Z"
   },
   {
    "duration": 14,
    "start_time": "2021-07-07T15:08:46.669Z"
   },
   {
    "duration": 533,
    "start_time": "2021-07-07T15:18:07.440Z"
   },
   {
    "duration": 173,
    "start_time": "2021-07-07T15:18:07.974Z"
   },
   {
    "duration": 84,
    "start_time": "2021-07-07T15:18:08.149Z"
   },
   {
    "duration": 3,
    "start_time": "2021-07-07T15:18:08.235Z"
   },
   {
    "duration": 30,
    "start_time": "2021-07-07T15:18:08.240Z"
   },
   {
    "duration": 22,
    "start_time": "2021-07-07T15:18:08.272Z"
   },
   {
    "duration": 11,
    "start_time": "2021-07-07T15:18:08.295Z"
   },
   {
    "duration": 11,
    "start_time": "2021-07-07T15:18:08.309Z"
   },
   {
    "duration": 40,
    "start_time": "2021-07-07T15:18:08.322Z"
   },
   {
    "duration": 42,
    "start_time": "2021-07-07T15:18:08.364Z"
   },
   {
    "duration": 22,
    "start_time": "2021-07-07T15:18:08.408Z"
   },
   {
    "duration": 5,
    "start_time": "2021-07-07T15:18:08.432Z"
   },
   {
    "duration": 13,
    "start_time": "2021-07-07T15:18:08.439Z"
   },
   {
    "duration": 9,
    "start_time": "2021-07-07T15:18:08.454Z"
   },
   {
    "duration": 32,
    "start_time": "2021-07-07T15:18:08.465Z"
   },
   {
    "duration": 10,
    "start_time": "2021-07-07T15:18:08.501Z"
   },
   {
    "duration": 7,
    "start_time": "2021-07-07T15:18:08.513Z"
   },
   {
    "duration": 11,
    "start_time": "2021-07-07T15:18:08.521Z"
   },
   {
    "duration": 17,
    "start_time": "2021-07-07T15:18:08.534Z"
   },
   {
    "duration": 44,
    "start_time": "2021-07-07T15:18:08.553Z"
   },
   {
    "duration": 22,
    "start_time": "2021-07-07T15:18:08.599Z"
   },
   {
    "duration": 61,
    "start_time": "2021-07-07T15:18:08.622Z"
   },
   {
    "duration": 7,
    "start_time": "2021-07-07T15:18:39.457Z"
   },
   {
    "duration": 5,
    "start_time": "2021-07-07T16:05:17.020Z"
   },
   {
    "duration": 5,
    "start_time": "2021-07-07T16:51:28.794Z"
   },
   {
    "duration": 546,
    "start_time": "2021-07-07T16:52:26.306Z"
   },
   {
    "duration": 203,
    "start_time": "2021-07-07T16:52:27.523Z"
   },
   {
    "duration": 85,
    "start_time": "2021-07-07T16:52:27.736Z"
   },
   {
    "duration": 4,
    "start_time": "2021-07-07T16:52:27.899Z"
   },
   {
    "duration": 25,
    "start_time": "2021-07-07T16:52:28.674Z"
   },
   {
    "duration": 8,
    "start_time": "2021-07-07T16:52:32.956Z"
   },
   {
    "duration": 18,
    "start_time": "2021-07-07T16:52:35.616Z"
   },
   {
    "duration": 6,
    "start_time": "2021-07-07T16:52:36.913Z"
   },
   {
    "duration": 11,
    "start_time": "2021-07-07T16:52:40.258Z"
   },
   {
    "duration": 10,
    "start_time": "2021-07-07T16:52:46.251Z"
   },
   {
    "duration": 8,
    "start_time": "2021-07-07T16:52:47.182Z"
   },
   {
    "duration": 27,
    "start_time": "2021-07-07T16:53:20.391Z"
   },
   {
    "duration": 20,
    "start_time": "2021-07-07T16:53:22.022Z"
   },
   {
    "duration": 23,
    "start_time": "2021-07-07T16:53:23.690Z"
   },
   {
    "duration": 8,
    "start_time": "2021-07-07T16:53:24.261Z"
   },
   {
    "duration": 4,
    "start_time": "2021-07-07T16:53:38.733Z"
   },
   {
    "duration": 7,
    "start_time": "2021-07-07T16:53:40.445Z"
   },
   {
    "duration": 11,
    "start_time": "2021-07-07T16:53:41.348Z"
   },
   {
    "duration": 13,
    "start_time": "2021-07-07T16:53:45.250Z"
   },
   {
    "duration": 12,
    "start_time": "2021-07-07T16:53:45.467Z"
   },
   {
    "duration": 4,
    "start_time": "2021-07-07T16:55:32.704Z"
   },
   {
    "duration": 12,
    "start_time": "2021-07-07T16:55:49.012Z"
   },
   {
    "duration": 18,
    "start_time": "2021-07-07T16:55:49.547Z"
   },
   {
    "duration": 611,
    "start_time": "2021-07-07T16:58:35.156Z"
   },
   {
    "duration": 200,
    "start_time": "2021-07-07T16:58:35.770Z"
   },
   {
    "duration": 86,
    "start_time": "2021-07-07T16:58:35.972Z"
   },
   {
    "duration": 3,
    "start_time": "2021-07-07T16:58:36.060Z"
   },
   {
    "duration": 27,
    "start_time": "2021-07-07T16:58:36.065Z"
   },
   {
    "duration": 8,
    "start_time": "2021-07-07T16:58:36.094Z"
   },
   {
    "duration": 17,
    "start_time": "2021-07-07T16:58:36.103Z"
   },
   {
    "duration": 5,
    "start_time": "2021-07-07T16:58:36.123Z"
   },
   {
    "duration": 11,
    "start_time": "2021-07-07T16:58:36.130Z"
   },
   {
    "duration": 7,
    "start_time": "2021-07-07T16:58:36.143Z"
   },
   {
    "duration": 37,
    "start_time": "2021-07-07T16:58:36.152Z"
   },
   {
    "duration": 27,
    "start_time": "2021-07-07T16:58:36.191Z"
   },
   {
    "duration": 19,
    "start_time": "2021-07-07T16:58:36.219Z"
   },
   {
    "duration": 49,
    "start_time": "2021-07-07T16:58:36.240Z"
   },
   {
    "duration": 6,
    "start_time": "2021-07-07T16:58:36.291Z"
   },
   {
    "duration": 3,
    "start_time": "2021-07-07T16:58:36.299Z"
   },
   {
    "duration": 13,
    "start_time": "2021-07-07T16:58:36.304Z"
   },
   {
    "duration": 10,
    "start_time": "2021-07-07T16:58:36.319Z"
   },
   {
    "duration": 10,
    "start_time": "2021-07-07T16:58:36.331Z"
   },
   {
    "duration": 44,
    "start_time": "2021-07-07T16:58:36.343Z"
   },
   {
    "duration": 4,
    "start_time": "2021-07-07T16:58:36.388Z"
   },
   {
    "duration": 13,
    "start_time": "2021-07-07T16:58:36.394Z"
   },
   {
    "duration": 16,
    "start_time": "2021-07-07T16:58:36.410Z"
   },
   {
    "duration": 8,
    "start_time": "2021-07-07T17:02:31.629Z"
   },
   {
    "duration": 8,
    "start_time": "2021-07-07T17:02:34.308Z"
   },
   {
    "duration": 6,
    "start_time": "2021-07-07T17:05:13.483Z"
   },
   {
    "duration": 17,
    "start_time": "2021-07-07T17:05:20.606Z"
   },
   {
    "duration": 7,
    "start_time": "2021-07-07T17:05:34.638Z"
   },
   {
    "duration": 3,
    "start_time": "2021-07-07T17:06:31.883Z"
   },
   {
    "duration": 570,
    "start_time": "2021-07-07T17:06:37.165Z"
   },
   {
    "duration": 174,
    "start_time": "2021-07-07T17:06:37.737Z"
   },
   {
    "duration": 47,
    "start_time": "2021-07-07T17:06:37.913Z"
   },
   {
    "duration": 3,
    "start_time": "2021-07-07T17:06:37.962Z"
   },
   {
    "duration": 27,
    "start_time": "2021-07-07T17:06:37.967Z"
   },
   {
    "duration": 7,
    "start_time": "2021-07-07T17:06:37.996Z"
   },
   {
    "duration": 16,
    "start_time": "2021-07-07T17:06:38.005Z"
   },
   {
    "duration": 6,
    "start_time": "2021-07-07T17:06:38.024Z"
   },
   {
    "duration": 12,
    "start_time": "2021-07-07T17:06:38.031Z"
   },
   {
    "duration": 41,
    "start_time": "2021-07-07T17:06:38.045Z"
   },
   {
    "duration": 8,
    "start_time": "2021-07-07T17:06:38.088Z"
   },
   {
    "duration": 26,
    "start_time": "2021-07-07T17:06:38.098Z"
   },
   {
    "duration": 17,
    "start_time": "2021-07-07T17:06:38.126Z"
   },
   {
    "duration": 43,
    "start_time": "2021-07-07T17:06:38.144Z"
   },
   {
    "duration": 6,
    "start_time": "2021-07-07T17:06:38.188Z"
   },
   {
    "duration": 5,
    "start_time": "2021-07-07T17:06:38.195Z"
   },
   {
    "duration": 9,
    "start_time": "2021-07-07T17:06:38.201Z"
   },
   {
    "duration": 12,
    "start_time": "2021-07-07T17:06:38.212Z"
   },
   {
    "duration": 11,
    "start_time": "2021-07-07T17:06:38.226Z"
   },
   {
    "duration": 47,
    "start_time": "2021-07-07T17:06:38.239Z"
   },
   {
    "duration": 4,
    "start_time": "2021-07-07T17:06:38.288Z"
   },
   {
    "duration": 13,
    "start_time": "2021-07-07T17:06:38.293Z"
   },
   {
    "duration": 5,
    "start_time": "2021-07-07T17:06:38.309Z"
   },
   {
    "duration": 18,
    "start_time": "2021-07-07T17:06:38.325Z"
   },
   {
    "duration": 20,
    "start_time": "2021-07-07T17:07:02.805Z"
   },
   {
    "duration": 19,
    "start_time": "2021-07-07T17:07:08.527Z"
   },
   {
    "duration": 19,
    "start_time": "2021-07-07T17:07:12.758Z"
   },
   {
    "duration": 22,
    "start_time": "2021-07-07T17:07:17.497Z"
   },
   {
    "duration": 19,
    "start_time": "2021-07-07T17:07:19.645Z"
   },
   {
    "duration": 10,
    "start_time": "2021-07-07T17:07:34.239Z"
   },
   {
    "duration": 17,
    "start_time": "2021-07-07T17:07:54.144Z"
   },
   {
    "duration": 14,
    "start_time": "2021-07-07T17:08:14.357Z"
   },
   {
    "duration": 616,
    "start_time": "2021-07-07T17:08:45.254Z"
   },
   {
    "duration": 178,
    "start_time": "2021-07-07T17:08:45.872Z"
   },
   {
    "duration": 60,
    "start_time": "2021-07-07T17:08:46.054Z"
   },
   {
    "duration": 3,
    "start_time": "2021-07-07T17:08:46.116Z"
   },
   {
    "duration": 26,
    "start_time": "2021-07-07T17:08:46.121Z"
   },
   {
    "duration": 7,
    "start_time": "2021-07-07T17:08:46.149Z"
   },
   {
    "duration": 17,
    "start_time": "2021-07-07T17:08:46.158Z"
   },
   {
    "duration": 14,
    "start_time": "2021-07-07T17:08:46.176Z"
   },
   {
    "duration": 17,
    "start_time": "2021-07-07T17:08:46.193Z"
   },
   {
    "duration": 9,
    "start_time": "2021-07-07T17:08:46.211Z"
   },
   {
    "duration": 21,
    "start_time": "2021-07-07T17:08:46.221Z"
   },
   {
    "duration": 49,
    "start_time": "2021-07-07T17:08:46.244Z"
   },
   {
    "duration": 24,
    "start_time": "2021-07-07T17:08:46.295Z"
   },
   {
    "duration": 22,
    "start_time": "2021-07-07T17:08:46.321Z"
   },
   {
    "duration": 6,
    "start_time": "2021-07-07T17:08:46.345Z"
   },
   {
    "duration": 5,
    "start_time": "2021-07-07T17:08:46.353Z"
   },
   {
    "duration": 13,
    "start_time": "2021-07-07T17:08:46.386Z"
   },
   {
    "duration": 12,
    "start_time": "2021-07-07T17:08:46.402Z"
   },
   {
    "duration": 10,
    "start_time": "2021-07-07T17:08:46.415Z"
   },
   {
    "duration": 7,
    "start_time": "2021-07-07T17:08:46.427Z"
   },
   {
    "duration": 8,
    "start_time": "2021-07-07T17:08:46.435Z"
   },
   {
    "duration": 68,
    "start_time": "2021-07-07T17:08:46.446Z"
   },
   {
    "duration": 13,
    "start_time": "2021-07-07T17:08:46.516Z"
   },
   {
    "duration": 78,
    "start_time": "2021-07-07T17:08:46.530Z"
   },
   {
    "duration": 40,
    "start_time": "2021-07-07T17:09:08.185Z"
   },
   {
    "duration": 16,
    "start_time": "2021-07-07T17:09:19.324Z"
   },
   {
    "duration": 21,
    "start_time": "2021-07-07T17:09:23.290Z"
   },
   {
    "duration": 13,
    "start_time": "2021-07-07T17:09:54.812Z"
   },
   {
    "duration": 13,
    "start_time": "2021-07-07T17:10:02.039Z"
   },
   {
    "duration": 10,
    "start_time": "2021-07-07T17:10:29.632Z"
   },
   {
    "duration": 13,
    "start_time": "2021-07-07T17:10:52.372Z"
   },
   {
    "duration": 13,
    "start_time": "2021-07-07T17:11:17.270Z"
   },
   {
    "duration": 13,
    "start_time": "2021-07-07T17:14:59.284Z"
   },
   {
    "duration": 547,
    "start_time": "2021-07-07T17:18:52.403Z"
   },
   {
    "duration": 163,
    "start_time": "2021-07-07T17:18:52.952Z"
   },
   {
    "duration": 44,
    "start_time": "2021-07-07T17:18:53.117Z"
   },
   {
    "duration": 3,
    "start_time": "2021-07-07T17:18:53.162Z"
   },
   {
    "duration": 26,
    "start_time": "2021-07-07T17:18:53.167Z"
   },
   {
    "duration": 6,
    "start_time": "2021-07-07T17:18:53.195Z"
   },
   {
    "duration": 15,
    "start_time": "2021-07-07T17:18:53.203Z"
   },
   {
    "duration": 5,
    "start_time": "2021-07-07T17:18:53.220Z"
   },
   {
    "duration": 11,
    "start_time": "2021-07-07T17:18:53.228Z"
   },
   {
    "duration": 9,
    "start_time": "2021-07-07T17:18:53.241Z"
   },
   {
    "duration": 41,
    "start_time": "2021-07-07T17:18:53.252Z"
   },
   {
    "duration": 33,
    "start_time": "2021-07-07T17:18:53.295Z"
   },
   {
    "duration": 19,
    "start_time": "2021-07-07T17:18:53.330Z"
   },
   {
    "duration": 49,
    "start_time": "2021-07-07T17:18:53.350Z"
   },
   {
    "duration": 5,
    "start_time": "2021-07-07T17:18:53.401Z"
   },
   {
    "duration": 5,
    "start_time": "2021-07-07T17:18:53.408Z"
   },
   {
    "duration": 11,
    "start_time": "2021-07-07T17:18:53.414Z"
   },
   {
    "duration": 9,
    "start_time": "2021-07-07T17:18:53.427Z"
   },
   {
    "duration": 10,
    "start_time": "2021-07-07T17:18:53.437Z"
   },
   {
    "duration": 39,
    "start_time": "2021-07-07T17:18:53.448Z"
   },
   {
    "duration": 26,
    "start_time": "2021-07-07T17:18:55.799Z"
   },
   {
    "duration": 598,
    "start_time": "2021-07-07T17:20:17.862Z"
   },
   {
    "duration": 161,
    "start_time": "2021-07-07T17:20:18.462Z"
   },
   {
    "duration": 45,
    "start_time": "2021-07-07T17:20:18.626Z"
   },
   {
    "duration": 4,
    "start_time": "2021-07-07T17:20:18.673Z"
   },
   {
    "duration": 38,
    "start_time": "2021-07-07T17:20:26.877Z"
   },
   {
    "duration": 7,
    "start_time": "2021-07-07T17:20:37.405Z"
   },
   {
    "duration": 19,
    "start_time": "2021-07-07T17:20:51.534Z"
   },
   {
    "duration": 5,
    "start_time": "2021-07-07T17:20:57.228Z"
   },
   {
    "duration": 7,
    "start_time": "2021-07-07T17:21:08.235Z"
   },
   {
    "duration": 19,
    "start_time": "2021-07-07T17:21:42.158Z"
   },
   {
    "duration": 14,
    "start_time": "2021-07-07T17:21:50.225Z"
   },
   {
    "duration": 22,
    "start_time": "2021-07-07T17:22:54.104Z"
   },
   {
    "duration": 5,
    "start_time": "2021-07-07T17:22:56.371Z"
   },
   {
    "duration": 14,
    "start_time": "2021-07-07T17:22:58.316Z"
   },
   {
    "duration": 5,
    "start_time": "2021-07-07T17:22:58.493Z"
   },
   {
    "duration": 35,
    "start_time": "2021-07-07T17:22:59.666Z"
   },
   {
    "duration": 6,
    "start_time": "2021-07-07T17:23:02.410Z"
   },
   {
    "duration": 611,
    "start_time": "2021-07-07T17:24:59.664Z"
   },
   {
    "duration": 178,
    "start_time": "2021-07-07T17:25:01.945Z"
   },
   {
    "duration": 47,
    "start_time": "2021-07-07T17:25:02.125Z"
   },
   {
    "duration": 2,
    "start_time": "2021-07-07T17:25:07.903Z"
   },
   {
    "duration": 254,
    "start_time": "2021-07-07T17:25:08.232Z"
   },
   {
    "duration": 182,
    "start_time": "2021-07-07T17:25:08.671Z"
   },
   {
    "duration": 6,
    "start_time": "2021-07-07T17:25:13.104Z"
   },
   {
    "duration": 36,
    "start_time": "2021-07-07T17:25:13.662Z"
   },
   {
    "duration": 7,
    "start_time": "2021-07-07T17:25:14.528Z"
   },
   {
    "duration": 24,
    "start_time": "2021-07-07T17:25:27.982Z"
   },
   {
    "duration": 3,
    "start_time": "2021-07-07T17:25:48.982Z"
   },
   {
    "duration": 165,
    "start_time": "2021-07-07T17:25:48.987Z"
   },
   {
    "duration": 50,
    "start_time": "2021-07-07T17:25:49.154Z"
   },
   {
    "duration": 4,
    "start_time": "2021-07-07T17:25:49.206Z"
   },
   {
    "duration": 26,
    "start_time": "2021-07-07T17:25:49.212Z"
   },
   {
    "duration": 7,
    "start_time": "2021-07-07T17:25:49.240Z"
   },
   {
    "duration": 16,
    "start_time": "2021-07-07T17:25:49.249Z"
   },
   {
    "duration": 22,
    "start_time": "2021-07-07T17:25:49.266Z"
   },
   {
    "duration": 16,
    "start_time": "2021-07-07T17:25:49.291Z"
   },
   {
    "duration": 9,
    "start_time": "2021-07-07T17:25:49.309Z"
   },
   {
    "duration": 7,
    "start_time": "2021-07-07T17:25:49.319Z"
   },
   {
    "duration": 28,
    "start_time": "2021-07-07T17:25:49.328Z"
   },
   {
    "duration": 44,
    "start_time": "2021-07-07T17:25:49.357Z"
   },
   {
    "duration": 22,
    "start_time": "2021-07-07T17:25:49.403Z"
   },
   {
    "duration": 7,
    "start_time": "2021-07-07T17:25:49.427Z"
   },
   {
    "duration": 3,
    "start_time": "2021-07-07T17:25:49.436Z"
   },
   {
    "duration": 44,
    "start_time": "2021-07-07T17:25:49.441Z"
   },
   {
    "duration": 12,
    "start_time": "2021-07-07T17:25:49.488Z"
   },
   {
    "duration": 13,
    "start_time": "2021-07-07T17:25:49.502Z"
   },
   {
    "duration": 10,
    "start_time": "2021-07-07T17:25:49.516Z"
   },
   {
    "duration": 62,
    "start_time": "2021-07-07T17:25:49.527Z"
   },
   {
    "duration": 26,
    "start_time": "2021-07-07T17:26:51.809Z"
   },
   {
    "duration": 26,
    "start_time": "2021-07-07T17:26:55.759Z"
   },
   {
    "duration": 26,
    "start_time": "2021-07-07T17:27:04.501Z"
   },
   {
    "duration": 25,
    "start_time": "2021-07-07T17:28:24.859Z"
   },
   {
    "duration": 21,
    "start_time": "2021-07-07T17:28:55.250Z"
   },
   {
    "duration": 21,
    "start_time": "2021-07-07T17:28:58.885Z"
   },
   {
    "duration": 7,
    "start_time": "2021-07-07T17:45:40.972Z"
   },
   {
    "duration": 13,
    "start_time": "2021-07-07T17:45:42.529Z"
   },
   {
    "duration": 27,
    "start_time": "2021-07-07T17:45:51.026Z"
   },
   {
    "duration": 518,
    "start_time": "2021-07-07T17:46:15.532Z"
   },
   {
    "duration": 235,
    "start_time": "2021-07-07T17:46:16.053Z"
   },
   {
    "duration": 80,
    "start_time": "2021-07-07T17:46:16.292Z"
   },
   {
    "duration": 5,
    "start_time": "2021-07-07T17:46:16.373Z"
   },
   {
    "duration": 26,
    "start_time": "2021-07-07T17:46:16.380Z"
   },
   {
    "duration": 7,
    "start_time": "2021-07-07T17:46:16.408Z"
   },
   {
    "duration": 16,
    "start_time": "2021-07-07T17:46:16.418Z"
   },
   {
    "duration": 5,
    "start_time": "2021-07-07T17:46:16.436Z"
   },
   {
    "duration": 13,
    "start_time": "2021-07-07T17:46:16.442Z"
   },
   {
    "duration": 35,
    "start_time": "2021-07-07T17:46:16.456Z"
   },
   {
    "duration": 8,
    "start_time": "2021-07-07T17:46:16.493Z"
   },
   {
    "duration": 28,
    "start_time": "2021-07-07T17:46:16.502Z"
   },
   {
    "duration": 17,
    "start_time": "2021-07-07T17:46:16.532Z"
   },
   {
    "duration": 44,
    "start_time": "2021-07-07T17:46:16.551Z"
   },
   {
    "duration": 6,
    "start_time": "2021-07-07T17:46:16.597Z"
   },
   {
    "duration": 4,
    "start_time": "2021-07-07T17:46:16.605Z"
   },
   {
    "duration": 9,
    "start_time": "2021-07-07T17:46:16.610Z"
   },
   {
    "duration": 9,
    "start_time": "2021-07-07T17:46:16.621Z"
   },
   {
    "duration": 10,
    "start_time": "2021-07-07T17:46:16.632Z"
   },
   {
    "duration": 43,
    "start_time": "2021-07-07T17:46:16.644Z"
   },
   {
    "duration": 26,
    "start_time": "2021-07-07T17:46:16.689Z"
   },
   {
    "duration": 19,
    "start_time": "2021-07-07T17:46:16.718Z"
   },
   {
    "duration": 8,
    "start_time": "2021-07-07T17:46:16.738Z"
   },
   {
    "duration": 43,
    "start_time": "2021-07-07T17:46:16.747Z"
   },
   {
    "duration": 19,
    "start_time": "2021-07-07T17:46:16.791Z"
   },
   {
    "duration": 9,
    "start_time": "2021-07-07T17:46:16.812Z"
   },
   {
    "duration": 60,
    "start_time": "2021-07-07T17:46:16.822Z"
   },
   {
    "duration": -8,
    "start_time": "2021-07-07T17:46:16.892Z"
   },
   {
    "duration": 12,
    "start_time": "2021-07-07T17:48:47.707Z"
   },
   {
    "duration": 553,
    "start_time": "2021-07-07T18:10:09.350Z"
   },
   {
    "duration": 230,
    "start_time": "2021-07-07T18:10:09.905Z"
   },
   {
    "duration": 97,
    "start_time": "2021-07-07T18:10:10.137Z"
   },
   {
    "duration": 5,
    "start_time": "2021-07-07T18:10:10.236Z"
   },
   {
    "duration": 29,
    "start_time": "2021-07-07T18:10:10.242Z"
   },
   {
    "duration": 7,
    "start_time": "2021-07-07T18:10:10.272Z"
   },
   {
    "duration": 15,
    "start_time": "2021-07-07T18:10:10.281Z"
   },
   {
    "duration": 4,
    "start_time": "2021-07-07T18:10:10.299Z"
   },
   {
    "duration": 14,
    "start_time": "2021-07-07T18:10:10.305Z"
   },
   {
    "duration": 8,
    "start_time": "2021-07-07T18:10:10.321Z"
   },
   {
    "duration": 8,
    "start_time": "2021-07-07T18:10:10.331Z"
   },
   {
    "duration": 56,
    "start_time": "2021-07-07T18:10:10.341Z"
   },
   {
    "duration": 19,
    "start_time": "2021-07-07T18:10:10.399Z"
   },
   {
    "duration": 23,
    "start_time": "2021-07-07T18:10:10.419Z"
   },
   {
    "duration": 6,
    "start_time": "2021-07-07T18:10:10.444Z"
   },
   {
    "duration": 9,
    "start_time": "2021-07-07T18:10:10.451Z"
   },
   {
    "duration": 30,
    "start_time": "2021-07-07T18:10:10.462Z"
   },
   {
    "duration": 9,
    "start_time": "2021-07-07T18:10:10.494Z"
   },
   {
    "duration": 14,
    "start_time": "2021-07-07T18:10:10.505Z"
   },
   {
    "duration": 7,
    "start_time": "2021-07-07T18:10:10.521Z"
   },
   {
    "duration": 26,
    "start_time": "2021-07-07T18:10:10.530Z"
   },
   {
    "duration": 44,
    "start_time": "2021-07-07T18:10:10.558Z"
   },
   {
    "duration": 7,
    "start_time": "2021-07-07T18:10:10.605Z"
   },
   {
    "duration": 11,
    "start_time": "2021-07-07T18:10:10.614Z"
   },
   {
    "duration": 19,
    "start_time": "2021-07-07T18:10:10.626Z"
   },
   {
    "duration": 44,
    "start_time": "2021-07-07T18:10:10.646Z"
   },
   {
    "duration": 516,
    "start_time": "2021-07-07T18:14:00.826Z"
   },
   {
    "duration": 230,
    "start_time": "2021-07-07T18:14:01.344Z"
   },
   {
    "duration": 105,
    "start_time": "2021-07-07T18:14:01.576Z"
   },
   {
    "duration": 5,
    "start_time": "2021-07-07T18:14:01.683Z"
   },
   {
    "duration": 46,
    "start_time": "2021-07-07T18:14:01.690Z"
   },
   {
    "duration": 7,
    "start_time": "2021-07-07T18:14:01.738Z"
   },
   {
    "duration": 20,
    "start_time": "2021-07-07T18:14:01.747Z"
   },
   {
    "duration": 16,
    "start_time": "2021-07-07T18:14:01.769Z"
   },
   {
    "duration": 14,
    "start_time": "2021-07-07T18:14:01.787Z"
   },
   {
    "duration": 15,
    "start_time": "2021-07-07T18:14:01.803Z"
   },
   {
    "duration": 12,
    "start_time": "2021-07-07T18:14:01.820Z"
   },
   {
    "duration": 35,
    "start_time": "2021-07-07T18:14:01.833Z"
   },
   {
    "duration": 31,
    "start_time": "2021-07-07T18:14:01.869Z"
   },
   {
    "duration": 37,
    "start_time": "2021-07-07T18:14:01.902Z"
   },
   {
    "duration": 8,
    "start_time": "2021-07-07T18:14:01.942Z"
   },
   {
    "duration": 16,
    "start_time": "2021-07-07T18:14:01.952Z"
   },
   {
    "duration": 13,
    "start_time": "2021-07-07T18:14:01.970Z"
   },
   {
    "duration": 32,
    "start_time": "2021-07-07T18:14:01.985Z"
   },
   {
    "duration": 11,
    "start_time": "2021-07-07T18:14:02.019Z"
   },
   {
    "duration": 22,
    "start_time": "2021-07-07T18:14:02.031Z"
   },
   {
    "duration": 27,
    "start_time": "2021-07-07T18:14:02.055Z"
   },
   {
    "duration": 18,
    "start_time": "2021-07-07T18:14:02.084Z"
   },
   {
    "duration": 18,
    "start_time": "2021-07-07T18:14:02.106Z"
   },
   {
    "duration": 11,
    "start_time": "2021-07-07T18:14:02.126Z"
   },
   {
    "duration": 21,
    "start_time": "2021-07-07T18:14:02.138Z"
   },
   {
    "duration": 32,
    "start_time": "2021-07-07T18:14:02.161Z"
   },
   {
    "duration": 28,
    "start_time": "2021-07-07T18:14:44.295Z"
   },
   {
    "duration": 6,
    "start_time": "2021-07-07T18:15:05.834Z"
   },
   {
    "duration": 511,
    "start_time": "2021-07-07T18:15:41.541Z"
   },
   {
    "duration": 183,
    "start_time": "2021-07-07T18:15:42.054Z"
   },
   {
    "duration": 50,
    "start_time": "2021-07-07T18:15:42.239Z"
   },
   {
    "duration": 5,
    "start_time": "2021-07-07T18:15:42.291Z"
   },
   {
    "duration": 48,
    "start_time": "2021-07-07T18:15:42.297Z"
   },
   {
    "duration": 8,
    "start_time": "2021-07-07T18:15:42.346Z"
   },
   {
    "duration": 17,
    "start_time": "2021-07-07T18:15:42.356Z"
   },
   {
    "duration": 15,
    "start_time": "2021-07-07T18:15:42.375Z"
   },
   {
    "duration": 12,
    "start_time": "2021-07-07T18:15:42.392Z"
   },
   {
    "duration": 7,
    "start_time": "2021-07-07T18:15:42.406Z"
   },
   {
    "duration": 7,
    "start_time": "2021-07-07T18:15:42.415Z"
   },
   {
    "duration": 29,
    "start_time": "2021-07-07T18:15:42.423Z"
   },
   {
    "duration": 43,
    "start_time": "2021-07-07T18:15:42.453Z"
   },
   {
    "duration": 18,
    "start_time": "2021-07-07T18:15:42.497Z"
   },
   {
    "duration": 6,
    "start_time": "2021-07-07T18:15:42.516Z"
   },
   {
    "duration": 3,
    "start_time": "2021-07-07T18:15:42.523Z"
   },
   {
    "duration": 18,
    "start_time": "2021-07-07T18:15:42.528Z"
   },
   {
    "duration": 10,
    "start_time": "2021-07-07T18:15:42.547Z"
   },
   {
    "duration": 36,
    "start_time": "2021-07-07T18:15:42.559Z"
   },
   {
    "duration": 8,
    "start_time": "2021-07-07T18:15:42.597Z"
   },
   {
    "duration": 28,
    "start_time": "2021-07-07T18:15:42.606Z"
   },
   {
    "duration": 52,
    "start_time": "2021-07-07T18:15:42.635Z"
   },
   {
    "duration": 7,
    "start_time": "2021-07-07T18:15:42.690Z"
   },
   {
    "duration": 10,
    "start_time": "2021-07-07T18:15:42.699Z"
   },
   {
    "duration": 19,
    "start_time": "2021-07-07T18:15:42.711Z"
   },
   {
    "duration": 9,
    "start_time": "2021-07-07T18:15:42.732Z"
   },
   {
    "duration": 5,
    "start_time": "2021-07-07T18:15:42.743Z"
   },
   {
    "duration": 1450,
    "start_time": "2021-07-07T18:15:51.984Z"
   },
   {
    "duration": 161,
    "start_time": "2021-07-07T18:15:53.435Z"
   },
   {
    "duration": 124,
    "start_time": "2021-07-07T18:15:53.598Z"
   },
   {
    "duration": 5,
    "start_time": "2021-07-07T18:15:53.724Z"
   },
   {
    "duration": 34,
    "start_time": "2021-07-07T18:15:53.730Z"
   },
   {
    "duration": 7,
    "start_time": "2021-07-07T18:15:53.765Z"
   },
   {
    "duration": 15,
    "start_time": "2021-07-07T18:15:53.773Z"
   },
   {
    "duration": 5,
    "start_time": "2021-07-07T18:15:53.791Z"
   },
   {
    "duration": 19,
    "start_time": "2021-07-07T18:15:53.798Z"
   },
   {
    "duration": 9,
    "start_time": "2021-07-07T18:15:53.818Z"
   },
   {
    "duration": 19,
    "start_time": "2021-07-07T18:15:53.828Z"
   },
   {
    "duration": 27,
    "start_time": "2021-07-07T18:15:53.848Z"
   },
   {
    "duration": 16,
    "start_time": "2021-07-07T18:15:53.884Z"
   },
   {
    "duration": 29,
    "start_time": "2021-07-07T18:15:53.901Z"
   },
   {
    "duration": 5,
    "start_time": "2021-07-07T18:15:53.932Z"
   },
   {
    "duration": 15,
    "start_time": "2021-07-07T18:15:53.939Z"
   },
   {
    "duration": 13,
    "start_time": "2021-07-07T18:15:53.956Z"
   },
   {
    "duration": 20,
    "start_time": "2021-07-07T18:15:53.971Z"
   },
   {
    "duration": 14,
    "start_time": "2021-07-07T18:15:53.992Z"
   },
   {
    "duration": 9,
    "start_time": "2021-07-07T18:15:54.009Z"
   },
   {
    "duration": 28,
    "start_time": "2021-07-07T18:15:54.020Z"
   },
   {
    "duration": 50,
    "start_time": "2021-07-07T18:15:54.051Z"
   },
   {
    "duration": 8,
    "start_time": "2021-07-07T18:15:54.105Z"
   },
   {
    "duration": 11,
    "start_time": "2021-07-07T18:15:54.115Z"
   },
   {
    "duration": 20,
    "start_time": "2021-07-07T18:15:54.128Z"
   },
   {
    "duration": 13,
    "start_time": "2021-07-07T18:15:54.184Z"
   },
   {
    "duration": 7,
    "start_time": "2021-07-07T18:15:54.199Z"
   },
   {
    "duration": 7,
    "start_time": "2021-07-07T18:17:08.042Z"
   },
   {
    "duration": 8,
    "start_time": "2021-07-07T18:17:21.008Z"
   },
   {
    "duration": 7,
    "start_time": "2021-07-07T18:17:29.003Z"
   },
   {
    "duration": 8,
    "start_time": "2021-07-07T18:17:32.492Z"
   },
   {
    "duration": 9,
    "start_time": "2021-07-07T18:17:41.758Z"
   },
   {
    "duration": 255,
    "start_time": "2021-07-07T18:20:20.897Z"
   },
   {
    "duration": 173,
    "start_time": "2021-07-07T18:20:26.636Z"
   },
   {
    "duration": 7,
    "start_time": "2021-07-07T18:21:47.164Z"
   },
   {
    "duration": 254,
    "start_time": "2021-07-07T18:23:08.703Z"
   },
   {
    "duration": 21,
    "start_time": "2021-07-07T18:23:22.506Z"
   },
   {
    "duration": 315,
    "start_time": "2021-07-07T18:25:54.801Z"
   },
   {
    "duration": 34,
    "start_time": "2021-07-07T18:26:51.817Z"
   },
   {
    "duration": 327,
    "start_time": "2021-07-07T18:26:56.147Z"
   },
   {
    "duration": 342,
    "start_time": "2021-07-07T18:27:15.887Z"
   },
   {
    "duration": 302,
    "start_time": "2021-07-07T18:28:18.569Z"
   },
   {
    "duration": 226,
    "start_time": "2021-07-07T18:29:20.879Z"
   },
   {
    "duration": 207,
    "start_time": "2021-07-07T18:29:58.114Z"
   },
   {
    "duration": 140,
    "start_time": "2021-07-07T18:32:04.372Z"
   },
   {
    "duration": 158,
    "start_time": "2021-07-07T18:32:32.508Z"
   },
   {
    "duration": 145,
    "start_time": "2021-07-07T18:32:41.365Z"
   },
   {
    "duration": 132,
    "start_time": "2021-07-07T18:32:45.199Z"
   },
   {
    "duration": 11,
    "start_time": "2021-07-07T18:35:24.679Z"
   },
   {
    "duration": 268,
    "start_time": "2021-07-07T18:36:16.145Z"
   },
   {
    "duration": 227,
    "start_time": "2021-07-07T18:37:04.918Z"
   },
   {
    "duration": 3,
    "start_time": "2021-07-07T18:37:33.012Z"
   },
   {
    "duration": 671,
    "start_time": "2021-07-07T18:37:38.295Z"
   },
   {
    "duration": 54,
    "start_time": "2021-07-07T18:37:53.406Z"
   },
   {
    "duration": 631,
    "start_time": "2021-07-07T18:37:56.463Z"
   },
   {
    "duration": 19,
    "start_time": "2021-07-07T18:39:40.535Z"
   },
   {
    "duration": 20,
    "start_time": "2021-07-07T18:40:12.236Z"
   },
   {
    "duration": 633,
    "start_time": "2021-07-07T18:42:00.398Z"
   },
   {
    "duration": 218,
    "start_time": "2021-07-07T18:42:01.033Z"
   },
   {
    "duration": 49,
    "start_time": "2021-07-07T18:42:01.253Z"
   },
   {
    "duration": 5,
    "start_time": "2021-07-07T18:42:01.303Z"
   },
   {
    "duration": 27,
    "start_time": "2021-07-07T18:42:01.310Z"
   },
   {
    "duration": 8,
    "start_time": "2021-07-07T18:42:01.339Z"
   },
   {
    "duration": 20,
    "start_time": "2021-07-07T18:42:01.348Z"
   },
   {
    "duration": 6,
    "start_time": "2021-07-07T18:42:01.386Z"
   },
   {
    "duration": 16,
    "start_time": "2021-07-07T18:42:01.394Z"
   },
   {
    "duration": 9,
    "start_time": "2021-07-07T18:42:01.411Z"
   },
   {
    "duration": 11,
    "start_time": "2021-07-07T18:42:01.421Z"
   },
   {
    "duration": 31,
    "start_time": "2021-07-07T18:42:01.434Z"
   },
   {
    "duration": 18,
    "start_time": "2021-07-07T18:42:01.485Z"
   },
   {
    "duration": 23,
    "start_time": "2021-07-07T18:42:01.505Z"
   },
   {
    "duration": 6,
    "start_time": "2021-07-07T18:42:01.530Z"
   },
   {
    "duration": 10,
    "start_time": "2021-07-07T18:42:01.538Z"
   },
   {
    "duration": 13,
    "start_time": "2021-07-07T18:42:01.550Z"
   },
   {
    "duration": 24,
    "start_time": "2021-07-07T18:42:01.564Z"
   },
   {
    "duration": 20,
    "start_time": "2021-07-07T18:42:01.590Z"
   },
   {
    "duration": 8,
    "start_time": "2021-07-07T18:42:01.611Z"
   },
   {
    "duration": 31,
    "start_time": "2021-07-07T18:42:01.620Z"
   },
   {
    "duration": 39,
    "start_time": "2021-07-07T18:42:01.653Z"
   },
   {
    "duration": 8,
    "start_time": "2021-07-07T18:42:01.696Z"
   },
   {
    "duration": 13,
    "start_time": "2021-07-07T18:42:01.705Z"
   },
   {
    "duration": 20,
    "start_time": "2021-07-07T18:42:01.720Z"
   },
   {
    "duration": 12,
    "start_time": "2021-07-07T18:42:01.741Z"
   },
   {
    "duration": 35,
    "start_time": "2021-07-07T18:42:01.755Z"
   },
   {
    "duration": 14,
    "start_time": "2021-07-07T18:42:01.792Z"
   },
   {
    "duration": 188,
    "start_time": "2021-07-07T18:42:01.808Z"
   },
   {
    "duration": 19,
    "start_time": "2021-07-07T18:42:01.998Z"
   },
   {
    "duration": 175,
    "start_time": "2021-07-07T18:42:02.019Z"
   },
   {
    "duration": 134,
    "start_time": "2021-07-07T18:42:02.196Z"
   },
   {
    "duration": 10,
    "start_time": "2021-07-07T18:42:02.331Z"
   },
   {
    "duration": 19,
    "start_time": "2021-07-07T18:42:02.343Z"
   },
   {
    "duration": 628,
    "start_time": "2021-07-07T18:46:30.701Z"
   },
   {
    "duration": 183,
    "start_time": "2021-07-07T18:46:31.331Z"
   },
   {
    "duration": 48,
    "start_time": "2021-07-07T18:46:31.516Z"
   },
   {
    "duration": 5,
    "start_time": "2021-07-07T18:46:31.566Z"
   },
   {
    "duration": 28,
    "start_time": "2021-07-07T18:46:31.572Z"
   },
   {
    "duration": 8,
    "start_time": "2021-07-07T18:46:31.602Z"
   },
   {
    "duration": 19,
    "start_time": "2021-07-07T18:46:31.611Z"
   },
   {
    "duration": 6,
    "start_time": "2021-07-07T18:46:31.633Z"
   },
   {
    "duration": 17,
    "start_time": "2021-07-07T18:46:31.642Z"
   },
   {
    "duration": 10,
    "start_time": "2021-07-07T18:46:31.684Z"
   },
   {
    "duration": 9,
    "start_time": "2021-07-07T18:46:31.695Z"
   },
   {
    "duration": 28,
    "start_time": "2021-07-07T18:46:31.705Z"
   },
   {
    "duration": 18,
    "start_time": "2021-07-07T18:46:31.735Z"
   },
   {
    "duration": 48,
    "start_time": "2021-07-07T18:46:31.755Z"
   },
   {
    "duration": 6,
    "start_time": "2021-07-07T18:46:31.804Z"
   },
   {
    "duration": 4,
    "start_time": "2021-07-07T18:46:31.812Z"
   },
   {
    "duration": 9,
    "start_time": "2021-07-07T18:46:31.817Z"
   },
   {
    "duration": 10,
    "start_time": "2021-07-07T18:46:31.827Z"
   },
   {
    "duration": 12,
    "start_time": "2021-07-07T18:46:31.838Z"
   },
   {
    "duration": 39,
    "start_time": "2021-07-07T18:46:31.851Z"
   },
   {
    "duration": 24,
    "start_time": "2021-07-07T18:46:31.892Z"
   },
   {
    "duration": 15,
    "start_time": "2021-07-07T18:46:31.918Z"
   },
   {
    "duration": 7,
    "start_time": "2021-07-07T18:46:31.936Z"
   },
   {
    "duration": 8,
    "start_time": "2021-07-07T18:46:31.944Z"
   },
   {
    "duration": 19,
    "start_time": "2021-07-07T18:46:31.984Z"
   },
   {
    "duration": 10,
    "start_time": "2021-07-07T18:46:32.004Z"
   },
   {
    "duration": 5,
    "start_time": "2021-07-07T18:46:32.016Z"
   },
   {
    "duration": 9,
    "start_time": "2021-07-07T18:46:32.023Z"
   },
   {
    "duration": 199,
    "start_time": "2021-07-07T18:46:32.033Z"
   },
   {
    "duration": 19,
    "start_time": "2021-07-07T18:46:32.234Z"
   },
   {
    "duration": 159,
    "start_time": "2021-07-07T18:46:32.255Z"
   },
   {
    "duration": 134,
    "start_time": "2021-07-07T18:46:32.416Z"
   },
   {
    "duration": 10,
    "start_time": "2021-07-07T18:46:32.552Z"
   },
   {
    "duration": 34,
    "start_time": "2021-07-07T18:46:32.563Z"
   },
   {
    "duration": 1039,
    "start_time": "2021-07-08T08:41:09.419Z"
   },
   {
    "duration": 333,
    "start_time": "2021-07-08T08:41:10.459Z"
   },
   {
    "duration": 173,
    "start_time": "2021-07-08T08:41:10.794Z"
   },
   {
    "duration": 5,
    "start_time": "2021-07-08T08:41:10.968Z"
   },
   {
    "duration": 25,
    "start_time": "2021-07-08T08:41:10.975Z"
   },
   {
    "duration": 9,
    "start_time": "2021-07-08T08:41:11.002Z"
   },
   {
    "duration": 18,
    "start_time": "2021-07-08T08:41:11.013Z"
   },
   {
    "duration": 6,
    "start_time": "2021-07-08T08:41:11.033Z"
   },
   {
    "duration": 44,
    "start_time": "2021-07-08T08:41:11.042Z"
   },
   {
    "duration": 10,
    "start_time": "2021-07-08T08:41:11.088Z"
   },
   {
    "duration": 9,
    "start_time": "2021-07-08T08:41:11.100Z"
   },
   {
    "duration": 27,
    "start_time": "2021-07-08T08:41:11.111Z"
   },
   {
    "duration": 46,
    "start_time": "2021-07-08T08:41:11.140Z"
   },
   {
    "duration": 17,
    "start_time": "2021-07-08T08:41:11.187Z"
   },
   {
    "duration": 6,
    "start_time": "2021-07-08T08:41:11.206Z"
   },
   {
    "duration": 5,
    "start_time": "2021-07-08T08:41:11.213Z"
   },
   {
    "duration": 10,
    "start_time": "2021-07-08T08:41:11.219Z"
   },
   {
    "duration": 9,
    "start_time": "2021-07-08T08:41:11.230Z"
   },
   {
    "duration": 45,
    "start_time": "2021-07-08T08:41:11.241Z"
   },
   {
    "duration": 7,
    "start_time": "2021-07-08T08:41:11.287Z"
   },
   {
    "duration": 24,
    "start_time": "2021-07-08T08:41:11.296Z"
   },
   {
    "duration": 16,
    "start_time": "2021-07-08T08:41:11.322Z"
   },
   {
    "duration": 7,
    "start_time": "2021-07-08T08:41:11.341Z"
   },
   {
    "duration": 41,
    "start_time": "2021-07-08T08:41:11.349Z"
   },
   {
    "duration": 17,
    "start_time": "2021-07-08T08:41:11.391Z"
   },
   {
    "duration": 9,
    "start_time": "2021-07-08T08:41:11.410Z"
   },
   {
    "duration": 5,
    "start_time": "2021-07-08T08:41:11.421Z"
   },
   {
    "duration": 6,
    "start_time": "2021-07-08T08:41:11.428Z"
   },
   {
    "duration": 198,
    "start_time": "2021-07-08T08:41:11.435Z"
   },
   {
    "duration": 18,
    "start_time": "2021-07-08T08:41:11.635Z"
   },
   {
    "duration": 155,
    "start_time": "2021-07-08T08:41:11.655Z"
   },
   {
    "duration": 138,
    "start_time": "2021-07-08T08:41:11.811Z"
   },
   {
    "duration": 10,
    "start_time": "2021-07-08T08:41:11.950Z"
   },
   {
    "duration": 29,
    "start_time": "2021-07-08T08:41:11.961Z"
   },
   {
    "duration": 171,
    "start_time": "2021-07-08T08:47:44.522Z"
   },
   {
    "duration": 124,
    "start_time": "2021-07-08T08:47:46.872Z"
   },
   {
    "duration": 191,
    "start_time": "2021-07-08T08:47:58.148Z"
   },
   {
    "duration": 191,
    "start_time": "2021-07-08T08:48:07.412Z"
   },
   {
    "duration": 261,
    "start_time": "2021-07-08T08:48:10.385Z"
   },
   {
    "duration": 255,
    "start_time": "2021-07-08T08:48:14.494Z"
   },
   {
    "duration": 219,
    "start_time": "2021-07-08T08:48:22.752Z"
   },
   {
    "duration": 173,
    "start_time": "2021-07-08T08:49:06.395Z"
   },
   {
    "duration": 180,
    "start_time": "2021-07-08T08:49:21.011Z"
   },
   {
    "duration": 6,
    "start_time": "2021-07-08T08:50:31.697Z"
   },
   {
    "duration": 10,
    "start_time": "2021-07-08T08:50:47.394Z"
   },
   {
    "duration": 11,
    "start_time": "2021-07-08T08:53:49.332Z"
   },
   {
    "duration": 171,
    "start_time": "2021-07-08T08:54:28.408Z"
   },
   {
    "duration": 636,
    "start_time": "2021-07-08T09:02:48.385Z"
   },
   {
    "duration": 227,
    "start_time": "2021-07-08T09:02:49.023Z"
   },
   {
    "duration": 104,
    "start_time": "2021-07-08T09:02:49.252Z"
   },
   {
    "duration": 5,
    "start_time": "2021-07-08T09:02:49.358Z"
   },
   {
    "duration": 27,
    "start_time": "2021-07-08T09:02:49.365Z"
   },
   {
    "duration": 8,
    "start_time": "2021-07-08T09:02:49.394Z"
   },
   {
    "duration": 18,
    "start_time": "2021-07-08T09:02:49.404Z"
   },
   {
    "duration": 6,
    "start_time": "2021-07-08T09:02:49.424Z"
   },
   {
    "duration": 11,
    "start_time": "2021-07-08T09:02:49.433Z"
   },
   {
    "duration": 13,
    "start_time": "2021-07-08T09:02:49.485Z"
   },
   {
    "duration": 9,
    "start_time": "2021-07-08T09:02:49.500Z"
   },
   {
    "duration": 38,
    "start_time": "2021-07-08T09:02:49.511Z"
   },
   {
    "duration": 42,
    "start_time": "2021-07-08T09:02:49.551Z"
   },
   {
    "duration": 21,
    "start_time": "2021-07-08T09:02:49.594Z"
   },
   {
    "duration": 6,
    "start_time": "2021-07-08T09:02:49.616Z"
   },
   {
    "duration": 3,
    "start_time": "2021-07-08T09:02:49.623Z"
   },
   {
    "duration": 9,
    "start_time": "2021-07-08T09:02:49.628Z"
   },
   {
    "duration": 52,
    "start_time": "2021-07-08T09:02:49.638Z"
   },
   {
    "duration": 11,
    "start_time": "2021-07-08T09:02:49.692Z"
   },
   {
    "duration": 8,
    "start_time": "2021-07-08T09:02:49.704Z"
   },
   {
    "duration": 27,
    "start_time": "2021-07-08T09:02:49.713Z"
   },
   {
    "duration": 59,
    "start_time": "2021-07-08T09:02:49.741Z"
   },
   {
    "duration": 8,
    "start_time": "2021-07-08T09:02:49.803Z"
   },
   {
    "duration": 14,
    "start_time": "2021-07-08T09:02:49.813Z"
   },
   {
    "duration": 20,
    "start_time": "2021-07-08T09:02:49.829Z"
   },
   {
    "duration": 44,
    "start_time": "2021-07-08T09:02:49.851Z"
   },
   {
    "duration": 14,
    "start_time": "2021-07-08T09:02:49.896Z"
   },
   {
    "duration": 221,
    "start_time": "2021-07-08T09:02:49.912Z"
   },
   {
    "duration": 6,
    "start_time": "2021-07-08T09:02:50.134Z"
   },
   {
    "duration": 206,
    "start_time": "2021-07-08T09:02:50.142Z"
   },
   {
    "duration": 19,
    "start_time": "2021-07-08T09:02:50.350Z"
   },
   {
    "duration": 21,
    "start_time": "2021-07-08T09:02:50.370Z"
   },
   {
    "duration": 20,
    "start_time": "2021-07-08T09:02:50.393Z"
   },
   {
    "duration": 5,
    "start_time": "2021-07-08T09:02:50.414Z"
   },
   {
    "duration": 5,
    "start_time": "2021-07-08T09:03:34.173Z"
   },
   {
    "duration": 6,
    "start_time": "2021-07-08T09:04:49.062Z"
   },
   {
    "duration": 9,
    "start_time": "2021-07-08T09:04:50.118Z"
   },
   {
    "duration": 14,
    "start_time": "2021-07-08T09:04:58.512Z"
   },
   {
    "duration": 9,
    "start_time": "2021-07-08T09:05:10.988Z"
   },
   {
    "duration": 11,
    "start_time": "2021-07-08T09:05:11.743Z"
   },
   {
    "duration": 7,
    "start_time": "2021-07-08T09:05:25.677Z"
   },
   {
    "duration": 13,
    "start_time": "2021-07-08T09:05:47.189Z"
   },
   {
    "duration": 13,
    "start_time": "2021-07-08T09:05:54.755Z"
   },
   {
    "duration": 4,
    "start_time": "2021-07-08T09:06:29.189Z"
   },
   {
    "duration": 244,
    "start_time": "2021-07-08T09:06:29.195Z"
   },
   {
    "duration": 91,
    "start_time": "2021-07-08T09:06:29.441Z"
   },
   {
    "duration": 4,
    "start_time": "2021-07-08T09:06:29.534Z"
   },
   {
    "duration": 28,
    "start_time": "2021-07-08T09:06:29.540Z"
   },
   {
    "duration": 6,
    "start_time": "2021-07-08T09:06:29.570Z"
   },
   {
    "duration": 18,
    "start_time": "2021-07-08T09:06:29.578Z"
   },
   {
    "duration": 5,
    "start_time": "2021-07-08T09:06:29.597Z"
   },
   {
    "duration": 13,
    "start_time": "2021-07-08T09:06:29.605Z"
   },
   {
    "duration": 8,
    "start_time": "2021-07-08T09:06:29.620Z"
   },
   {
    "duration": 7,
    "start_time": "2021-07-08T09:06:29.630Z"
   },
   {
    "duration": 63,
    "start_time": "2021-07-08T09:06:29.639Z"
   },
   {
    "duration": 17,
    "start_time": "2021-07-08T09:06:29.704Z"
   },
   {
    "duration": 20,
    "start_time": "2021-07-08T09:06:29.723Z"
   },
   {
    "duration": 6,
    "start_time": "2021-07-08T09:06:29.745Z"
   },
   {
    "duration": 3,
    "start_time": "2021-07-08T09:06:29.752Z"
   },
   {
    "duration": 7,
    "start_time": "2021-07-08T09:06:29.785Z"
   },
   {
    "duration": 11,
    "start_time": "2021-07-08T09:06:29.794Z"
   },
   {
    "duration": 15,
    "start_time": "2021-07-08T09:06:29.807Z"
   },
   {
    "duration": 8,
    "start_time": "2021-07-08T09:06:29.823Z"
   },
   {
    "duration": 70,
    "start_time": "2021-07-08T09:06:29.832Z"
   },
   {
    "duration": 17,
    "start_time": "2021-07-08T09:06:29.903Z"
   },
   {
    "duration": 9,
    "start_time": "2021-07-08T09:06:29.921Z"
   },
   {
    "duration": 9,
    "start_time": "2021-07-08T09:06:29.932Z"
   },
   {
    "duration": 57,
    "start_time": "2021-07-08T09:06:29.942Z"
   },
   {
    "duration": 11,
    "start_time": "2021-07-08T09:06:30.001Z"
   },
   {
    "duration": 19,
    "start_time": "2021-07-08T09:06:30.016Z"
   },
   {
    "duration": 217,
    "start_time": "2021-07-08T09:06:30.037Z"
   },
   {
    "duration": 6,
    "start_time": "2021-07-08T09:06:30.255Z"
   },
   {
    "duration": 205,
    "start_time": "2021-07-08T09:06:30.263Z"
   },
   {
    "duration": 27,
    "start_time": "2021-07-08T09:06:30.470Z"
   },
   {
    "duration": 11,
    "start_time": "2021-07-08T09:06:30.500Z"
   },
   {
    "duration": 31,
    "start_time": "2021-07-08T09:06:30.513Z"
   },
   {
    "duration": 18,
    "start_time": "2021-07-08T09:06:30.546Z"
   },
   {
    "duration": 11,
    "start_time": "2021-07-08T09:06:30.566Z"
   },
   {
    "duration": 19,
    "start_time": "2021-07-08T09:06:30.579Z"
   },
   {
    "duration": 20,
    "start_time": "2021-07-08T09:06:49.466Z"
   },
   {
    "duration": 9,
    "start_time": "2021-07-08T09:06:51.994Z"
   },
   {
    "duration": 20,
    "start_time": "2021-07-08T09:06:52.273Z"
   },
   {
    "duration": 246,
    "start_time": "2021-07-08T09:10:21.272Z"
   },
   {
    "duration": 84,
    "start_time": "2021-07-08T09:10:21.436Z"
   },
   {
    "duration": 7,
    "start_time": "2021-07-08T09:10:37.608Z"
   },
   {
    "duration": 189,
    "start_time": "2021-07-08T09:10:38.573Z"
   },
   {
    "duration": 185,
    "start_time": "2021-07-08T09:10:53.181Z"
   },
   {
    "duration": 11,
    "start_time": "2021-07-08T09:10:59.549Z"
   },
   {
    "duration": 42,
    "start_time": "2021-07-08T09:10:59.709Z"
   },
   {
    "duration": 12,
    "start_time": "2021-07-08T09:11:02.857Z"
   },
   {
    "duration": 28,
    "start_time": "2021-07-08T09:11:10.062Z"
   },
   {
    "duration": 249,
    "start_time": "2021-07-08T09:11:37.388Z"
   },
   {
    "duration": 232,
    "start_time": "2021-07-08T09:11:49.485Z"
   },
   {
    "duration": 453,
    "start_time": "2021-07-08T09:12:01.546Z"
   },
   {
    "duration": 440,
    "start_time": "2021-07-08T09:12:12.347Z"
   },
   {
    "duration": 213,
    "start_time": "2021-07-08T09:13:32.196Z"
   },
   {
    "duration": 172,
    "start_time": "2021-07-08T09:14:07.400Z"
   },
   {
    "duration": 185,
    "start_time": "2021-07-08T09:14:14.905Z"
   },
   {
    "duration": 209,
    "start_time": "2021-07-08T09:14:40.109Z"
   },
   {
    "duration": 201,
    "start_time": "2021-07-08T09:14:54.506Z"
   },
   {
    "duration": 622,
    "start_time": "2021-07-08T09:18:14.497Z"
   },
   {
    "duration": 220,
    "start_time": "2021-07-08T09:18:15.121Z"
   },
   {
    "duration": 79,
    "start_time": "2021-07-08T09:18:15.343Z"
   },
   {
    "duration": 4,
    "start_time": "2021-07-08T09:18:15.425Z"
   },
   {
    "duration": 24,
    "start_time": "2021-07-08T09:18:15.431Z"
   },
   {
    "duration": 8,
    "start_time": "2021-07-08T09:18:15.457Z"
   },
   {
    "duration": 16,
    "start_time": "2021-07-08T09:18:15.466Z"
   },
   {
    "duration": 5,
    "start_time": "2021-07-08T09:18:15.484Z"
   },
   {
    "duration": 10,
    "start_time": "2021-07-08T09:18:15.493Z"
   },
   {
    "duration": 8,
    "start_time": "2021-07-08T09:18:15.504Z"
   },
   {
    "duration": 7,
    "start_time": "2021-07-08T09:18:15.513Z"
   },
   {
    "duration": 26,
    "start_time": "2021-07-08T09:18:15.522Z"
   },
   {
    "duration": 49,
    "start_time": "2021-07-08T09:18:15.550Z"
   },
   {
    "duration": 21,
    "start_time": "2021-07-08T09:18:15.601Z"
   },
   {
    "duration": 8,
    "start_time": "2021-07-08T09:18:15.624Z"
   },
   {
    "duration": 3,
    "start_time": "2021-07-08T09:18:15.634Z"
   },
   {
    "duration": 8,
    "start_time": "2021-07-08T09:18:15.639Z"
   },
   {
    "duration": 45,
    "start_time": "2021-07-08T09:18:15.649Z"
   },
   {
    "duration": 13,
    "start_time": "2021-07-08T09:18:15.696Z"
   },
   {
    "duration": 10,
    "start_time": "2021-07-08T09:18:15.711Z"
   },
   {
    "duration": 64,
    "start_time": "2021-07-08T09:18:15.722Z"
   },
   {
    "duration": 19,
    "start_time": "2021-07-08T09:18:15.788Z"
   },
   {
    "duration": 9,
    "start_time": "2021-07-08T09:18:15.809Z"
   },
   {
    "duration": 9,
    "start_time": "2021-07-08T09:18:15.820Z"
   },
   {
    "duration": 18,
    "start_time": "2021-07-08T09:18:15.831Z"
   },
   {
    "duration": 43,
    "start_time": "2021-07-08T09:18:15.851Z"
   },
   {
    "duration": 12,
    "start_time": "2021-07-08T09:18:15.897Z"
   },
   {
    "duration": 219,
    "start_time": "2021-07-08T09:18:15.911Z"
   },
   {
    "duration": 8,
    "start_time": "2021-07-08T09:18:16.132Z"
   },
   {
    "duration": 199,
    "start_time": "2021-07-08T09:18:16.141Z"
   },
   {
    "duration": 18,
    "start_time": "2021-07-08T09:18:16.341Z"
   },
   {
    "duration": 24,
    "start_time": "2021-07-08T09:18:16.361Z"
   },
   {
    "duration": 24,
    "start_time": "2021-07-08T09:18:16.387Z"
   },
   {
    "duration": 211,
    "start_time": "2021-07-08T09:18:16.413Z"
   },
   {
    "duration": 18,
    "start_time": "2021-07-08T09:18:16.626Z"
   },
   {
    "duration": 596,
    "start_time": "2021-07-08T10:06:33.623Z"
   },
   {
    "duration": 181,
    "start_time": "2021-07-08T10:06:34.221Z"
   },
   {
    "duration": 176,
    "start_time": "2021-07-08T10:06:34.635Z"
   },
   {
    "duration": 239,
    "start_time": "2021-07-08T10:06:55.572Z"
   },
   {
    "duration": 6,
    "start_time": "2021-07-08T10:06:57.687Z"
   },
   {
    "duration": 4,
    "start_time": "2021-07-08T10:07:03.956Z"
   },
   {
    "duration": 4,
    "start_time": "2021-07-08T10:07:10.376Z"
   },
   {
    "duration": 4,
    "start_time": "2021-07-08T10:17:19.889Z"
   },
   {
    "duration": 3,
    "start_time": "2021-07-08T10:19:19.407Z"
   },
   {
    "duration": 197,
    "start_time": "2021-07-08T10:19:19.412Z"
   },
   {
    "duration": 127,
    "start_time": "2021-07-08T10:19:19.611Z"
   },
   {
    "duration": 4,
    "start_time": "2021-07-08T10:19:19.740Z"
   },
   {
    "duration": 27,
    "start_time": "2021-07-08T10:19:19.746Z"
   },
   {
    "duration": 7,
    "start_time": "2021-07-08T10:19:19.775Z"
   },
   {
    "duration": 30,
    "start_time": "2021-07-08T10:19:19.784Z"
   },
   {
    "duration": 7,
    "start_time": "2021-07-08T10:19:19.817Z"
   },
   {
    "duration": 26,
    "start_time": "2021-07-08T10:19:19.826Z"
   },
   {
    "duration": 18,
    "start_time": "2021-07-08T10:19:19.854Z"
   },
   {
    "duration": 14,
    "start_time": "2021-07-08T10:19:19.874Z"
   },
   {
    "duration": 48,
    "start_time": "2021-07-08T10:19:19.890Z"
   },
   {
    "duration": 17,
    "start_time": "2021-07-08T10:19:19.940Z"
   },
   {
    "duration": 38,
    "start_time": "2021-07-08T10:19:19.959Z"
   },
   {
    "duration": 8,
    "start_time": "2021-07-08T10:19:19.999Z"
   },
   {
    "duration": 15,
    "start_time": "2021-07-08T10:19:20.009Z"
   },
   {
    "duration": 22,
    "start_time": "2021-07-08T10:19:20.026Z"
   },
   {
    "duration": 10,
    "start_time": "2021-07-08T10:19:20.050Z"
   },
   {
    "duration": 10,
    "start_time": "2021-07-08T10:19:20.062Z"
   },
   {
    "duration": 20,
    "start_time": "2021-07-08T10:19:20.073Z"
   },
   {
    "duration": 29,
    "start_time": "2021-07-08T10:19:20.095Z"
   },
   {
    "duration": 17,
    "start_time": "2021-07-08T10:19:20.126Z"
   },
   {
    "duration": 40,
    "start_time": "2021-07-08T10:19:20.146Z"
   },
   {
    "duration": 15,
    "start_time": "2021-07-08T10:19:20.189Z"
   },
   {
    "duration": 19,
    "start_time": "2021-07-08T10:19:20.206Z"
   },
   {
    "duration": 10,
    "start_time": "2021-07-08T10:19:20.226Z"
   },
   {
    "duration": 11,
    "start_time": "2021-07-08T10:19:20.238Z"
   },
   {
    "duration": 297,
    "start_time": "2021-07-08T10:19:20.250Z"
   },
   {
    "duration": 6,
    "start_time": "2021-07-08T10:19:20.549Z"
   },
   {
    "duration": 191,
    "start_time": "2021-07-08T10:19:20.557Z"
   },
   {
    "duration": 19,
    "start_time": "2021-07-08T10:19:20.750Z"
   },
   {
    "duration": 20,
    "start_time": "2021-07-08T10:19:20.771Z"
   },
   {
    "duration": 15,
    "start_time": "2021-07-08T10:19:20.793Z"
   },
   {
    "duration": 222,
    "start_time": "2021-07-08T10:19:20.809Z"
   },
   {
    "duration": 20,
    "start_time": "2021-07-08T10:19:21.033Z"
   },
   {
    "duration": 27,
    "start_time": "2021-07-08T10:45:04.055Z"
   },
   {
    "duration": 8,
    "start_time": "2021-07-08T10:45:08.478Z"
   },
   {
    "duration": 8,
    "start_time": "2021-07-08T10:45:31.982Z"
   },
   {
    "duration": 10,
    "start_time": "2021-07-08T10:46:01.221Z"
   },
   {
    "duration": 17,
    "start_time": "2021-07-08T10:46:40.011Z"
   },
   {
    "duration": 193,
    "start_time": "2021-07-08T10:48:19.471Z"
   },
   {
    "duration": 225,
    "start_time": "2021-07-08T10:49:26.480Z"
   },
   {
    "duration": 204,
    "start_time": "2021-07-08T10:49:59.992Z"
   },
   {
    "duration": 435,
    "start_time": "2021-07-08T10:50:06.779Z"
   },
   {
    "duration": 199,
    "start_time": "2021-07-08T10:50:14.891Z"
   },
   {
    "duration": 204,
    "start_time": "2021-07-08T10:50:18.501Z"
   },
   {
    "duration": 244,
    "start_time": "2021-07-08T10:50:23.359Z"
   },
   {
    "duration": 192,
    "start_time": "2021-07-08T10:50:29.135Z"
   },
   {
    "duration": 218,
    "start_time": "2021-07-08T10:50:33.092Z"
   },
   {
    "duration": 207,
    "start_time": "2021-07-08T10:52:45.381Z"
   },
   {
    "duration": 5,
    "start_time": "2021-07-08T10:53:34.641Z"
   },
   {
    "duration": 196,
    "start_time": "2021-07-08T10:53:41.478Z"
   },
   {
    "duration": 43,
    "start_time": "2021-07-08T10:53:50.335Z"
   },
   {
    "duration": 32,
    "start_time": "2021-07-08T10:53:55.294Z"
   },
   {
    "duration": 55,
    "start_time": "2021-07-08T10:54:09.675Z"
   },
   {
    "duration": 16,
    "start_time": "2021-07-08T10:54:12.260Z"
   },
   {
    "duration": 15,
    "start_time": "2021-07-08T10:54:49.150Z"
   },
   {
    "duration": 20,
    "start_time": "2021-07-08T10:56:07.596Z"
   },
   {
    "duration": 16,
    "start_time": "2021-07-08T10:58:26.276Z"
   },
   {
    "duration": 22,
    "start_time": "2021-07-08T10:59:00.486Z"
   },
   {
    "duration": 18,
    "start_time": "2021-07-08T11:02:09.653Z"
   },
   {
    "duration": 10,
    "start_time": "2021-07-08T11:03:44.331Z"
   },
   {
    "duration": 10,
    "start_time": "2021-07-08T11:03:54.055Z"
   },
   {
    "duration": 12,
    "start_time": "2021-07-08T11:04:41.967Z"
   },
   {
    "duration": 24,
    "start_time": "2021-07-08T11:07:30.732Z"
   },
   {
    "duration": 6,
    "start_time": "2021-07-08T11:07:37.364Z"
   },
   {
    "duration": 16,
    "start_time": "2021-07-08T11:08:01.819Z"
   },
   {
    "duration": 17,
    "start_time": "2021-07-08T11:09:47.488Z"
   },
   {
    "duration": 246,
    "start_time": "2021-07-08T11:10:00.830Z"
   },
   {
    "duration": 18,
    "start_time": "2021-07-08T11:13:55.195Z"
   },
   {
    "duration": 204,
    "start_time": "2021-07-08T11:14:04.951Z"
   },
   {
    "duration": 19,
    "start_time": "2021-07-08T11:15:10.613Z"
   },
   {
    "duration": 680,
    "start_time": "2021-07-08T11:16:25.793Z"
   },
   {
    "duration": 451,
    "start_time": "2021-07-08T11:16:40.313Z"
   },
   {
    "duration": 469,
    "start_time": "2021-07-08T11:17:21.286Z"
   },
   {
    "duration": 20,
    "start_time": "2021-07-08T11:19:12.554Z"
   },
   {
    "duration": 35,
    "start_time": "2021-07-08T11:20:05.484Z"
   },
   {
    "duration": 53,
    "start_time": "2021-07-08T11:21:40.050Z"
   },
   {
    "duration": 13,
    "start_time": "2021-07-08T11:22:26.059Z"
   },
   {
    "duration": 19,
    "start_time": "2021-07-08T11:22:47.419Z"
   },
   {
    "duration": 25,
    "start_time": "2021-07-08T11:23:19.958Z"
   },
   {
    "duration": 29,
    "start_time": "2021-07-08T11:23:25.415Z"
   },
   {
    "duration": 10,
    "start_time": "2021-07-08T11:24:45.138Z"
   },
   {
    "duration": 19,
    "start_time": "2021-07-08T11:24:54.498Z"
   },
   {
    "duration": 12,
    "start_time": "2021-07-08T11:25:32.225Z"
   },
   {
    "duration": 19,
    "start_time": "2021-07-08T11:25:37.092Z"
   },
   {
    "duration": 17,
    "start_time": "2021-07-08T11:25:58.116Z"
   },
   {
    "duration": 15,
    "start_time": "2021-07-08T11:26:02.258Z"
   },
   {
    "duration": 8,
    "start_time": "2021-07-08T11:26:59.682Z"
   },
   {
    "duration": 184,
    "start_time": "2021-07-08T11:27:21.894Z"
   },
   {
    "duration": 8,
    "start_time": "2021-07-08T11:27:23.824Z"
   },
   {
    "duration": 202,
    "start_time": "2021-07-08T11:27:23.962Z"
   },
   {
    "duration": 360,
    "start_time": "2021-07-08T11:28:33.215Z"
   },
   {
    "duration": 231,
    "start_time": "2021-07-08T11:32:05.542Z"
   },
   {
    "duration": 607,
    "start_time": "2021-07-08T11:36:27.854Z"
   },
   {
    "duration": 241,
    "start_time": "2021-07-08T11:36:28.463Z"
   },
   {
    "duration": 67,
    "start_time": "2021-07-08T11:36:28.709Z"
   },
   {
    "duration": 5,
    "start_time": "2021-07-08T11:36:28.778Z"
   },
   {
    "duration": 32,
    "start_time": "2021-07-08T11:36:28.784Z"
   },
   {
    "duration": 11,
    "start_time": "2021-07-08T11:36:28.819Z"
   },
   {
    "duration": 20,
    "start_time": "2021-07-08T11:36:28.834Z"
   },
   {
    "duration": 36,
    "start_time": "2021-07-08T11:36:28.857Z"
   },
   {
    "duration": 16,
    "start_time": "2021-07-08T11:36:28.895Z"
   },
   {
    "duration": 14,
    "start_time": "2021-07-08T11:36:28.913Z"
   },
   {
    "duration": 9,
    "start_time": "2021-07-08T11:36:28.930Z"
   },
   {
    "duration": 55,
    "start_time": "2021-07-08T11:36:28.941Z"
   },
   {
    "duration": 27,
    "start_time": "2021-07-08T11:36:28.999Z"
   },
   {
    "duration": 30,
    "start_time": "2021-07-08T11:36:29.028Z"
   },
   {
    "duration": 31,
    "start_time": "2021-07-08T11:36:29.060Z"
   },
   {
    "duration": 3,
    "start_time": "2021-07-08T11:36:29.093Z"
   },
   {
    "duration": 12,
    "start_time": "2021-07-08T11:36:29.099Z"
   },
   {
    "duration": 11,
    "start_time": "2021-07-08T11:36:29.112Z"
   },
   {
    "duration": 12,
    "start_time": "2021-07-08T11:36:29.125Z"
   },
   {
    "duration": 9,
    "start_time": "2021-07-08T11:36:29.139Z"
   },
   {
    "duration": 31,
    "start_time": "2021-07-08T11:36:29.191Z"
   },
   {
    "duration": 17,
    "start_time": "2021-07-08T11:36:29.226Z"
   },
   {
    "duration": 7,
    "start_time": "2021-07-08T11:36:29.245Z"
   },
   {
    "duration": 10,
    "start_time": "2021-07-08T11:36:29.254Z"
   },
   {
    "duration": 30,
    "start_time": "2021-07-08T11:36:29.292Z"
   },
   {
    "duration": 11,
    "start_time": "2021-07-08T11:36:29.324Z"
   },
   {
    "duration": 11,
    "start_time": "2021-07-08T11:36:29.337Z"
   },
   {
    "duration": 230,
    "start_time": "2021-07-08T11:36:29.349Z"
   },
   {
    "duration": 13,
    "start_time": "2021-07-08T11:36:29.588Z"
   },
   {
    "duration": 205,
    "start_time": "2021-07-08T11:36:29.603Z"
   },
   {
    "duration": 20,
    "start_time": "2021-07-08T11:36:29.810Z"
   },
   {
    "duration": 9,
    "start_time": "2021-07-08T11:36:29.832Z"
   },
   {
    "duration": 16,
    "start_time": "2021-07-08T11:36:29.843Z"
   },
   {
    "duration": 283,
    "start_time": "2021-07-08T11:36:29.861Z"
   },
   {
    "duration": 50,
    "start_time": "2021-07-08T11:36:30.146Z"
   },
   {
    "duration": 14,
    "start_time": "2021-07-08T11:36:30.198Z"
   },
   {
    "duration": 11,
    "start_time": "2021-07-08T11:36:30.214Z"
   },
   {
    "duration": 245,
    "start_time": "2021-07-08T11:36:30.227Z"
   },
   {
    "duration": 439,
    "start_time": "2021-07-08T11:36:30.474Z"
   },
   {
    "duration": 210,
    "start_time": "2021-07-08T11:36:30.915Z"
   },
   {
    "duration": 15,
    "start_time": "2021-07-08T11:36:31.127Z"
   },
   {
    "duration": 17,
    "start_time": "2021-07-08T11:38:20.451Z"
   },
   {
    "duration": 642,
    "start_time": "2021-07-08T11:46:17.881Z"
   },
   {
    "duration": 210,
    "start_time": "2021-07-08T11:46:18.525Z"
   },
   {
    "duration": 104,
    "start_time": "2021-07-08T11:46:18.741Z"
   },
   {
    "duration": 8,
    "start_time": "2021-07-08T11:46:18.847Z"
   },
   {
    "duration": 25,
    "start_time": "2021-07-08T11:46:18.857Z"
   },
   {
    "duration": 14,
    "start_time": "2021-07-08T11:46:18.884Z"
   },
   {
    "duration": 22,
    "start_time": "2021-07-08T11:46:18.900Z"
   },
   {
    "duration": 5,
    "start_time": "2021-07-08T11:46:18.924Z"
   },
   {
    "duration": 13,
    "start_time": "2021-07-08T11:46:18.931Z"
   },
   {
    "duration": 45,
    "start_time": "2021-07-08T11:46:18.946Z"
   },
   {
    "duration": 12,
    "start_time": "2021-07-08T11:46:18.993Z"
   },
   {
    "duration": 38,
    "start_time": "2021-07-08T11:46:19.006Z"
   },
   {
    "duration": 50,
    "start_time": "2021-07-08T11:46:19.046Z"
   },
   {
    "duration": 29,
    "start_time": "2021-07-08T11:46:19.099Z"
   },
   {
    "duration": 7,
    "start_time": "2021-07-08T11:46:19.130Z"
   },
   {
    "duration": 3,
    "start_time": "2021-07-08T11:46:19.139Z"
   },
   {
    "duration": 11,
    "start_time": "2021-07-08T11:46:19.144Z"
   },
   {
    "duration": 40,
    "start_time": "2021-07-08T11:46:19.157Z"
   },
   {
    "duration": 15,
    "start_time": "2021-07-08T11:46:19.199Z"
   },
   {
    "duration": 10,
    "start_time": "2021-07-08T11:46:19.217Z"
   },
   {
    "duration": 68,
    "start_time": "2021-07-08T11:46:19.230Z"
   },
   {
    "duration": 17,
    "start_time": "2021-07-08T11:46:19.301Z"
   },
   {
    "duration": 7,
    "start_time": "2021-07-08T11:46:19.321Z"
   },
   {
    "duration": 11,
    "start_time": "2021-07-08T11:46:19.330Z"
   },
   {
    "duration": 59,
    "start_time": "2021-07-08T11:46:19.343Z"
   },
   {
    "duration": 17,
    "start_time": "2021-07-08T11:46:19.405Z"
   },
   {
    "duration": 16,
    "start_time": "2021-07-08T11:46:19.424Z"
   },
   {
    "duration": 252,
    "start_time": "2021-07-08T11:46:19.443Z"
   },
   {
    "duration": 9,
    "start_time": "2021-07-08T11:46:19.697Z"
   },
   {
    "duration": 224,
    "start_time": "2021-07-08T11:46:19.708Z"
   },
   {
    "duration": 21,
    "start_time": "2021-07-08T11:46:19.934Z"
   },
   {
    "duration": 9,
    "start_time": "2021-07-08T11:46:19.956Z"
   },
   {
    "duration": 32,
    "start_time": "2021-07-08T11:46:19.967Z"
   },
   {
    "duration": 288,
    "start_time": "2021-07-08T11:46:20.004Z"
   },
   {
    "duration": 23,
    "start_time": "2021-07-08T11:46:20.300Z"
   },
   {
    "duration": 11,
    "start_time": "2021-07-08T11:46:20.325Z"
   },
   {
    "duration": 11,
    "start_time": "2021-07-08T11:46:20.339Z"
   },
   {
    "duration": 259,
    "start_time": "2021-07-08T11:46:20.352Z"
   },
   {
    "duration": 438,
    "start_time": "2021-07-08T11:46:20.613Z"
   },
   {
    "duration": 207,
    "start_time": "2021-07-08T11:46:21.054Z"
   },
   {
    "duration": 27,
    "start_time": "2021-07-08T11:46:21.262Z"
   },
   {
    "duration": 19,
    "start_time": "2021-07-08T11:46:21.291Z"
   },
   {
    "duration": 820,
    "start_time": "2021-07-08T11:49:01.655Z"
   },
   {
    "duration": 372,
    "start_time": "2021-07-08T11:49:02.478Z"
   },
   {
    "duration": 98,
    "start_time": "2021-07-08T11:49:02.853Z"
   },
   {
    "duration": 6,
    "start_time": "2021-07-08T11:49:02.953Z"
   },
   {
    "duration": 39,
    "start_time": "2021-07-08T11:49:02.960Z"
   },
   {
    "duration": 9,
    "start_time": "2021-07-08T11:49:03.003Z"
   },
   {
    "duration": 23,
    "start_time": "2021-07-08T11:49:03.014Z"
   },
   {
    "duration": 6,
    "start_time": "2021-07-08T11:49:03.041Z"
   },
   {
    "duration": 20,
    "start_time": "2021-07-08T11:49:03.049Z"
   },
   {
    "duration": 18,
    "start_time": "2021-07-08T11:49:03.084Z"
   },
   {
    "duration": 14,
    "start_time": "2021-07-08T11:49:03.104Z"
   },
   {
    "duration": 39,
    "start_time": "2021-07-08T11:49:03.119Z"
   },
   {
    "duration": 38,
    "start_time": "2021-07-08T11:49:03.160Z"
   },
   {
    "duration": 26,
    "start_time": "2021-07-08T11:49:03.200Z"
   },
   {
    "duration": 7,
    "start_time": "2021-07-08T11:49:03.227Z"
   },
   {
    "duration": 4,
    "start_time": "2021-07-08T11:49:03.236Z"
   },
   {
    "duration": 15,
    "start_time": "2021-07-08T11:49:03.243Z"
   },
   {
    "duration": 21,
    "start_time": "2021-07-08T11:49:03.285Z"
   },
   {
    "duration": 17,
    "start_time": "2021-07-08T11:49:03.309Z"
   },
   {
    "duration": 10,
    "start_time": "2021-07-08T11:49:03.328Z"
   },
   {
    "duration": 65,
    "start_time": "2021-07-08T11:49:03.340Z"
   },
   {
    "duration": 18,
    "start_time": "2021-07-08T11:49:03.407Z"
   },
   {
    "duration": 8,
    "start_time": "2021-07-08T11:49:03.428Z"
   },
   {
    "duration": 15,
    "start_time": "2021-07-08T11:49:03.438Z"
   },
   {
    "duration": 40,
    "start_time": "2021-07-08T11:49:03.455Z"
   },
   {
    "duration": 12,
    "start_time": "2021-07-08T11:49:03.497Z"
   },
   {
    "duration": 29,
    "start_time": "2021-07-08T11:49:03.511Z"
   },
   {
    "duration": 285,
    "start_time": "2021-07-08T11:49:03.542Z"
   },
   {
    "duration": 8,
    "start_time": "2021-07-08T11:49:03.829Z"
   },
   {
    "duration": 227,
    "start_time": "2021-07-08T11:49:03.838Z"
   },
   {
    "duration": 40,
    "start_time": "2021-07-08T11:49:04.066Z"
   },
   {
    "duration": 10,
    "start_time": "2021-07-08T11:49:04.108Z"
   },
   {
    "duration": 26,
    "start_time": "2021-07-08T11:49:04.121Z"
   },
   {
    "duration": 290,
    "start_time": "2021-07-08T11:49:04.149Z"
   },
   {
    "duration": 26,
    "start_time": "2021-07-08T11:49:04.441Z"
   },
   {
    "duration": 31,
    "start_time": "2021-07-08T11:49:04.470Z"
   },
   {
    "duration": 14,
    "start_time": "2021-07-08T11:49:04.503Z"
   },
   {
    "duration": 259,
    "start_time": "2021-07-08T11:49:04.521Z"
   },
   {
    "duration": 480,
    "start_time": "2021-07-08T11:49:04.782Z"
   },
   {
    "duration": 225,
    "start_time": "2021-07-08T11:49:05.264Z"
   },
   {
    "duration": 22,
    "start_time": "2021-07-08T11:49:05.491Z"
   },
   {
    "duration": 24,
    "start_time": "2021-07-08T11:49:05.515Z"
   },
   {
    "duration": 634,
    "start_time": "2021-07-08T11:52:24.960Z"
   },
   {
    "duration": 199,
    "start_time": "2021-07-08T11:52:25.599Z"
   },
   {
    "duration": 106,
    "start_time": "2021-07-08T11:52:25.803Z"
   },
   {
    "duration": 7,
    "start_time": "2021-07-08T11:52:25.911Z"
   },
   {
    "duration": 29,
    "start_time": "2021-07-08T11:52:25.920Z"
   },
   {
    "duration": 7,
    "start_time": "2021-07-08T11:52:25.951Z"
   },
   {
    "duration": 26,
    "start_time": "2021-07-08T11:52:25.961Z"
   },
   {
    "duration": 11,
    "start_time": "2021-07-08T11:52:25.990Z"
   },
   {
    "duration": 29,
    "start_time": "2021-07-08T11:52:26.005Z"
   },
   {
    "duration": 9,
    "start_time": "2021-07-08T11:52:26.036Z"
   },
   {
    "duration": 8,
    "start_time": "2021-07-08T11:52:26.047Z"
   },
   {
    "duration": 63,
    "start_time": "2021-07-08T11:52:26.057Z"
   },
   {
    "duration": 17,
    "start_time": "2021-07-08T11:52:26.122Z"
   },
   {
    "duration": 43,
    "start_time": "2021-07-08T11:52:26.142Z"
   },
   {
    "duration": 17,
    "start_time": "2021-07-08T11:52:26.187Z"
   },
   {
    "duration": 5,
    "start_time": "2021-07-08T11:52:26.206Z"
   },
   {
    "duration": 12,
    "start_time": "2021-07-08T11:52:26.212Z"
   },
   {
    "duration": 11,
    "start_time": "2021-07-08T11:52:26.226Z"
   },
   {
    "duration": 12,
    "start_time": "2021-07-08T11:52:26.238Z"
   },
   {
    "duration": 38,
    "start_time": "2021-07-08T11:52:26.252Z"
   },
   {
    "duration": 40,
    "start_time": "2021-07-08T11:52:26.292Z"
   },
   {
    "duration": 17,
    "start_time": "2021-07-08T11:52:26.336Z"
   },
   {
    "duration": 39,
    "start_time": "2021-07-08T11:52:26.355Z"
   },
   {
    "duration": 11,
    "start_time": "2021-07-08T11:52:26.395Z"
   },
   {
    "duration": 23,
    "start_time": "2021-07-08T11:52:26.408Z"
   },
   {
    "duration": 12,
    "start_time": "2021-07-08T11:52:26.432Z"
   },
   {
    "duration": 41,
    "start_time": "2021-07-08T11:52:26.446Z"
   },
   {
    "duration": 215,
    "start_time": "2021-07-08T11:52:26.493Z"
   },
   {
    "duration": 8,
    "start_time": "2021-07-08T11:52:26.710Z"
   },
   {
    "duration": 228,
    "start_time": "2021-07-08T11:52:26.720Z"
   },
   {
    "duration": 18,
    "start_time": "2021-07-08T11:52:26.950Z"
   },
   {
    "duration": 35,
    "start_time": "2021-07-08T11:52:26.969Z"
   },
   {
    "duration": 23,
    "start_time": "2021-07-08T11:52:27.006Z"
   },
   {
    "duration": 258,
    "start_time": "2021-07-08T11:52:27.030Z"
   },
   {
    "duration": 24,
    "start_time": "2021-07-08T11:52:27.290Z"
   },
   {
    "duration": 12,
    "start_time": "2021-07-08T11:52:27.316Z"
   },
   {
    "duration": 10,
    "start_time": "2021-07-08T11:52:27.329Z"
   },
   {
    "duration": 298,
    "start_time": "2021-07-08T11:52:27.341Z"
   },
   {
    "duration": 436,
    "start_time": "2021-07-08T11:52:27.641Z"
   },
   {
    "duration": 216,
    "start_time": "2021-07-08T11:52:28.079Z"
   },
   {
    "duration": 20,
    "start_time": "2021-07-08T11:52:28.297Z"
   },
   {
    "duration": 17,
    "start_time": "2021-07-08T11:52:28.319Z"
   },
   {
    "duration": 1489,
    "start_time": "2023-01-11T14:05:41.714Z"
   },
   {
    "duration": 425,
    "start_time": "2023-01-11T14:06:34.152Z"
   },
   {
    "duration": 18,
    "start_time": "2023-01-11T14:06:58.600Z"
   },
   {
    "duration": 103,
    "start_time": "2023-01-11T14:07:12.054Z"
   },
   {
    "duration": 14,
    "start_time": "2023-01-11T14:07:16.788Z"
   },
   {
    "duration": 8,
    "start_time": "2023-01-11T14:09:01.258Z"
   },
   {
    "duration": 16,
    "start_time": "2023-01-11T14:09:12.160Z"
   },
   {
    "duration": 13,
    "start_time": "2023-01-11T14:09:15.577Z"
   },
   {
    "duration": 14,
    "start_time": "2023-01-11T14:11:02.263Z"
   },
   {
    "duration": 9,
    "start_time": "2023-01-11T14:11:56.119Z"
   },
   {
    "duration": 18,
    "start_time": "2023-01-11T14:12:10.600Z"
   },
   {
    "duration": 19,
    "start_time": "2023-01-11T14:12:23.129Z"
   },
   {
    "duration": 23,
    "start_time": "2023-01-11T14:12:41.489Z"
   },
   {
    "duration": 19,
    "start_time": "2023-01-11T14:13:19.414Z"
   },
   {
    "duration": 20,
    "start_time": "2023-01-11T14:13:20.460Z"
   },
   {
    "duration": 14,
    "start_time": "2023-01-11T14:13:39.551Z"
   },
   {
    "duration": 27,
    "start_time": "2023-01-11T14:14:20.484Z"
   },
   {
    "duration": 22,
    "start_time": "2023-01-11T14:14:33.521Z"
   },
   {
    "duration": 17,
    "start_time": "2023-01-11T14:15:26.411Z"
   },
   {
    "duration": 5,
    "start_time": "2023-01-11T14:21:59.902Z"
   },
   {
    "duration": 3,
    "start_time": "2023-01-11T14:22:03.676Z"
   },
   {
    "duration": 219,
    "start_time": "2023-01-11T14:22:34.665Z"
   },
   {
    "duration": 217,
    "start_time": "2023-01-11T14:23:01.414Z"
   },
   {
    "duration": 196,
    "start_time": "2023-01-11T14:23:07.175Z"
   },
   {
    "duration": 200,
    "start_time": "2023-01-11T14:23:18.725Z"
   },
   {
    "duration": 226,
    "start_time": "2023-01-11T14:24:02.935Z"
   },
   {
    "duration": 5,
    "start_time": "2023-01-11T14:27:07.572Z"
   },
   {
    "duration": 23,
    "start_time": "2023-01-11T14:27:29.507Z"
   },
   {
    "duration": 18,
    "start_time": "2023-01-11T14:27:42.592Z"
   },
   {
    "duration": 15,
    "start_time": "2023-01-11T14:30:00.087Z"
   },
   {
    "duration": 6,
    "start_time": "2023-01-11T14:32:04.654Z"
   },
   {
    "duration": 8,
    "start_time": "2023-01-11T14:32:36.928Z"
   },
   {
    "duration": 8,
    "start_time": "2023-01-11T14:32:55.594Z"
   },
   {
    "duration": 15,
    "start_time": "2023-01-11T14:33:41.527Z"
   },
   {
    "duration": 6,
    "start_time": "2023-01-11T14:34:27.112Z"
   },
   {
    "duration": 15,
    "start_time": "2023-01-11T14:35:07.835Z"
   },
   {
    "duration": 11,
    "start_time": "2023-01-11T14:35:32.077Z"
   },
   {
    "duration": 18,
    "start_time": "2023-01-11T14:35:51.549Z"
   },
   {
    "duration": 15,
    "start_time": "2023-01-11T14:36:06.121Z"
   },
   {
    "duration": 11,
    "start_time": "2023-01-11T14:36:30.433Z"
   },
   {
    "duration": 12,
    "start_time": "2023-01-11T14:37:03.390Z"
   },
   {
    "duration": 1559,
    "start_time": "2023-01-11T14:37:20.899Z"
   },
   {
    "duration": 19,
    "start_time": "2023-01-11T14:37:24.956Z"
   },
   {
    "duration": 7,
    "start_time": "2023-01-11T14:38:14.335Z"
   },
   {
    "duration": 5,
    "start_time": "2023-01-11T14:43:12.476Z"
   },
   {
    "duration": 10,
    "start_time": "2023-01-11T14:44:57.480Z"
   },
   {
    "duration": 33,
    "start_time": "2023-01-11T14:46:25.650Z"
   },
   {
    "duration": 8,
    "start_time": "2023-01-11T14:46:34.708Z"
   },
   {
    "duration": 22,
    "start_time": "2023-01-11T14:46:40.469Z"
   },
   {
    "duration": 7,
    "start_time": "2023-01-11T14:47:06.215Z"
   },
   {
    "duration": 7,
    "start_time": "2023-01-11T14:47:15.523Z"
   },
   {
    "duration": 9,
    "start_time": "2023-01-11T14:47:22.312Z"
   },
   {
    "duration": 11,
    "start_time": "2023-01-11T14:48:19.385Z"
   },
   {
    "duration": 7,
    "start_time": "2023-01-11T14:48:28.743Z"
   },
   {
    "duration": 12,
    "start_time": "2023-01-11T14:48:33.407Z"
   },
   {
    "duration": 72,
    "start_time": "2023-01-11T14:50:03.512Z"
   },
   {
    "duration": 10,
    "start_time": "2023-01-11T14:50:25.946Z"
   },
   {
    "duration": 21,
    "start_time": "2023-01-11T14:51:48.754Z"
   },
   {
    "duration": 11,
    "start_time": "2023-01-11T14:51:56.324Z"
   },
   {
    "duration": 12,
    "start_time": "2023-01-11T14:52:27.075Z"
   },
   {
    "duration": 13,
    "start_time": "2023-01-11T14:52:31.185Z"
   },
   {
    "duration": 81,
    "start_time": "2023-01-11T14:53:02.442Z"
   },
   {
    "duration": 353,
    "start_time": "2023-01-11T14:53:05.145Z"
   },
   {
    "duration": 185,
    "start_time": "2023-01-11T14:53:07.907Z"
   },
   {
    "duration": 175,
    "start_time": "2023-01-11T14:53:16.453Z"
   },
   {
    "duration": 200,
    "start_time": "2023-01-11T14:53:37.109Z"
   },
   {
    "duration": 200,
    "start_time": "2023-01-11T14:53:44.006Z"
   },
   {
    "duration": 257,
    "start_time": "2023-01-11T14:55:01.978Z"
   },
   {
    "duration": 261,
    "start_time": "2023-01-11T14:55:09.967Z"
   },
   {
    "duration": 250,
    "start_time": "2023-01-11T14:55:17.440Z"
   },
   {
    "duration": 365,
    "start_time": "2023-01-11T14:55:23.170Z"
   },
   {
    "duration": 341,
    "start_time": "2023-01-11T14:55:47.976Z"
   },
   {
    "duration": 316,
    "start_time": "2023-01-11T14:55:54.353Z"
   },
   {
    "duration": 320,
    "start_time": "2023-01-11T14:59:07.187Z"
   },
   {
    "duration": 474,
    "start_time": "2023-01-11T15:00:01.626Z"
   },
   {
    "duration": 2751,
    "start_time": "2023-01-11T15:00:15.557Z"
   },
   {
    "duration": 11,
    "start_time": "2023-01-11T15:01:44.745Z"
   },
   {
    "duration": 167,
    "start_time": "2023-01-11T15:01:50.055Z"
   },
   {
    "duration": 1551,
    "start_time": "2023-01-11T15:05:41.920Z"
   },
   {
    "duration": 29,
    "start_time": "2023-01-11T15:05:46.307Z"
   },
   {
    "duration": 1341,
    "start_time": "2023-01-11T15:05:56.223Z"
   },
   {
    "duration": 131,
    "start_time": "2023-01-11T15:05:57.566Z"
   },
   {
    "duration": 20,
    "start_time": "2023-01-11T15:05:57.698Z"
   },
   {
    "duration": 12,
    "start_time": "2023-01-11T15:05:57.720Z"
   },
   {
    "duration": 14,
    "start_time": "2023-01-11T15:05:57.734Z"
   },
   {
    "duration": 9,
    "start_time": "2023-01-11T15:05:57.750Z"
   },
   {
    "duration": 13,
    "start_time": "2023-01-11T15:05:57.761Z"
   },
   {
    "duration": 20,
    "start_time": "2023-01-11T15:05:57.776Z"
   },
   {
    "duration": 14,
    "start_time": "2023-01-11T15:05:57.798Z"
   },
   {
    "duration": 45,
    "start_time": "2023-01-11T15:05:57.815Z"
   },
   {
    "duration": 234,
    "start_time": "2023-01-11T15:05:57.862Z"
   },
   {
    "duration": 6,
    "start_time": "2023-01-11T15:05:58.098Z"
   },
   {
    "duration": 23,
    "start_time": "2023-01-11T15:05:58.106Z"
   },
   {
    "duration": 16,
    "start_time": "2023-01-11T15:05:58.150Z"
   },
   {
    "duration": 7,
    "start_time": "2023-01-11T15:05:58.168Z"
   },
   {
    "duration": 18,
    "start_time": "2023-01-11T15:05:58.177Z"
   },
   {
    "duration": 17,
    "start_time": "2023-01-11T15:05:58.197Z"
   },
   {
    "duration": 52,
    "start_time": "2023-01-11T15:05:58.216Z"
   },
   {
    "duration": 10,
    "start_time": "2023-01-11T15:05:58.270Z"
   },
   {
    "duration": 24,
    "start_time": "2023-01-11T15:05:58.282Z"
   },
   {
    "duration": 6,
    "start_time": "2023-01-11T15:05:58.308Z"
   },
   {
    "duration": 35,
    "start_time": "2023-01-11T15:05:58.316Z"
   },
   {
    "duration": 13,
    "start_time": "2023-01-11T15:05:58.353Z"
   },
   {
    "duration": 10,
    "start_time": "2023-01-11T15:05:58.369Z"
   },
   {
    "duration": 72,
    "start_time": "2023-01-11T15:05:58.381Z"
   },
   {
    "duration": 11,
    "start_time": "2023-01-11T15:05:58.456Z"
   },
   {
    "duration": 235,
    "start_time": "2023-01-11T15:05:58.469Z"
   },
   {
    "duration": 1718,
    "start_time": "2023-01-11T15:05:58.707Z"
   },
   {
    "duration": 36,
    "start_time": "2023-01-11T15:06:00.427Z"
   },
   {
    "duration": 319,
    "start_time": "2023-01-11T15:09:40.434Z"
   },
   {
    "duration": 313,
    "start_time": "2023-01-11T15:10:33.016Z"
   },
   {
    "duration": 523,
    "start_time": "2023-01-11T15:10:48.450Z"
   },
   {
    "duration": 9,
    "start_time": "2023-01-11T15:11:48.405Z"
   },
   {
    "duration": 22,
    "start_time": "2023-01-11T15:11:53.996Z"
   },
   {
    "duration": 20,
    "start_time": "2023-01-11T15:12:03.771Z"
   },
   {
    "duration": 26,
    "start_time": "2023-01-11T15:12:43.368Z"
   },
   {
    "duration": 20,
    "start_time": "2023-01-11T15:16:38.806Z"
   },
   {
    "duration": 20,
    "start_time": "2023-01-11T15:16:51.031Z"
   },
   {
    "duration": 5,
    "start_time": "2023-01-11T15:23:11.630Z"
   },
   {
    "duration": 21,
    "start_time": "2023-01-11T15:24:17.512Z"
   },
   {
    "duration": 65,
    "start_time": "2023-01-11T15:24:36.830Z"
   },
   {
    "duration": 68,
    "start_time": "2023-01-11T15:24:53.110Z"
   },
   {
    "duration": 5,
    "start_time": "2023-01-11T15:25:11.903Z"
   },
   {
    "duration": 56,
    "start_time": "2023-01-11T15:25:23.466Z"
   },
   {
    "duration": 1227,
    "start_time": "2023-01-11T15:25:55.913Z"
   },
   {
    "duration": 130,
    "start_time": "2023-01-11T15:25:57.142Z"
   },
   {
    "duration": 18,
    "start_time": "2023-01-11T15:25:57.273Z"
   },
   {
    "duration": 14,
    "start_time": "2023-01-11T15:25:57.294Z"
   },
   {
    "duration": 21,
    "start_time": "2023-01-11T15:25:57.311Z"
   },
   {
    "duration": 12,
    "start_time": "2023-01-11T15:25:57.333Z"
   },
   {
    "duration": 13,
    "start_time": "2023-01-11T15:25:57.350Z"
   },
   {
    "duration": 94,
    "start_time": "2023-01-11T15:25:57.365Z"
   },
   {
    "duration": 13,
    "start_time": "2023-01-11T15:25:57.461Z"
   },
   {
    "duration": 18,
    "start_time": "2023-01-11T15:25:57.477Z"
   },
   {
    "duration": 249,
    "start_time": "2023-01-11T15:25:57.496Z"
   },
   {
    "duration": 5,
    "start_time": "2023-01-11T15:25:57.750Z"
   },
   {
    "duration": 27,
    "start_time": "2023-01-11T15:25:57.756Z"
   },
   {
    "duration": 13,
    "start_time": "2023-01-11T15:25:57.785Z"
   },
   {
    "duration": 20,
    "start_time": "2023-01-11T15:25:57.800Z"
   },
   {
    "duration": 31,
    "start_time": "2023-01-11T15:25:57.822Z"
   },
   {
    "duration": 17,
    "start_time": "2023-01-11T15:25:57.855Z"
   },
   {
    "duration": 24,
    "start_time": "2023-01-11T15:25:57.874Z"
   },
   {
    "duration": 13,
    "start_time": "2023-01-11T15:25:57.901Z"
   },
   {
    "duration": 47,
    "start_time": "2023-01-11T15:25:57.916Z"
   },
   {
    "duration": 6,
    "start_time": "2023-01-11T15:25:57.965Z"
   },
   {
    "duration": 11,
    "start_time": "2023-01-11T15:25:57.973Z"
   },
   {
    "duration": 11,
    "start_time": "2023-01-11T15:25:57.985Z"
   },
   {
    "duration": 10,
    "start_time": "2023-01-11T15:25:57.998Z"
   },
   {
    "duration": 86,
    "start_time": "2023-01-11T15:25:58.010Z"
   },
   {
    "duration": 10,
    "start_time": "2023-01-11T15:25:58.098Z"
   },
   {
    "duration": 233,
    "start_time": "2023-01-11T15:25:58.110Z"
   },
   {
    "duration": 1726,
    "start_time": "2023-01-11T15:25:58.345Z"
   },
   {
    "duration": 21,
    "start_time": "2023-01-11T15:26:00.073Z"
   },
   {
    "duration": 356,
    "start_time": "2023-01-11T15:26:00.096Z"
   },
   {
    "duration": 6,
    "start_time": "2023-01-11T15:26:00.454Z"
   },
   {
    "duration": 37,
    "start_time": "2023-01-11T15:26:00.462Z"
   },
   {
    "duration": 263,
    "start_time": "2023-01-11T15:26:00.501Z"
   },
   {
    "duration": 72,
    "start_time": "2023-01-11T15:26:00.766Z"
   },
   {
    "duration": 12,
    "start_time": "2023-01-11T15:26:00.840Z"
   },
   {
    "duration": 51,
    "start_time": "2023-01-11T15:26:00.854Z"
   },
   {
    "duration": 6,
    "start_time": "2023-01-11T15:26:32.983Z"
   },
   {
    "duration": 694,
    "start_time": "2023-01-11T15:26:33.861Z"
   },
   {
    "duration": 0,
    "start_time": "2023-01-11T15:26:34.556Z"
   },
   {
    "duration": 6,
    "start_time": "2023-01-11T15:26:35.570Z"
   },
   {
    "duration": 9,
    "start_time": "2023-01-11T15:26:35.958Z"
   },
   {
    "duration": 11,
    "start_time": "2023-01-11T15:26:36.368Z"
   },
   {
    "duration": 23,
    "start_time": "2023-01-11T15:26:36.769Z"
   },
   {
    "duration": 11,
    "start_time": "2023-01-11T15:26:37.173Z"
   },
   {
    "duration": 25,
    "start_time": "2023-01-11T15:26:37.603Z"
   },
   {
    "duration": 629,
    "start_time": "2023-01-11T15:26:38.004Z"
   },
   {
    "duration": 5,
    "start_time": "2023-01-11T15:26:40.837Z"
   },
   {
    "duration": 638,
    "start_time": "2023-01-11T15:26:57.773Z"
   },
   {
    "duration": 9,
    "start_time": "2023-01-11T15:27:10.251Z"
   },
   {
    "duration": 11,
    "start_time": "2023-01-11T15:27:11.920Z"
   },
   {
    "duration": 14,
    "start_time": "2023-01-11T15:27:12.443Z"
   },
   {
    "duration": 10,
    "start_time": "2023-01-11T15:27:14.314Z"
   },
   {
    "duration": 188,
    "start_time": "2023-01-11T15:27:15.128Z"
   },
   {
    "duration": 1592,
    "start_time": "2023-01-11T15:27:15.649Z"
   },
   {
    "duration": 27,
    "start_time": "2023-01-11T15:27:17.243Z"
   },
   {
    "duration": 321,
    "start_time": "2023-01-11T15:27:18.031Z"
   },
   {
    "duration": 5,
    "start_time": "2023-01-11T15:27:21.577Z"
   },
   {
    "duration": 21,
    "start_time": "2023-01-11T15:27:24.078Z"
   },
   {
    "duration": 35,
    "start_time": "2023-01-11T15:27:24.867Z"
   },
   {
    "duration": 28,
    "start_time": "2023-01-11T15:27:54.572Z"
   },
   {
    "duration": 1173,
    "start_time": "2023-01-11T15:28:07.011Z"
   },
   {
    "duration": 133,
    "start_time": "2023-01-11T15:28:08.186Z"
   },
   {
    "duration": 17,
    "start_time": "2023-01-11T15:28:08.321Z"
   },
   {
    "duration": 12,
    "start_time": "2023-01-11T15:28:08.340Z"
   },
   {
    "duration": 15,
    "start_time": "2023-01-11T15:28:08.355Z"
   },
   {
    "duration": 9,
    "start_time": "2023-01-11T15:28:08.371Z"
   },
   {
    "duration": 14,
    "start_time": "2023-01-11T15:28:08.382Z"
   },
   {
    "duration": 16,
    "start_time": "2023-01-11T15:28:08.398Z"
   },
   {
    "duration": 48,
    "start_time": "2023-01-11T15:28:08.415Z"
   },
   {
    "duration": 21,
    "start_time": "2023-01-11T15:28:08.465Z"
   },
   {
    "duration": 222,
    "start_time": "2023-01-11T15:28:08.488Z"
   },
   {
    "duration": 6,
    "start_time": "2023-01-11T15:28:08.711Z"
   },
   {
    "duration": 37,
    "start_time": "2023-01-11T15:28:08.719Z"
   },
   {
    "duration": 12,
    "start_time": "2023-01-11T15:28:08.759Z"
   },
   {
    "duration": 5,
    "start_time": "2023-01-11T15:28:08.773Z"
   },
   {
    "duration": 18,
    "start_time": "2023-01-11T15:28:08.780Z"
   },
   {
    "duration": 18,
    "start_time": "2023-01-11T15:28:08.800Z"
   },
   {
    "duration": 49,
    "start_time": "2023-01-11T15:28:08.819Z"
   },
   {
    "duration": 12,
    "start_time": "2023-01-11T15:28:08.870Z"
   },
   {
    "duration": 17,
    "start_time": "2023-01-11T15:28:08.883Z"
   },
   {
    "duration": 14,
    "start_time": "2023-01-11T15:28:08.902Z"
   },
   {
    "duration": 5,
    "start_time": "2023-01-11T15:28:08.918Z"
   },
   {
    "duration": 11,
    "start_time": "2023-01-11T15:28:08.950Z"
   },
   {
    "duration": 9,
    "start_time": "2023-01-11T15:28:08.963Z"
   },
   {
    "duration": 51,
    "start_time": "2023-01-11T15:28:08.974Z"
   },
   {
    "duration": 11,
    "start_time": "2023-01-11T15:28:09.050Z"
   },
   {
    "duration": 242,
    "start_time": "2023-01-11T15:28:09.064Z"
   },
   {
    "duration": 1705,
    "start_time": "2023-01-11T15:28:09.308Z"
   },
   {
    "duration": 22,
    "start_time": "2023-01-11T15:28:11.015Z"
   },
   {
    "duration": 328,
    "start_time": "2023-01-11T15:28:11.050Z"
   },
   {
    "duration": 5,
    "start_time": "2023-01-11T15:28:11.380Z"
   },
   {
    "duration": 20,
    "start_time": "2023-01-11T15:28:11.386Z"
   },
   {
    "duration": 242,
    "start_time": "2023-01-11T15:28:11.408Z"
   },
   {
    "duration": 67,
    "start_time": "2023-01-11T15:28:11.652Z"
   },
   {
    "duration": 5,
    "start_time": "2023-01-11T15:28:11.721Z"
   },
   {
    "duration": 55,
    "start_time": "2023-01-11T15:28:11.728Z"
   },
   {
    "duration": 46,
    "start_time": "2023-01-11T15:31:17.735Z"
   },
   {
    "duration": 24,
    "start_time": "2023-01-11T15:52:02.484Z"
   },
   {
    "duration": 22,
    "start_time": "2023-01-11T15:53:13.427Z"
   },
   {
    "duration": 247,
    "start_time": "2023-01-11T15:55:40.293Z"
   },
   {
    "duration": 238,
    "start_time": "2023-01-11T15:55:51.898Z"
   },
   {
    "duration": 266,
    "start_time": "2023-01-11T15:55:58.269Z"
   },
   {
    "duration": 78,
    "start_time": "2023-01-11T15:57:56.437Z"
   },
   {
    "duration": 142,
    "start_time": "2023-01-11T15:58:04.821Z"
   },
   {
    "duration": 85,
    "start_time": "2023-01-11T15:58:10.261Z"
   },
   {
    "duration": 16,
    "start_time": "2023-01-11T15:58:13.613Z"
   },
   {
    "duration": 268,
    "start_time": "2023-01-11T15:58:43.124Z"
   },
   {
    "duration": 259,
    "start_time": "2023-01-11T15:58:46.086Z"
   },
   {
    "duration": 76,
    "start_time": "2023-01-11T15:59:00.070Z"
   },
   {
    "duration": 225,
    "start_time": "2023-01-11T15:59:02.628Z"
   },
   {
    "duration": 239,
    "start_time": "2023-01-11T16:01:24.786Z"
   },
   {
    "duration": 15,
    "start_time": "2023-01-11T16:01:54.658Z"
   },
   {
    "duration": 20,
    "start_time": "2023-01-11T16:02:03.829Z"
   },
   {
    "duration": 251,
    "start_time": "2023-01-11T16:02:12.162Z"
   },
   {
    "duration": 277,
    "start_time": "2023-01-11T16:02:20.404Z"
   },
   {
    "duration": 24,
    "start_time": "2023-01-11T16:02:29.716Z"
   },
   {
    "duration": 303,
    "start_time": "2023-01-11T16:02:40.257Z"
   },
   {
    "duration": 74,
    "start_time": "2023-01-11T16:03:00.748Z"
   },
   {
    "duration": 68,
    "start_time": "2023-01-11T16:03:04.245Z"
   },
   {
    "duration": 262,
    "start_time": "2023-01-11T16:03:08.608Z"
   },
   {
    "duration": 26,
    "start_time": "2023-01-11T16:04:34.414Z"
   },
   {
    "duration": 206,
    "start_time": "2023-01-11T16:05:04.555Z"
   },
   {
    "duration": 280,
    "start_time": "2023-01-11T16:05:25.171Z"
   },
   {
    "duration": 20,
    "start_time": "2023-01-11T16:08:26.579Z"
   },
   {
    "duration": 342,
    "start_time": "2023-01-11T16:08:37.764Z"
   },
   {
    "duration": 21,
    "start_time": "2023-01-11T16:11:24.864Z"
   },
   {
    "duration": 9,
    "start_time": "2023-01-11T16:13:25.969Z"
   },
   {
    "duration": 9,
    "start_time": "2023-01-11T16:19:43.698Z"
   },
   {
    "duration": 26,
    "start_time": "2023-01-11T16:21:21.712Z"
   },
   {
    "duration": 37,
    "start_time": "2023-01-11T16:21:31.824Z"
   },
   {
    "duration": 41,
    "start_time": "2023-01-11T16:22:14.663Z"
   },
   {
    "duration": 44,
    "start_time": "2023-01-11T16:22:22.950Z"
   },
   {
    "duration": 385,
    "start_time": "2023-01-11T16:22:35.785Z"
   },
   {
    "duration": 224,
    "start_time": "2023-01-11T16:22:48.128Z"
   },
   {
    "duration": 470,
    "start_time": "2023-01-11T16:22:55.231Z"
   },
   {
    "duration": 870,
    "start_time": "2023-01-11T16:23:09.508Z"
   },
   {
    "duration": 26,
    "start_time": "2023-01-11T16:23:47.479Z"
   },
   {
    "duration": 28,
    "start_time": "2023-01-11T16:23:57.823Z"
   },
   {
    "duration": 221,
    "start_time": "2023-01-11T16:24:12.939Z"
   },
   {
    "duration": 298,
    "start_time": "2023-01-11T16:24:33.649Z"
   },
   {
    "duration": 278,
    "start_time": "2023-01-11T16:24:36.224Z"
   },
   {
    "duration": 272,
    "start_time": "2023-01-11T16:25:00.388Z"
   },
   {
    "duration": 287,
    "start_time": "2023-01-11T16:25:51.866Z"
   },
   {
    "duration": 13,
    "start_time": "2023-01-11T16:29:31.076Z"
   },
   {
    "duration": 16,
    "start_time": "2023-01-11T16:29:35.311Z"
   },
   {
    "duration": 2083,
    "start_time": "2023-01-11T16:31:48.049Z"
   },
   {
    "duration": 1723,
    "start_time": "2023-01-11T16:31:52.312Z"
   },
   {
    "duration": 1780,
    "start_time": "2023-01-11T16:32:17.559Z"
   },
   {
    "duration": 1810,
    "start_time": "2023-01-11T16:32:50.395Z"
   },
   {
    "duration": 28,
    "start_time": "2023-01-11T16:34:29.863Z"
   },
   {
    "duration": 33,
    "start_time": "2023-01-11T16:34:48.184Z"
   },
   {
    "duration": 24,
    "start_time": "2023-01-11T16:35:00.265Z"
   },
   {
    "duration": 17,
    "start_time": "2023-01-11T16:37:07.123Z"
   },
   {
    "duration": 72,
    "start_time": "2023-01-11T16:37:46.685Z"
   },
   {
    "duration": 309,
    "start_time": "2023-01-11T16:37:51.017Z"
   },
   {
    "duration": 43,
    "start_time": "2023-01-11T16:38:01.010Z"
   },
   {
    "duration": 31,
    "start_time": "2023-01-11T16:39:04.439Z"
   },
   {
    "duration": 34,
    "start_time": "2023-01-11T16:39:15.066Z"
   },
   {
    "duration": 34,
    "start_time": "2023-01-11T16:40:00.334Z"
   },
   {
    "duration": 36,
    "start_time": "2023-01-11T16:40:09.921Z"
   },
   {
    "duration": 74,
    "start_time": "2023-01-11T16:42:35.861Z"
   },
   {
    "duration": 74,
    "start_time": "2023-01-11T16:42:48.413Z"
   },
   {
    "duration": 94,
    "start_time": "2023-01-11T16:43:06.436Z"
   },
   {
    "duration": 76,
    "start_time": "2023-01-11T16:43:47.424Z"
   },
   {
    "duration": 68,
    "start_time": "2023-01-11T16:43:56.542Z"
   },
   {
    "duration": 20,
    "start_time": "2023-01-11T16:44:11.065Z"
   },
   {
    "duration": 24,
    "start_time": "2023-01-11T16:44:26.493Z"
   },
   {
    "duration": 32,
    "start_time": "2023-01-11T16:44:49.306Z"
   },
   {
    "duration": 22,
    "start_time": "2023-01-11T16:45:21.318Z"
   },
   {
    "duration": 25,
    "start_time": "2023-01-11T16:45:40.946Z"
   },
   {
    "duration": 21,
    "start_time": "2023-01-11T16:45:50.575Z"
   },
   {
    "duration": 23,
    "start_time": "2023-01-11T16:45:59.319Z"
   },
   {
    "duration": 24,
    "start_time": "2023-01-11T16:46:31.485Z"
   },
   {
    "duration": 24,
    "start_time": "2023-01-11T16:47:01.606Z"
   },
   {
    "duration": 1297,
    "start_time": "2023-01-11T16:48:25.866Z"
   },
   {
    "duration": 29,
    "start_time": "2023-01-11T16:48:51.617Z"
   },
   {
    "duration": 27,
    "start_time": "2023-01-11T16:49:31.801Z"
   },
   {
    "duration": 24,
    "start_time": "2023-01-11T16:49:37.698Z"
   },
   {
    "duration": 33,
    "start_time": "2023-01-11T16:50:41.043Z"
   },
   {
    "duration": 1441,
    "start_time": "2023-01-12T13:52:14.274Z"
   },
   {
    "duration": 282,
    "start_time": "2023-01-12T13:52:15.717Z"
   },
   {
    "duration": 19,
    "start_time": "2023-01-12T13:52:16.001Z"
   },
   {
    "duration": 12,
    "start_time": "2023-01-12T13:52:16.022Z"
   },
   {
    "duration": 16,
    "start_time": "2023-01-12T13:52:16.037Z"
   },
   {
    "duration": 10,
    "start_time": "2023-01-12T13:52:16.054Z"
   },
   {
    "duration": 17,
    "start_time": "2023-01-12T13:52:16.066Z"
   },
   {
    "duration": 16,
    "start_time": "2023-01-12T13:52:16.085Z"
   },
   {
    "duration": 13,
    "start_time": "2023-01-12T13:52:16.103Z"
   },
   {
    "duration": 41,
    "start_time": "2023-01-12T13:52:16.118Z"
   },
   {
    "duration": 234,
    "start_time": "2023-01-12T13:52:16.161Z"
   },
   {
    "duration": 5,
    "start_time": "2023-01-12T13:52:16.397Z"
   },
   {
    "duration": 24,
    "start_time": "2023-01-12T13:52:16.404Z"
   },
   {
    "duration": 25,
    "start_time": "2023-01-12T13:52:16.431Z"
   },
   {
    "duration": 4,
    "start_time": "2023-01-12T13:52:16.458Z"
   },
   {
    "duration": 13,
    "start_time": "2023-01-12T13:52:16.464Z"
   },
   {
    "duration": 10,
    "start_time": "2023-01-12T13:52:16.479Z"
   },
   {
    "duration": 21,
    "start_time": "2023-01-12T13:52:16.491Z"
   },
   {
    "duration": 41,
    "start_time": "2023-01-12T13:52:16.514Z"
   },
   {
    "duration": 17,
    "start_time": "2023-01-12T13:52:16.557Z"
   },
   {
    "duration": 9,
    "start_time": "2023-01-12T13:52:16.576Z"
   },
   {
    "duration": 11,
    "start_time": "2023-01-12T13:52:16.586Z"
   },
   {
    "duration": 21,
    "start_time": "2023-01-12T13:52:16.598Z"
   },
   {
    "duration": 15,
    "start_time": "2023-01-12T13:52:16.621Z"
   },
   {
    "duration": 71,
    "start_time": "2023-01-12T13:52:16.638Z"
   },
   {
    "duration": 9,
    "start_time": "2023-01-12T13:52:16.711Z"
   },
   {
    "duration": 214,
    "start_time": "2023-01-12T13:52:16.722Z"
   },
   {
    "duration": 1539,
    "start_time": "2023-01-12T13:52:16.938Z"
   },
   {
    "duration": 20,
    "start_time": "2023-01-12T13:52:18.479Z"
   },
   {
    "duration": 329,
    "start_time": "2023-01-12T13:52:18.501Z"
   },
   {
    "duration": 4,
    "start_time": "2023-01-12T13:52:18.831Z"
   },
   {
    "duration": 33,
    "start_time": "2023-01-12T13:52:18.837Z"
   },
   {
    "duration": 226,
    "start_time": "2023-01-12T13:52:18.871Z"
   },
   {
    "duration": 77,
    "start_time": "2023-01-12T13:52:19.099Z"
   },
   {
    "duration": 5,
    "start_time": "2023-01-12T13:52:19.178Z"
   },
   {
    "duration": 48,
    "start_time": "2023-01-12T13:52:19.184Z"
   },
   {
    "duration": 31,
    "start_time": "2023-01-12T13:52:19.234Z"
   },
   {
    "duration": 270,
    "start_time": "2023-01-12T13:52:19.266Z"
   },
   {
    "duration": 232,
    "start_time": "2023-01-12T13:52:19.538Z"
   },
   {
    "duration": 265,
    "start_time": "2023-01-12T13:52:19.772Z"
   },
   {
    "duration": 260,
    "start_time": "2023-01-12T13:52:20.041Z"
   },
   {
    "duration": 257,
    "start_time": "2023-01-12T13:52:20.302Z"
   },
   {
    "duration": 22,
    "start_time": "2023-01-12T13:52:20.561Z"
   },
   {
    "duration": 6,
    "start_time": "2023-01-12T13:52:23.767Z"
   },
   {
    "duration": 15,
    "start_time": "2023-01-12T13:52:31.109Z"
   },
   {
    "duration": 1049,
    "start_time": "2023-01-12T13:52:55.172Z"
   },
   {
    "duration": 975,
    "start_time": "2023-01-12T13:53:04.913Z"
   },
   {
    "duration": 13,
    "start_time": "2023-01-12T13:53:22.010Z"
   },
   {
    "duration": 5,
    "start_time": "2023-01-12T13:58:59.748Z"
   },
   {
    "duration": 21,
    "start_time": "2023-01-12T13:59:41.210Z"
   },
   {
    "duration": 138,
    "start_time": "2023-01-12T14:01:55.878Z"
   },
   {
    "duration": 217,
    "start_time": "2023-01-12T14:02:24.214Z"
   },
   {
    "duration": 178,
    "start_time": "2023-01-12T14:02:34.781Z"
   },
   {
    "duration": 51,
    "start_time": "2023-01-12T17:28:04.424Z"
   },
   {
    "duration": 1510,
    "start_time": "2023-01-12T17:28:11.002Z"
   },
   {
    "duration": 322,
    "start_time": "2023-01-12T17:28:12.514Z"
   },
   {
    "duration": 16,
    "start_time": "2023-01-12T17:28:12.838Z"
   },
   {
    "duration": 15,
    "start_time": "2023-01-12T17:28:12.857Z"
   },
   {
    "duration": 20,
    "start_time": "2023-01-12T17:28:12.874Z"
   },
   {
    "duration": 10,
    "start_time": "2023-01-12T17:28:12.896Z"
   },
   {
    "duration": 16,
    "start_time": "2023-01-12T17:28:12.911Z"
   },
   {
    "duration": 14,
    "start_time": "2023-01-12T17:28:12.929Z"
   },
   {
    "duration": 23,
    "start_time": "2023-01-12T17:28:12.945Z"
   },
   {
    "duration": 24,
    "start_time": "2023-01-12T17:28:12.971Z"
   },
   {
    "duration": 226,
    "start_time": "2023-01-12T17:28:12.997Z"
   },
   {
    "duration": 6,
    "start_time": "2023-01-12T17:28:13.225Z"
   },
   {
    "duration": 42,
    "start_time": "2023-01-12T17:28:13.233Z"
   },
   {
    "duration": 13,
    "start_time": "2023-01-12T17:28:13.276Z"
   },
   {
    "duration": 22,
    "start_time": "2023-01-12T17:28:13.291Z"
   },
   {
    "duration": 29,
    "start_time": "2023-01-12T17:28:13.315Z"
   },
   {
    "duration": 24,
    "start_time": "2023-01-12T17:28:13.346Z"
   },
   {
    "duration": 29,
    "start_time": "2023-01-12T17:28:13.371Z"
   },
   {
    "duration": 30,
    "start_time": "2023-01-12T17:28:13.402Z"
   },
   {
    "duration": 38,
    "start_time": "2023-01-12T17:28:13.434Z"
   },
   {
    "duration": 16,
    "start_time": "2023-01-12T17:28:13.475Z"
   },
   {
    "duration": 31,
    "start_time": "2023-01-12T17:28:13.493Z"
   },
   {
    "duration": 33,
    "start_time": "2023-01-12T17:28:13.526Z"
   },
   {
    "duration": 15,
    "start_time": "2023-01-12T17:28:13.561Z"
   },
   {
    "duration": 64,
    "start_time": "2023-01-12T17:28:13.577Z"
   },
   {
    "duration": 12,
    "start_time": "2023-01-12T17:28:13.643Z"
   },
   {
    "duration": 202,
    "start_time": "2023-01-12T17:28:13.657Z"
   },
   {
    "duration": 1557,
    "start_time": "2023-01-12T17:28:13.863Z"
   },
   {
    "duration": 23,
    "start_time": "2023-01-12T17:28:15.422Z"
   },
   {
    "duration": 333,
    "start_time": "2023-01-12T17:28:15.447Z"
   },
   {
    "duration": 6,
    "start_time": "2023-01-12T17:28:15.782Z"
   },
   {
    "duration": 29,
    "start_time": "2023-01-12T17:28:15.790Z"
   },
   {
    "duration": 207,
    "start_time": "2023-01-12T17:28:15.821Z"
   },
   {
    "duration": 67,
    "start_time": "2023-01-12T17:28:16.030Z"
   },
   {
    "duration": 16,
    "start_time": "2023-01-12T17:28:16.099Z"
   },
   {
    "duration": 43,
    "start_time": "2023-01-12T17:28:16.117Z"
   },
   {
    "duration": 22,
    "start_time": "2023-01-12T17:28:16.162Z"
   },
   {
    "duration": 312,
    "start_time": "2023-01-12T17:28:16.186Z"
   },
   {
    "duration": 231,
    "start_time": "2023-01-12T17:28:16.500Z"
   },
   {
    "duration": 255,
    "start_time": "2023-01-12T17:28:16.732Z"
   },
   {
    "duration": 267,
    "start_time": "2023-01-12T17:28:16.989Z"
   },
   {
    "duration": 371,
    "start_time": "2023-01-12T17:28:17.259Z"
   },
   {
    "duration": 31,
    "start_time": "2023-01-12T17:28:17.633Z"
   },
   {
    "duration": 17,
    "start_time": "2023-01-12T17:28:17.666Z"
   },
   {
    "duration": 1248,
    "start_time": "2023-01-12T17:28:17.684Z"
   },
   {
    "duration": 18,
    "start_time": "2023-01-12T17:28:18.934Z"
   },
   {
    "duration": 13,
    "start_time": "2023-01-12T17:28:18.954Z"
   },
   {
    "duration": 27,
    "start_time": "2023-01-12T17:28:18.968Z"
   },
   {
    "duration": 254,
    "start_time": "2023-01-12T17:28:18.997Z"
   },
   {
    "duration": 12,
    "start_time": "2023-01-12T17:28:19.253Z"
   },
   {
    "duration": 29,
    "start_time": "2023-01-12T17:28:59.080Z"
   },
   {
    "duration": 116,
    "start_time": "2023-01-12T17:29:39.738Z"
   },
   {
    "duration": 16,
    "start_time": "2023-01-12T17:30:09.241Z"
   },
   {
    "duration": 47,
    "start_time": "2023-01-12T17:34:58.377Z"
   },
   {
    "duration": 34,
    "start_time": "2023-01-12T17:35:04.188Z"
   },
   {
    "duration": 26,
    "start_time": "2023-01-12T17:35:50.065Z"
   },
   {
    "duration": 34,
    "start_time": "2023-01-12T17:40:26.455Z"
   },
   {
    "duration": 30,
    "start_time": "2023-01-12T17:43:11.739Z"
   },
   {
    "duration": 19,
    "start_time": "2023-01-12T17:46:14.736Z"
   },
   {
    "duration": 25,
    "start_time": "2023-01-12T17:46:24.413Z"
   },
   {
    "duration": 114,
    "start_time": "2023-01-12T17:47:00.603Z"
   },
   {
    "duration": 18,
    "start_time": "2023-01-12T17:47:07.644Z"
   },
   {
    "duration": 26,
    "start_time": "2023-01-12T17:47:31.242Z"
   },
   {
    "duration": 20,
    "start_time": "2023-01-12T17:47:48.980Z"
   },
   {
    "duration": 30,
    "start_time": "2023-01-12T17:47:56.912Z"
   },
   {
    "duration": 27,
    "start_time": "2023-01-12T17:51:06.344Z"
   },
   {
    "duration": 24,
    "start_time": "2023-01-12T17:51:13.387Z"
   },
   {
    "duration": 26,
    "start_time": "2023-01-12T17:52:07.041Z"
   },
   {
    "duration": 22,
    "start_time": "2023-01-12T17:53:50.629Z"
   },
   {
    "duration": 27,
    "start_time": "2023-01-12T17:55:11.283Z"
   },
   {
    "duration": 17,
    "start_time": "2023-01-12T17:56:07.875Z"
   },
   {
    "duration": 28,
    "start_time": "2023-01-12T17:56:11.284Z"
   },
   {
    "duration": 26,
    "start_time": "2023-01-12T18:00:07.004Z"
   },
   {
    "duration": 33,
    "start_time": "2023-01-12T18:00:14.562Z"
   },
   {
    "duration": 24,
    "start_time": "2023-01-12T18:01:12.477Z"
   },
   {
    "duration": 30,
    "start_time": "2023-01-12T18:01:29.318Z"
   },
   {
    "duration": 20,
    "start_time": "2023-01-12T18:09:48.062Z"
   },
   {
    "duration": 41,
    "start_time": "2023-01-12T18:09:55.538Z"
   },
   {
    "duration": 5,
    "start_time": "2023-01-12T18:11:23.866Z"
   },
   {
    "duration": 6,
    "start_time": "2023-01-12T18:12:20.968Z"
   },
   {
    "duration": 210,
    "start_time": "2023-01-12T18:16:16.012Z"
   },
   {
    "duration": 13,
    "start_time": "2023-01-12T18:17:32.121Z"
   },
   {
    "duration": 17,
    "start_time": "2023-01-12T18:18:38.943Z"
   },
   {
    "duration": 1240,
    "start_time": "2023-01-13T10:16:35.857Z"
   },
   {
    "duration": 401,
    "start_time": "2023-01-13T10:16:37.099Z"
   },
   {
    "duration": 16,
    "start_time": "2023-01-13T10:16:37.502Z"
   },
   {
    "duration": 13,
    "start_time": "2023-01-13T10:16:37.520Z"
   },
   {
    "duration": 27,
    "start_time": "2023-01-13T10:16:37.535Z"
   },
   {
    "duration": 7,
    "start_time": "2023-01-13T10:16:37.564Z"
   },
   {
    "duration": 24,
    "start_time": "2023-01-13T10:16:37.573Z"
   },
   {
    "duration": 15,
    "start_time": "2023-01-13T10:16:37.599Z"
   },
   {
    "duration": 13,
    "start_time": "2023-01-13T10:16:37.616Z"
   },
   {
    "duration": 22,
    "start_time": "2023-01-13T10:16:37.633Z"
   },
   {
    "duration": 229,
    "start_time": "2023-01-13T10:16:37.657Z"
   },
   {
    "duration": 14,
    "start_time": "2023-01-13T10:16:37.888Z"
   },
   {
    "duration": 24,
    "start_time": "2023-01-13T10:16:37.904Z"
   },
   {
    "duration": 13,
    "start_time": "2023-01-13T10:16:37.929Z"
   },
   {
    "duration": 14,
    "start_time": "2023-01-13T10:16:37.944Z"
   },
   {
    "duration": 19,
    "start_time": "2023-01-13T10:16:37.960Z"
   },
   {
    "duration": 25,
    "start_time": "2023-01-13T10:16:37.980Z"
   },
   {
    "duration": 16,
    "start_time": "2023-01-13T10:16:38.006Z"
   },
   {
    "duration": 12,
    "start_time": "2023-01-13T10:16:38.024Z"
   },
   {
    "duration": 26,
    "start_time": "2023-01-13T10:16:38.038Z"
   },
   {
    "duration": 7,
    "start_time": "2023-01-13T10:16:38.066Z"
   },
   {
    "duration": 8,
    "start_time": "2023-01-13T10:16:38.098Z"
   },
   {
    "duration": 13,
    "start_time": "2023-01-13T10:16:38.108Z"
   },
   {
    "duration": 15,
    "start_time": "2023-01-13T10:16:38.123Z"
   },
   {
    "duration": 72,
    "start_time": "2023-01-13T10:16:38.140Z"
   },
   {
    "duration": 9,
    "start_time": "2023-01-13T10:16:38.213Z"
   },
   {
    "duration": 181,
    "start_time": "2023-01-13T10:16:38.223Z"
   },
   {
    "duration": 1320,
    "start_time": "2023-01-13T10:16:38.408Z"
   },
   {
    "duration": 19,
    "start_time": "2023-01-13T10:16:39.730Z"
   },
   {
    "duration": 312,
    "start_time": "2023-01-13T10:16:39.751Z"
   },
   {
    "duration": 4,
    "start_time": "2023-01-13T10:16:40.065Z"
   },
   {
    "duration": 26,
    "start_time": "2023-01-13T10:16:40.071Z"
   },
   {
    "duration": 187,
    "start_time": "2023-01-13T10:16:40.099Z"
   },
   {
    "duration": 68,
    "start_time": "2023-01-13T10:16:40.287Z"
   },
   {
    "duration": 4,
    "start_time": "2023-01-13T10:16:40.357Z"
   },
   {
    "duration": 50,
    "start_time": "2023-01-13T10:16:40.363Z"
   },
   {
    "duration": 15,
    "start_time": "2023-01-13T10:16:40.415Z"
   },
   {
    "duration": 255,
    "start_time": "2023-01-13T10:16:40.431Z"
   },
   {
    "duration": 209,
    "start_time": "2023-01-13T10:16:40.688Z"
   },
   {
    "duration": 232,
    "start_time": "2023-01-13T10:16:40.898Z"
   },
   {
    "duration": 230,
    "start_time": "2023-01-13T10:16:41.131Z"
   },
   {
    "duration": 223,
    "start_time": "2023-01-13T10:16:41.363Z"
   },
   {
    "duration": 25,
    "start_time": "2023-01-13T10:16:41.588Z"
   },
   {
    "duration": 154,
    "start_time": "2023-01-13T10:16:41.614Z"
   },
   {
    "duration": 14,
    "start_time": "2023-01-13T10:16:41.770Z"
   },
   {
    "duration": 21,
    "start_time": "2023-01-13T10:16:41.797Z"
   },
   {
    "duration": 1073,
    "start_time": "2023-01-13T10:16:41.820Z"
   },
   {
    "duration": 13,
    "start_time": "2023-01-13T10:16:42.897Z"
   },
   {
    "duration": 13,
    "start_time": "2023-01-13T10:16:42.912Z"
   },
   {
    "duration": 26,
    "start_time": "2023-01-13T10:16:42.927Z"
   },
   {
    "duration": 154,
    "start_time": "2023-01-13T10:16:42.955Z"
   },
   {
    "duration": 9,
    "start_time": "2023-01-13T10:16:43.111Z"
   },
   {
    "duration": 40,
    "start_time": "2023-01-13T10:16:43.121Z"
   },
   {
    "duration": 126,
    "start_time": "2023-01-13T10:16:43.163Z"
   },
   {
    "duration": 27,
    "start_time": "2023-01-13T10:16:43.290Z"
   },
   {
    "duration": 27,
    "start_time": "2023-01-13T10:16:43.318Z"
   },
   {
    "duration": 56,
    "start_time": "2023-01-13T10:16:43.346Z"
   },
   {
    "duration": 34,
    "start_time": "2023-01-13T10:16:43.404Z"
   },
   {
    "duration": 24,
    "start_time": "2023-01-13T10:16:43.440Z"
   },
   {
    "duration": 55,
    "start_time": "2023-01-13T10:16:43.465Z"
   },
   {
    "duration": 27,
    "start_time": "2023-01-13T10:16:43.522Z"
   },
   {
    "duration": 5,
    "start_time": "2023-01-13T10:16:43.551Z"
   },
   {
    "duration": 2,
    "start_time": "2023-01-13T10:22:46.204Z"
   },
   {
    "duration": 99,
    "start_time": "2023-01-13T10:30:13.724Z"
   },
   {
    "duration": 177,
    "start_time": "2023-01-13T10:30:19.771Z"
   },
   {
    "duration": 172,
    "start_time": "2023-01-13T10:30:30.151Z"
   },
   {
    "duration": 25,
    "start_time": "2023-01-13T10:30:49.092Z"
   },
   {
    "duration": 232,
    "start_time": "2023-01-13T10:31:12.253Z"
   },
   {
    "duration": 213,
    "start_time": "2023-01-13T10:31:25.479Z"
   },
   {
    "duration": 164,
    "start_time": "2023-01-13T10:31:45.342Z"
   },
   {
    "duration": 12,
    "start_time": "2023-01-13T10:32:36.080Z"
   },
   {
    "duration": 11,
    "start_time": "2023-01-13T10:34:06.150Z"
   },
   {
    "duration": 2599,
    "start_time": "2023-01-13T10:34:57.040Z"
   },
   {
    "duration": 2843,
    "start_time": "2023-01-13T10:39:54.095Z"
   },
   {
    "duration": 3137,
    "start_time": "2023-01-13T10:40:03.368Z"
   },
   {
    "duration": 217,
    "start_time": "2023-01-13T10:41:20.840Z"
   },
   {
    "duration": 260,
    "start_time": "2023-01-13T10:41:54.590Z"
   },
   {
    "duration": 208,
    "start_time": "2023-01-13T10:44:05.667Z"
   },
   {
    "duration": 268,
    "start_time": "2023-01-13T10:44:28.692Z"
   },
   {
    "duration": 25,
    "start_time": "2023-01-13T10:46:52.431Z"
   },
   {
    "duration": 242,
    "start_time": "2023-01-13T11:34:55.411Z"
   },
   {
    "duration": 286,
    "start_time": "2023-01-13T11:35:01.317Z"
   },
   {
    "duration": 365,
    "start_time": "2023-01-13T11:35:30.878Z"
   },
   {
    "duration": 30,
    "start_time": "2023-01-13T11:36:05.132Z"
   },
   {
    "duration": 27,
    "start_time": "2023-01-13T11:37:11.981Z"
   },
   {
    "duration": 24,
    "start_time": "2023-01-13T11:37:19.579Z"
   },
   {
    "duration": 95,
    "start_time": "2023-01-14T08:41:18.177Z"
   },
   {
    "duration": 55,
    "start_time": "2023-01-14T08:51:23.254Z"
   },
   {
    "duration": 51,
    "start_time": "2023-01-14T13:32:23.545Z"
   },
   {
    "duration": 1394,
    "start_time": "2023-01-14T13:32:29.712Z"
   },
   {
    "duration": 534,
    "start_time": "2023-01-14T13:32:31.112Z"
   },
   {
    "duration": 19,
    "start_time": "2023-01-14T13:32:31.648Z"
   },
   {
    "duration": 42,
    "start_time": "2023-01-14T13:32:31.669Z"
   },
   {
    "duration": 27,
    "start_time": "2023-01-14T13:32:31.716Z"
   },
   {
    "duration": 21,
    "start_time": "2023-01-14T13:32:31.745Z"
   },
   {
    "duration": 85,
    "start_time": "2023-01-14T13:32:31.768Z"
   },
   {
    "duration": 31,
    "start_time": "2023-01-14T13:32:31.855Z"
   },
   {
    "duration": 37,
    "start_time": "2023-01-14T13:32:31.887Z"
   },
   {
    "duration": 28,
    "start_time": "2023-01-14T13:32:31.926Z"
   },
   {
    "duration": 232,
    "start_time": "2023-01-14T13:32:31.955Z"
   },
   {
    "duration": 7,
    "start_time": "2023-01-14T13:32:32.200Z"
   },
   {
    "duration": 53,
    "start_time": "2023-01-14T13:32:32.208Z"
   },
   {
    "duration": 14,
    "start_time": "2023-01-14T13:32:32.266Z"
   },
   {
    "duration": 53,
    "start_time": "2023-01-14T13:32:32.282Z"
   },
   {
    "duration": 15,
    "start_time": "2023-01-14T13:32:32.337Z"
   },
   {
    "duration": 52,
    "start_time": "2023-01-14T13:32:32.354Z"
   },
   {
    "duration": 39,
    "start_time": "2023-01-14T13:32:32.407Z"
   },
   {
    "duration": 24,
    "start_time": "2023-01-14T13:32:32.448Z"
   },
   {
    "duration": 40,
    "start_time": "2023-01-14T13:32:32.475Z"
   },
   {
    "duration": 28,
    "start_time": "2023-01-14T13:32:32.517Z"
   },
   {
    "duration": 16,
    "start_time": "2023-01-14T13:32:32.546Z"
   },
   {
    "duration": 11,
    "start_time": "2023-01-14T13:32:32.564Z"
   },
   {
    "duration": 49,
    "start_time": "2023-01-14T13:32:32.579Z"
   },
   {
    "duration": 22,
    "start_time": "2023-01-14T13:32:32.630Z"
   },
   {
    "duration": 67,
    "start_time": "2023-01-14T13:32:32.655Z"
   },
   {
    "duration": 10,
    "start_time": "2023-01-14T13:32:32.723Z"
   },
   {
    "duration": 225,
    "start_time": "2023-01-14T13:32:32.734Z"
   },
   {
    "duration": 1621,
    "start_time": "2023-01-14T13:32:32.961Z"
   },
   {
    "duration": 24,
    "start_time": "2023-01-14T13:32:34.583Z"
   },
   {
    "duration": 349,
    "start_time": "2023-01-14T13:32:34.608Z"
   },
   {
    "duration": 4,
    "start_time": "2023-01-14T13:32:34.958Z"
   },
   {
    "duration": 56,
    "start_time": "2023-01-14T13:32:34.964Z"
   },
   {
    "duration": 228,
    "start_time": "2023-01-14T13:32:35.022Z"
   },
   {
    "duration": 75,
    "start_time": "2023-01-14T13:32:35.251Z"
   },
   {
    "duration": 5,
    "start_time": "2023-01-14T13:32:35.328Z"
   },
   {
    "duration": 73,
    "start_time": "2023-01-14T13:32:35.334Z"
   },
   {
    "duration": 19,
    "start_time": "2023-01-14T13:32:35.416Z"
   },
   {
    "duration": 279,
    "start_time": "2023-01-14T13:32:35.437Z"
   },
   {
    "duration": 232,
    "start_time": "2023-01-14T13:32:35.719Z"
   },
   {
    "duration": 298,
    "start_time": "2023-01-14T13:32:35.956Z"
   },
   {
    "duration": 265,
    "start_time": "2023-01-14T13:32:36.256Z"
   },
   {
    "duration": 266,
    "start_time": "2023-01-14T13:32:36.523Z"
   },
   {
    "duration": 36,
    "start_time": "2023-01-14T13:32:36.791Z"
   },
   {
    "duration": 204,
    "start_time": "2023-01-14T13:32:36.829Z"
   },
   {
    "duration": 20,
    "start_time": "2023-01-14T13:32:37.035Z"
   },
   {
    "duration": 1406,
    "start_time": "2023-01-14T13:32:37.057Z"
   },
   {
    "duration": 3173,
    "start_time": "2023-01-14T13:32:38.465Z"
   },
   {
    "duration": 445,
    "start_time": "2023-01-14T13:32:41.640Z"
   },
   {
    "duration": 9,
    "start_time": "2023-01-14T13:32:42.087Z"
   },
   {
    "duration": 323,
    "start_time": "2023-01-14T13:32:42.097Z"
   },
   {
    "duration": 179,
    "start_time": "2023-01-14T13:32:42.422Z"
   },
   {
    "duration": 24,
    "start_time": "2023-01-14T13:32:42.602Z"
   },
   {
    "duration": 45,
    "start_time": "2023-01-14T13:32:42.629Z"
   },
   {
    "duration": 65,
    "start_time": "2023-01-14T13:32:42.677Z"
   },
   {
    "duration": 486,
    "start_time": "2023-01-14T13:32:42.744Z"
   },
   {
    "duration": 28,
    "start_time": "2023-01-14T13:32:43.232Z"
   },
   {
    "duration": 54,
    "start_time": "2023-01-14T13:32:43.262Z"
   },
   {
    "duration": 37,
    "start_time": "2023-01-14T13:32:43.318Z"
   },
   {
    "duration": 57,
    "start_time": "2023-01-14T13:32:43.356Z"
   },
   {
    "duration": 34,
    "start_time": "2023-01-14T13:32:43.418Z"
   },
   {
    "duration": 28,
    "start_time": "2023-01-14T13:32:43.454Z"
   },
   {
    "duration": 7,
    "start_time": "2023-01-14T13:32:43.484Z"
   },
   {
    "duration": 15,
    "start_time": "2023-01-14T13:32:51.088Z"
   },
   {
    "duration": 19,
    "start_time": "2023-01-14T13:33:49.397Z"
   },
   {
    "duration": 7,
    "start_time": "2023-01-14T13:34:20.828Z"
   },
   {
    "duration": 6,
    "start_time": "2023-01-14T13:34:29.356Z"
   },
   {
    "duration": 110,
    "start_time": "2023-01-14T13:34:53.800Z"
   },
   {
    "duration": 6,
    "start_time": "2023-01-14T13:34:59.257Z"
   },
   {
    "duration": 10,
    "start_time": "2023-01-14T13:35:06.271Z"
   },
   {
    "duration": 14,
    "start_time": "2023-01-14T13:35:12.305Z"
   },
   {
    "duration": 12,
    "start_time": "2023-01-14T13:35:21.598Z"
   },
   {
    "duration": 7,
    "start_time": "2023-01-14T13:36:55.512Z"
   },
   {
    "duration": 26,
    "start_time": "2023-01-14T13:37:58.186Z"
   },
   {
    "duration": 647,
    "start_time": "2023-01-14T13:38:23.918Z"
   },
   {
    "duration": 9,
    "start_time": "2023-01-14T13:38:39.972Z"
   },
   {
    "duration": 26,
    "start_time": "2023-01-14T13:38:42.673Z"
   },
   {
    "duration": 9,
    "start_time": "2023-01-14T13:42:38.414Z"
   },
   {
    "duration": 62,
    "start_time": "2023-01-14T13:42:57.334Z"
   },
   {
    "duration": 9,
    "start_time": "2023-01-14T13:43:00.031Z"
   },
   {
    "duration": 95,
    "start_time": "2023-01-14T13:43:29.813Z"
   },
   {
    "duration": 104,
    "start_time": "2023-01-14T13:43:36.702Z"
   },
   {
    "duration": 72,
    "start_time": "2023-01-14T13:43:41.518Z"
   },
   {
    "duration": 9,
    "start_time": "2023-01-14T13:43:45.405Z"
   },
   {
    "duration": 24,
    "start_time": "2023-01-14T13:43:59.247Z"
   },
   {
    "duration": 40,
    "start_time": "2023-01-14T13:44:06.750Z"
   },
   {
    "duration": 4,
    "start_time": "2023-01-14T13:44:20.793Z"
   },
   {
    "duration": 20,
    "start_time": "2023-01-14T13:44:25.278Z"
   },
   {
    "duration": 14,
    "start_time": "2023-01-14T13:44:29.704Z"
   },
   {
    "duration": 30,
    "start_time": "2023-01-14T13:44:49.328Z"
   },
   {
    "duration": 1114,
    "start_time": "2023-01-14T13:45:03.236Z"
   },
   {
    "duration": 155,
    "start_time": "2023-01-14T13:45:04.352Z"
   },
   {
    "duration": 20,
    "start_time": "2023-01-14T13:45:04.509Z"
   },
   {
    "duration": 18,
    "start_time": "2023-01-14T13:45:04.532Z"
   },
   {
    "duration": 18,
    "start_time": "2023-01-14T13:45:04.551Z"
   },
   {
    "duration": 15,
    "start_time": "2023-01-14T13:45:04.571Z"
   },
   {
    "duration": 35,
    "start_time": "2023-01-14T13:45:04.587Z"
   },
   {
    "duration": 13,
    "start_time": "2023-01-14T13:45:04.624Z"
   },
   {
    "duration": 12,
    "start_time": "2023-01-14T13:45:04.639Z"
   },
   {
    "duration": 14,
    "start_time": "2023-01-14T13:45:04.653Z"
   },
   {
    "duration": 207,
    "start_time": "2023-01-14T13:45:04.669Z"
   },
   {
    "duration": 9,
    "start_time": "2023-01-14T13:45:04.877Z"
   },
   {
    "duration": 36,
    "start_time": "2023-01-14T13:45:04.888Z"
   },
   {
    "duration": 7,
    "start_time": "2023-01-14T13:45:04.926Z"
   },
   {
    "duration": 7,
    "start_time": "2023-01-14T13:45:04.935Z"
   },
   {
    "duration": 6,
    "start_time": "2023-01-14T13:45:04.943Z"
   },
   {
    "duration": 4,
    "start_time": "2023-01-14T13:45:04.951Z"
   },
   {
    "duration": 47,
    "start_time": "2023-01-14T13:45:04.957Z"
   },
   {
    "duration": 5,
    "start_time": "2023-01-14T13:45:05.006Z"
   },
   {
    "duration": 22,
    "start_time": "2023-01-14T13:45:05.013Z"
   },
   {
    "duration": 12,
    "start_time": "2023-01-14T13:45:05.037Z"
   },
   {
    "duration": 62,
    "start_time": "2023-01-14T13:45:05.051Z"
   },
   {
    "duration": 33,
    "start_time": "2023-01-14T13:45:05.114Z"
   },
   {
    "duration": 38,
    "start_time": "2023-01-14T13:45:05.148Z"
   },
   {
    "duration": 30,
    "start_time": "2023-01-14T13:45:05.187Z"
   },
   {
    "duration": 19,
    "start_time": "2023-01-14T13:45:05.219Z"
   },
   {
    "duration": 17,
    "start_time": "2023-01-14T13:45:05.240Z"
   },
   {
    "duration": 20,
    "start_time": "2023-01-14T13:45:05.261Z"
   },
   {
    "duration": 82,
    "start_time": "2023-01-14T13:45:05.284Z"
   },
   {
    "duration": 9,
    "start_time": "2023-01-14T13:45:05.368Z"
   },
   {
    "duration": 261,
    "start_time": "2023-01-14T13:45:05.383Z"
   },
   {
    "duration": 1463,
    "start_time": "2023-01-14T13:45:05.646Z"
   },
   {
    "duration": 19,
    "start_time": "2023-01-14T13:45:07.112Z"
   },
   {
    "duration": 325,
    "start_time": "2023-01-14T13:45:07.133Z"
   },
   {
    "duration": 5,
    "start_time": "2023-01-14T13:45:07.460Z"
   },
   {
    "duration": 25,
    "start_time": "2023-01-14T13:45:07.467Z"
   },
   {
    "duration": 203,
    "start_time": "2023-01-14T13:45:07.494Z"
   },
   {
    "duration": 61,
    "start_time": "2023-01-14T13:45:07.698Z"
   },
   {
    "duration": 20,
    "start_time": "2023-01-14T13:45:07.761Z"
   },
   {
    "duration": 53,
    "start_time": "2023-01-14T13:45:07.789Z"
   },
   {
    "duration": 33,
    "start_time": "2023-01-14T13:45:07.844Z"
   },
   {
    "duration": 30,
    "start_time": "2023-01-14T13:45:07.879Z"
   },
   {
    "duration": 240,
    "start_time": "2023-01-14T13:45:07.911Z"
   },
   {
    "duration": 208,
    "start_time": "2023-01-14T13:45:08.152Z"
   },
   {
    "duration": 245,
    "start_time": "2023-01-14T13:45:08.362Z"
   },
   {
    "duration": 254,
    "start_time": "2023-01-14T13:45:08.610Z"
   },
   {
    "duration": 256,
    "start_time": "2023-01-14T13:45:08.866Z"
   },
   {
    "duration": 21,
    "start_time": "2023-01-14T13:45:09.124Z"
   },
   {
    "duration": 166,
    "start_time": "2023-01-14T13:45:09.146Z"
   },
   {
    "duration": 14,
    "start_time": "2023-01-14T13:45:09.314Z"
   },
   {
    "duration": 1130,
    "start_time": "2023-01-14T13:45:09.330Z"
   },
   {
    "duration": 3016,
    "start_time": "2023-01-14T13:45:10.462Z"
   },
   {
    "duration": 417,
    "start_time": "2023-01-14T13:45:13.482Z"
   },
   {
    "duration": 5,
    "start_time": "2023-01-14T13:45:13.900Z"
   },
   {
    "duration": 331,
    "start_time": "2023-01-14T13:45:13.908Z"
   },
   {
    "duration": 154,
    "start_time": "2023-01-14T13:45:14.241Z"
   },
   {
    "duration": 11,
    "start_time": "2023-01-14T13:45:14.397Z"
   },
   {
    "duration": 28,
    "start_time": "2023-01-14T13:45:14.410Z"
   },
   {
    "duration": 44,
    "start_time": "2023-01-14T13:45:14.440Z"
   },
   {
    "duration": 384,
    "start_time": "2023-01-14T13:45:14.488Z"
   },
   {
    "duration": 42,
    "start_time": "2023-01-14T13:45:14.874Z"
   },
   {
    "duration": 76,
    "start_time": "2023-01-14T13:45:14.918Z"
   },
   {
    "duration": 76,
    "start_time": "2023-01-14T13:45:15.000Z"
   },
   {
    "duration": 70,
    "start_time": "2023-01-14T13:45:15.080Z"
   },
   {
    "duration": 77,
    "start_time": "2023-01-14T13:45:15.152Z"
   },
   {
    "duration": 31,
    "start_time": "2023-01-14T13:45:15.231Z"
   },
   {
    "duration": 63,
    "start_time": "2023-01-14T13:45:15.263Z"
   },
   {
    "duration": 36,
    "start_time": "2023-01-14T13:45:48.132Z"
   },
   {
    "duration": 39,
    "start_time": "2023-01-14T13:45:50.683Z"
   },
   {
    "duration": 9,
    "start_time": "2023-01-14T13:46:26.297Z"
   },
   {
    "duration": 105,
    "start_time": "2023-01-14T13:46:48.662Z"
   },
   {
    "duration": 7,
    "start_time": "2023-01-14T13:46:53.005Z"
   },
   {
    "duration": 2,
    "start_time": "2023-01-14T13:47:33.814Z"
   },
   {
    "duration": 142,
    "start_time": "2023-01-14T13:47:35.914Z"
   },
   {
    "duration": 12,
    "start_time": "2023-01-14T13:47:52.801Z"
   }
  ],
  "colab": {
   "name": "DA+. Сборный проект 1. Шаблон (1).ipynb",
   "provenance": []
  },
  "kernelspec": {
   "display_name": "Python 3 (ipykernel)",
   "language": "python",
   "name": "python3"
  },
  "language_info": {
   "codemirror_mode": {
    "name": "ipython",
    "version": 3
   },
   "file_extension": ".py",
   "mimetype": "text/x-python",
   "name": "python",
   "nbconvert_exporter": "python",
   "pygments_lexer": "ipython3",
   "version": "3.9.13"
  },
  "toc": {
   "base_numbering": 1,
   "nav_menu": {},
   "number_sections": true,
   "sideBar": true,
   "skip_h1_title": true,
   "title_cell": "Table of Contents",
   "title_sidebar": "Contents",
   "toc_cell": false,
   "toc_position": {
    "height": "calc(100% - 180px)",
    "left": "10px",
    "top": "150px",
    "width": "375.391px"
   },
   "toc_section_display": true,
   "toc_window_display": false
  }
 },
 "nbformat": 4,
 "nbformat_minor": 1
}
