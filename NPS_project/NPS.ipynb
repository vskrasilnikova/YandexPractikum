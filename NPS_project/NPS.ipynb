{
 "cells": [
  {
   "cell_type": "code",
   "execution_count": 4,
   "id": "e3c5edac",
   "metadata": {},
   "outputs": [],
   "source": [
    "import os\n",
    "import pandas as pd\n",
    "from sqlalchemy import create_engine"
   ]
  },
  {
   "cell_type": "code",
   "execution_count": 13,
   "id": "dd0899fe",
   "metadata": {},
   "outputs": [],
   "source": [
    "#путь к базе\n",
    "path_to_db_local = '/datasets/telecomm_csi.db'"
   ]
  },
  {
   "cell_type": "code",
   "execution_count": 14,
   "id": "cae0ec6d",
   "metadata": {},
   "outputs": [],
   "source": [
    "if os.path.exists(path_to_db_local):\n",
    "    path_to_db = path_to_db_local\n",
    "    \n",
    "else:\n",
    "    raise Exception('Файл с базой данных SQLite не найден!')"
   ]
  },
  {
   "cell_type": "code",
   "execution_count": 15,
   "id": "d363d66e",
   "metadata": {},
   "outputs": [],
   "source": [
    "if path_to_db:\n",
    "    engine = create_engine(f'sqlite:///{path_to_db}', echo=False)"
   ]
  },
  {
   "cell_type": "code",
   "execution_count": 25,
   "id": "8008bb0d",
   "metadata": {},
   "outputs": [],
   "source": [
    "#выгружаем данные из таблицы, столбцы с лояльностью и новыми и старыми пользователями делаем через оператор CASE\n",
    "query = '''SELECT u.user_id, u.lt_day,\n",
    "u.age,\n",
    "CASE WHEN u.gender_segment = 0 THEN 'мужчина'\n",
    "WHEN u.gender_segment = 1 THEN 'женщина'\n",
    "END AS gender_segment,\n",
    "u.os_name, u.cpe_type_name, u.nps_score,\n",
    "CASE WHEN u.nps_score >=9 THEN 'сторонники'\n",
    "     WHEN u.nps_score <= 6 THEN 'критики'\n",
    "     ELSE 'нейтралы'\n",
    "     END AS nps_group,\n",
    "CASE WHEN u.lt_day <= 365 THEN 'новый пользователь'\n",
    "     ELSE 'старый пользователь'\n",
    "     END AS is_new,\n",
    "loc.city, loc.country,\n",
    "SUBSTR(age.title, 4, 5) AS age_segment,\n",
    "SUBSTR(tr.title, 4, 5) AS traffic_sefment,\n",
    "SUBSTR(lt.title, 4, 5) AS lifetime_segment\n",
    "FROM user AS u\n",
    "LEFT JOIN location AS loc ON u.location_id = loc.location_id\n",
    "LEFT JOIN age_segment AS age ON u.age_gr_id = age.age_gr_id\n",
    "LEFT JOIN traffic_segment AS tr ON u.tr_gr_id = tr.tr_gr_id\n",
    "LEFT JOIN lifetime_segment AS lt ON u.lt_gr_id = lt.lt_gr_id'''"
   ]
  },
  {
   "cell_type": "code",
   "execution_count": 26,
   "id": "40e44a56",
   "metadata": {},
   "outputs": [],
   "source": [
    "data = pd.read_sql(query, engine)"
   ]
  },
  {
   "cell_type": "code",
   "execution_count": 27,
   "id": "9ef79718",
   "metadata": {
    "scrolled": true
   },
   "outputs": [
    {
     "data": {
      "text/html": [
       "<div>\n",
       "<style scoped>\n",
       "    .dataframe tbody tr th:only-of-type {\n",
       "        vertical-align: middle;\n",
       "    }\n",
       "\n",
       "    .dataframe tbody tr th {\n",
       "        vertical-align: top;\n",
       "    }\n",
       "\n",
       "    .dataframe thead th {\n",
       "        text-align: right;\n",
       "    }\n",
       "</style>\n",
       "<table border=\"1\" class=\"dataframe\">\n",
       "  <thead>\n",
       "    <tr style=\"text-align: right;\">\n",
       "      <th></th>\n",
       "      <th>user_id</th>\n",
       "      <th>lt_day</th>\n",
       "      <th>age</th>\n",
       "      <th>gender_segment</th>\n",
       "      <th>os_name</th>\n",
       "      <th>cpe_type_name</th>\n",
       "      <th>nps_score</th>\n",
       "      <th>nps_group</th>\n",
       "      <th>is_new</th>\n",
       "      <th>city</th>\n",
       "      <th>country</th>\n",
       "      <th>age_segment</th>\n",
       "      <th>traffic_sefment</th>\n",
       "      <th>lifetime_segment</th>\n",
       "    </tr>\n",
       "  </thead>\n",
       "  <tbody>\n",
       "    <tr>\n",
       "      <th>0</th>\n",
       "      <td>A001A2</td>\n",
       "      <td>2320</td>\n",
       "      <td>45.0</td>\n",
       "      <td>женщина</td>\n",
       "      <td>ANDROID</td>\n",
       "      <td>SMARTPHONE</td>\n",
       "      <td>10</td>\n",
       "      <td>сторонники</td>\n",
       "      <td>старый пользователь</td>\n",
       "      <td>Уфа</td>\n",
       "      <td>Россия</td>\n",
       "      <td>45-54</td>\n",
       "      <td>1-5</td>\n",
       "      <td>36+</td>\n",
       "    </tr>\n",
       "    <tr>\n",
       "      <th>1</th>\n",
       "      <td>A001WF</td>\n",
       "      <td>2344</td>\n",
       "      <td>53.0</td>\n",
       "      <td>мужчина</td>\n",
       "      <td>ANDROID</td>\n",
       "      <td>SMARTPHONE</td>\n",
       "      <td>10</td>\n",
       "      <td>сторонники</td>\n",
       "      <td>старый пользователь</td>\n",
       "      <td>Киров</td>\n",
       "      <td>Россия</td>\n",
       "      <td>45-54</td>\n",
       "      <td>1-5</td>\n",
       "      <td>36+</td>\n",
       "    </tr>\n",
       "    <tr>\n",
       "      <th>2</th>\n",
       "      <td>A003Q7</td>\n",
       "      <td>467</td>\n",
       "      <td>57.0</td>\n",
       "      <td>мужчина</td>\n",
       "      <td>ANDROID</td>\n",
       "      <td>SMARTPHONE</td>\n",
       "      <td>10</td>\n",
       "      <td>сторонники</td>\n",
       "      <td>старый пользователь</td>\n",
       "      <td>Москва</td>\n",
       "      <td>Россия</td>\n",
       "      <td>55-64</td>\n",
       "      <td>20-25</td>\n",
       "      <td>13-24</td>\n",
       "    </tr>\n",
       "    <tr>\n",
       "      <th>3</th>\n",
       "      <td>A004TB</td>\n",
       "      <td>4190</td>\n",
       "      <td>44.0</td>\n",
       "      <td>женщина</td>\n",
       "      <td>IOS</td>\n",
       "      <td>SMARTPHONE</td>\n",
       "      <td>10</td>\n",
       "      <td>сторонники</td>\n",
       "      <td>старый пользователь</td>\n",
       "      <td>РостовнаДону</td>\n",
       "      <td>Россия</td>\n",
       "      <td>35-44</td>\n",
       "      <td>0.1-1</td>\n",
       "      <td>36+</td>\n",
       "    </tr>\n",
       "    <tr>\n",
       "      <th>4</th>\n",
       "      <td>A004XT</td>\n",
       "      <td>1163</td>\n",
       "      <td>24.0</td>\n",
       "      <td>мужчина</td>\n",
       "      <td>ANDROID</td>\n",
       "      <td>SMARTPHONE</td>\n",
       "      <td>10</td>\n",
       "      <td>сторонники</td>\n",
       "      <td>старый пользователь</td>\n",
       "      <td>Рязань</td>\n",
       "      <td>Россия</td>\n",
       "      <td>16-24</td>\n",
       "      <td>5-10</td>\n",
       "      <td>36+</td>\n",
       "    </tr>\n",
       "  </tbody>\n",
       "</table>\n",
       "</div>"
      ],
      "text/plain": [
       "  user_id  lt_day   age gender_segment  os_name cpe_type_name  nps_score  \\\n",
       "0  A001A2    2320  45.0        женщина  ANDROID    SMARTPHONE         10   \n",
       "1  A001WF    2344  53.0        мужчина  ANDROID    SMARTPHONE         10   \n",
       "2  A003Q7     467  57.0        мужчина  ANDROID    SMARTPHONE         10   \n",
       "3  A004TB    4190  44.0        женщина      IOS    SMARTPHONE         10   \n",
       "4  A004XT    1163  24.0        мужчина  ANDROID    SMARTPHONE         10   \n",
       "\n",
       "    nps_group               is_new          city country age_segment  \\\n",
       "0  сторонники  старый пользователь           Уфа  Россия       45-54   \n",
       "1  сторонники  старый пользователь         Киров  Россия       45-54   \n",
       "2  сторонники  старый пользователь        Москва  Россия       55-64   \n",
       "3  сторонники  старый пользователь  РостовнаДону  Россия       35-44   \n",
       "4  сторонники  старый пользователь        Рязань  Россия       16-24   \n",
       "\n",
       "  traffic_sefment lifetime_segment  \n",
       "0             1-5              36+  \n",
       "1             1-5              36+  \n",
       "2           20-25            13-24  \n",
       "3           0.1-1              36+  \n",
       "4            5-10              36+  "
      ]
     },
     "execution_count": 27,
     "metadata": {},
     "output_type": "execute_result"
    }
   ],
   "source": [
    "data.head()"
   ]
  },
  {
   "cell_type": "code",
   "execution_count": 28,
   "id": "ffe9b678",
   "metadata": {},
   "outputs": [
    {
     "name": "stdout",
     "output_type": "stream",
     "text": [
      "<class 'pandas.core.frame.DataFrame'>\n",
      "RangeIndex: 502493 entries, 0 to 502492\n",
      "Data columns (total 14 columns):\n",
      " #   Column            Non-Null Count   Dtype  \n",
      "---  ------            --------------   -----  \n",
      " 0   user_id           502493 non-null  object \n",
      " 1   lt_day            502493 non-null  int64  \n",
      " 2   age               501939 non-null  float64\n",
      " 3   gender_segment    501192 non-null  object \n",
      " 4   os_name           502493 non-null  object \n",
      " 5   cpe_type_name     502493 non-null  object \n",
      " 6   nps_score         502493 non-null  int64  \n",
      " 7   nps_group         502493 non-null  object \n",
      " 8   is_new            502493 non-null  object \n",
      " 9   city              502493 non-null  object \n",
      " 10  country           502493 non-null  object \n",
      " 11  age_segment       502493 non-null  object \n",
      " 12  traffic_sefment   502493 non-null  object \n",
      " 13  lifetime_segment  502493 non-null  object \n",
      "dtypes: float64(1), int64(2), object(11)\n",
      "memory usage: 53.7+ MB\n"
     ]
    }
   ],
   "source": [
    "data.info()"
   ]
  },
  {
   "cell_type": "code",
   "execution_count": 10,
   "id": "4ed39a5e",
   "metadata": {},
   "outputs": [],
   "source": [
    "data.to_csv('projects_nps.csv')"
   ]
  },
  {
   "cell_type": "markdown",
   "id": "81c46111",
   "metadata": {},
   "source": [
    "[Презентация](https://disk.yandex.ru/i/mJ4pCQ2J_KS9NQ)"
   ]
  },
  {
   "cell_type": "markdown",
   "id": "1233040f",
   "metadata": {},
   "source": [
    "[Дашборд](https://public.tableau.com/views/NPSproject_16806840901880/CategoryDashbord?:language=en-US&publish=yes&:display_count=n&:origin=viz_share_link)"
   ]
  }
 ],
 "metadata": {
  "ExecuteTimeLog": [
   {
    "duration": 543,
    "start_time": "2023-04-07T05:25:01.913Z"
   },
   {
    "duration": 3,
    "start_time": "2023-04-07T05:25:02.458Z"
   },
   {
    "duration": 178,
    "start_time": "2023-04-07T05:25:02.462Z"
   },
   {
    "duration": 0,
    "start_time": "2023-04-07T05:25:02.642Z"
   },
   {
    "duration": 0,
    "start_time": "2023-04-07T05:25:02.644Z"
   },
   {
    "duration": 7,
    "start_time": "2023-04-07T05:25:03.900Z"
   },
   {
    "duration": 0,
    "start_time": "2023-04-07T05:25:03.909Z"
   },
   {
    "duration": 0,
    "start_time": "2023-04-07T05:25:03.910Z"
   },
   {
    "duration": 0,
    "start_time": "2023-04-07T05:25:03.911Z"
   },
   {
    "duration": 511,
    "start_time": "2023-04-07T05:27:42.318Z"
   },
   {
    "duration": 2,
    "start_time": "2023-04-07T05:27:42.831Z"
   },
   {
    "duration": 39,
    "start_time": "2023-04-07T05:27:42.835Z"
   },
   {
    "duration": 8,
    "start_time": "2023-04-07T05:27:42.876Z"
   },
   {
    "duration": 4,
    "start_time": "2023-04-07T05:27:42.886Z"
   },
   {
    "duration": 5810,
    "start_time": "2023-04-07T05:27:42.891Z"
   },
   {
    "duration": 20,
    "start_time": "2023-04-07T05:27:48.703Z"
   },
   {
    "duration": 575,
    "start_time": "2023-04-07T05:27:48.725Z"
   },
   {
    "duration": 5510,
    "start_time": "2023-04-07T05:27:49.301Z"
   },
   {
    "duration": 2,
    "start_time": "2023-04-07T05:28:39.319Z"
   },
   {
    "duration": 569,
    "start_time": "2023-04-07T05:28:52.265Z"
   },
   {
    "duration": 3,
    "start_time": "2023-04-07T05:28:52.836Z"
   },
   {
    "duration": 13,
    "start_time": "2023-04-07T05:28:52.840Z"
   },
   {
    "duration": 31,
    "start_time": "2023-04-07T05:28:52.855Z"
   },
   {
    "duration": 9,
    "start_time": "2023-04-07T05:28:52.888Z"
   },
   {
    "duration": 3,
    "start_time": "2023-04-07T05:28:53.404Z"
   },
   {
    "duration": 5654,
    "start_time": "2023-04-07T05:28:53.409Z"
   },
   {
    "duration": 38,
    "start_time": "2023-04-07T05:28:59.066Z"
   },
   {
    "duration": 597,
    "start_time": "2023-04-07T05:28:59.106Z"
   },
   {
    "duration": 5219,
    "start_time": "2023-04-07T05:28:59.705Z"
   },
   {
    "duration": 13,
    "start_time": "2023-04-07T09:14:09.162Z"
   },
   {
    "duration": 3,
    "start_time": "2023-04-07T09:14:10.298Z"
   },
   {
    "duration": 45,
    "start_time": "2023-04-07T09:14:11.054Z"
   },
   {
    "duration": 512,
    "start_time": "2023-04-07T09:14:19.797Z"
   },
   {
    "duration": 3,
    "start_time": "2023-04-07T09:14:21.576Z"
   },
   {
    "duration": 2,
    "start_time": "2023-04-07T09:14:22.874Z"
   },
   {
    "duration": 69,
    "start_time": "2023-04-07T09:14:24.647Z"
   },
   {
    "duration": 2,
    "start_time": "2023-04-07T09:14:46.661Z"
   },
   {
    "duration": 28,
    "start_time": "2023-04-07T09:14:47.457Z"
   },
   {
    "duration": 2,
    "start_time": "2023-04-07T09:16:06.128Z"
   },
   {
    "duration": 2,
    "start_time": "2023-04-07T09:16:07.197Z"
   },
   {
    "duration": 103,
    "start_time": "2023-04-07T09:16:08.051Z"
   },
   {
    "duration": 3,
    "start_time": "2023-04-07T09:16:38.296Z"
   },
   {
    "duration": 20,
    "start_time": "2023-04-07T09:16:39.331Z"
   },
   {
    "duration": 31,
    "start_time": "2023-04-07T09:16:45.041Z"
   },
   {
    "duration": 3,
    "start_time": "2023-04-07T09:16:49.302Z"
   },
   {
    "duration": 5364,
    "start_time": "2023-04-07T09:16:50.817Z"
   },
   {
    "duration": 21,
    "start_time": "2023-04-07T09:17:00.806Z"
   },
   {
    "duration": 3,
    "start_time": "2023-04-07T09:18:11.239Z"
   },
   {
    "duration": 5227,
    "start_time": "2023-04-07T09:18:12.730Z"
   },
   {
    "duration": 14,
    "start_time": "2023-04-07T09:18:21.604Z"
   },
   {
    "duration": 4,
    "start_time": "2023-04-07T09:18:55.634Z"
   },
   {
    "duration": 5220,
    "start_time": "2023-04-07T09:18:56.974Z"
   },
   {
    "duration": 18,
    "start_time": "2023-04-07T09:19:07.416Z"
   },
   {
    "duration": 3,
    "start_time": "2023-04-07T09:31:28.829Z"
   },
   {
    "duration": 5722,
    "start_time": "2023-04-07T09:31:29.385Z"
   },
   {
    "duration": 15,
    "start_time": "2023-04-07T09:32:02.643Z"
   },
   {
    "duration": 578,
    "start_time": "2023-04-07T09:32:06.558Z"
   }
  ],
  "kernelspec": {
   "display_name": "Python 3 (ipykernel)",
   "language": "python",
   "name": "python3"
  },
  "language_info": {
   "codemirror_mode": {
    "name": "ipython",
    "version": 3
   },
   "file_extension": ".py",
   "mimetype": "text/x-python",
   "name": "python",
   "nbconvert_exporter": "python",
   "pygments_lexer": "ipython3",
   "version": "3.9.13"
  },
  "toc": {
   "base_numbering": 1,
   "nav_menu": {},
   "number_sections": true,
   "sideBar": true,
   "skip_h1_title": true,
   "title_cell": "Table of Contents",
   "title_sidebar": "Contents",
   "toc_cell": false,
   "toc_position": {},
   "toc_section_display": true,
   "toc_window_display": false
  }
 },
 "nbformat": 4,
 "nbformat_minor": 5
}
